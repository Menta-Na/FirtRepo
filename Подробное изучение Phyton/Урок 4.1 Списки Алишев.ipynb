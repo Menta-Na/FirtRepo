{
 "cells": [
  {
   "cell_type": "markdown",
   "id": "b3c30b00",
   "metadata": {},
   "source": [
    "# Питон для начинающих Alishew Nail"
   ]
  },
  {
   "cell_type": "code",
   "execution_count": null,
   "id": "650bbf3a",
   "metadata": {},
   "outputs": [],
   "source": [
    "a = [3, 5, 26]\n"
   ]
  },
  {
   "cell_type": "code",
   "execution_count": null,
   "id": "5b2ece01",
   "metadata": {},
   "outputs": [],
   "source": [
    "print(a)"
   ]
  },
  {
   "cell_type": "code",
   "execution_count": null,
   "id": "d42d9f32",
   "metadata": {},
   "outputs": [],
   "source": [
    "#Добавляем в список элемент\n",
    "\n",
    "a.append(4)"
   ]
  },
  {
   "cell_type": "code",
   "execution_count": null,
   "id": "4c19a4cd",
   "metadata": {},
   "outputs": [],
   "source": [
    "a.append(\"hi\")"
   ]
  },
  {
   "cell_type": "code",
   "execution_count": null,
   "id": "fd1e73b8",
   "metadata": {},
   "outputs": [],
   "source": [
    "a.append([5,6])"
   ]
  },
  {
   "cell_type": "code",
   "execution_count": null,
   "id": "fb4b8714",
   "metadata": {},
   "outputs": [],
   "source": [
    "a.pop()"
   ]
  },
  {
   "cell_type": "code",
   "execution_count": null,
   "id": "1c99d264",
   "metadata": {},
   "outputs": [],
   "source": [
    "# Удаляем последний элемент списка\n",
    "\n",
    "a.pop()\n",
    "print(a)"
   ]
  },
  {
   "cell_type": "code",
   "execution_count": null,
   "id": "5288c6ed",
   "metadata": {},
   "outputs": [],
   "source": [
    "# Выводим элемент из списка\n",
    "\n",
    "print(a[0])"
   ]
  },
  {
   "cell_type": "code",
   "execution_count": null,
   "id": "1c078324",
   "metadata": {},
   "outputs": [],
   "source": [
    "print(a[2])"
   ]
  },
  {
   "cell_type": "code",
   "execution_count": null,
   "id": "7e9cc384",
   "metadata": {},
   "outputs": [],
   "source": [
    "a[-1]"
   ]
  },
  {
   "cell_type": "code",
   "execution_count": null,
   "id": "108dae84",
   "metadata": {},
   "outputs": [],
   "source": [
    "# Меняем значение элемента под индексом 0\n",
    "\n",
    "a[0] = 100\n",
    "print(a)"
   ]
  },
  {
   "cell_type": "code",
   "execution_count": null,
   "id": "961ff7d5",
   "metadata": {},
   "outputs": [],
   "source": [
    "# Синтаксис обращения к элементу по списку\n",
    "\n",
    "a[] "
   ]
  },
  {
   "cell_type": "code",
   "execution_count": null,
   "id": "04ca4309",
   "metadata": {},
   "outputs": [],
   "source": [
    "# С помощью Pop мы можем удалять не только последний элемент\n",
    "\n",
    "a.pop(1)"
   ]
  },
  {
   "cell_type": "code",
   "execution_count": null,
   "id": "e783a5d8",
   "metadata": {},
   "outputs": [],
   "source": [
    "# Сделаем упражнение\n",
    "# Меняем местами первый и третий элемент\n",
    "\n",
    "b = ['hello', 'goodbuy', 'hey']\n",
    "temp = b[0]\n",
    "b[0] = b[2] # hey, goodbuy , hey\n",
    "b[2] = temp\n",
    "\n",
    "print(b)\n"
   ]
  },
  {
   "cell_type": "code",
   "execution_count": null,
   "id": "56005f33",
   "metadata": {},
   "outputs": [],
   "source": [
    "# Красивый способ смены значений \n",
    "\n",
    "b[0], b[2] = b[2], b[0]\n",
    "print(b)"
   ]
  },
  {
   "cell_type": "code",
   "execution_count": null,
   "id": "5839e5e2",
   "metadata": {},
   "outputs": [],
   "source": [
    "A = 1\n",
    "B = 2\n",
    "\n",
    "# Создаем временную переменную, чтобы сохранить значение A\n",
    "temp = A\n",
    "\n",
    "# Значение A теперь равно значению B\n",
    "A = B\n",
    "\n",
    "# Значение B теперь равно значению временной переменной\n",
    "B = temp\n",
    "\n",
    "print(\"A =\", A)\n",
    "print(\"B =\", B)\n"
   ]
  },
  {
   "cell_type": "code",
   "execution_count": null,
   "id": "19512199",
   "metadata": {},
   "outputs": [],
   "source": [
    "A = 1\n",
    "B = 2\n",
    "\n",
    "# Множественное присваивание для смены значений\n",
    "A, B = B, A\n",
    "\n",
    "print(\"A =\", A)\n",
    "print(\"B =\", B)\n"
   ]
  },
  {
   "cell_type": "code",
   "execution_count": null,
   "id": "280a406a",
   "metadata": {},
   "outputs": [],
   "source": [
    "a,b,c,e = 1,2,3,4\n",
    "print(a)\n",
    "print(b)\n",
    "print(c)"
   ]
  },
  {
   "cell_type": "markdown",
   "id": "09b90d04",
   "metadata": {},
   "source": [
    "# Генераторы списков"
   ]
  },
  {
   "cell_type": "code",
   "execution_count": 1,
   "id": "28292e81",
   "metadata": {},
   "outputs": [],
   "source": [
    "a = [1, 2, 3, 4, 5]"
   ]
  },
  {
   "cell_type": "code",
   "execution_count": 2,
   "id": "7c44d182",
   "metadata": {},
   "outputs": [
    {
     "name": "stdout",
     "output_type": "stream",
     "text": [
      "[1, 2]\n"
     ]
    }
   ],
   "source": [
    "l = []\n",
    "l.append(1)\n",
    "l.append(2)\n",
    "\n",
    "print(l)"
   ]
  },
  {
   "cell_type": "code",
   "execution_count": 4,
   "id": "040f9129",
   "metadata": {},
   "outputs": [
    {
     "name": "stdout",
     "output_type": "stream",
     "text": [
      "[2, 4, 6, 8, 10]\n"
     ]
    }
   ],
   "source": [
    "b = []\n",
    "for num in a:\n",
    "    b.append(num * 2)\n",
    "    \n",
    "print(b)"
   ]
  },
  {
   "cell_type": "code",
   "execution_count": 6,
   "id": "f2fce9c9",
   "metadata": {},
   "outputs": [
    {
     "name": "stdout",
     "output_type": "stream",
     "text": [
      "[2, 4, 6, 8, 10]\n"
     ]
    }
   ],
   "source": [
    "# Перепишем с промощью генератора списков\n",
    "\n",
    "c = [num * 2 for num in a]\n",
    "print(c)"
   ]
  },
  {
   "cell_type": "code",
   "execution_count": 10,
   "id": "ad31a4cc",
   "metadata": {},
   "outputs": [
    {
     "name": "stdout",
     "output_type": "stream",
     "text": [
      "[3, 6, 9, 12, 15]\n"
     ]
    }
   ],
   "source": [
    "# Сделаем тоже с циклом for \n",
    "\n",
    "range_elements = []\n",
    "for num in range(1, 6):\n",
    "    range_elements.append(num * 3)\n",
    "    \n",
    "print(range_elements)"
   ]
  },
  {
   "cell_type": "code",
   "execution_count": 9,
   "id": "dcba3549",
   "metadata": {},
   "outputs": [
    {
     "name": "stdout",
     "output_type": "stream",
     "text": [
      "[3, 6, 9, 12, 15]\n"
     ]
    }
   ],
   "source": [
    "# Сгенерируем спискок с интервалом\n",
    "\n",
    "range3 = [num * 3 for num in range(1, 6)]\n",
    "print(range3)"
   ]
  },
  {
   "cell_type": "code",
   "execution_count": 11,
   "id": "92f8d0c2",
   "metadata": {},
   "outputs": [],
   "source": [
    "# Фильтрация элементов\n",
    "\n",
    "a = [1, 10, 12, 4, 3, 20, 55]"
   ]
  },
  {
   "cell_type": "code",
   "execution_count": 17,
   "id": "8f4c09fd",
   "metadata": {},
   "outputs": [
    {
     "name": "stdout",
     "output_type": "stream",
     "text": [
      "[1, 4, 3]\n"
     ]
    }
   ],
   "source": [
    "# Вариант с циклом for\n",
    "\n",
    "a_filtered = []\n",
    "for num in a:\n",
    "    if num < 10:\n",
    "        a_filtered.append(num)\n",
    "        \n",
    "print(a_filtered)"
   ]
  },
  {
   "cell_type": "code",
   "execution_count": 18,
   "id": "ab618e6c",
   "metadata": {},
   "outputs": [
    {
     "name": "stdout",
     "output_type": "stream",
     "text": [
      "[1, 4, 3]\n"
     ]
    }
   ],
   "source": [
    "# Вариант с генератором (мой)\n",
    "\n",
    "a_filtered = [num for num in a if num < 10]\n",
    "print(a_filtered )"
   ]
  },
  {
   "cell_type": "code",
   "execution_count": 19,
   "id": "cab1aec5",
   "metadata": {},
   "outputs": [
    {
     "name": "stdout",
     "output_type": "stream",
     "text": [
      "[1, 16, 9]\n"
     ]
    }
   ],
   "source": [
    "# Возможности можно комбинировать. Фильтровать и модифицировать\n",
    "\n",
    "a_filtered_squared = [num ** 2 for num in a if num < 10]\n",
    "\n",
    "print(a_filtered_squared)"
   ]
  },
  {
   "cell_type": "code",
   "execution_count": 28,
   "id": "63549e58",
   "metadata": {},
   "outputs": [
    {
     "name": "stdout",
     "output_type": "stream",
     "text": [
      "['hello', 'hey', 'piano']\n"
     ]
    }
   ],
   "source": [
    "words = ['hello', 'hey', 'goodbye', 'guitar', 'piano']\n",
    "\n",
    "words_filtered = [word for word in words if len(word) < 6]\n",
    "print(words_filtered)"
   ]
  },
  {
   "cell_type": "code",
   "execution_count": 22,
   "id": "33802d55",
   "metadata": {},
   "outputs": [
    {
     "name": "stdout",
     "output_type": "stream",
     "text": [
      "[16, 4]\n"
     ]
    }
   ],
   "source": [
    "# Самомостоятельная работа\n",
    "\n",
    "# 1  необходимо создать список [20, 16, 12, 8, 4]\n",
    "\n",
    "# Решение:\n",
    "\n",
    "my_list = [20, 16, 12, 8, 4]\n",
    "\n",
    "mu_list_mod = [num ** 2 for num in range(len(my_list),1, -1) if num % 2 == 0]\n",
    "\n",
    "print(mu_list_mod)"
   ]
  },
  {
   "cell_type": "code",
   "execution_count": 24,
   "id": "52b08b1d",
   "metadata": {},
   "outputs": [
    {
     "data": {
      "text/plain": [
       "[20, 16, 12, 8, 4]"
      ]
     },
     "execution_count": 24,
     "metadata": {},
     "output_type": "execute_result"
    }
   ],
   "source": [
    "# Решение \n",
    "\n",
    "[num * 2 for num in range(10, 1, -1) if num % 2 == 0]"
   ]
  },
  {
   "cell_type": "code",
   "execution_count": 23,
   "id": "b4cb62e7",
   "metadata": {},
   "outputs": [
    {
     "name": "stdout",
     "output_type": "stream",
     "text": [
      "[16, 64, 144, 256, 400]\n"
     ]
    }
   ],
   "source": [
    "# Вариант нейросети\n",
    "\n",
    "my_list = [20, 16, 12, 8, 4]\n",
    "\n",
    "my_list_mod = [num ** 2 for num in my_list[::-1] if num % 2 == 0]\n",
    "\n",
    "print(my_list_mod)"
   ]
  },
  {
   "cell_type": "code",
   "execution_count": 32,
   "id": "0ab8dd84",
   "metadata": {},
   "outputs": [
    {
     "name": "stdout",
     "output_type": "stream",
     "text": [
      "['hello.', 'hey.', 'piano.']\n"
     ]
    }
   ],
   "source": [
    "# Мой вариант\n",
    "\n",
    "words_mod = [word + '.' for word in words if len(word) < 6]\n",
    "\n",
    "print(words_mod)"
   ]
  },
  {
   "cell_type": "code",
   "execution_count": null,
   "id": "dbda0d19",
   "metadata": {},
   "outputs": [],
   "source": []
  },
  {
   "cell_type": "code",
   "execution_count": 31,
   "id": "a45deaf6",
   "metadata": {},
   "outputs": [
    {
     "name": "stdout",
     "output_type": "stream",
     "text": [
      "['hello.', 'hey.', 'goodbye', 'guitar', 'piano.']\n"
     ]
    }
   ],
   "source": [
    "# вариант нейросети\n",
    "\n",
    "words_mod = [word + '.' if len(word) < 6 else word for word in words]\n",
    "print(words_mod)"
   ]
  }
 ],
 "metadata": {
  "kernelspec": {
   "display_name": "Python 3",
   "language": "python",
   "name": "python3"
  },
  "language_info": {
   "codemirror_mode": {
    "name": "ipython",
    "version": 3
   },
   "file_extension": ".py",
   "mimetype": "text/x-python",
   "name": "python",
   "nbconvert_exporter": "python",
   "pygments_lexer": "ipython3",
   "version": "3.8.8"
  }
 },
 "nbformat": 4,
 "nbformat_minor": 5
}
