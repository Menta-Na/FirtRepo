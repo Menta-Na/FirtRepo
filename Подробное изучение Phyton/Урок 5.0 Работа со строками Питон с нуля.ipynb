{
 "cells": [
  {
   "cell_type": "markdown",
   "id": "b2293be6",
   "metadata": {},
   "source": [
    "# Питон с нуля"
   ]
  },
  {
   "cell_type": "code",
   "execution_count": null,
   "id": "3b93bb70",
   "metadata": {},
   "outputs": [],
   "source": [
    "print(\"Привет, мир!\")\n",
    "print(\"Мир\")\n",
    "print(\"привет\")"
   ]
  },
  {
   "cell_type": "code",
   "execution_count": null,
   "id": "660bcaf9",
   "metadata": {},
   "outputs": [],
   "source": [
    "print('''Текст заключенный в тройные кавычки,\n",
    "может содержать в себе \n",
    "сколоко угодно \n",
    "пробелов''')"
   ]
  },
  {
   "cell_type": "code",
   "execution_count": null,
   "id": "fc7455f1",
   "metadata": {},
   "outputs": [],
   "source": [
    "print(\"Привет\\nПривет\\nПрив\\nет\") # Управляющий символ Слеш n переносит на следующую строку"
   ]
  },
  {
   "cell_type": "code",
   "execution_count": null,
   "id": "eced019b",
   "metadata": {},
   "outputs": [],
   "source": [
    "print(\"Упрляющий символ\\tделает отступ в одну табуляцию\")"
   ]
  },
  {
   "cell_type": "code",
   "execution_count": null,
   "id": "cf8f2707",
   "metadata": {},
   "outputs": [],
   "source": [
    "print('\"Оборачиваем в апострофы текст в кавычках \"') #\"Оборачиваем в апострофы текст в кавычках \""
   ]
  },
  {
   "cell_type": "code",
   "execution_count": 17,
   "id": "6c9270cb",
   "metadata": {},
   "outputs": [
    {
     "name": "stdout",
     "output_type": "stream",
     "text": [
      "текст \"в\" кавычках\n"
     ]
    }
   ],
   "source": [
    "print(\"текст \\\"в\\\" кавычках\") #\"Оборачиваем в апострофы текст в кавычках \""
   ]
  },
  {
   "cell_type": "code",
   "execution_count": null,
   "id": "ab087be1",
   "metadata": {},
   "outputs": [],
   "source": [
    "text = \"текст \\\"в\\\" кавычках\"\n",
    "print(text)"
   ]
  },
  {
   "cell_type": "code",
   "execution_count": null,
   "id": "d0865911",
   "metadata": {},
   "outputs": [],
   "source": [
    "# Конкантенация строк\n",
    "\n",
    "text = \"Привет\"\n",
    "text1 = \"мир\"\n",
    "print(text + text1) # Делаем склейку"
   ]
  },
  {
   "cell_type": "code",
   "execution_count": null,
   "id": "d0732b8e",
   "metadata": {},
   "outputs": [],
   "source": [
    "# Конкантенация строк\n",
    "\n",
    "text = \"Привет\"\n",
    "text1 = \"мир\"\n",
    "print(text + \" \" + text1) # Делаем склейку с пробелом"
   ]
  },
  {
   "cell_type": "code",
   "execution_count": null,
   "id": "88435025",
   "metadata": {},
   "outputs": [],
   "source": [
    "text = \"Привет\"\n",
    "text1 = \"мир\"\n",
    "print(text * 5) # Умножим строку"
   ]
  },
  {
   "cell_type": "code",
   "execution_count": null,
   "id": "626ad12a",
   "metadata": {},
   "outputs": [],
   "source": [
    "text = \"Привет\"\n",
    "text1 = \"мир\"\n",
    "print(text[0:3]) # Проведем итерацию"
   ]
  },
  {
   "cell_type": "code",
   "execution_count": null,
   "id": "2f06f3dd",
   "metadata": {},
   "outputs": [],
   "source": [
    "text = \"Привет\"\n",
    "text1 = \"мир\"\n",
    "print(text[-1]) # Проведем итерацию обратно"
   ]
  },
  {
   "cell_type": "code",
   "execution_count": null,
   "id": "ed0da0bf",
   "metadata": {},
   "outputs": [],
   "source": [
    "# Методы строк коротко\n",
    "\n",
    "text = \"Привет\"\n",
    "text1 = \"мир\"\n",
    "print(text.upper())  # Выводим строку верхним регистром"
   ]
  },
  {
   "cell_type": "code",
   "execution_count": null,
   "id": "ce5d11b1",
   "metadata": {},
   "outputs": [],
   "source": [
    "# Методы строк коротко\n",
    "\n",
    "text = \"Привет\"\n",
    "text1 = \"мир\"\n",
    "print(text.lower())  # Выводим строку нижним регистром"
   ]
  },
  {
   "cell_type": "code",
   "execution_count": null,
   "id": "473776a5",
   "metadata": {},
   "outputs": [],
   "source": [
    "# Методы строк коротко\n",
    "\n",
    "text = \"Привет\"\n",
    "text1 = \"мир\"\n",
    "print(text.capitalize())  # Вывод строки с большой буквы"
   ]
  },
  {
   "cell_type": "code",
   "execution_count": null,
   "id": "432fddd4",
   "metadata": {},
   "outputs": [],
   "source": [
    "# Преобразовываем строку в список тодом split()\n",
    "\n",
    "text = \"привет мир куда идешь\"\n",
    "print(text.split(\" \")) # разбиваем слова на объекты списка"
   ]
  },
  {
   "cell_type": "code",
   "execution_count": null,
   "id": "61ea1f11",
   "metadata": {},
   "outputs": [],
   "source": [
    "text = \"привет мир куда идешь\"\n",
    "print(text.split(\"-\")) # разбиваем слова на объекты списка с тире"
   ]
  },
  {
   "cell_type": "code",
   "execution_count": null,
   "id": "2c11d1d6",
   "metadata": {},
   "outputs": [],
   "source": [
    "# Преобразовываем список в строку методом join() \n",
    "\n",
    "spisok = [\"a\", \"б\" ,\"c\"]\n",
    "\",\".join(spisok)"
   ]
  },
  {
   "cell_type": "code",
   "execution_count": null,
   "id": "974f8746",
   "metadata": {},
   "outputs": [],
   "source": [
    "# Удаление пробелов в строке  Метотом strip()\n",
    "\n",
    "text = \"     gbdsaad  dfetadfget adfgdag geafafdg  eafdgte \"\n",
    "text.strip()\n",
    "print(text.strip())"
   ]
  },
  {
   "cell_type": "code",
   "execution_count": null,
   "id": "d8c3728d",
   "metadata": {},
   "outputs": [],
   "source": [
    "# Удаление пробелов в начале строки  Метотом lstrip()\n",
    "\n",
    "text = \"     gbdsaad  dfetadfget adfgdag geafafdg  eafdgte \"\n",
    "text.strip()\n",
    "print(text.strip())"
   ]
  },
  {
   "cell_type": "code",
   "execution_count": null,
   "id": "3a841cc1",
   "metadata": {},
   "outputs": [],
   "source": [
    "# Удаление пробелов в конце строки  Метотом rstrip()\n",
    "\n",
    "text = \"     gbdsaad  dfetadfget adfgdag geafafdg  eafdgte \"\n",
    "text.strip()\n",
    "print(text.strip())"
   ]
  },
  {
   "cell_type": "code",
   "execution_count": null,
   "id": "afed4074",
   "metadata": {},
   "outputs": [],
   "source": [
    "# Методд replace() заменяет символы\n",
    "\n",
    "text = \"ololololololol\"\n",
    "\n",
    "print(text.replace(\"l\",\"o\"))"
   ]
  },
  {
   "cell_type": "code",
   "execution_count": null,
   "id": "76a0e96c",
   "metadata": {},
   "outputs": [],
   "source": []
  }
 ],
 "metadata": {
  "kernelspec": {
   "display_name": "Python 3",
   "language": "python",
   "name": "python3"
  },
  "language_info": {
   "codemirror_mode": {
    "name": "ipython",
    "version": 3
   },
   "file_extension": ".py",
   "mimetype": "text/x-python",
   "name": "python",
   "nbconvert_exporter": "python",
   "pygments_lexer": "ipython3",
   "version": "3.8.8"
  }
 },
 "nbformat": 4,
 "nbformat_minor": 5
}
