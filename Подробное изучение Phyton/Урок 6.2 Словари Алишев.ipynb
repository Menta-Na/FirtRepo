{
 "cells": [
  {
   "cell_type": "markdown",
   "id": "3017c2e9",
   "metadata": {},
   "source": [
    "# Alishew словари"
   ]
  },
  {
   "cell_type": "code",
   "execution_count": null,
   "id": "a37bacde",
   "metadata": {},
   "outputs": [],
   "source": [
    "\"\"\"Ключи могут быть уникальны. Чаще всего ипользуются строки и числа\n",
    "В кач-ве значений можно использовать любой тип данных\n",
    "(даже список, например)\n",
    "Элементы в словаре не упорядоченны\"\"\"\n"
   ]
  },
  {
   "cell_type": "code",
   "execution_count": 5,
   "id": "06696972",
   "metadata": {},
   "outputs": [],
   "source": [
    "# Можем создать словари двумя способами\n",
    "\n",
    "d = {}\n",
    "d = dict()"
   ]
  },
  {
   "cell_type": "code",
   "execution_count": 9,
   "id": "15d911e4",
   "metadata": {},
   "outputs": [
    {
     "name": "stdout",
     "output_type": "stream",
     "text": [
      "{'Alex': 27, 'Petr': 37, 'Kate': 18}\n"
     ]
    }
   ],
   "source": [
    "# Создадим словарь\n",
    "\n",
    "d = {'Alex': 27, 'Petr': 37}\n",
    "d['Kate'] = 18 # Добавим новую пару в словарь\n",
    "print(d)\n",
    "len(d)\n"
   ]
  },
  {
   "cell_type": "code",
   "execution_count": 10,
   "id": "8456ab3f",
   "metadata": {},
   "outputs": [
    {
     "name": "stdout",
     "output_type": "stream",
     "text": [
      "37\n"
     ]
    }
   ],
   "source": [
    "print(d[\"Petr\"]) # Узнаем сколько лет Петру"
   ]
  },
  {
   "cell_type": "code",
   "execution_count": 11,
   "id": "2b53cb80",
   "metadata": {},
   "outputs": [
    {
     "ename": "KeyError",
     "evalue": "'Tom'",
     "output_type": "error",
     "traceback": [
      "\u001b[1;31m---------------------------------------------------------------------------\u001b[0m",
      "\u001b[1;31mKeyError\u001b[0m                                  Traceback (most recent call last)",
      "\u001b[1;32m<ipython-input-11-adec16448fb2>\u001b[0m in \u001b[0;36m<module>\u001b[1;34m\u001b[0m\n\u001b[0;32m      1\u001b[0m \u001b[1;31m# Если ключа нет, то выйдет ошибка\u001b[0m\u001b[1;33m\u001b[0m\u001b[1;33m\u001b[0m\u001b[1;33m\u001b[0m\u001b[0m\n\u001b[0;32m      2\u001b[0m \u001b[1;33m\u001b[0m\u001b[0m\n\u001b[1;32m----> 3\u001b[1;33m \u001b[0md\u001b[0m\u001b[1;33m[\u001b[0m\u001b[1;34m'Tom'\u001b[0m\u001b[1;33m]\u001b[0m\u001b[1;33m\u001b[0m\u001b[1;33m\u001b[0m\u001b[0m\n\u001b[0m",
      "\u001b[1;31mKeyError\u001b[0m: 'Tom'"
     ]
    }
   ],
   "source": [
    "# Если ключа нет, то выйдет ошибка\n",
    "\n",
    "d['Tom']"
   ]
  },
  {
   "cell_type": "code",
   "execution_count": 12,
   "id": "758719b5",
   "metadata": {},
   "outputs": [
    {
     "name": "stdout",
     "output_type": "stream",
     "text": [
      "18\n"
     ]
    }
   ],
   "source": [
    "print(d['Kate'])"
   ]
  },
  {
   "cell_type": "code",
   "execution_count": 13,
   "id": "75402853",
   "metadata": {},
   "outputs": [],
   "source": [
    "d[\"Kate\"] = 24"
   ]
  },
  {
   "cell_type": "code",
   "execution_count": 14,
   "id": "63ae0853",
   "metadata": {},
   "outputs": [
    {
     "name": "stdout",
     "output_type": "stream",
     "text": [
      "24\n"
     ]
    }
   ],
   "source": [
    "print(d['Kate'])"
   ]
  },
  {
   "cell_type": "code",
   "execution_count": 15,
   "id": "50b24f25",
   "metadata": {},
   "outputs": [
    {
     "name": "stdout",
     "output_type": "stream",
     "text": [
      "{'Alex': 27, 'Petr': 37, 'Kate': 24}\n"
     ]
    }
   ],
   "source": [
    "print(d)"
   ]
  },
  {
   "cell_type": "code",
   "execution_count": 16,
   "id": "191cf010",
   "metadata": {},
   "outputs": [],
   "source": [
    "# поместим пару ключ значение\n",
    "\n",
    "d[10] = 20"
   ]
  },
  {
   "cell_type": "code",
   "execution_count": 17,
   "id": "95ef93ac",
   "metadata": {},
   "outputs": [
    {
     "name": "stdout",
     "output_type": "stream",
     "text": [
      "{'Alex': 27, 'Petr': 37, 'Kate': 24, 10: 20}\n"
     ]
    }
   ],
   "source": [
    "print(d)"
   ]
  },
  {
   "cell_type": "code",
   "execution_count": 19,
   "id": "a22c512f",
   "metadata": {},
   "outputs": [
    {
     "name": "stdout",
     "output_type": "stream",
     "text": [
      "Alex\n",
      "27\n",
      "Petr\n",
      "37\n",
      "Kate\n",
      "24\n",
      "10\n",
      "20\n"
     ]
    }
   ],
   "source": [
    "# Пройдемся по элементам словарая\n",
    "\n",
    "for key, value in d.items():\n",
    "    print(key)\n",
    "    print(value)"
   ]
  },
  {
   "cell_type": "code",
   "execution_count": 21,
   "id": "9a81cb20",
   "metadata": {},
   "outputs": [
    {
     "name": "stdout",
     "output_type": "stream",
     "text": [
      "ключ: Alex ,значение: 27\n",
      "ключ: Petr ,значение: 37\n",
      "ключ: Kate ,значение: 24\n",
      "ключ: 10 ,значение: 20\n"
     ]
    }
   ],
   "source": [
    "# Выведем покрасивее \n",
    "\n",
    "for key, value in d.items():\n",
    "    print(\"ключ: \" + str(key) + \" ,значение: \" + str(value))"
   ]
  },
  {
   "cell_type": "markdown",
   "id": "36461bfb",
   "metadata": {},
   "source": [
    "# Практикуем задачи"
   ]
  },
  {
   "cell_type": "code",
   "execution_count": 1,
   "id": "9337830b",
   "metadata": {},
   "outputs": [],
   "source": [
    "# Задача 1 необходимо создать словари, присвоить строковым значениям числовые в виде списка\n",
    "a = [\"first\", 1, 2, 3, \"second\", 10, 20, \"third\", 15, 56, 70, \"four\", -50]\n",
    "\n",
    "my_dict = {} # Заводим пустой словарь\n",
    "currtent_str = None # Заводим временную переменную\n",
    "\n",
    "for e in a: # Проходимся по списку a{}\n",
    "    \n",
    "    if (type(e) == str): # Если Type e равен str....\n",
    "        my_dict[e] = [] # Добавляем в список ключи str значений....\n",
    "        current_str = e # В переменную положим значение str елемента\n",
    "        \n",
    "    else:\n",
    "        my_dict[current_str].append(e) # Добавляем в список значение int\n",
    "        \n",
    "        \n",
    "print(my_dict) # Выводим список\n",
    "\n",
    "\n",
    "\n",
    "\n",
    " "
   ]
  },
  {
   "cell_type": "code",
   "execution_count": null,
   "id": "b8cee056",
   "metadata": {},
   "outputs": [],
   "source": [
    "# Решение нейросети\n",
    "\n",
    "my_list = [\"first\", 1, 2, 3, \"second\", 10, 20, \"third\", 15, 56, 70, \"four\", -50]\n",
    "\n",
    "# Инициализация пустого словаря\n",
    "my_dict = {}\n",
    "\n",
    "# Переменные для хранения текущего ключа и значения\n",
    "current_key = \"\"\n",
    "current_values = []\n",
    "\n",
    "# Итерация по элементам списка\n",
    "for item in my_list:\n",
    "    if isinstance(item, str):  # Если элемент строка, то это ключ\n",
    "        current_key = item\n",
    "    else:  # Если элемент число, то это значение для текущего ключа\n",
    "        current_values.append(item)\n",
    "\n",
    "    # Если у нас есть ключ и соответствующие значения, добавляем их в словарь\n",
    "    if current_key and current_values:\n",
    "        my_dict[current_key] = current_values\n",
    "        # Сбрасываем переменные для следующей итерации\n",
    "        current_key = \"\"\n",
    "        current_values = []\n",
    "\n",
    "print(my_dict)\n"
   ]
  },
  {
   "cell_type": "code",
   "execution_count": 5,
   "id": "4207903c",
   "metadata": {},
   "outputs": [
    {
     "name": "stdout",
     "output_type": "stream",
     "text": [
      "{'Привет': 1, 'как': 1, 'дела': 1, 'привет': 1, 'арбуз': 1, 'велосипед': 1, 'стол': 1, 'дома': 1, 'пока': 1}\n"
     ]
    }
   ],
   "source": [
    "# Задача номер 2 способ 1\n",
    "\n",
    "# Нужно подсчитать количество слов и пробелов с помощью словаря....\n",
    "\n",
    "# Исходный текст\n",
    "my_text = \"Привет как дела привет привет арбуз велосипед стол арбуз дома пока\"\n",
    "\n",
    "# Инициализация словаря для хранения количества встреченных слов\n",
    "my_dict = {}\n",
    "\n",
    "# Итерация по каждому слову в тексте, разделенному пробелами\n",
    "for word in my_text.split():\n",
    "    \n",
    "    # Проверка, если слово уже есть в словаре\n",
    "    if word in my_dict:\n",
    "        # Если слово уже встречалось, увеличиваем счетчик\n",
    "        my_dict[word] = my_dict[word] + 1\n",
    "        \n",
    "    else:\n",
    "        # Если слово встречается впервые, добавляем его в словарь с счетчиком 1\n",
    "        my_dict[word] = 1\n",
    "\n",
    "# Вывод словаря с результатами подсчета\n",
    "print(my_dict)\n"
   ]
  },
  {
   "cell_type": "code",
   "execution_count": 7,
   "id": "f989ac8a",
   "metadata": {},
   "outputs": [
    {
     "name": "stdout",
     "output_type": "stream",
     "text": [
      "{'Привет': 1, 'как': 1, 'дела': 1, 'привет': 2, 'арбуз': 2, 'велосипед': 1, 'стол': 1, 'дома': 1, 'пока': 1}\n"
     ]
    }
   ],
   "source": [
    "# Задача номер 2 способ 2\n",
    "\n",
    "# Нужно подсчитать количество слов и пробелов с помощью словаря....\n",
    "\n",
    "# Исходный текст\n",
    "my_text = \"Привет как дела привет привет арбуз велосипед стол арбуз дома пока\"\n",
    "\n",
    "# Инициализация словаря для хранения количества встреченных слов\n",
    "my_dict = {}\n",
    "\n",
    "# Итерация по каждому слову в тексте, разделенному пробелами\n",
    "for word in my_text.split():\n",
    "    # Использование метода get для получения текущего значения счетчика слова,\n",
    "    # если оно существует, иначе возвращение 0\n",
    "    my_dict[word] = my_dict.get(word, 0) + 1\n",
    "\n",
    "# Вывод словаря с результатами подсчета\n",
    "print(my_dict)\n"
   ]
  },
  {
   "cell_type": "code",
   "execution_count": 6,
   "id": "d6650032",
   "metadata": {},
   "outputs": [
    {
     "name": "stdout",
     "output_type": "stream",
     "text": [
      "Количество слов в строке: {'Привет': 1, 'как': 1, 'дела': 1, 'привет': 2, 'арбуз': 2, 'велосипед': 1, 'стол': 1, 'дома': 1, 'пока': 1}\n",
      "Количество пробелов в строке: 10\n"
     ]
    }
   ],
   "source": [
    "# Решение нейросети.....\n",
    "\n",
    "my_text = \"Привет как дела привет привет арбуз велосипед стол арбуз дома пока\"\n",
    "words = my_text.split()\n",
    "\n",
    "word_count = {}  # Инициализируем словарь для подсчета слов\n",
    "space_count = 0  # Инициализируем счетчик пробелов\n",
    "\n",
    "for word in words:\n",
    "    word_count[word] = word_count.get(word, 0) + 1  # Подсчитываем количество слов в словаре\n",
    "\n",
    "for char in my_text:\n",
    "    if char == \" \":\n",
    "        space_count += 1  # Подсчитываем количество пробелов\n",
    "\n",
    "# Выводим результат\n",
    "print(f'Количество слов в строке: {word_count}')\n",
    "print(f'Количество пробелов в строке: {space_count}')\n"
   ]
  },
  {
   "cell_type": "code",
   "execution_count": null,
   "id": "cead13b3",
   "metadata": {},
   "outputs": [],
   "source": []
  }
 ],
 "metadata": {
  "kernelspec": {
   "display_name": "Python 3",
   "language": "python",
   "name": "python3"
  },
  "language_info": {
   "codemirror_mode": {
    "name": "ipython",
    "version": 3
   },
   "file_extension": ".py",
   "mimetype": "text/x-python",
   "name": "python",
   "nbconvert_exporter": "python",
   "pygments_lexer": "ipython3",
   "version": "3.8.8"
  }
 },
 "nbformat": 4,
 "nbformat_minor": 5
}
