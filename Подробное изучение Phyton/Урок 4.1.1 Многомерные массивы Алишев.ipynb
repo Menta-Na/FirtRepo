{
 "cells": [
  {
   "cell_type": "code",
   "execution_count": null,
   "id": "502b8684",
   "metadata": {},
   "outputs": [],
   "source": [
    "a = [1, 2, 3, 'asdf'] # Одномерный список\n",
    "\n",
    "print(a)"
   ]
  },
  {
   "cell_type": "code",
   "execution_count": null,
   "id": "296ee035",
   "metadata": {},
   "outputs": [],
   "source": [
    "arr_2d = [[1, 2, 3], \n",
    "          [4, 5, 6], \n",
    "          [7, 8, 9]] # Объявим 3-х мерный список\n",
    "\n",
    "print(arr_2d)"
   ]
  },
  {
   "cell_type": "code",
   "execution_count": null,
   "id": "21f52864",
   "metadata": {},
   "outputs": [],
   "source": [
    "arr_2d = [[1, 2, 3], \n",
    "          [4, 5, 6], \n",
    "          [7, 8, 9]] \n",
    "\n",
    "def print_matrix(arr_2d):\n",
    "    for arr in arr_2d:  # Перебираем каждый список в arr_2d\n",
    "        for el in arr:  # Перебираем каждый элемент в текущем списке\n",
    "            print(el, end=' ')  # Выводим элемент без переноса строки\n",
    "        print()  # Переходим на новую строку после окончания списка\n",
    "\n",
    "print_matrix(arr_2d)  # Вызываем функцию для печати матрицы\n"
   ]
  },
  {
   "cell_type": "code",
   "execution_count": null,
   "id": "27d49f7d",
   "metadata": {},
   "outputs": [],
   "source": [
    "# Вариант 2\n",
    "\n",
    "def print_matrix(arr_2d):\n",
    "    for i in range(len(arr_2d)):\n",
    "        for j in range(len(arr_2d[i])):\n",
    "            print(arr_2d[i][j], end = ' ')\n",
    "            \n",
    "        print()"
   ]
  },
  {
   "cell_type": "code",
   "execution_count": null,
   "id": "af0734b4",
   "metadata": {},
   "outputs": [],
   "source": [
    "# Обновим значения в двумерном списке\n",
    "\n",
    "arr_2d[1][2] = 100\n",
    "print(arr_2d)"
   ]
  },
  {
   "cell_type": "markdown",
   "id": "9c7adb2e",
   "metadata": {},
   "source": [
    "# Решаем задачи"
   ]
  },
  {
   "cell_type": "code",
   "execution_count": null,
   "id": "ea6f0528",
   "metadata": {},
   "outputs": [],
   "source": [
    "def create_matrix(rows, cols):\n",
    "    matrix = []  # Создаем пустой список для хранения значений\n",
    "    \n",
    "    for i in range(rows):  # Проходим по каждой строке\n",
    "        row = []  # Создаем пустую строку для текущей строки\n",
    "        \n",
    "        for j in range(cols):  # Проходим по каждому столбцу в текущей строке\n",
    "            row.append(0)  # Добавляем значение 0 в текущую ячейку\n",
    "            \n",
    "        matrix.append(row)  # Добавляем заполненную строку в список матрицы\n",
    "        \n",
    "    return matrix  # Возвращаем заполненную матрицу\n",
    "\n",
    "rows = 3  # Количество строк\n",
    "cols = 4  # Количество столбцов\n",
    "\n",
    "result_matrix = create_matrix(rows, cols)  # Создаем матрицу\n",
    "\n",
    "# Печатаем созданную матрицу для проверки\n",
    "for row in result_matrix:\n",
    "    print(row)\n"
   ]
  },
  {
   "cell_type": "code",
   "execution_count": 7,
   "id": "8262c394",
   "metadata": {},
   "outputs": [
    {
     "name": "stdout",
     "output_type": "stream",
     "text": [
      "[3, 2, 1]\n",
      "[6, 5, 4]\n",
      "[9, 8, 7]\n"
     ]
    }
   ],
   "source": [
    "# Решаем задачу по заполнению и отражению зеркальной матрици с нейронкой\n",
    "\n",
    "def create_rew_matrix(rows, cols):\n",
    "    matrix = []\n",
    "    count = 1\n",
    "    \n",
    "    for i in range(rows):\n",
    "        row = []\n",
    "        \n",
    "        for j in range(cols):\n",
    "            row.append(count)\n",
    "            count += 1\n",
    "            \n",
    "        matrix.append(row)\n",
    "        \n",
    "    # Переворачиваем каждую строку в матрице\n",
    "    for row in matrix:\n",
    "        row.reverse()\n",
    "        \n",
    "    return matrix\n",
    "\n",
    "rows = 3\n",
    "cols = 3\n",
    "\n",
    "result_matrix = create_rew_matrix(rows, cols)\n",
    "\n",
    "for row in result_matrix:\n",
    "    print(row)\n"
   ]
  },
  {
   "cell_type": "code",
   "execution_count": null,
   "id": "e679d568",
   "metadata": {},
   "outputs": [],
   "source": [
    "# Функция swap() производит обмен элементов в массиве arr по индексам i и j\n",
    "def swap(arr, i, j):\n",
    "    temp = arr[i]  # Сохраняем значение элемента с индексом i\n",
    "    arr[i] = arr[j]  # Заменяем значение элемента с индексом i значением элемента с индексом j\n",
    "    arr[j] = temp  # Присваиваем элементу с индексом j значение, сохраненное в temp\n",
    "\n",
    "# Функция mirror_2d_arr() зеркально отображает двумерный массив arr_2d\n",
    "def mirror_2d_arr(arr_2d):\n",
    "    for arr in arr_2d:  # Перебираем каждый массив внутри arr_2d (каждую строку)\n",
    "        for i in range(len(arr) // 2):  # Для каждой строки перебираем элементы до середины строки\n",
    "            # Выполняем обмен текущего элемента с элементом, отраженным относительно середины строки\n",
    "            swap(arr, i, len(arr) - 1 - i)\n",
    "\n",
    "# Создаем пример двумерного массива\n",
    "arr_2d = [[1, 2, 3],\n",
    "          [4, 5, 6],\n",
    "          [7, 8, 9]]\n",
    "\n",
    "# Выводим исходный массив\n",
    "print(\"Исходный массив:\")\n",
    "for row in arr_2d:\n",
    "    print(row)\n",
    "\n",
    "# Зеркально отображаем массив\n",
    "mirror_2d_arr(arr_2d)\n",
    "\n",
    "# Выводим зеркально отображенный массив\n",
    "print(\"\\nЗеркально отображенный массив:\")\n",
    "for row in arr_2d:\n",
    "    print(row)\n"
   ]
  }
 ],
 "metadata": {
  "kernelspec": {
   "display_name": "Python 3",
   "language": "python",
   "name": "python3"
  },
  "language_info": {
   "codemirror_mode": {
    "name": "ipython",
    "version": 3
   },
   "file_extension": ".py",
   "mimetype": "text/x-python",
   "name": "python",
   "nbconvert_exporter": "python",
   "pygments_lexer": "ipython3",
   "version": "3.8.8"
  }
 },
 "nbformat": 4,
 "nbformat_minor": 5
}
