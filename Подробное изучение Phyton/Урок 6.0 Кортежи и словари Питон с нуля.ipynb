{
 "cells": [
  {
   "cell_type": "markdown",
   "id": "621246b0",
   "metadata": {},
   "source": [
    "# Питон с нуля"
   ]
  },
  {
   "cell_type": "markdown",
   "id": "959b0620",
   "metadata": {},
   "source": [
    "# Кортежи"
   ]
  },
  {
   "cell_type": "code",
   "execution_count": null,
   "id": "f558fd91",
   "metadata": {},
   "outputs": [],
   "source": [
    "# Кортеж - это тоже объект хранящий элемент (неизменяемый)\n",
    "\n",
    "tuple = ('first', 25, 25.1,) # Отличие синтаксиса в круглых скобках и запятой в конце\n",
    "tuple[1] = 58 # Кортеж не меняется\n",
    "print(tuple)"
   ]
  },
  {
   "cell_type": "code",
   "execution_count": null,
   "id": "e73f3b3e",
   "metadata": {},
   "outputs": [],
   "source": [
    "tuple = ('first',)  # Проверим класс\n",
    "print(type(tuple))"
   ]
  },
  {
   "cell_type": "code",
   "execution_count": null,
   "id": "e4075485",
   "metadata": {},
   "outputs": [],
   "source": [
    "# Мы можем превратить кортеж в список и наоборот\n",
    "\n",
    "print(tuple([45, 45, 147, 45]))\n",
    "print(list([45, 45, 147, 45]))"
   ]
  },
  {
   "cell_type": "markdown",
   "id": "e4cd304c",
   "metadata": {},
   "source": [
    "# Словари"
   ]
  },
  {
   "cell_type": "code",
   "execution_count": null,
   "id": "9da1dc5c",
   "metadata": {},
   "outputs": [],
   "source": [
    "# В отличии от кортэжа словари изменяемы"
   ]
  },
  {
   "cell_type": "code",
   "execution_count": null,
   "id": "ffc3ac90",
   "metadata": {},
   "outputs": [],
   "source": [
    "# Для того что-бы создать словарь, его заполняем прой ключ - значение.\n",
    "\n",
    "dict = {\"яблоко\": \"красное\",} # ключ слева от двоеточия, значение справа\n",
    "\n",
    "print(dict)"
   ]
  },
  {
   "cell_type": "code",
   "execution_count": null,
   "id": "1814f618",
   "metadata": {},
   "outputs": [],
   "source": [
    "# Расширим словарь \n",
    "\n",
    "dict = {\"яблоко\": \"красное\", \"банан\": \"желтый\", \"лимон\": \"желтый\"} \n",
    "\n",
    "print(dict)"
   ]
  },
  {
   "cell_type": "code",
   "execution_count": null,
   "id": "4ed5d3c9",
   "metadata": {},
   "outputs": [],
   "source": [
    "# Выводим только ключи\n",
    "\n",
    "# Используем метод keys()\n",
    "\n",
    "dict = {\"яблоко\": \"красное\", \"банан\": \"желтый\", \"лимон\": \"желтый\"} \n",
    "\n",
    "for k in dict.keys():\n",
    "    print(k)"
   ]
  },
  {
   "cell_type": "code",
   "execution_count": null,
   "id": "aa9dfa93",
   "metadata": {},
   "outputs": [],
   "source": [
    "# Выводим только значения\n",
    "\n",
    "# Используем метод values()\n",
    "\n",
    "dict = {\"яблоко\": \"красное\", \"банан\": \"желтый\", \"лимон\": \"желтый\"} \n",
    "\n",
    "for k in dict.values():\n",
    "    print(k)"
   ]
  },
  {
   "cell_type": "code",
   "execution_count": null,
   "id": "3b319eb4",
   "metadata": {},
   "outputs": [],
   "source": [
    "# Выводим пару ключ-значение\n",
    "\n",
    "# Используем метод items()\n",
    "\n",
    "dict = {\"яблоко\": \"красное\", \"банан\": \"желтый\", \"лимон\": \"желтый\"} \n",
    "\n",
    "for k in dict.items():\n",
    "    print(k)"
   ]
  },
  {
   "cell_type": "code",
   "execution_count": null,
   "id": "68b903c4",
   "metadata": {},
   "outputs": [],
   "source": [
    "# Выводим только конкретное значение\n",
    "\n",
    "dict = {\"яблоко\": \"красное\", \"банан\": \"желтый\", \"лимон\": \"желтый\"} \n",
    "print(dict[\"банан\"])"
   ]
  },
  {
   "cell_type": "code",
   "execution_count": null,
   "id": "ea4ec52f",
   "metadata": {},
   "outputs": [],
   "source": [
    "# Меняем конкретное значение\n",
    "\n",
    "dict = {\"яблоко\": \"красное\", \"банан\": \"желтый\", \"лимон\": \"желтый\"} \n",
    "dict[\"банан\"] = \"зеленый\"\n",
    "print(dict)"
   ]
  },
  {
   "cell_type": "code",
   "execution_count": null,
   "id": "41feefe9",
   "metadata": {},
   "outputs": [],
   "source": [
    "# Удаляем конкретное значение\n",
    "\n",
    "dict = {\"яблоко\": \"красное\", \"банан\": \"желтый\", \"лимон\": \"желтый\"} \n",
    "del(dict[\"банан\"])\n",
    "print(dict)"
   ]
  }
 ],
 "metadata": {
  "kernelspec": {
   "display_name": "Python 3",
   "language": "python",
   "name": "python3"
  },
  "language_info": {
   "codemirror_mode": {
    "name": "ipython",
    "version": 3
   },
   "file_extension": ".py",
   "mimetype": "text/x-python",
   "name": "python",
   "nbconvert_exporter": "python",
   "pygments_lexer": "ipython3",
   "version": "3.8.8"
  }
 },
 "nbformat": 4,
 "nbformat_minor": 5
}
