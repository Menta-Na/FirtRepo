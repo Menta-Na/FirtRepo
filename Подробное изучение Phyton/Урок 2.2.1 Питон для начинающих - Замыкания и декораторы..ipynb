{
 "cells": [
  {
   "cell_type": "code",
   "execution_count": 2,
   "id": "b77f16d5",
   "metadata": {},
   "outputs": [
    {
     "name": "stdout",
     "output_type": "stream",
     "text": [
      "15\n",
      "15\n"
     ]
    }
   ],
   "source": [
    "# Замыкания\n",
    "\n",
    "\n",
    "def out(): \n",
    "    a = 10\n",
    "    b = 5\n",
    "    \n",
    "    \n",
    "    def closure():\n",
    "        return a + b\n",
    "    return closure\n",
    "\n",
    "clos = out()\n",
    "summa = clos()\n",
    "print(summa)\n",
    "\n",
    "print(out()())"
   ]
  },
  {
   "cell_type": "code",
   "execution_count": 3,
   "id": "7c93c341",
   "metadata": {},
   "outputs": [
    {
     "name": "stdout",
     "output_type": "stream",
     "text": [
      "3\n"
     ]
    }
   ],
   "source": [
    "def out(s): \n",
    "        \n",
    "    def closure():\n",
    "        return s[0] + s[1]\n",
    "    return closure\n",
    "sp = [1, 2, 3, 4]\n",
    "clos = out(sp)\n",
    "print(clos())"
   ]
  },
  {
   "cell_type": "code",
   "execution_count": 4,
   "id": "9f61b4ef",
   "metadata": {},
   "outputs": [
    {
     "name": "stdout",
     "output_type": "stream",
     "text": [
      "102\n"
     ]
    }
   ],
   "source": [
    "def out(s): \n",
    "        \n",
    "    def closure():\n",
    "        return s[0] + s[1]\n",
    "    return closure\n",
    "\n",
    "sp = [1, 2, 3, 4]\n",
    "clos = out(sp)\n",
    "sp[0] = 100\n",
    "print(clos())"
   ]
  },
  {
   "cell_type": "code",
   "execution_count": 17,
   "id": "e0ff0225",
   "metadata": {},
   "outputs": [
    {
     "name": "stdout",
     "output_type": "stream",
     "text": [
      "ИНФОРМАТИКА!?\n"
     ]
    }
   ],
   "source": [
    "# Декораторы\n",
    "\n",
    "def my_decoration1(func):\n",
    "    \n",
    "    def wrapper():\n",
    "        new = func() + '?'\n",
    "        return new\n",
    "    return wrapper\n",
    "\n",
    "def my_decoration2(func):\n",
    "    \n",
    "    def wrapper():\n",
    "        new = func().upper() + '!'\n",
    "        return new\n",
    "    return wrapper\n",
    "\n",
    "\n",
    "@my_decoration1\n",
    "@my_decoration2\n",
    "\n",
    "def my_func():\n",
    "    return \"Информатика\"\n",
    "\n",
    "print(my_func())"
   ]
  },
  {
   "cell_type": "markdown",
   "id": "280084df",
   "metadata": {},
   "source": [
    "# Самостоятельная работа"
   ]
  },
  {
   "cell_type": "code",
   "execution_count": null,
   "id": "cdd0a5d7",
   "metadata": {},
   "outputs": [],
   "source": [
    "\"\"\"Домашнее задание:\n",
    "\n",
    "Написать функцию, \n",
    "которая возвращает факториал \n",
    "введенного пользователем числа. \n",
    "Написать декоратор, \n",
    "который замеряет время выполнения данной функции.\n",
    "\n",
    "Не использовать модуль math. \n",
    "Для замера времени вам понадобится функция time()\n",
    "из модуля time.\n",
    "\"\"\""
   ]
  },
  {
   "cell_type": "code",
   "execution_count": null,
   "id": "cc762c15",
   "metadata": {},
   "outputs": [],
   "source": [
    "import time\n",
    "\n",
    "# Создаем декоратор для измерения времени выполнения функции\n",
    "def timer(func):\n",
    "    def wrapper(*args, **kwargs):\n",
    "        start_time = time.time()  # Запоминаем текущее время перед выполнением функции\n",
    "        result = func(*args, **kwargs)  # Выполняем функцию и сохраняем ее результат\n",
    "        end_time = time.time()  # Запоминаем текущее время после выполнения функции\n",
    "        # Выводим на экран время выполнения функции в секундах\n",
    "        print(f\"Время выполнения функции {func.__name__}: {end_time - start_time} секунд\")\n",
    "        return result  # Возвращаем результат выполнения функции\n",
    "    return wrapper\n",
    "\n",
    "# Определяем функцию для вычисления факториала\n",
    "@timer  # Применяем декоратор к этой функции\n",
    "def factorial(n):\n",
    "    if n < 0:\n",
    "        return \"Ошибка: Факториал отрицательного числа не определен\"\n",
    "    \n",
    "    result = 1\n",
    "    for i in range(1, n + 1):\n",
    "        result *= i\n",
    "    return result\n",
    "\n",
    "# Пример использования\n",
    "number = int(input(\"Введите число для вычисления факториала: \"))  # Запрашиваем у пользователя число\n",
    "# Выводим результат вычисления факториала и время его выполнения\n",
    "print(\"Факториал числа\", number, \"равен\", factorial(number))\n",
    "\n",
    "\"\"\"Комментарии по коду:\n",
    "\n",
    "Импортируем модуль time, который позволяет работать со временем.\n",
    "Определяем декоратор timer, который принимает функцию и возвращает обертку для измерения времени выполнения этой функции.\n",
    "Создаем функцию factorial, которая вычисляет факториал введенного числа. Эту функцию мы оборачиваем декоратором @timer.\n",
    "Запрашиваем у пользователя число, для которого нужно вычислить факториал.\n",
    "Выводим результат вычисления факториала и время его выполнения\"\"\""
   ]
  },
  {
   "cell_type": "code",
   "execution_count": null,
   "id": "4172a72e",
   "metadata": {},
   "outputs": [],
   "source": []
  }
 ],
 "metadata": {
  "kernelspec": {
   "display_name": "Python 3",
   "language": "python",
   "name": "python3"
  },
  "language_info": {
   "codemirror_mode": {
    "name": "ipython",
    "version": 3
   },
   "file_extension": ".py",
   "mimetype": "text/x-python",
   "name": "python",
   "nbconvert_exporter": "python",
   "pygments_lexer": "ipython3",
   "version": "3.8.8"
  }
 },
 "nbformat": 4,
 "nbformat_minor": 5
}
