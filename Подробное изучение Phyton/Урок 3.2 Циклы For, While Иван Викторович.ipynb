{
 "cells": [
  {
   "cell_type": "markdown",
   "id": "86a95e20",
   "metadata": {},
   "source": [
    "# Pyton - для начинающих цикл While"
   ]
  },
  {
   "cell_type": "code",
   "execution_count": null,
   "id": "a0d10024",
   "metadata": {},
   "outputs": [],
   "source": [
    "# Цикл - это конструкция, которая позволяет выполнять ряд команд определенное или неопределенное кал-ва раз\n",
    "\n",
    "#Цикл while - цикл с условием\n",
    "\n",
    "# Синтаксис\n",
    "\n",
    "while условие:\n",
    "    действия\n",
    "else:\n",
    "    завершение"
   ]
  },
  {
   "cell_type": "code",
   "execution_count": null,
   "id": "e6b350b7",
   "metadata": {},
   "outputs": [],
   "source": [
    "x = 1\n",
    "while x <= 10:\n",
    "    print(x)\n",
    "    x += 1"
   ]
  },
  {
   "cell_type": "code",
   "execution_count": null,
   "id": "07fe888d",
   "metadata": {},
   "outputs": [],
   "source": [
    "# Пока одно условие возввращает True цикл бесконечен\n",
    "x = 1\n",
    "while x <= 10 or x != 5:\n",
    "    print(x)\n",
    "    x += 1"
   ]
  },
  {
   "cell_type": "markdown",
   "id": "9d38e082",
   "metadata": {},
   "source": [
    "# Выводим таблицу умножения"
   ]
  },
  {
   "cell_type": "code",
   "execution_count": null,
   "id": "554b5af3",
   "metadata": {},
   "outputs": [],
   "source": [
    "x = r = 1\n",
    "\n",
    "while x < 10:\n",
    "    \n",
    "    while r < 10:\n",
    "        print(x, '*', r, '=', x * r, end='|')\n",
    "        r += 1\n",
    "        \n",
    "    print()\n",
    "    r = 1\n",
    "    x += 1"
   ]
  },
  {
   "cell_type": "code",
   "execution_count": null,
   "id": "04b1131f",
   "metadata": {},
   "outputs": [],
   "source": [
    "# Решим задачу:\n",
    "# Считаем сумму цифр  введенных пользователем\n",
    "\n",
    "number = int(input())\n",
    "s = 0 \n",
    "\n",
    "while number:\n",
    "    s += number % 10\n",
    "    number //= 10\n",
    "\n",
    "print(s)"
   ]
  },
  {
   "cell_type": "markdown",
   "id": "1161ff2a",
   "metadata": {},
   "source": [
    "# Самостоятельная работа"
   ]
  },
  {
   "cell_type": "code",
   "execution_count": null,
   "id": "56f7a955",
   "metadata": {},
   "outputs": [],
   "source": [
    "# Самостоятельная работа задание 1\n",
    "\n",
    "number1 = int(input(\"Введите число\"))\n",
    "s1 = 0\n",
    "\n",
    "while s1 <= number1 and number1 >= 0:\n",
    "    print(s1)\n",
    "    s1 += 1\n",
    "    \n"
   ]
  },
  {
   "cell_type": "code",
   "execution_count": null,
   "id": "678ccfb0",
   "metadata": {},
   "outputs": [],
   "source": [
    "number2 = int(input(\"Введите число\"))\n",
    "s2 = 0\n",
    "\n",
    "while s2 <= number2 :\n",
    "    if number2 >= 0:\n",
    "        print(s2)\n",
    "        s2 += 1\n",
    "    else:\n",
    "        print(\"Значение некорректно\")"
   ]
  },
  {
   "cell_type": "code",
   "execution_count": null,
   "id": "6c46c1e8",
   "metadata": {},
   "outputs": [],
   "source": [
    "#Задание 2\n",
    "\n",
    "number3 = int(input(\"Введите число: \"))\n",
    "s3 = 0\n",
    "\n",
    "while s3 <= number3:\n",
    "    \n",
    "    s3 += number3 % 2 == 0\n",
    "    print(s3)"
   ]
  },
  {
   "cell_type": "code",
   "execution_count": null,
   "id": "22f9acc3",
   "metadata": {},
   "outputs": [],
   "source": [
    "#Разбор кода другого человека\n",
    "\n",
    "# Ученик завел переменную A для пользовательского ввода\n",
    "a = int(input('Введите любое целое число: '))\n",
    "\n",
    "# Завел переменную счетчик B для четных чисел \n",
    "b = 0\n",
    "\n",
    "# Завел переменную счетчик C для нечетных чисел \n",
    "c = 0\n",
    "\n",
    "# Завел переменную хранилище X для суммы четных чисел\n",
    "x = 0\n",
    "\n",
    "# Пока a больше нуля заводится цикл\n",
    "while a > 0:\n",
    "    # Если a является четным\n",
    "    if a % 2 == 0:\n",
    "        # Переменная b считает кал-во чисел\n",
    "        b += 1\n",
    "        # Переменная x складывает с конца сумму четных чисел\n",
    "        x += a % 10\n",
    "    else:\n",
    "        # Переменная c считает нечетные числа\n",
    "        c += 1\n",
    "    # Отрезаем числа с конца   \n",
    "    a = a // 10\n",
    "\n",
    "print(f'четные: {b}, нечетные: {c}')\n",
    "print('Сумма четных цифр:', x)"
   ]
  },
  {
   "cell_type": "code",
   "execution_count": null,
   "id": "96c8bba4",
   "metadata": {},
   "outputs": [],
   "source": [
    "A1 = int(input(\"Введите число: \"))\n",
    "B1 = 0\n",
    "C1 = 0\n",
    "X1 = 0\n",
    "\n",
    "while A1:\n",
    "    if A1 % 2 == 0:\n",
    "        B1 += 1\n",
    "        X1 += A1 % 10\n",
    "    else:\n",
    "        C1 += 1\n",
    "    A1 //= 10\n",
    "    \n",
    "print(f\"четные: {B1}, нечетные: {C1}\")\n",
    "print(\"Сумма четных чисел: \", X1)"
   ]
  },
  {
   "cell_type": "code",
   "execution_count": null,
   "id": "81584d6e",
   "metadata": {},
   "outputs": [],
   "source": [
    "# Этот код не работает !!! \n",
    "\n",
    "number10 = int(input('Введите любое целое число: '))\n",
    "even = 0\n",
    "odd = 0\n",
    "sum = 0\n",
    "\n",
    "while number10 > 0:\n",
    "    if number10 % 2 == 0:\n",
    "        even += 1\n",
    "        sum += number10 % 10\n",
    "    else:\n",
    "        odd += 1\n",
    "    number10 //= 1\n",
    "    \n",
    "print(f'четные: {even}, нечетные: {odd}')\n",
    "print('Сумма четных цифр:', sum)"
   ]
  },
  {
   "cell_type": "code",
   "execution_count": null,
   "id": "6e4eca38",
   "metadata": {},
   "outputs": [],
   "source": [
    "# Задача 3 Мой вариант с подсчетом суммы чисел\n",
    "\n",
    "\n",
    "# Завел пользовательский ввод\n",
    "X2 = int(input(\"Число 1: \"))\n",
    "R2 = int(input(\"Число 2: \"))\n",
    "# Завел переменную счетчик\n",
    "F = 0\n",
    "# Завел переменную пока 1-е число меньше или равно 2-му\n",
    "while X2 <= R2:\n",
    "    # Считаю кал-во чисел \n",
    "    F += 1\n",
    "\n",
    "    # Вывожу список чисел от X2 до R2\n",
    "    print(X2)\n",
    "    X2 += 1\n",
    "    \n",
    "print(\"Кал-во чисел равно в промежутке от X2 до R2 равно: \", F)\n"
   ]
  },
  {
   "cell_type": "code",
   "execution_count": null,
   "id": "fc697d56",
   "metadata": {},
   "outputs": [],
   "source": [
    "# Код другого человека\n",
    "\n",
    "x = int(input('Введите первое число: '))\n",
    "r = int(input('Введите второе число: '))\n",
    "a = r - x + 1\n",
    "while x <= r:\n",
    "    print(x)\n",
    "    x += 1\n",
    "print(f'В промежутке от X до R: {a} чисел/числа.')"
   ]
  },
  {
   "cell_type": "markdown",
   "id": "b61a206e",
   "metadata": {},
   "source": [
    "# Цикл For"
   ]
  },
  {
   "cell_type": "code",
   "execution_count": null,
   "id": "de428cc0",
   "metadata": {},
   "outputs": [],
   "source": [
    "# Синтаксис цикла For\n",
    "\n",
    "for элемент in последовательность:\n",
    "    тело цикла\n",
    "else:\n",
    "    завершение"
   ]
  },
  {
   "cell_type": "code",
   "execution_count": null,
   "id": "5128dad3",
   "metadata": {},
   "outputs": [],
   "source": [
    "# Пример 1\n",
    "\n",
    "stroka = 'hello'\n",
    "for element in stroka:\n",
    "    print(element)"
   ]
  },
  {
   "cell_type": "code",
   "execution_count": null,
   "id": "09fdf63f",
   "metadata": {},
   "outputs": [],
   "source": [
    "# Пример 2\n",
    "\n",
    "stroka = 'hello'\n",
    "for element in 45, 89, 'hello', '!':\n",
    "    print(element)"
   ]
  },
  {
   "cell_type": "code",
   "execution_count": null,
   "id": "11f7713f",
   "metadata": {},
   "outputs": [],
   "source": [
    "# Последняя цифра 2 означает шаг\n",
    "for i in range(1, 10, 2):\n",
    "    print(i)"
   ]
  },
  {
   "cell_type": "code",
   "execution_count": null,
   "id": "f921e00c",
   "metadata": {},
   "outputs": [],
   "source": [
    "for i in range(2, 10, 2):\n",
    "    print(i)"
   ]
  },
  {
   "cell_type": "code",
   "execution_count": null,
   "id": "9ce00263",
   "metadata": {
    "scrolled": true
   },
   "outputs": [],
   "source": [
    "# Запускаем цикл в обратном порядке\n",
    "\n",
    "for i in range(10, 1, -1):\n",
    "    print(i)"
   ]
  },
  {
   "cell_type": "markdown",
   "id": "fef9f9ae",
   "metadata": {},
   "source": [
    "# Таблица умножения в цикле For"
   ]
  },
  {
   "cell_type": "code",
   "execution_count": null,
   "id": "0489cb72",
   "metadata": {},
   "outputs": [],
   "source": [
    "for x in range(1, 10):\n",
    "    for y in range(1, 10):\n",
    "        print(x, '*', y, '=', x * y, end='|')\n",
    "    print()"
   ]
  },
  {
   "cell_type": "markdown",
   "id": "acdb6be4",
   "metadata": {},
   "source": [
    "# Сравнение с циклом While"
   ]
  },
  {
   "cell_type": "code",
   "execution_count": null,
   "id": "5882fc5b",
   "metadata": {},
   "outputs": [],
   "source": [
    "x = r = 1\n",
    "\n",
    "while x < 10:\n",
    "    \n",
    "    while r < 10:\n",
    "        print(x, '*', r, '=', x * r, end='|')\n",
    "        r += 1\n",
    "        \n",
    "    print()\n",
    "    r = 1\n",
    "    x += 1"
   ]
  },
  {
   "cell_type": "code",
   "execution_count": null,
   "id": "2c94455b",
   "metadata": {},
   "outputs": [],
   "source": [
    "#Функция автопдсчета enumerate\n",
    "\n",
    "s = 'hello'\n",
    "for i in enumerate(s, 1):\n",
    "    print(i)"
   ]
  },
  {
   "cell_type": "code",
   "execution_count": null,
   "id": "e8b9c7f3",
   "metadata": {},
   "outputs": [],
   "source": [
    "# Оператор break служит для досрочного выхода из цикла\n",
    "\n",
    "for i in range(1, 10):\n",
    "    if i == 7:\n",
    "        break\n",
    "    print(i)"
   ]
  },
  {
   "cell_type": "code",
   "execution_count": null,
   "id": "ddf6aa47",
   "metadata": {},
   "outputs": [],
   "source": [
    "# Если у цикла есть часть Else то она тоже выполнится\n",
    "\n",
    "for i in range(1, 10):\n",
    "    print(i)\n",
    "else:\n",
    "    print(1)"
   ]
  },
  {
   "cell_type": "code",
   "execution_count": null,
   "id": "15cfb375",
   "metadata": {},
   "outputs": [],
   "source": [
    "# В этом примере не выполняется т.к встретился оператор break и завершился цикл \n",
    "\n",
    "for i in range(1, 10):\n",
    "    if i == 7:\n",
    "        break\n",
    "    print(i)\n",
    "else:\n",
    "    print(1)"
   ]
  },
  {
   "cell_type": "code",
   "execution_count": null,
   "id": "7f3fb5ca",
   "metadata": {},
   "outputs": [],
   "source": [
    "# Оператор continue\n",
    "\n",
    "s = 'hello'\n",
    "for i in s:\n",
    "    if i == \"l\":\n",
    "        continue\n",
    "        \n",
    "    print(i)"
   ]
  },
  {
   "cell_type": "code",
   "execution_count": null,
   "id": "1b202e17",
   "metadata": {},
   "outputs": [],
   "source": [
    "# Задача по информатике\n",
    "# Программа выводящая сумму кратных чисел\n",
    "\n",
    "k = int(input())\n",
    "s = 0\n",
    "for _ in range(k):\n",
    "    \n",
    "    number = int(input())\n",
    "    if number % 6 == 0:\n",
    "        s += number\n",
    "print(s)"
   ]
  },
  {
   "cell_type": "markdown",
   "id": "363d0d7d",
   "metadata": {},
   "source": [
    "# Самостоятельное задание"
   ]
  },
  {
   "cell_type": "code",
   "execution_count": null,
   "id": "0f7a853f",
   "metadata": {},
   "outputs": [],
   "source": [
    "# Самостоятельная работа задача 1 мой вариант\n",
    "\n",
    "N = int(input(\"Введите число: \"))\n",
    "SUM = 0\n",
    "for i in range(N + 1):\n",
    "    if i % 2 == 0:\n",
    "        SUM += i\n",
    "        \n",
    "print(\"Сумма четных чисел равна: \", SUM)\n",
    "        "
   ]
  },
  {
   "cell_type": "code",
   "execution_count": null,
   "id": "b280d7b4",
   "metadata": {},
   "outputs": [],
   "source": [
    "# Самостоятельная работа задача 2\n",
    "\n",
    "T = int(input(\"Введите число не меньше 35: \"))\n",
    "\n",
    "for i in range(T):\n",
    "    if T < 35:\n",
    "        print(\"Допущенна ошибка! \")\n",
    "        break\n",
    "    if (i == 7) or (i == 13) or (i == 21) or (i == 29):\n",
    "        continue\n",
    "    print(i)\n",
    "\n",
    "    "
   ]
  },
  {
   "cell_type": "code",
   "execution_count": null,
   "id": "04ef12f9",
   "metadata": {},
   "outputs": [],
   "source": [
    "# Вариант Нейросети!!!!\n",
    "T = int(input(\"Введите число: \"))\n",
    "if T < 35:\n",
    "    print(\"Допущенная ошибка!\")\n",
    "else:\n",
    "    for i in range(1, T+1):\n",
    "        if i in [7, 13, 21, 29]:\n",
    "            continue\n",
    "        print(i)"
   ]
  },
  {
   "cell_type": "code",
   "execution_count": null,
   "id": "566cf324",
   "metadata": {},
   "outputs": [],
   "source": [
    "# Вариант Нейросети!!!!\n",
    "\n",
    "T = int(input(\"Введите число не меньше 35: \"))\n",
    "\n",
    "if T < 35:\n",
    "    print(\"Допущенна ошибка! \")\n",
    "else:\n",
    "    for i in range(T):\n",
    "        if (i == 7) or (i == 13) or (i == 21) or (i == 29):\n",
    "            continue\n",
    "        print(i)"
   ]
  },
  {
   "cell_type": "code",
   "execution_count": null,
   "id": "9eea26ea",
   "metadata": {},
   "outputs": [],
   "source": []
  },
  {
   "cell_type": "code",
   "execution_count": null,
   "id": "6eaac04a",
   "metadata": {},
   "outputs": [],
   "source": [
    "# Самостоятельная работа задача 3\n",
    "N1 = int(input(\"Введите число: \"))\n",
    "\n",
    "\n",
    "for i in range(N1 + 1):\n",
    "    if i % 2 == 0:\n",
    "        if i % 2 == 1:\n",
    "            continue\n",
    "        Si = i**2\n",
    "        print(i,\" в степени 2 равно: \", Si)\n",
    "    elif i % 2 == 1:\n",
    "        Si = i**3\n",
    "        print(i,\" в степени 3 равно: \", Si)\n",
    "    else:\n",
    "        print(\"Некорректное значение\")\n",
    "        break"
   ]
  },
  {
   "cell_type": "code",
   "execution_count": null,
   "id": "94547adc",
   "metadata": {},
   "outputs": [],
   "source": [
    "# Вариант Нейросети!!!!\n",
    "\n",
    "N1 = int(input(\"Введите число: \"))\n",
    "\n",
    "for i in range(N1 + 1):\n",
    "    if i % 2 == 0:\n",
    "        Si = i**2\n",
    "        print(i, \" в степени 2 равно: \", Si)\n",
    "    else:\n",
    "        Si = i**3\n",
    "        print(i, \" в степени 3 равно: \", Si)"
   ]
  },
  {
   "cell_type": "code",
   "execution_count": null,
   "id": "719d18a0",
   "metadata": {},
   "outputs": [],
   "source": [
    "# Вариант другого человека более простой вариант без добавления gеременной \"Si\"\n",
    "\n",
    "n = int(input(\"Введите число: \"))\n",
    "\n",
    "for i in range(1, n+1):\n",
    "    if i % 2 == 0:\n",
    "        print(i, \"в степени 2 =\", i ** 2)\n",
    "    else:\n",
    "        print(i, \"в степени 3 =\", i ** 3)"
   ]
  },
  {
   "cell_type": "code",
   "execution_count": null,
   "id": "eecc9dac",
   "metadata": {},
   "outputs": [],
   "source": []
  }
 ],
 "metadata": {
  "kernelspec": {
   "display_name": "Python 3",
   "language": "python",
   "name": "python3"
  },
  "language_info": {
   "codemirror_mode": {
    "name": "ipython",
    "version": 3
   },
   "file_extension": ".py",
   "mimetype": "text/x-python",
   "name": "python",
   "nbconvert_exporter": "python",
   "pygments_lexer": "ipython3",
   "version": "3.8.8"
  }
 },
 "nbformat": 4,
 "nbformat_minor": 5
}
