{
 "cells": [
  {
   "cell_type": "markdown",
   "id": "135d5713",
   "metadata": {},
   "source": [
    "# Питон для начинающих (Наиль)"
   ]
  },
  {
   "cell_type": "code",
   "execution_count": null,
   "id": "e8908b3f",
   "metadata": {},
   "outputs": [],
   "source": [
    "# Пример 1\n",
    "a = 1\n",
    "b = 2\n",
    "if a < b:\n",
    "    print(\"a меньше чем b\")\n",
    "    print(\"a точно меньше чем b\")\n",
    "    \n",
    "print(\"Вне блока if\")"
   ]
  },
  {
   "cell_type": "code",
   "execution_count": null,
   "id": "7421fe00",
   "metadata": {},
   "outputs": [],
   "source": [
    "# Пример 2\n",
    "a = 3\n",
    "b = 2\n",
    "\n",
    "if a < b:\n",
    "    print(\"a меньше чем b\")\n",
    "    print(\"a точно меньше чем b\")\n",
    "    \n",
    "print(\"Вне блока if\")"
   ]
  },
  {
   "cell_type": "code",
   "execution_count": null,
   "id": "ee897e2b",
   "metadata": {},
   "outputs": [],
   "source": [
    "# Пример 3\n",
    "c = 5\n",
    "d = 4\n",
    "if c < d:\n",
    "    print(\"c меньше чем d\")\n",
    "else:\n",
    "    print(\"c либо больше либо равно d\")\n",
    "    print(\"\")\n",
    "    \n",
    "print(\"Вне блока if\")"
   ]
  },
  {
   "cell_type": "code",
   "execution_count": null,
   "id": "53651d7d",
   "metadata": {},
   "outputs": [],
   "source": [
    "# Пример 4\n",
    "e = 20\n",
    "f = 8\n",
    "if e < f:\n",
    "    print(\"е меньше чем f\")\n",
    "elif e == f:\n",
    "    print(\"е равно f\")\n",
    "elif e > f + 10:\n",
    "    print(\"разница между e и f больше 10\")\n",
    "else:\n",
    "    print(\"e больше f\")"
   ]
  },
  {
   "cell_type": "code",
   "execution_count": null,
   "id": "2fc64698",
   "metadata": {},
   "outputs": [],
   "source": [
    "# Пример 5\n",
    "g = 7 \n",
    "h = 8\n",
    "if g < h:\n",
    "    print(\"g меньше h\")\n",
    "else:\n",
    "    if g == h:\n",
    "        print(\"g равно h\")\n",
    "    else:\n",
    "        print(\"g больше h\")"
   ]
  },
  {
   "cell_type": "code",
   "execution_count": null,
   "id": "b2250832",
   "metadata": {},
   "outputs": [],
   "source": [
    "#Создаем колькулятор индекса массы тела\n",
    "\n",
    "name = \"Tom\"\n",
    "height = 2\n",
    "weight = 150\n",
    "\n",
    "bmi = weight / (height ** 2)\n",
    "print(\"Индекс массы тела: \" + str(bmi))\n",
    "\n",
    "if bmi < 25:\n",
    "    print(\"У \" + name + \" нет лишнего веса\")\n",
    "    \n",
    "else:\n",
    "    print(\"У \" + name + \" есть лишний вес\")"
   ]
  },
  {
   "cell_type": "code",
   "execution_count": null,
   "id": "fa00574b",
   "metadata": {},
   "outputs": [],
   "source": [
    "#Узнаем тип данных с помощью метода Type\n",
    "type(1 < 2)"
   ]
  },
  {
   "cell_type": "code",
   "execution_count": null,
   "id": "d91d1c70",
   "metadata": {},
   "outputs": [],
   "source": []
  }
 ],
 "metadata": {
  "kernelspec": {
   "display_name": "Python 3",
   "language": "python",
   "name": "python3"
  },
  "language_info": {
   "codemirror_mode": {
    "name": "ipython",
    "version": 3
   },
   "file_extension": ".py",
   "mimetype": "text/x-python",
   "name": "python",
   "nbconvert_exporter": "python",
   "pygments_lexer": "ipython3",
   "version": "3.8.8"
  }
 },
 "nbformat": 4,
 "nbformat_minor": 5
}
