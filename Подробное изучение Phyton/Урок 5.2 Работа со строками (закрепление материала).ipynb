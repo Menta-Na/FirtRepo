{
 "cells": [
  {
   "cell_type": "markdown",
   "id": "b2293be6",
   "metadata": {},
   "source": [
    "# Питон с нуля"
   ]
  },
  {
   "cell_type": "code",
   "execution_count": null,
   "id": "3b93bb70",
   "metadata": {},
   "outputs": [],
   "source": [
    "print(\"Привет, мир!\")\n",
    "print(\"Мир\")\n",
    "print(\"привет\")"
   ]
  },
  {
   "cell_type": "code",
   "execution_count": null,
   "id": "660bcaf9",
   "metadata": {},
   "outputs": [],
   "source": [
    "print('''Текст заключенный в тройные кавычки,\n",
    "может содержать в себе \n",
    "сколоко угодно \n",
    "пробелов''')"
   ]
  },
  {
   "cell_type": "code",
   "execution_count": null,
   "id": "fc7455f1",
   "metadata": {},
   "outputs": [],
   "source": [
    "print(\"Привет\\nПривет\\nПрив\\nет\") # Управляющий символ Слеш n переносит на следующую строку"
   ]
  },
  {
   "cell_type": "code",
   "execution_count": null,
   "id": "eced019b",
   "metadata": {},
   "outputs": [],
   "source": [
    "print(\"Упрляющий символ\\tделает отступ в одну табуляцию\")"
   ]
  },
  {
   "cell_type": "code",
   "execution_count": null,
   "id": "cf8f2707",
   "metadata": {},
   "outputs": [],
   "source": [
    "print('\"Оборачиваем в апострофы текст в кавычках \"') #\"Оборачиваем в апострофы текст в кавычках \""
   ]
  },
  {
   "cell_type": "code",
   "execution_count": 17,
   "id": "6c9270cb",
   "metadata": {},
   "outputs": [
    {
     "name": "stdout",
     "output_type": "stream",
     "text": [
      "текст \"в\" кавычках\n"
     ]
    }
   ],
   "source": [
    "print(\"текст \\\"в\\\" кавычках\") #\"Оборачиваем в апострофы текст в кавычках \""
   ]
  },
  {
   "cell_type": "code",
   "execution_count": null,
   "id": "ab087be1",
   "metadata": {},
   "outputs": [],
   "source": [
    "text = \"текст \\\"в\\\" кавычках\"\n",
    "print(text)"
   ]
  },
  {
   "cell_type": "code",
   "execution_count": null,
   "id": "d0865911",
   "metadata": {},
   "outputs": [],
   "source": [
    "# Конкантенация строк\n",
    "\n",
    "text = \"Привет\"\n",
    "text1 = \"мир\"\n",
    "print(text + text1) # Делаем склейку"
   ]
  },
  {
   "cell_type": "code",
   "execution_count": null,
   "id": "d0732b8e",
   "metadata": {},
   "outputs": [],
   "source": [
    "# Конкантенация строк\n",
    "\n",
    "text = \"Привет\"\n",
    "text1 = \"мир\"\n",
    "print(text + \" \" + text1) # Делаем склейку с пробелом"
   ]
  },
  {
   "cell_type": "code",
   "execution_count": null,
   "id": "88435025",
   "metadata": {},
   "outputs": [],
   "source": [
    "text = \"Привет\"\n",
    "text1 = \"мир\"\n",
    "print(text * 5) # Умножим строку"
   ]
  },
  {
   "cell_type": "code",
   "execution_count": null,
   "id": "626ad12a",
   "metadata": {},
   "outputs": [],
   "source": [
    "text = \"Привет\"\n",
    "text1 = \"мир\"\n",
    "print(text[0:3]) # Проведем итерацию"
   ]
  },
  {
   "cell_type": "code",
   "execution_count": null,
   "id": "2f06f3dd",
   "metadata": {},
   "outputs": [],
   "source": [
    "text = \"Привет\"\n",
    "text1 = \"мир\"\n",
    "print(text[-1]) # Проведем итерацию обратно"
   ]
  },
  {
   "cell_type": "code",
   "execution_count": null,
   "id": "ed0da0bf",
   "metadata": {},
   "outputs": [],
   "source": [
    "# Методы строк коротко\n",
    "\n",
    "text = \"Привет\"\n",
    "text1 = \"мир\"\n",
    "print(text.upper())  # Выводим строку верхним регистром"
   ]
  },
  {
   "cell_type": "code",
   "execution_count": null,
   "id": "ce5d11b1",
   "metadata": {},
   "outputs": [],
   "source": [
    "# Методы строк коротко\n",
    "\n",
    "text = \"Привет\"\n",
    "text1 = \"мир\"\n",
    "print(text.lower())  # Выводим строку нижним регистром"
   ]
  },
  {
   "cell_type": "code",
   "execution_count": null,
   "id": "473776a5",
   "metadata": {},
   "outputs": [],
   "source": [
    "# Методы строк коротко\n",
    "\n",
    "text = \"Привет\"\n",
    "text1 = \"мир\"\n",
    "print(text.capitalize())  # Вывод строки с большой буквы"
   ]
  },
  {
   "cell_type": "code",
   "execution_count": null,
   "id": "432fddd4",
   "metadata": {},
   "outputs": [],
   "source": [
    "# Преобразовываем строку в список тодом split()\n",
    "\n",
    "text = \"привет мир куда идешь\"\n",
    "print(text.split(\" \")) # разбиваем слова на объекты списка"
   ]
  },
  {
   "cell_type": "code",
   "execution_count": null,
   "id": "61ea1f11",
   "metadata": {},
   "outputs": [],
   "source": [
    "text = \"привет мир куда идешь\"\n",
    "print(text.split(\"-\")) # разбиваем слова на объекты списка с тире"
   ]
  },
  {
   "cell_type": "code",
   "execution_count": null,
   "id": "2c11d1d6",
   "metadata": {},
   "outputs": [],
   "source": [
    "# Преобразовываем список в строку методом join() \n",
    "\n",
    "spisok = [\"a\", \"б\" ,\"c\"]\n",
    "\",\".join(spisok)"
   ]
  },
  {
   "cell_type": "code",
   "execution_count": null,
   "id": "974f8746",
   "metadata": {},
   "outputs": [],
   "source": [
    "# Удаление пробелов в строке  Метотом strip()\n",
    "\n",
    "text = \"     gbdsaad  dfetadfget adfgdag geafafdg  eafdgte \"\n",
    "text.strip()\n",
    "print(text.strip())"
   ]
  },
  {
   "cell_type": "code",
   "execution_count": null,
   "id": "d8c3728d",
   "metadata": {},
   "outputs": [],
   "source": [
    "# Удаление пробелов в начале строки  Метотом lstrip()\n",
    "\n",
    "text = \"     gbdsaad  dfetadfget adfgdag geafafdg  eafdgte \"\n",
    "text.strip()\n",
    "print(text.strip())"
   ]
  },
  {
   "cell_type": "code",
   "execution_count": null,
   "id": "3a841cc1",
   "metadata": {},
   "outputs": [],
   "source": [
    "# Удаление пробелов в конце строки  Метотом rstrip()\n",
    "\n",
    "text = \"     gbdsaad  dfetadfget adfgdag geafafdg  eafdgte \"\n",
    "text.strip()\n",
    "print(text.strip())"
   ]
  },
  {
   "cell_type": "code",
   "execution_count": null,
   "id": "afed4074",
   "metadata": {},
   "outputs": [],
   "source": [
    "# Методд replace() заменяет символы\n",
    "\n",
    "text = \"ololololololol\"\n",
    "\n",
    "print(text.replace(\"l\",\"o\"))"
   ]
  },
  {
   "cell_type": "markdown",
   "id": "226a8420",
   "metadata": {},
   "source": [
    "# Пито для начинающих "
   ]
  },
  {
   "cell_type": "code",
   "execution_count": null,
   "id": "095d96e8",
   "metadata": {},
   "outputs": [],
   "source": [
    "\"\"\"Строка - это последовательность символовательность символов, \n",
    "а символ найменьшая единица письменной системы\n",
    "\"\"\"\n",
    "# Литерал - значение которое мы присваеваем строковой переменной\n",
    "\n",
    "s1 = 'hello'\n",
    "number = 741\n",
    "s2 = str(number) # str - это и есть литерал\n",
    "print(type(s2))"
   ]
  },
  {
   "cell_type": "code",
   "execution_count": null,
   "id": "0d0b7f3b",
   "metadata": {},
   "outputs": [],
   "source": [
    "# Конкантенация строк....\n",
    "\n",
    "s1 = 'hello'\n",
    "s2 = 'world'\n",
    "s3 = s1 + ' ' + s2\n",
    "s4 = (s3 + ' ')* 10\n",
    "\n",
    "if s1 in s3: # Проверяем входит ли в нашу строку подстрока с помощью is\n",
    "    print(True)\n",
    "    \n",
    "else:\n",
    "    print(False)\n",
    "\n"
   ]
  },
  {
   "cell_type": "code",
   "execution_count": null,
   "id": "5b1ee442",
   "metadata": {},
   "outputs": [],
   "source": [
    "# Оператор is возвращает True или False\n",
    "\n",
    "s1 = 'a'\n",
    "\n",
    "# Пример без оператора is\n",
    "\n",
    "if s1 == 'a' or s1 == 'b' or s1 == 'c' or s1 == '1':\n",
    "    print(True)\n",
    "    \n",
    "else:\n",
    "    print(False)\n",
    "    \n",
    "# Упрощаем с помощью оператора is\n",
    "\n",
    "if s1 in 'abc1':\n",
    "    print(True)\n",
    "    \n",
    "else:\n",
    "    print(False)"
   ]
  },
  {
   "cell_type": "code",
   "execution_count": null,
   "id": "d79dfeba",
   "metadata": {},
   "outputs": [],
   "source": [
    "# Получаем инедекс строки \n",
    "\n",
    "s1 = 'inform'\n",
    "\n",
    "print(s1[2])\n",
    "print(s1[-2])\n",
    "\n",
    "# Получаем индекс с помощью среза...\n",
    "\n",
    "print(s1[2:5:1]) # берем срез от идекса 2 до 5 с шагом 1\n",
    "print(s1[:]) # берем срез от начала слова 0 в начале не обязательно ставить\n",
    "print(s1[::-1]) # разворачиваем строку..."
   ]
  },
  {
   "cell_type": "code",
   "execution_count": 12,
   "id": "71566f04",
   "metadata": {},
   "outputs": [
    {
     "name": "stdout",
     "output_type": "stream",
     "text": [
      "Введите строку: Привет Мир! Меня зовут Сергей и я крут!\n",
      "Вы ввели: Привет Мир! Меня зовут Сергей и я крут!...\n",
      "Третий символ в вашей строке: и...\n",
      "Первые четыре символа вашей строки: Прив...\n",
      "Буквы с четными индексами в вашей строке: Пие и!Мн оу егйияку!...\n",
      "Буквы с нечетными индексами в вашей строке: рвтМр еязвтСре   рт...\n",
      "Ваша строка в обратном порядке выглядит вот так: !турк я и йегреС тувоз янеМ !риМ тевирП\n"
     ]
    }
   ],
   "source": [
    "\"\"\"Домашнее задание:\n",
    "I)\n",
    "Напишите программу, которая получает на вход строку и выводит:\n",
    "1) Третий символ этой строки;\n",
    "2) Первые 4 символа этой строки;\n",
    "3) Все символы с четными индексами;\n",
    "4) Все символы с нечетными индексами;\n",
    "5) Все символы в обратном порядке.\"\"\"\n",
    "\n",
    "user_string = input(\"Введите строку: \")\n",
    "\n",
    "print(f\"\"\"Вы ввели: {user_string}...\n",
    "Третий символ в вашей строке: {user_string[2]}...\n",
    "Первые четыре символа вашей строки: {user_string[:4]}...\n",
    "Буквы с четными индексами в вашей строке: {user_string[::2]}...\n",
    "Буквы с нечетными индексами в вашей строке: {user_string[1::2]}...\n",
    "Ваша строка в обратном порядке выглядит вот так: {user_string[::-1]}...\"\"\")"
   ]
  },
  {
   "cell_type": "code",
   "execution_count": 21,
   "id": "79b05823",
   "metadata": {},
   "outputs": [
    {
     "name": "stdout",
     "output_type": "stream",
     "text": [
      "Введите строку: Привет!\n",
      "\n",
      "    \n",
      "    В вашей строке нечетное кал-во символов. Теперь ваша строка выглядит вот так:\n",
      "            [При] [вет!!]\n"
     ]
    }
   ],
   "source": [
    "# Мой вариант...\n",
    "\n",
    "\"\"\"\n",
    "II)\n",
    "Напишите программу, которая получает на вход строку и делит ее на две равные части \n",
    "(если длина строки - четная, а если нечетная, то вторая часть должна быть на один символ больше)\"\"\"\n",
    "\n",
    "user_string_2 = input(\"Введите строку: \")\n",
    "\n",
    "half_leng = len(user_string_2) // 2\n",
    "\n",
    "first_half = user_string_2[:half_leng]\n",
    "second_half = user_string_2[half_leng:]\n",
    "\n",
    "if len(user_string_2) % 2 == 0:\n",
    "        \n",
    "    print(f\"\"\"\n",
    "    \n",
    "    В вашей строке четное кал-во символов и деление на две равные части выглядит вот так:\n",
    "            [{first_half}] [{second_half}]\"\"\")\n",
    "\n",
    "else:\n",
    "    \n",
    "    second_half += user_string_2[-1]\n",
    "    print(f\"\"\"\n",
    "    \n",
    "    В вашей строке нечетное кал-во символов. Теперь ваша строка выглядит вот так:\n",
    "            [{first_half}] [{second_half}]\"\"\")"
   ]
  },
  {
   "cell_type": "code",
   "execution_count": 22,
   "id": "d51a6bd1",
   "metadata": {},
   "outputs": [
    {
     "name": "stdout",
     "output_type": "stream",
     "text": [
      "Введите строку: Привет?\n",
      "\n",
      "В вашей строке нечетное количество символов.\n",
      "Деление на две равные части выглядит вот так:\n",
      "[При] [вет??]\n",
      "\n"
     ]
    }
   ],
   "source": [
    "# Вариант нейросети более элегантный\n",
    "\n",
    "user_string_2 = input(\"Введите строку: \")\n",
    "\n",
    "half_len = len(user_string_2) // 2\n",
    "\n",
    "first_half = user_string_2[:half_len]\n",
    "second_half = user_string_2[half_len:]\n",
    "\n",
    "if len(user_string_2) % 2 != 0:\n",
    "    # Если длина строки нечетная, увеличиваем вторую половину на один символ\n",
    "    second_half += user_string_2[-1]\n",
    "\n",
    "print(f\"\"\"\n",
    "В вашей строке {\"нечетное\" if len(user_string_2) % 2 != 0 else \"четное\"} количество символов.\n",
    "Деление на две равные части выглядит вот так:\n",
    "[{first_half}] [{second_half}]\n",
    "\"\"\")"
   ]
  },
  {
   "cell_type": "markdown",
   "id": "9e25eac8",
   "metadata": {},
   "source": [
    "# Методы строк"
   ]
  },
  {
   "cell_type": "code",
   "execution_count": null,
   "id": "ab8ad947",
   "metadata": {},
   "outputs": [],
   "source": [
    "# Метод capitalize переводит строку в верхний регистр\n",
    "\n",
    "s = 'Hello wOrlD'\n",
    "print(s.capitalize())"
   ]
  },
  {
   "cell_type": "code",
   "execution_count": null,
   "id": "efd94db2",
   "metadata": {},
   "outputs": [],
   "source": [
    "# Метод title переводит первую букву в верхний, а остальные в нижний ре\n",
    "\n",
    "s = 'Hello wOrlD'\n",
    "print(s.title())"
   ]
  },
  {
   "cell_type": "code",
   "execution_count": null,
   "id": "161d1e1c",
   "metadata": {},
   "outputs": [],
   "source": [
    "# Метод title переводит первую букву в верхний, а остальные в нижний регистр\n",
    "# Этот метод возводит в верхний регистр букву в каждом слове\n",
    "\n",
    "s = 'Hello*wOrlD'\n",
    "print(s.title())"
   ]
  },
  {
   "cell_type": "code",
   "execution_count": null,
   "id": "c4343883",
   "metadata": {},
   "outputs": [],
   "source": [
    "# Метод lower переводит символы в нижний регистр\n",
    "\n",
    "s = 'Hello wOrlD'\n",
    "print(s.lower())"
   ]
  },
  {
   "cell_type": "code",
   "execution_count": null,
   "id": "d96cfbba",
   "metadata": {},
   "outputs": [],
   "source": [
    "# Метод upper переводит символы в верхний регистр\n",
    "\n",
    "s = 'Hello wOrlD'\n",
    "print(s.upper())"
   ]
  },
  {
   "cell_type": "code",
   "execution_count": null,
   "id": "1f0a2fc8",
   "metadata": {},
   "outputs": [],
   "source": [
    "# Метод swapcase переводит символы из верхнего в нижний и наоборот\n",
    "\n",
    "s = 'Hello wOrlD'\n",
    "print(s.swapcase())"
   ]
  },
  {
   "cell_type": "markdown",
   "id": "78d8c72c",
   "metadata": {},
   "source": [
    "# Блок методов начинающихся с ключевого слова is....."
   ]
  },
  {
   "cell_type": "code",
   "execution_count": null,
   "id": "e6b5b3d0",
   "metadata": {},
   "outputs": [],
   "source": [
    "# Эти методы возвращиют булево значение\n",
    "\n",
    "s = 'Hello wOrlD' # В данном случае False т.к символы в нижнем рег.\n",
    "print(s.isupper()) "
   ]
  },
  {
   "cell_type": "code",
   "execution_count": null,
   "id": "8e10370f",
   "metadata": {},
   "outputs": [],
   "source": [
    "# Аналогично....\n",
    "\n",
    "s = 'Hello wOrlD' # вернется false\n",
    "print(s.islower())"
   ]
  },
  {
   "cell_type": "code",
   "execution_count": null,
   "id": "3c1cfce2",
   "metadata": {},
   "outputs": [],
   "source": [
    "# Проверяет находятся ли два символа каждого слова в верхнем рег. а все остальные в нижнем\n",
    "\n",
    "s = 'Hello WOrlD' # вернется false\n",
    "print(s.istitle())"
   ]
  },
  {
   "cell_type": "code",
   "execution_count": null,
   "id": "42052938",
   "metadata": {},
   "outputs": [],
   "source": [
    "# isdigit() вернет false к пустой строке, и если есть символы не являющиеся цифрами\n",
    "\n",
    "s = '1234567890' # вернется true усли есть только цифры\n",
    "print(s.isdigit())"
   ]
  },
  {
   "cell_type": "code",
   "execution_count": null,
   "id": "b78d44de",
   "metadata": {},
   "outputs": [],
   "source": [
    "# isalpha()) противоположность\n",
    "\n",
    "s = 'Helloworld' # вернется true усли есть только буквы \n",
    "print(s.isalpha())"
   ]
  },
  {
   "cell_type": "code",
   "execution_count": null,
   "id": "ebd1f6c3",
   "metadata": {},
   "outputs": [],
   "source": [
    "# isalnum() вернет только буквы или цифры\n",
    "\n",
    "\n",
    "s = 'Helloworld' # вернется true усли есть только буквы или цифры\n",
    "print(s.isalnum())"
   ]
  },
  {
   "cell_type": "markdown",
   "id": "62b81db9",
   "metadata": {},
   "source": [
    "# Методы преобразования"
   ]
  },
  {
   "cell_type": "code",
   "execution_count": null,
   "id": "dc966d76",
   "metadata": {},
   "outputs": [],
   "source": [
    "# Метод join() возвращает строку, которая является склейкой строк в итер. объекте\n",
    "\n",
    "l = ['a', 'asdasd'] # Две строки будут склеенны в одну\n",
    "print(''.join(l)) "
   ]
  },
  {
   "cell_type": "code",
   "execution_count": null,
   "id": "fe0deba7",
   "metadata": {},
   "outputs": [],
   "source": [
    "# Пример 2 Запомни, строку можно склеить только строковые значения\n",
    "\n",
    "l = ['a', 'asdasd'] # Две строки будут склеенны в одну и разделены знаком !\n",
    "print('!'.join(l)) "
   ]
  },
  {
   "cell_type": "code",
   "execution_count": null,
   "id": "9400ac9e",
   "metadata": {},
   "outputs": [],
   "source": [
    "# Метод split() используется для разделения строки по заданному символу\n",
    "# Этот метод возвращает список\n",
    "\n",
    "s = 'hello world'\n",
    "print(s.split()) # если мы ничего не передали, то за разделитель считаеться пробел"
   ]
  },
  {
   "cell_type": "code",
   "execution_count": null,
   "id": "66ba5fc6",
   "metadata": {},
   "outputs": [],
   "source": [
    "# Вариант 2\n",
    "\n",
    "s = 'hello world'\n",
    "print(s.split('l')) # разделит по буквам l и пропустит их"
   ]
  },
  {
   "cell_type": "code",
   "execution_count": null,
   "id": "0e420c0c",
   "metadata": {},
   "outputs": [],
   "source": [
    "# Вариант 3\n",
    "\n",
    "s = 'hello world'\n",
    "print(s.split('l', 1)) # зададим макс кал-во делений"
   ]
  },
  {
   "cell_type": "code",
   "execution_count": null,
   "id": "428a88bc",
   "metadata": {},
   "outputs": [],
   "source": [
    "# Метод partition() похож на split() но со своими особенностями\n",
    "# Этот метод возвращает кортеж\n",
    "\n",
    "s = 'hello world'\n",
    "print(s.partition(\" \")) # не работает без аргуметна, разделяет хотя-бы по одному аргументу"
   ]
  },
  {
   "cell_type": "markdown",
   "id": "95448fa4",
   "metadata": {},
   "source": [
    "# Методы удаления пробелов"
   ]
  },
  {
   "cell_type": "code",
   "execution_count": null,
   "id": "ca6fe18b",
   "metadata": {},
   "outputs": [],
   "source": [
    "# Метод strip() - удаляет пробелы\n",
    "\n",
    "s = '    hello world   '\n",
    "print(s.strip())"
   ]
  },
  {
   "cell_type": "code",
   "execution_count": null,
   "id": "cd942732",
   "metadata": {},
   "outputs": [],
   "source": [
    "# Метод rstrip() - удаляет пробелы cправа\n",
    "\n",
    "s = '    hello world   '\n",
    "print(s.rstrip())"
   ]
  },
  {
   "cell_type": "code",
   "execution_count": null,
   "id": "4bccac2d",
   "metadata": {},
   "outputs": [],
   "source": [
    "# Метод lstrip() - удаляет пробелы с лева\n",
    "\n",
    "s = '    hello world   '\n",
    "print(s.lstrip())"
   ]
  },
  {
   "cell_type": "markdown",
   "id": "b0373ae3",
   "metadata": {},
   "source": [
    "# Методы нахождения индекса"
   ]
  },
  {
   "cell_type": "code",
   "execution_count": null,
   "id": "05686796",
   "metadata": {},
   "outputs": [],
   "source": [
    "# Метод find() - находит используеться для поиска первого вхождения подстроки в строку, и он возвращает индекс первого в хождения этого символа в нашу строку\n",
    "\n",
    "s = '*****hello world*****'\n",
    "print(s.find('*'))"
   ]
  },
  {
   "cell_type": "code",
   "execution_count": null,
   "id": "dd25b4c9",
   "metadata": {},
   "outputs": [],
   "source": [
    "# Метод rfind() - возвращает индекс первого элемента справа\n",
    "\n",
    "s = '*****hello world*****'\n",
    "print(s.rfind('*'))"
   ]
  },
  {
   "cell_type": "code",
   "execution_count": null,
   "id": "419514cc",
   "metadata": {},
   "outputs": [],
   "source": [
    "# Метод index() - возвращает индекс первого элемента слева на право\n",
    "\n",
    "s = '*****hello world*****'\n",
    "print(s.index('h')) # index() возвращает ошибку если указанного элемента нет в строке"
   ]
  },
  {
   "cell_type": "code",
   "execution_count": null,
   "id": "147dd4e2",
   "metadata": {},
   "outputs": [],
   "source": [
    "# Метод replace() - заменяет одну подстроку на другую\n",
    "\n",
    "s = '*****hello world*****'\n",
    "print(s.replace('*', '!')) # Сначала, что заменять, потом на что заменять."
   ]
  },
  {
   "cell_type": "code",
   "execution_count": null,
   "id": "837c3c14",
   "metadata": {},
   "outputs": [],
   "source": [
    "# Метод replace() - заменяет одну подстроку на другую\n",
    "\n",
    "s = '*****hello world*****'\n",
    "print(s.replace('*', '!', 2)) # Третий аргумент указывает в каком, кал-ве менять"
   ]
  },
  {
   "cell_type": "code",
   "execution_count": null,
   "id": "88eff510",
   "metadata": {},
   "outputs": [],
   "source": [
    "# Метод count() - указывает сколько раз элемент появляется в строке\n",
    "\n",
    "s = '*****hello world*****'\n",
    "print(s.count('*'))"
   ]
  },
  {
   "cell_type": "markdown",
   "id": "0d700729",
   "metadata": {},
   "source": [
    "# Функции строк"
   ]
  },
  {
   "cell_type": "code",
   "execution_count": null,
   "id": "7054208d",
   "metadata": {},
   "outputs": [],
   "source": [
    "# Функция len() - указывает длинну строк\n",
    "\n",
    "s = '******hello world******'\n",
    "print(len(s))"
   ]
  },
  {
   "cell_type": "code",
   "execution_count": null,
   "id": "90c30603",
   "metadata": {},
   "outputs": [],
   "source": [
    "# Функция sorted() - возвращает список и сортирует символы в порядке возрастания таблици аски\n",
    "\n",
    "s = '******hello world******' # Примечание можно сортировать символы в алфавитном порядке\n",
    "print(sorted(s))"
   ]
  },
  {
   "cell_type": "code",
   "execution_count": null,
   "id": "48cd6d35",
   "metadata": {},
   "outputs": [],
   "source": [
    "# Функция sorted() - возвращает список и сортирует символы в порядке возрастания таблици аски\n",
    "\n",
    "s = '******hello world******' # Примечание можно сортировать, в обратном порядке\n",
    "print(sorted(s, reverse=True))"
   ]
  },
  {
   "cell_type": "code",
   "execution_count": null,
   "id": "1b30d9b1",
   "metadata": {},
   "outputs": [],
   "source": [
    "# Функция ord() - позволяет получать код символа в этой таблице\n",
    "\n",
    "print(ord('g'))"
   ]
  },
  {
   "cell_type": "code",
   "execution_count": null,
   "id": "c73ae401",
   "metadata": {},
   "outputs": [],
   "source": [
    "# Функция chr() - Мы передаем ей код, а она возвращает символ\n",
    "\n",
    "print(chr(102))"
   ]
  },
  {
   "cell_type": "markdown",
   "id": "25a698e0",
   "metadata": {},
   "source": [
    "# Решаем задачу с репетитором"
   ]
  },
  {
   "cell_type": "code",
   "execution_count": null,
   "id": "c961e95c",
   "metadata": {},
   "outputs": [],
   "source": [
    "# Удалим все симвовлы с четным индексом\n",
    "\n",
    "s = input() # Просим пользователя ввести строку\n",
    "\n",
    "result = \"\" # Создаем пустую строку\n",
    "for i in range(len(s)): # перебираем символы из строки которй ввел пользователь\n",
    "    if i % 2 != 0:\n",
    "        result += s[i]\n",
    "print(result)\n"
   ]
  },
  {
   "cell_type": "code",
   "execution_count": null,
   "id": "036807da",
   "metadata": {},
   "outputs": [],
   "source": [
    "# Вариант нейросетей\n",
    "\n",
    "s = input()  # Просим пользователя ввести строку\n",
    "result = s[1::2]  # Используем срез для получения символов с нечетными индексами\n",
    "print(result)"
   ]
  },
  {
   "cell_type": "code",
   "execution_count": null,
   "id": "1f09ce6b",
   "metadata": {},
   "outputs": [],
   "source": [
    "# Домашнее задание \n",
    "\n",
    "\"\"\"I)\n",
    "Напишите программу, которая получает на вход строку и символ. \n",
    "Определите сколько раз в введенной строке встречается введенный символ. \n",
    "Пользователь вводит строку, необходимо посчитать сколько в этой строке встречается букв \"y\" и \"s\" (в обоих регистрах). \n",
    "Ввод и проверки осуществляются на английском языке.\n",
    "Вывод должен иметь вид:\n",
    "\n",
    "Буква 'y' встречается XXXX раз\n",
    "Буква 's' встречается XXXX раз\n",
    "Если нет таких букв то:\n",
    "В введенном предложении нет букв 'y' и 's'.\"\"\"\n",
    "\n",
    "user_input = input()\n",
    "\n",
    "y = 'Yy'\n",
    "s = 'Ss'\n",
    "count_y = 0\n",
    "count_s = 0\n",
    "\n",
    "for i in range(len(user_input)):\n",
    "    if i == y and s:\n",
    "        print(f'Кал-во символов y в строке равно{count_y}')\n",
    "        print(f'Кал-во символов s в строке равно{count_s}')\n",
    "            \n",
    "        if i == y:\n",
    "            count_y += 1\n",
    "        \n",
    "        if i == s:\n",
    "            count_s += 1\n",
    "            \n",
    "    else:\n",
    "        print(f\"нет текущих символов в строке\")"
   ]
  },
  {
   "cell_type": "code",
   "execution_count": null,
   "id": "fdee71cf",
   "metadata": {},
   "outputs": [],
   "source": [
    "# Вариант нейросети\n",
    "\n",
    "user_input = input()\n",
    "\n",
    "y = 'y'\n",
    "s = 's'\n",
    "count_y = 0\n",
    "count_s = 0\n",
    "\n",
    "for char in user_input:\n",
    "    if char.lower() == y:\n",
    "        count_y += 1\n",
    "    elif char.lower() == s:\n",
    "        count_s += 1\n",
    "\n",
    "print(f\"Буква 'y' встречается {count_y} раз\")\n",
    "print(f\"Буква 's' встречается {count_s} раз\")\n",
    "\n",
    "if count_y == 0 and count_s == 0:\n",
    "    print(\"В введенном предложении нет букв 'y' и 's'\")\n"
   ]
  },
  {
   "cell_type": "code",
   "execution_count": null,
   "id": "da14b187",
   "metadata": {},
   "outputs": [],
   "source": [
    "\"\"\"\n",
    "II)\n",
    "Напишите программу, которая получает на вход строку. \n",
    "В введенной строке измените регистр букв на противоположный и удалите все пробелы.\"\"\"\n",
    "\n",
    "\n",
    "user_input = input()\n",
    "\n",
    "s = user_input.swapcase()\n",
    "r = s.strip()\n",
    "\n",
    "print(r)\n"
   ]
  },
  {
   "cell_type": "code",
   "execution_count": null,
   "id": "c580bde0",
   "metadata": {},
   "outputs": [],
   "source": [
    "# Вариант нейросети \n",
    "\n",
    "user_input = input()\n",
    "s = user_input.swapcase().replace(\" \", \"\") # XP + 1 МОЖНО ИСПОЛЬЗОВАТЬ МЕТОДЫ В ОДНОЙ СТРОКЕ ЧЕРЕЗ ТОЧКУ!\n",
    "print(s)"
   ]
  },
  {
   "cell_type": "code",
   "execution_count": null,
   "id": "80463994",
   "metadata": {},
   "outputs": [],
   "source": [
    "\"\"\"Перевод в верхний регистр:\n",
    "Создайте строку, предложите пользователю ввести текст, затем выведите этот текст в верхнем регистре.\"\"\"\n",
    "\n",
    "user_input = input()\n",
    "print(user_input.upper())"
   ]
  },
  {
   "cell_type": "code",
   "execution_count": null,
   "id": "dceaccb5",
   "metadata": {},
   "outputs": [],
   "source": [
    "\"\"\"Перевод в нижний регистр:\n",
    "Попросите пользователя ввести строку, а затем выведите этот текст в нижнем регистре.\"\"\"\n",
    "\n",
    "user_input = input()\n",
    "print(user_input.lower())"
   ]
  },
  {
   "cell_type": "code",
   "execution_count": null,
   "id": "551cbf5d",
   "metadata": {},
   "outputs": [],
   "source": [
    "\"\"\"Подсчет гласных:\n",
    "Создайте строку, попросите пользователя ввести текст, и затем посчитайте количество гласных в этом тексте\"\"\"\n",
    "\n",
    "text = input(\"Введите текст: \").lower()  # Приводим текст к нижнему регистру для унификации\n",
    "vowels = \"aeiou\"  # Строка с гласными буквами\n",
    "\n",
    "count_vowels = sum(1 for char in text if char in vowels)\n",
    "\n",
    "print(f\"Количество гласных в тексте: {count_vowels}\")\n"
   ]
  },
  {
   "cell_type": "code",
   "execution_count": null,
   "id": "7dfe625b",
   "metadata": {},
   "outputs": [],
   "source": [
    "\"\"\"Замена подстроки:\n",
    "Создайте строку, попросите пользователя ввести текст, и затем замените все вхождения слова \"apple\" на \"orange\".\"\"\"\n",
    "\n",
    "user_input = input()\n",
    "\n",
    "print(user_input.replace('apple', 'orange'))"
   ]
  },
  {
   "cell_type": "code",
   "execution_count": null,
   "id": "2c7f23e9",
   "metadata": {},
   "outputs": [],
   "source": [
    "\"\"\"Разделение строки:\n",
    "Попросите пользователя ввести строку, разделите ее на слова, используя пробел в качестве разделителя, \n",
    "и выведите получившийся список слов.\"\"\"\n",
    "\n",
    "user_input = input()\n",
    "\n",
    "print(user_input.split())"
   ]
  },
  {
   "cell_type": "code",
   "execution_count": null,
   "id": "d98e6dbe",
   "metadata": {},
   "outputs": [],
   "source": [
    "\"\"\"Удаление пробелов:\n",
    "Попросите пользователя ввести строку с пробелами, затем удалите все пробелы и выведите результат.\"\"\"\n",
    "\n",
    "user_input = input(\"Введите строку с пробелами: \")\n",
    "\n",
    "print(user_input.strip())"
   ]
  },
  {
   "cell_type": "code",
   "execution_count": null,
   "id": "d5f6a81a",
   "metadata": {},
   "outputs": [],
   "source": [
    "\"\"\"Проверка на число:\n",
    "Попросите пользователя ввести строку, и проверьте, является ли она числом.\"\"\"\n",
    "\n",
    "user_input = input(\"Введите строку: \") # Просим пользователя ввести строку\n",
    "\n",
    "numbers = \"1234567890\" # Заводим спец переменную для определения чисел в строке\n",
    "\n",
    "result = (\"В строке присутствуют числа\" if i == numbers else \"В строке чисел нет\" for i in range(len(user_input))) # делаем проверку\n",
    "\n",
    "print(result) # Выводим результат..... \n"
   ]
  },
  {
   "cell_type": "code",
   "execution_count": null,
   "id": "935e56cf",
   "metadata": {},
   "outputs": [],
   "source": [
    "# Вариант нейросети\n",
    "\n",
    "user_input = input(\"Введите строку: \")  # Просим пользователя ввести строку\n",
    "numbers = \"1234567890\"  # Заводим строку с цифрами\n",
    "\n",
    "result = \"В строке присутствуют числа\" if any(char in numbers for char in user_input) else \"В строке чисел нет\"\n",
    "print(result)  # Выводим результат\n"
   ]
  },
  {
   "cell_type": "code",
   "execution_count": null,
   "id": "7f6186bf",
   "metadata": {},
   "outputs": [],
   "source": [
    "\"\"\"Поиск подстроки:\n",
    "Создайте строку, попросите пользователя ввести подстроку, и затем проверьте, \n",
    "содержится ли эта подстрока в исходной строке.\"\"\"\n",
    "\n",
    "original_string = \"Hi, my name is: \"\n",
    "user_string = input(\"Введите подстроку\")\n",
    "\n",
    "if user_string in original_string:\n",
    "    print(f'Подстрока {user_string} содержится в исходной строке')\n",
    "    \n",
    "else:\n",
    "    print(f'Подстрока {user_string} не найдена в исходной строке')\n",
    "\n",
    "\n"
   ]
  },
  {
   "cell_type": "code",
   "execution_count": null,
   "id": "cdb072b5",
   "metadata": {},
   "outputs": [],
   "source": [
    "# Дополнительно\n",
    "\n",
    "original_string = \"Hi, my name is: \"\n",
    "user_name = input(\"Введите подстроку\")\n",
    "\n",
    "full_string = original_string + user_name # Для того, что-бы склеить оригинальную строку, со своим именем используем оператор конкантенации\n",
    "print(full_string )"
   ]
  },
  {
   "cell_type": "code",
   "execution_count": null,
   "id": "7bdcb28a",
   "metadata": {},
   "outputs": [],
   "source": [
    "\"\"\"Форматирование строки:\n",
    "Попросите пользователя ввести свое имя и возраст, а затем выведите строку в формате Привет, [Имя]! Тебе [Возраст] лет\"\"\"\n",
    "\n",
    "# В задании сказанно форматирование строки, возможно я не правильно понял условие?\n",
    "\n",
    "user_name = input(\"Введите ваше имя: \")\n",
    "user_age = input(\"Введите ваш возраст \")\n",
    "\n",
    "full_string_user = 'Преивет ' + user_name + ' тебе ' + user_age + ' год'\n",
    "print(full_string_user)"
   ]
  },
  {
   "cell_type": "code",
   "execution_count": null,
   "id": "30059b2d",
   "metadata": {},
   "outputs": [],
   "source": [
    "# Совет нейросети\n",
    "\n",
    "user_name = input(\"Введите ваше имя: \")\n",
    "user_age = input(\"Введите ваш возраст: \")\n",
    "\n",
    "full_string_user = f\"Привет, {user_name}! Тебе {user_age} лет.\"\n",
    "print(full_string_user)\n"
   ]
  },
  {
   "cell_type": "code",
   "execution_count": null,
   "id": "73cd3d77",
   "metadata": {},
   "outputs": [],
   "source": [
    "\"\"\"Объединение строк:\n",
    "Попросите пользователя ввести две строки, а затем объедините их в одну, добавив между ними пробел.\"\"\"\n",
    "\n",
    "\n",
    "user_input_1 = input(\"Введите первое слово: \")\n",
    "user_input_2 = input(\"Введите второе слово: \")\n",
    "\n",
    "full_user_input = (f\"{user_input_1} {user_input_2} \")\n",
    "print(''.join(full_user_input))"
   ]
  },
  {
   "cell_type": "code",
   "execution_count": null,
   "id": "6b2877b8",
   "metadata": {},
   "outputs": [],
   "source": [
    "\"\"\"Проверка на палиндром:\n",
    "Попросите пользователя ввести слово, и проверьте, является ли это слово палиндромом \n",
    "(читается одинаково слева направо и справа налево).\"\"\"\n",
    "\n",
    "user_word = input(\"Введиде слово: \")\n",
    "\n",
    "for i in range(len(user_word)):\n",
    "    reverse_word = sorted(user_word, reverse=True)\n",
    "\n",
    "if user_word == reverse_word:\n",
    "    print(f'Ваше слово является палиндромом')\n",
    "    \n",
    "else:\n",
    "    print(f'Ваше слово не является палиндромом')"
   ]
  },
  {
   "cell_type": "code",
   "execution_count": null,
   "id": "4d349b4a",
   "metadata": {},
   "outputs": [],
   "source": [
    "# Нейронка\n",
    "\n",
    "user_word = input(\"Введите слово: \")\n",
    "reverse_word = user_word[::-1]\n",
    "\n",
    "if user_word == reverse_word:\n",
    "    print(f'Ваше слово \"{user_word}\" является палиндромом.')\n",
    "else:\n",
    "    print(f'Ваше слово \"{user_word}\" не является палиндромом.')\n"
   ]
  },
  {
   "cell_type": "markdown",
   "id": "0b6b0c06",
   "metadata": {},
   "source": [
    "# Закрепляем срезы"
   ]
  },
  {
   "cell_type": "code",
   "execution_count": null,
   "id": "692bb8af",
   "metadata": {},
   "outputs": [],
   "source": [
    "# Пример строки и списка\n",
    "original_string = \"Hello, World!\"\n",
    "original_list = [1, 2, 3, 4, 5]\n",
    "\n",
    "# Базовый срез: берем элементы с индексами от 3 до 7 (не включая 7)\n",
    "sliced_string = original_string[3:7]\n",
    "print(sliced_string)  # Вывод: \"lo, \"\n",
    "\n",
    "# Срез с шагом: берем элементы с шагом 2\n",
    "sliced_list = original_list[::2]\n",
    "print(sliced_list)  # Вывод: [1, 3, 5]\n",
    "\n",
    "# Без начала: берем элементы с начала до индекса 5 (не включая 5)\n",
    "without_start = original_string[:5]\n",
    "print(without_start)  # Вывод: \"Hello\"\n",
    "\n",
    "# Без конца: берем элементы от индекса 2 до конца\n",
    "without_end = original_list[2:]\n",
    "print(without_end)  # Вывод: [3, 4, 5]\n",
    "\n",
    "# Обратный срез: создаем обратную копию строки\n",
    "reversed_string = original_string[::-1]\n",
    "print(reversed_string)  # Вывод: \"!dlroW ,olleH\"\n",
    "\n",
    "# Копирование: создаем копию списка\n",
    "copied_list = original_list[:]\n",
    "print(copied_list)  # Вывод: [1, 2, 3, 4, 5]\n",
    "\n",
    "# Отрицательный индекс: обращение к последнему элементу строки\n",
    "last_char = original_string[-1]\n",
    "print(last_char)  # Вывод: \"!\"\n",
    "\n",
    "# Пропуск элементов с шагом 2, начиная с конца\n",
    "skip_elements = original_list[::-2]\n",
    "print(skip_elements)  # Вывод: [5, 3, 1]\n"
   ]
  },
  {
   "cell_type": "code",
   "execution_count": null,
   "id": "ad4d1b01",
   "metadata": {},
   "outputs": [],
   "source": [
    "# Создайте строку и выведите ее в обратном порядке, используя срез\n",
    "\n",
    "string = \"Hello\"\n",
    "reverse_string = string[::-1]\n",
    "full_string = string + ' ' + reverse_string # Немножко импровизации... Приветствую Олега на латиннице\n",
    "print(full_string.title())"
   ]
  },
  {
   "cell_type": "code",
   "execution_count": null,
   "id": "4c21dc6c",
   "metadata": {},
   "outputs": [],
   "source": [
    "# Введите строку и проверьте, является ли она палиндромом, используя срезы.\n",
    "\n",
    "user_input3 = input('Ввод: ')\n",
    "reverse3 = user_input3[::-1]\n",
    "\n",
    "if reverse3 == user_input3:\n",
    "    print(f'Введенная строка является палиндромом')\n",
    "    \n",
    "else:\n",
    "    print(f'Строка не является палиндромом')"
   ]
  },
  {
   "cell_type": "code",
   "execution_count": null,
   "id": "41787441",
   "metadata": {},
   "outputs": [],
   "source": [
    "# Создайте строку и выведите каждый второй символ, используя срез.\n",
    "\n",
    "user_input4 = input(\"Введите слово: \")\n",
    "user_input_mod = user_input4[1::2]\n",
    "print(user_input_mod)"
   ]
  },
  {
   "cell_type": "code",
   "execution_count": null,
   "id": "3d53042f",
   "metadata": {},
   "outputs": [],
   "source": [
    "# Введите строку и выведите ее первую половину, используя срез.\n",
    "\n",
    "user_string = input(\"Ввод: \")\n",
    "half_leng = len(user_string) // 2 \n",
    "first_half = user_string[:half_leng] # Вывод первой половины строки\n",
    "print(first_half)\n",
    "\n",
    "# Введите строку и выведите ее вторую половину, используя срез.\n",
    "\n",
    "\n",
    "half_leng = len(user_string) // 2 \n",
    "second_half = user_string[half_leng:] # Вывод второй половины строки\n",
    "print(second_half)\n"
   ]
  },
  {
   "cell_type": "code",
   "execution_count": null,
   "id": "c60c0997",
   "metadata": {},
   "outputs": [],
   "source": [
    "# Введите строку и выведите каждый третий символ, начиная с конца, используя срез.\n",
    "\n",
    "user_string = input(\"Ввод: \")\n",
    "\n",
    "print(user_string[::-3])"
   ]
  },
  {
   "cell_type": "code",
   "execution_count": null,
   "id": "70ed6a66",
   "metadata": {},
   "outputs": [],
   "source": [
    "# Создайте строку и удалите из нее все пробелы, используя срезы.\n",
    "\n",
    "user_string = input(\"Ввод: \")\n",
    "\n",
    "string_without_spaces = user_string.replace(\" \", \"\")[::2]\n",
    "print(string_without_spaces)"
   ]
  },
  {
   "cell_type": "code",
   "execution_count": null,
   "id": "69b30b1a",
   "metadata": {},
   "outputs": [],
   "source": [
    "# Введите строку и выведите ее в обратном порядке, пропуская каждый второй символ, используя срезы.\n",
    "\n",
    "user_string = input(\"Ввод: \")\n",
    "\n",
    "print(user_string[::-2])"
   ]
  },
  {
   "cell_type": "code",
   "execution_count": null,
   "id": "1c312d35",
   "metadata": {},
   "outputs": [],
   "source": [
    "# Создайте строку и выведите ее в обратном порядке с использованием среза, который меняет порядок слов (не символов).\n",
    "\n",
    "user_string = input(\"Ввод: \")\n",
    "\n",
    "reverse_string = \" \".join(user_string.split()[::-1])\n",
    "print(reverse_string)"
   ]
  },
  {
   "cell_type": "code",
   "execution_count": null,
   "id": "e828662f",
   "metadata": {},
   "outputs": [],
   "source": [
    "# Введите строку и выведите ее в обратном порядке, пропуская первые два символа, \n",
    "# а затем взяв каждый третий символ, используя срезы\n",
    "\n",
    "string_n = input(\"Ввод: \")\n",
    "\n",
    "reverse_n = string_n[:-2]\n",
    "\n",
    "print(reverse_n[::-3])"
   ]
  },
  {
   "cell_type": "code",
   "execution_count": null,
   "id": "76a0e96c",
   "metadata": {},
   "outputs": [],
   "source": []
  }
 ],
 "metadata": {
  "kernelspec": {
   "display_name": "Python 3",
   "language": "python",
   "name": "python3"
  },
  "language_info": {
   "codemirror_mode": {
    "name": "ipython",
    "version": 3
   },
   "file_extension": ".py",
   "mimetype": "text/x-python",
   "name": "python",
   "nbconvert_exporter": "python",
   "pygments_lexer": "ipython3",
   "version": "3.8.8"
  }
 },
 "nbformat": 4,
 "nbformat_minor": 5
}
