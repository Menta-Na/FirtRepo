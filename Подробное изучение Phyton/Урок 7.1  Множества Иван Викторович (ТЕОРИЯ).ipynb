{
 "cells": [
  {
   "cell_type": "markdown",
   "id": "2e6dc581",
   "metadata": {},
   "source": [
    "# Питон для начинающих"
   ]
  },
  {
   "cell_type": "code",
   "execution_count": null,
   "id": "c7b9bbff",
   "metadata": {},
   "outputs": [],
   "source": [
    "# Множества - это изменяемый неупорядоченный тип данных\n",
    "# Элементом множества может быть неизменяемый тип обекта: число, строка, кортеж..\n",
    "# Можества состоят всегда из уникальных элементов"
   ]
  },
  {
   "cell_type": "code",
   "execution_count": null,
   "id": "d468541d",
   "metadata": {},
   "outputs": [],
   "source": [
    "# Создадим множество...\n",
    "\n",
    "mn = {'hello', 45, 78.2}\n",
    "print(mn)"
   ]
  },
  {
   "cell_type": "code",
   "execution_count": 2,
   "id": "9599b0a6",
   "metadata": {},
   "outputs": [
    {
     "name": "stdout",
     "output_type": "stream",
     "text": [
      "{'o', 'h', 'l', 'e'}\n"
     ]
    }
   ],
   "source": [
    "# Пустыми фигуными скобками мы создаем словарь \"\"\" не множество!\"\"\"\n",
    "\n",
    "mn = set('hello') # Множества удобны при работе со строками, для избежания дубликатов и повторений символов\n",
    "print(mn) # у элементов множества нет индексов"
   ]
  },
  {
   "cell_type": "code",
   "execution_count": 3,
   "id": "fa0497c9",
   "metadata": {},
   "outputs": [
    {
     "name": "stdout",
     "output_type": "stream",
     "text": [
      "{1, 2, 3, 4, 5, 6, 7, 8, 9}\n"
     ]
    }
   ],
   "source": [
    "# Создадим генератор множества\n",
    "\n",
    "mn = {i for i in range(1, 10)}\n",
    "print(mn)"
   ]
  },
  {
   "cell_type": "markdown",
   "id": "147fbeb1",
   "metadata": {},
   "source": [
    "# Методы множеств"
   ]
  },
  {
   "cell_type": "code",
   "execution_count": 4,
   "id": "f0fdfc33",
   "metadata": {},
   "outputs": [
    {
     "name": "stdout",
     "output_type": "stream",
     "text": [
      "{1, 2, 3, 4, 5, 6, 7, 8, 9, 'hello'}\n"
     ]
    }
   ],
   "source": [
    "# Метод add() - добавляе значение в конец\n",
    "\n",
    "mn = {i for i in range(1, 10)}\n",
    "mn.add('hello')\n",
    "print(mn)"
   ]
  },
  {
   "cell_type": "code",
   "execution_count": 5,
   "id": "c1684e94",
   "metadata": {},
   "outputs": [
    {
     "name": "stdout",
     "output_type": "stream",
     "text": [
      "{1, 2, 3, 4, 5, 6, 7, 8}\n"
     ]
    }
   ],
   "source": [
    "# Метод remove() - удаляет значение по значению\n",
    "\n",
    "mn = {i for i in range(1, 10)}\n",
    "mn.remove(9) # если елемент отсутствует выдает ошибку\n",
    "print(mn)"
   ]
  },
  {
   "cell_type": "code",
   "execution_count": 9,
   "id": "7bc8cd31",
   "metadata": {},
   "outputs": [
    {
     "name": "stdout",
     "output_type": "stream",
     "text": [
      "{2, 3, 4, 5, 6, 7, 8, 9}\n"
     ]
    }
   ],
   "source": [
    "# Метод pop() - при работе со множествами не должен получать никаких аргументов\n",
    "\n",
    "mn = {i for i in range(1, 10)}\n",
    "mn.pop() # он удаляет случайный елемент множества\n",
    "print(mn)"
   ]
  },
  {
   "cell_type": "code",
   "execution_count": null,
   "id": "ef7958f4",
   "metadata": {},
   "outputs": [],
   "source": [
    "# метод diskard() удаляет - элемент и не выдает ошибки\n",
    "\n",
    "mn = {i for i in range(1, 10)}\n",
    "mn.diskard()# он удаляет случайный елемент множества\n",
    "print(mn)"
   ]
  },
  {
   "cell_type": "code",
   "execution_count": 11,
   "id": "e22ea2c0",
   "metadata": {},
   "outputs": [
    {
     "name": "stdout",
     "output_type": "stream",
     "text": [
      "84916480\n",
      "80047232\n"
     ]
    }
   ],
   "source": [
    "# Метод - copy() создает копию множества и сохраняет ее в новом объекте\n",
    "\n",
    "mn = {i for i in range(1, 10)}\n",
    "mn1 = mn.copy()\n",
    "print(id(mn))\n",
    "print(id(mn1))"
   ]
  },
  {
   "cell_type": "code",
   "execution_count": 12,
   "id": "134a42ed",
   "metadata": {},
   "outputs": [
    {
     "name": "stdout",
     "output_type": "stream",
     "text": [
      "set()\n"
     ]
    }
   ],
   "source": [
    "# Метод clear() - очищает множество\n",
    "\n",
    "mn = {i for i in range(1, 10)}\n",
    "mn.clear()\n",
    "print(mn)"
   ]
  },
  {
   "cell_type": "markdown",
   "id": "d8e2f078",
   "metadata": {},
   "source": [
    "# Функции множеств"
   ]
  },
  {
   "cell_type": "code",
   "execution_count": 13,
   "id": "bc78fbb3",
   "metadata": {},
   "outputs": [
    {
     "name": "stdout",
     "output_type": "stream",
     "text": [
      "9\n"
     ]
    }
   ],
   "source": [
    "# Функция len - вернет кал-во элементов в множестве\n",
    "\n",
    "mn = {i for i in range(1, 10)}\n",
    "\n",
    "print(len(mn))"
   ]
  },
  {
   "cell_type": "code",
   "execution_count": 14,
   "id": "ce9dfeec",
   "metadata": {},
   "outputs": [
    {
     "name": "stdout",
     "output_type": "stream",
     "text": [
      "9\n"
     ]
    }
   ],
   "source": [
    "# Функция max - вернет максимальное кал-во элементов\n",
    "\n",
    "mn = {i for i in range(1, 10)}\n",
    "\n",
    "print(max(mn))"
   ]
  },
  {
   "cell_type": "code",
   "execution_count": 15,
   "id": "ff589dfe",
   "metadata": {},
   "outputs": [
    {
     "name": "stdout",
     "output_type": "stream",
     "text": [
      "1\n"
     ]
    }
   ],
   "source": [
    "# Функция min - вернет минимальное кал-во элементов\n",
    "\n",
    "mn = {i for i in range(1, 10)}\n",
    "\n",
    "print(min(mn))"
   ]
  },
  {
   "cell_type": "code",
   "execution_count": null,
   "id": "2d7a86ca",
   "metadata": {},
   "outputs": [],
   "source": [
    "# Функция sum - вернет сумму элементов в множестве\n",
    "\n",
    "mn = {i for i in range(1, 10)}\n",
    "\n",
    "print(sum(mn))"
   ]
  },
  {
   "cell_type": "code",
   "execution_count": 16,
   "id": "7c3281cf",
   "metadata": {},
   "outputs": [
    {
     "name": "stdout",
     "output_type": "stream",
     "text": [
      "True\n"
     ]
    }
   ],
   "source": [
    "# С помощью оператора in можно проверять кал-во элементов в множестве\n",
    "\n",
    "mn = {i for i in range(1, 10)}\n",
    "\n",
    "print(8 in mn) # Возвращает True или False"
   ]
  },
  {
   "cell_type": "code",
   "execution_count": 17,
   "id": "d7ce8e99",
   "metadata": {},
   "outputs": [
    {
     "name": "stdout",
     "output_type": "stream",
     "text": [
      "100\n",
      "200\n",
      "300\n",
      "400\n",
      "500\n",
      "600\n",
      "700\n",
      "800\n",
      "900\n"
     ]
    }
   ],
   "source": [
    "# Множества можно так же перебирать\n",
    "\n",
    "mn = {i for i in range(1, 10)}\n",
    "\n",
    "for i in mn:\n",
    "    print(i * 100)"
   ]
  },
  {
   "cell_type": "code",
   "execution_count": 34,
   "id": "5c9bbe8c",
   "metadata": {},
   "outputs": [
    {
     "name": "stdout",
     "output_type": "stream",
     "text": [
      "None\n"
     ]
    }
   ],
   "source": [
    "# Можно удалить множество с помощью оператора del\n",
    "\n",
    "mn = {i for i in range(1, 10)}\n",
    "del mn\n",
    "print('None')\n"
   ]
  },
  {
   "cell_type": "code",
   "execution_count": 20,
   "id": "58f4827e",
   "metadata": {},
   "outputs": [
    {
     "name": "stdout",
     "output_type": "stream",
     "text": [
      "[1, 2, 3, 4, 5, 6, 7, 8, 9]\n"
     ]
    }
   ],
   "source": [
    "# Функция sorted - отсортирует множество, но вернет список\n",
    "\n",
    "mn = {i for i in range(1, 10)}\n",
    "\n",
    "print(sorted(mn))"
   ]
  },
  {
   "cell_type": "code",
   "execution_count": 33,
   "id": "4fccbf2b",
   "metadata": {},
   "outputs": [
    {
     "name": "stdout",
     "output_type": "stream",
     "text": [
      "{1, 2, 3, 4, 5}\n",
      "{1, 2, 3, 4, 5}\n"
     ]
    }
   ],
   "source": [
    "# Ко множествам можно применять операции недоступные другим типам объектов\n",
    "\n",
    "# метод union() объединяет множества\n",
    "\n",
    "a = {1, 2, 3, 4}\n",
    "b = {1, 5, 3, 4}\n",
    "res = a.union(b)\n",
    "print(res)\n",
    "\n",
    "a = {1, 2, 3, 4}\n",
    "b = {1, 5, 3, 4}\n",
    "res = a | b # альтернативный вариант объединения\n",
    "print(res)\n"
   ]
  },
  {
   "cell_type": "code",
   "execution_count": 32,
   "id": "79631740",
   "metadata": {},
   "outputs": [
    {
     "name": "stdout",
     "output_type": "stream",
     "text": [
      "{1, 3, 4}\n",
      "{1, 3, 4}\n"
     ]
    }
   ],
   "source": [
    "# метод intersection() создает пересечение множеств\n",
    "\n",
    "a = {1, 2, 3, 4}\n",
    "b = {1, 5, 3, 4}\n",
    "\n",
    "res = a.intersection(b)\n",
    "print(res)\n",
    "\n",
    "a = {1, 2, 3, 4}\n",
    "b = {1, 5, 3, 4}\n",
    "\n",
    "res = a & b # альтернативный вариант пересечения\n",
    "print(res)"
   ]
  },
  {
   "cell_type": "code",
   "execution_count": 30,
   "id": "d7ff93d4",
   "metadata": {},
   "outputs": [
    {
     "name": "stdout",
     "output_type": "stream",
     "text": [
      "{1, 3, 4, 5}\n",
      "{1, 3, 4, 5}\n"
     ]
    }
   ],
   "source": [
    "# метод update() - добавляет элементы из одного множества в другое\n",
    "\n",
    "a = {1, 2, 3, 4}\n",
    "b = {1, 5, 3, 4}\n",
    "a.update((b))\n",
    "print(b)\n",
    "\n",
    "a = {1, 2, 3, 4}\n",
    "b = {1, 5, 3, 4}\n",
    "a |= b # альтернативный вариант методу update()\n",
    "print(b)"
   ]
  },
  {
   "cell_type": "code",
   "execution_count": 35,
   "id": "477ee318",
   "metadata": {},
   "outputs": [
    {
     "name": "stdout",
     "output_type": "stream",
     "text": [
      "{2}\n",
      "{2}\n"
     ]
    }
   ],
   "source": [
    "# Разность множества позволяет получить элеметы первого множества, которых нет во втором\n",
    "# Метод difference() - возвращает разность\n",
    "\n",
    "a = {1, 2, 3, 4}\n",
    "b = {1, 5, 3, 4}\n",
    "res = a.difference(b)\n",
    "print(res)\n",
    "\n",
    "a = {1, 2, 3, 4}\n",
    "b = {1, 5, 3, 4}\n",
    "res = a - b # альтерантивный вариант\n",
    "print(res)"
   ]
  },
  {
   "cell_type": "code",
   "execution_count": 37,
   "id": "504ac5d0",
   "metadata": {},
   "outputs": [
    {
     "name": "stdout",
     "output_type": "stream",
     "text": [
      "{2, 5}\n",
      "{2, 5}\n"
     ]
    }
   ],
   "source": [
    "# Симметричная разность множеств ^ возвращает объект которого нет в обоих множествах\n",
    "# метод symmetric_difference()\n",
    "\n",
    "a = {1, 2, 3, 4}\n",
    "b = {1, 5, 3, 4}\n",
    "res = a.symmetric_difference(b)\n",
    "print(res)\n",
    "\n",
    "\n",
    "a = {1, 2, 3, 4}\n",
    "b = {1, 5, 3, 4}\n",
    "res = a ^ b # вернется 2 из первого, и 5 из второго\n",
    "print(res)"
   ]
  },
  {
   "cell_type": "markdown",
   "id": "ca721d4c",
   "metadata": {},
   "source": [
    "# Определения подмножеств и надмножеств"
   ]
  },
  {
   "cell_type": "code",
   "execution_count": 41,
   "id": "3ae44e12",
   "metadata": {},
   "outputs": [
    {
     "name": "stdout",
     "output_type": "stream",
     "text": [
      "True\n"
     ]
    }
   ],
   "source": [
    "# Множество называется подмножеством - если все его элементы есть в другом множестве\n",
    "# Проверить - это можно методом issubset()\n",
    "\n",
    "a = {1, 2, 3, 4}\n",
    "b = {3, 4}\n",
    "print(b.issubset(a)) # возвращаем True либо False в данном случае True"
   ]
  },
  {
   "cell_type": "code",
   "execution_count": 42,
   "id": "40b08fe4",
   "metadata": {},
   "outputs": [
    {
     "name": "stdout",
     "output_type": "stream",
     "text": [
      "True\n"
     ]
    }
   ],
   "source": [
    "# Множество называется надмножеством - если часть его элементов есть в другом множестве\n",
    "# Проверить - это можно методом issuperset()\n",
    "\n",
    "a = {1, 2, 3, 4}\n",
    "b = {3, 4}\n",
    "print(a.issuperset(b)) # возвращаем True либо False в данном случае True"
   ]
  },
  {
   "cell_type": "code",
   "execution_count": 43,
   "id": "c99301f9",
   "metadata": {},
   "outputs": [
    {
     "name": "stdout",
     "output_type": "stream",
     "text": [
      "<class 'frozenset'>\n"
     ]
    }
   ],
   "source": [
    "# Функция frozenset(a) - делает множество неизменяемым\n",
    "\n",
    "a = {1, 2, 3, 4}\n",
    "b = frozenset(a)\n",
    "print(type(b))"
   ]
  },
  {
   "cell_type": "code",
   "execution_count": 46,
   "id": "ad4a2149",
   "metadata": {},
   "outputs": [
    {
     "name": "stdout",
     "output_type": "stream",
     "text": [
      "Введите текст: Привет Мир! Я считаю, что Phyton величайший язык программирования!\n",
      "Количество различных элементов в строке равно:  33\n"
     ]
    }
   ],
   "source": [
    "\"\"\"I)\n",
    "Напишите программу, которая получает строку текста. \n",
    "Определите и выведите на экрна количество различных символов в строке.\"\"\"\n",
    "\n",
    "# Моё решение\n",
    "\n",
    "user_input = input(\"Введите текст: \")\n",
    "user_set = set(user_input)\n",
    "print(f'Количество различных элементов в строке равно: ', len(user_set))\n",
    "\n",
    "# Рекомендации нейросети\n",
    "\n",
    "user_input = input(\"Введите текст: \")\n",
    "user_set = set(user_input.lower()) # Перевод всех символов в нижний регистр\n",
    "print(f'Количество различных элементов в строке равно: ', len(user_set))"
   ]
  },
  {
   "cell_type": "code",
   "execution_count": null,
   "id": "a4d7c1ba",
   "metadata": {},
   "outputs": [],
   "source": [
    "\n",
    "\"\"\"II)Создать два множества на 20 элементов каждый, значения элементов - это целые случайные числа от 0 до 100.\n",
    "Вывести на экран:\n",
    "1) Объединение множеств.\n",
    "2) Разность множеств\n",
    "3) Пересечение множеств.\n",
    "P.S. Так как множество состоит только из уникальных элементов, \n",
    "при генерации случайных чисел могут быть созданы одинаковые значения. Необходимо это учитывать.\"\"\"\n",
    "\n",
    "\n",
    "for _ in range(20):\n",
    "    while True:\n",
    "        try:\n",
    "            user_input_1 = int(input(\"Введие 20 чисел от 0 до 100 в случайном порядке: \"))\n",
    "            user_input_2 = int(input(\"Повторите аналогичный ввод: \"))\n",
    "            \n",
    "            if 0 <= user_input_1 <= 100 and 0 <= user_input_2 <= 100:\n",
    "                break\n",
    "            \n",
    "        except ValueError:\n",
    "            print(\"Ошибка повторите ввод...\")\n",
    "            \n",
    "            \n",
    "user_set_1 = set(user_input_1)\n",
    "user_set_2 = set(user_input_2)\n",
    "\n",
    "set_union = user_set_1 | user_set_2\n",
    "set_intersec = user_set_1 & user_set_2\n",
    "set_difference = user_set_1 - user_set_2\n",
    "set_difference_2 = user_set_2 - user_set_1\n",
    "\n",
    "print(f'''Объединение множеств: ', {set_union}, 'пересечение множеств: ', {set_intersec},\n",
    "'первая разность множеств: ', {set_difference}, 'вторая разнтсть множеств: {set_difference_2}''')        "
   ]
  },
  {
   "cell_type": "code",
   "execution_count": null,
   "id": "69ebcc77",
   "metadata": {},
   "outputs": [],
   "source": [
    "# Вариант нейросети\n",
    "\n",
    "user_set_1 = set()\n",
    "user_set_2 = set()\n",
    "\n",
    "for _ in range(20):\n",
    "    while True:\n",
    "        try:\n",
    "            user_input_1 = int(input(\"Введите число от 0 до 100: \"))\n",
    "            if 0 <= user_input_1 <= 100:\n",
    "                if user_input_1 not in user_set_1:\n",
    "                    user_set_1.add(user_input_1)\n",
    "                    break\n",
    "                else:\n",
    "                    print(\"Это число уже в множестве. Попробуйте еще раз.\")\n",
    "            else:\n",
    "                print(\"Число должно быть в диапазоне от 0 до 100.\")\n",
    "        except ValueError:\n",
    "            print(\"Ошибка ввода. Введите целое число.\")\n",
    "\n",
    "for _ in range(20):\n",
    "    while True:\n",
    "        try:\n",
    "            user_input_2 = int(input(\"Введите другое число от 0 до 100: \"))\n",
    "            if 0 <= user_input_2 <= 100:\n",
    "                if user_input_2 not in user_set_2:\n",
    "                    user_set_2.add(user_input_2)\n",
    "                    break\n",
    "                else:\n",
    "                    print(\"Это число уже в множестве. Попробуйте еще раз.\")\n",
    "            else:\n",
    "                print(\"Число должно быть в диапазоне от 0 до 100.\")\n",
    "        except ValueError:\n",
    "            print(\"Ошибка ввода. Введите целое число.\")\n",
    "\n",
    "# Операции с множествами\n",
    "set_union = user_set_1 | user_set_2\n",
    "set_intersec = user_set_1 & user_set_2\n",
    "set_difference = user_set_1 - user_set_2\n",
    "set_difference_2 = user_set_2 - user_set_1\n",
    "\n",
    "# Вывод результатов\n",
    "print(f\"Множество 1: {user_set_1}\")\n",
    "print(f\"Множество 2: {user_set_2}\")\n",
    "print(f\"Объединение множеств: {set_union}\")\n",
    "print(f\"Пересечение множеств: {set_intersec}\")\n",
    "print(f\"Первая разность множеств: {set_difference}\")\n",
    "print(f\"Вторая разность множеств: {set_difference_2}\")\n"
   ]
  },
  {
   "cell_type": "code",
   "execution_count": null,
   "id": "02207593",
   "metadata": {},
   "outputs": [],
   "source": [
    "# Оптимальный вариант\n",
    "\n",
    "import random\n",
    "\n",
    "user_set_1 = set()\n",
    "user_set_2 = set()\n",
    "\n",
    "# Генерация случайных чисел и добавление их в множества\n",
    "for _ in range(20):\n",
    "    user_set_1.add(random.randint(0, 100))\n",
    "    user_set_2.add(random.randint(0, 100))\n",
    "\n",
    "# Операции с множествами\n",
    "set_union = user_set_1 | user_set_2\n",
    "set_intersec = user_set_1 & user_set_2\n",
    "set_difference = user_set_1 - user_set_2\n",
    "set_difference_2 = user_set_2 - user_set_1\n",
    "\n",
    "# Вывод результатов\n",
    "print(f\"Объединение множеств: {set_union}\")\n",
    "print(f\"Пересечение множеств: {set_intersec}\")\n",
    "print(f\"Первая разность множеств: {set_difference}\")\n",
    "print(f\"Вторая разность множеств: {set_difference_2}\")\n"
   ]
  },
  {
   "cell_type": "code",
   "execution_count": 10,
   "id": "96456a63",
   "metadata": {},
   "outputs": [
    {
     "name": "stdout",
     "output_type": "stream",
     "text": [
      "Введите строку: Страх и ненависть в лас вегасе\n",
      "Количество никальных символов в строке страх и ненависть в лас вегасе равно: 30\n"
     ]
    }
   ],
   "source": [
    "\"\"\"III)\n",
    "Напишите программу для вывода количества уникальных символов каждого введенного слова без учета регистра.\"\"\"\n",
    "\n",
    "\n",
    "user_input = input(\"Введите строку: \")\n",
    "user_set = user_input.lower()\n",
    "print(f'Количество никальных символов в строке {user_set} равно:', len(user_set))"
   ]
  },
  {
   "cell_type": "code",
   "execution_count": 11,
   "id": "6c5a7624",
   "metadata": {},
   "outputs": [
    {
     "name": "stdout",
     "output_type": "stream",
     "text": [
      "Введите строку: Страх и ненависть в лас-вегасе\n",
      "Количество уникальных символов в слове 'страх': 5\n",
      "Количество уникальных символов в слове 'и': 1\n",
      "Количество уникальных символов в слове 'ненависть': 8\n",
      "Количество уникальных символов в слове 'в': 1\n",
      "Количество уникальных символов в слове 'лас-вегасе': 7\n"
     ]
    }
   ],
   "source": [
    "# Получаем ввод от пользователя\n",
    "user_input = input(\"Введите строку: \")\n",
    "\n",
    "# Разбиваем строку на слова и приводим к нижнему регистру\n",
    "words = user_input.lower().split()\n",
    "\n",
    "# Создаем множество уникальных символов для каждого слова\n",
    "unique_characters_per_word = [set(word) for word in words]\n",
    "\n",
    "# Выводим количество уникальных символов для каждого слова\n",
    "for i, word in enumerate(words):\n",
    "    unique_characters = unique_characters_per_word[i]\n",
    "    print(f\"Количество уникальных символов в слове '{word}': {len(unique_characters)}\")"
   ]
  },
  {
   "cell_type": "code",
   "execution_count": null,
   "id": "dc28e3ff",
   "metadata": {},
   "outputs": [],
   "source": []
  }
 ],
 "metadata": {
  "kernelspec": {
   "display_name": "Python 3",
   "language": "python",
   "name": "python3"
  },
  "language_info": {
   "codemirror_mode": {
    "name": "ipython",
    "version": 3
   },
   "file_extension": ".py",
   "mimetype": "text/x-python",
   "name": "python",
   "nbconvert_exporter": "python",
   "pygments_lexer": "ipython3",
   "version": "3.8.8"
  }
 },
 "nbformat": 4,
 "nbformat_minor": 5
}
