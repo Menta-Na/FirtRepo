{
 "cells": [
  {
   "cell_type": "markdown",
   "id": "77a378ba",
   "metadata": {},
   "source": [
    "# ПИТОН С НУЛЯ"
   ]
  },
  {
   "cell_type": "raw",
   "id": "4ec5ecd5",
   "metadata": {},
   "source": [
    "#Синтаксис команди IF\n",
    "\n",
    "if Условие:\n",
    "    действие1\n",
    "    действие2\n",
    "    ...\n",
    "    действиеN"
   ]
  },
  {
   "cell_type": "code",
   "execution_count": null,
   "id": "5be32dc6",
   "metadata": {
    "scrolled": true
   },
   "outputs": [],
   "source": [
    "age = 19\n",
    "if (age >= 18):\n",
    "    print(\"Тебе входить можно\")"
   ]
  },
  {
   "cell_type": "markdown",
   "id": "c1e9031e",
   "metadata": {},
   "source": [
    "#Синтаксис If - Else\n",
    "\n",
    "if Условие:\n",
    "    деействие1\n",
    "else:\n",
    "    действие2\n"
   ]
  },
  {
   "cell_type": "code",
   "execution_count": null,
   "id": "a78ec4a5",
   "metadata": {
    "scrolled": true
   },
   "outputs": [],
   "source": [
    "age = 16\n",
    "if (age >= 18):\n",
    "    print(\"Тебе входить можно\")\n",
    "else:\n",
    "    print(\"Тебе сюда нельзя!\")"
   ]
  },
  {
   "cell_type": "markdown",
   "id": "a7275d06",
   "metadata": {},
   "source": [
    "#Синтаксис If - Else\n",
    "\n",
    "if Условие:\n",
    "    действие1\n",
    "elif условие:\n",
    "    действие2\n",
    "else:\n",
    "    действие3"
   ]
  },
  {
   "cell_type": "code",
   "execution_count": null,
   "id": "be62d3ad",
   "metadata": {},
   "outputs": [],
   "source": [
    "age = 18\n",
    "if (age >= 25):\n",
    "    print(\"Тебе входить можно\")\n",
    "elif (age >= 18) and (age < 25):\n",
    "    print(\"Тебе можно с родителями\")\n",
    "else:\n",
    "    print(\"Тебе сюда нельзя!\")"
   ]
  },
  {
   "cell_type": "code",
   "execution_count": null,
   "id": "8091e4e6",
   "metadata": {},
   "outputs": [],
   "source": [
    "# Применим оператор пользовательского ввода\n",
    "\n",
    "age = int(input(\"Сколько тебе лет?\"))\n",
    "\n",
    "if (age >= 25):\n",
    "    print(\"Тебе входить можно\")\n",
    "elif (age >= 18) and (age < 25):\n",
    "    print(\"Тебе можно с родителями\")\n",
    "else:\n",
    "    print(\"Тебе сюда нельзя!\")"
   ]
  }
 ],
 "metadata": {
  "kernelspec": {
   "display_name": "Python 3",
   "language": "python",
   "name": "python3"
  },
  "language_info": {
   "codemirror_mode": {
    "name": "ipython",
    "version": 3
   },
   "file_extension": ".py",
   "mimetype": "text/x-python",
   "name": "python",
   "nbconvert_exporter": "python",
   "pygments_lexer": "ipython3",
   "version": "3.8.8"
  }
 },
 "nbformat": 4,
 "nbformat_minor": 5
}
