{
 "cells": [
  {
   "cell_type": "markdown",
   "id": "226a8420",
   "metadata": {},
   "source": [
    "# Пито для начинающих "
   ]
  },
  {
   "cell_type": "code",
   "execution_count": null,
   "id": "095d96e8",
   "metadata": {},
   "outputs": [],
   "source": [
    "\"\"\"Строка - это последовательность символовательность символов, \n",
    "а символ найменьшая единица письменной системы\n",
    "\"\"\"\n",
    "# Литерал - значение которое мы присваеваем строковой переменной\n",
    "\n",
    "s1 = 'hello'\n",
    "number = 741\n",
    "s2 = str(number) # str - это и есть литерал\n",
    "print(type(s2))"
   ]
  },
  {
   "cell_type": "code",
   "execution_count": null,
   "id": "0d0b7f3b",
   "metadata": {},
   "outputs": [],
   "source": [
    "# Конкантенация строк....\n",
    "\n",
    "s1 = 'hello'\n",
    "s2 = 'world'\n",
    "s3 = s1 + ' ' + s2\n",
    "s4 = (s3 + ' ')* 10\n",
    "\n",
    "if s1 in s3: # Проверяем входит ли в нашу строку подстрока с помощью is\n",
    "    print(True)\n",
    "    \n",
    "else:\n",
    "    print(False)\n",
    "\n"
   ]
  },
  {
   "cell_type": "code",
   "execution_count": null,
   "id": "5b1ee442",
   "metadata": {},
   "outputs": [],
   "source": [
    "# Оператор is возвращает True или False\n",
    "\n",
    "s1 = 'a'\n",
    "\n",
    "# Пример без оператора is\n",
    "\n",
    "if s1 == 'a' or s1 == 'b' or s1 == 'c' or s1 == '1':\n",
    "    print(True)\n",
    "    \n",
    "else:\n",
    "    print(False)\n",
    "    \n",
    "# Упрощаем с помощью оператора is\n",
    "\n",
    "if s1 in 'abc1':\n",
    "    print(True)\n",
    "    \n",
    "else:\n",
    "    print(False)"
   ]
  },
  {
   "cell_type": "code",
   "execution_count": null,
   "id": "d79dfeba",
   "metadata": {},
   "outputs": [],
   "source": [
    "# Получаем инедекс строки \n",
    "\n",
    "s1 = 'inform'\n",
    "\n",
    "print(s1[2])\n",
    "print(s1[-2])\n",
    "\n",
    "# Получаем индекс с помощью среза...\n",
    "\n",
    "print(s1[2:5:1]) # берем срез от идекса 2 до 5 с шагом 1\n",
    "print(s1[:]) # берем срез от начала слова 0 в начале не обязательно ставить\n",
    "print(s1[::-1]) # разворачиваем строку..."
   ]
  },
  {
   "cell_type": "markdown",
   "id": "9e25eac8",
   "metadata": {},
   "source": [
    "# Методы строк"
   ]
  },
  {
   "cell_type": "code",
   "execution_count": null,
   "id": "ab8ad947",
   "metadata": {},
   "outputs": [],
   "source": [
    "# Метод capitalize переводит строку в верхний регистр\n",
    "\n",
    "s = 'Hello wOrlD'\n",
    "print(s.capitalize())"
   ]
  },
  {
   "cell_type": "code",
   "execution_count": null,
   "id": "efd94db2",
   "metadata": {},
   "outputs": [],
   "source": [
    "# Метод title переводит первую букву в верхний, а остальные в нижний ре\n",
    "\n",
    "s = 'Hello wOrlD'\n",
    "print(s.title())"
   ]
  },
  {
   "cell_type": "code",
   "execution_count": null,
   "id": "161d1e1c",
   "metadata": {},
   "outputs": [],
   "source": [
    "# Метод title переводит первую букву в верхний, а остальные в нижний регистр\n",
    "# Этот метод возводит в верхний регистр букву в каждом слове\n",
    "\n",
    "s = 'Hello*wOrlD'\n",
    "print(s.title())"
   ]
  },
  {
   "cell_type": "code",
   "execution_count": null,
   "id": "c4343883",
   "metadata": {},
   "outputs": [],
   "source": [
    "# Метод lower переводит символы в нижний регистр\n",
    "\n",
    "s = 'Hello wOrlD'\n",
    "print(s.lower())"
   ]
  },
  {
   "cell_type": "code",
   "execution_count": null,
   "id": "d96cfbba",
   "metadata": {},
   "outputs": [],
   "source": [
    "# Метод upper переводит символы в верхний регистр\n",
    "\n",
    "s = 'Hello wOrlD'\n",
    "print(s.upper())"
   ]
  },
  {
   "cell_type": "code",
   "execution_count": null,
   "id": "1f0a2fc8",
   "metadata": {},
   "outputs": [],
   "source": [
    "# Метод swapcase переводит символы из верхнего в нижний и наоборот\n",
    "\n",
    "s = 'Hello wOrlD'\n",
    "print(s.swapcase())"
   ]
  },
  {
   "cell_type": "markdown",
   "id": "78d8c72c",
   "metadata": {},
   "source": [
    "# Блок методов начинающихся с ключевого слова is....."
   ]
  },
  {
   "cell_type": "code",
   "execution_count": null,
   "id": "e6b5b3d0",
   "metadata": {},
   "outputs": [],
   "source": [
    "# Эти методы возвращиют булево значение\n",
    "\n",
    "s = 'Hello wOrlD' # В данном случае False т.к символы в нижнем рег.\n",
    "print(s.isupper()) "
   ]
  },
  {
   "cell_type": "code",
   "execution_count": null,
   "id": "8e10370f",
   "metadata": {},
   "outputs": [],
   "source": [
    "# Аналогично....\n",
    "\n",
    "s = 'Hello wOrlD' # вернется false\n",
    "print(s.islower())"
   ]
  },
  {
   "cell_type": "code",
   "execution_count": null,
   "id": "3c1cfce2",
   "metadata": {},
   "outputs": [],
   "source": [
    "# Проверяет находятся ли два символа каждого слова в верхнем рег. а все остальные в нижнем\n",
    "\n",
    "s = 'Hello WOrlD' # вернется false\n",
    "print(s.istitle())"
   ]
  },
  {
   "cell_type": "code",
   "execution_count": null,
   "id": "42052938",
   "metadata": {},
   "outputs": [],
   "source": [
    "# isdigit() вернет false к пустой строке, и если есть символы не являющиеся цифрами\n",
    "\n",
    "s = '1234567890' # вернется true усли есть только цифры\n",
    "print(s.isdigit())"
   ]
  },
  {
   "cell_type": "code",
   "execution_count": null,
   "id": "b78d44de",
   "metadata": {},
   "outputs": [],
   "source": [
    "# isalpha()) противоположность\n",
    "\n",
    "s = 'Helloworld' # вернется true усли есть только буквы \n",
    "print(s.isalpha())"
   ]
  },
  {
   "cell_type": "code",
   "execution_count": null,
   "id": "ebd1f6c3",
   "metadata": {},
   "outputs": [],
   "source": [
    "# isalnum() вернет только буквы или цифры\n",
    "\n",
    "\n",
    "s = 'Helloworld' # вернется true усли есть только буквы или цифры\n",
    "print(s.isalnum())"
   ]
  },
  {
   "cell_type": "markdown",
   "id": "62b81db9",
   "metadata": {},
   "source": [
    "# Методы преобразования"
   ]
  },
  {
   "cell_type": "code",
   "execution_count": null,
   "id": "dc966d76",
   "metadata": {},
   "outputs": [],
   "source": [
    "# Метод join() возвращает строку, которая является склейкой строк в итер. объекте\n",
    "\n",
    "l = ['a', 'asdasd'] # Две строки будут склеенны в одну\n",
    "print(''.join(l)) "
   ]
  },
  {
   "cell_type": "code",
   "execution_count": null,
   "id": "fe0deba7",
   "metadata": {},
   "outputs": [],
   "source": [
    "# Пример 2 Запомни, строку можно склеить только строковые значения\n",
    "\n",
    "l = ['a', 'asdasd'] # Две строки будут склеенны в одну и разделены знаком !\n",
    "print('!'.join(l)) "
   ]
  },
  {
   "cell_type": "code",
   "execution_count": null,
   "id": "9400ac9e",
   "metadata": {},
   "outputs": [],
   "source": [
    "# Метод split() используется для разделения строки по заданному символу\n",
    "# Этот метод возвращает список\n",
    "\n",
    "s = 'hello world'\n",
    "print(s.split()) # если мы ничего не передали, то за разделитель считаеться пробел"
   ]
  },
  {
   "cell_type": "code",
   "execution_count": null,
   "id": "66ba5fc6",
   "metadata": {},
   "outputs": [],
   "source": [
    "# Вариант 2\n",
    "\n",
    "s = 'hello world'\n",
    "print(s.split('l')) # разделит по буквам l и пропустит их"
   ]
  },
  {
   "cell_type": "code",
   "execution_count": null,
   "id": "0e420c0c",
   "metadata": {},
   "outputs": [],
   "source": [
    "# Вариант 3\n",
    "\n",
    "s = 'hello world'\n",
    "print(s.split('l', 1)) # зададим макс кал-во делений"
   ]
  },
  {
   "cell_type": "code",
   "execution_count": null,
   "id": "428a88bc",
   "metadata": {},
   "outputs": [],
   "source": [
    "# Метод partition() похож на split() но со своими особенностями\n",
    "# Этот метод возвращает кортеж\n",
    "\n",
    "s = 'hello world'\n",
    "print(s.partition(\" \")) # не работает без аргуметна, разделяет хотя-бы по одному аргументу"
   ]
  },
  {
   "cell_type": "markdown",
   "id": "95448fa4",
   "metadata": {},
   "source": [
    "# Методы удаления пробелов"
   ]
  },
  {
   "cell_type": "code",
   "execution_count": null,
   "id": "ca6fe18b",
   "metadata": {},
   "outputs": [],
   "source": [
    "# Метод strip() - удаляет пробелы\n",
    "\n",
    "s = '    hello world   '\n",
    "print(s.strip())"
   ]
  },
  {
   "cell_type": "code",
   "execution_count": null,
   "id": "cd942732",
   "metadata": {},
   "outputs": [],
   "source": [
    "# Метод rstrip() - удаляет пробелы cправа\n",
    "\n",
    "s = '    hello world   '\n",
    "print(s.rstrip())"
   ]
  },
  {
   "cell_type": "code",
   "execution_count": null,
   "id": "4bccac2d",
   "metadata": {},
   "outputs": [],
   "source": [
    "# Метод lstrip() - удаляет пробелы с лева\n",
    "\n",
    "s = '    hello world   '\n",
    "print(s.lstrip())"
   ]
  },
  {
   "cell_type": "markdown",
   "id": "b0373ae3",
   "metadata": {},
   "source": [
    "# Методы нахождения индекса"
   ]
  },
  {
   "cell_type": "code",
   "execution_count": null,
   "id": "05686796",
   "metadata": {},
   "outputs": [],
   "source": [
    "# Метод find() - находит используеться для поиска первого вхождения подстроки в строку, и он возвращает индекс первого в хождения этого символа в нашу строку\n",
    "\n",
    "s = '*****hello world*****'\n",
    "print(s.find('*'))"
   ]
  },
  {
   "cell_type": "code",
   "execution_count": null,
   "id": "dd25b4c9",
   "metadata": {},
   "outputs": [],
   "source": [
    "# Метод rfind() - возвращает индекс первого элемента справа\n",
    "\n",
    "s = '*****hello world*****'\n",
    "print(s.rfind('*'))"
   ]
  },
  {
   "cell_type": "code",
   "execution_count": null,
   "id": "419514cc",
   "metadata": {},
   "outputs": [],
   "source": [
    "# Метод index() - возвращает индекс первого элемента слева на право\n",
    "\n",
    "s = '*****hello world*****'\n",
    "print(s.index('h')) # index() возвращает ошибку если указанного элемента нет в строке"
   ]
  },
  {
   "cell_type": "code",
   "execution_count": null,
   "id": "147dd4e2",
   "metadata": {},
   "outputs": [],
   "source": [
    "# Метод replace() - заменяет одну подстроку на другую\n",
    "\n",
    "s = '*****hello world*****'\n",
    "print(s.replace('*', '!')) # Сначала, что заменять, потом на что заменять."
   ]
  },
  {
   "cell_type": "code",
   "execution_count": null,
   "id": "837c3c14",
   "metadata": {},
   "outputs": [],
   "source": [
    "# Метод replace() - заменяет одну подстроку на другую\n",
    "\n",
    "s = '*****hello world*****'\n",
    "print(s.replace('*', '!', 2)) # Третий аргумент указывает в каком, кал-ве менять"
   ]
  },
  {
   "cell_type": "code",
   "execution_count": null,
   "id": "88eff510",
   "metadata": {},
   "outputs": [],
   "source": [
    "# Метод count() - указывает сколько раз элемент появляется в строке\n",
    "\n",
    "s = '*****hello world*****'\n",
    "print(s.count('*'))"
   ]
  },
  {
   "cell_type": "markdown",
   "id": "0d700729",
   "metadata": {},
   "source": [
    "# Функции строк"
   ]
  },
  {
   "cell_type": "code",
   "execution_count": null,
   "id": "7054208d",
   "metadata": {},
   "outputs": [],
   "source": [
    "# Функция len() - указывает длинну строк\n",
    "\n",
    "s = '******hello world******'\n",
    "print(len(s))"
   ]
  },
  {
   "cell_type": "code",
   "execution_count": null,
   "id": "90c30603",
   "metadata": {},
   "outputs": [],
   "source": [
    "# Функция sorted() - возвращает список и сортирует символы в порядке возрастания таблици аски\n",
    "\n",
    "s = '******hello world******' # Примечание можно сортировать символы в алфавитном порядке\n",
    "print(sorted(s))"
   ]
  },
  {
   "cell_type": "code",
   "execution_count": null,
   "id": "48cd6d35",
   "metadata": {},
   "outputs": [],
   "source": [
    "# Функция sorted() - возвращает список и сортирует символы в порядке возрастания таблици аски\n",
    "\n",
    "s = '******hello world******' # Примечание можно сортировать, в обратном порядке\n",
    "print(sorted(s, reverse=True))"
   ]
  },
  {
   "cell_type": "code",
   "execution_count": null,
   "id": "1b30d9b1",
   "metadata": {},
   "outputs": [],
   "source": [
    "# Функция ord() - позволяет получать код символа в этой таблице\n",
    "\n",
    "print(ord('g'))"
   ]
  },
  {
   "cell_type": "code",
   "execution_count": null,
   "id": "c73ae401",
   "metadata": {},
   "outputs": [],
   "source": [
    "# Функция chr() - Мы передаем ей код, а она возвращает символ\n",
    "\n",
    "print(chr(102))"
   ]
  },
  {
   "cell_type": "code",
   "execution_count": null,
   "id": "76a0e96c",
   "metadata": {},
   "outputs": [],
   "source": []
  }
 ],
 "metadata": {
  "kernelspec": {
   "display_name": "Python 3",
   "language": "python",
   "name": "python3"
  },
  "language_info": {
   "codemirror_mode": {
    "name": "ipython",
    "version": 3
   },
   "file_extension": ".py",
   "mimetype": "text/x-python",
   "name": "python",
   "nbconvert_exporter": "python",
   "pygments_lexer": "ipython3",
   "version": "3.8.8"
  }
 },
 "nbformat": 4,
 "nbformat_minor": 5
}
