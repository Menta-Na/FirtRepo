{
 "cells": [
  {
   "cell_type": "markdown",
   "id": "22bbe718",
   "metadata": {},
   "source": [
    "# Питон для начинающих"
   ]
  },
  {
   "cell_type": "code",
   "execution_count": null,
   "id": "a25c5c9d",
   "metadata": {},
   "outputs": [],
   "source": [
    "# Список содержит указатели на какие-то определенные объекты\n",
    "# Все - это является одним и тем же объектом\n",
    "\n",
    "x = 5\n",
    "sp = [5]\n",
    "\n",
    "\n",
    "print(id(x))\n",
    "print(id(sp[0]))\n",
    "print(id(5))"
   ]
  },
  {
   "cell_type": "code",
   "execution_count": null,
   "id": "1dc6c552",
   "metadata": {},
   "outputs": [],
   "source": [
    "boys = ['Петя', 'Ваня', 'Коля']\n",
    "print(type(boys))"
   ]
  },
  {
   "cell_type": "code",
   "execution_count": null,
   "id": "d1869d03",
   "metadata": {},
   "outputs": [],
   "source": [
    "# List преобразовывает в строку только итерабельные типы данных\n",
    "\n",
    "sp = list(\"Petya\")\n",
    "print(sp)"
   ]
  },
  {
   "cell_type": "code",
   "execution_count": null,
   "id": "7d437230",
   "metadata": {},
   "outputs": [],
   "source": [
    "# List преобразовывает список чисел\n",
    "\n",
    "sp = list(range(1, 100))\n",
    "print(sp)"
   ]
  },
  {
   "cell_type": "code",
   "execution_count": null,
   "id": "9360299f",
   "metadata": {},
   "outputs": [],
   "source": [
    "# Берем из списка числа с шагом 2\n",
    "\n",
    "sp = list(range(1, 100, 2))\n",
    "print(sp)"
   ]
  },
  {
   "cell_type": "code",
   "execution_count": null,
   "id": "747ebb7f",
   "metadata": {},
   "outputs": [],
   "source": [
    "# Синтаксис генератора списков\n",
    "# Перебираем в списке от 1 до 100 числа которые делятся одновременно\n",
    "# и на 2 и на 3\n",
    "\n",
    "\n",
    "spisok = [i**2 for i in range(0, n + 1, 2) if i !=6]"
   ]
  },
  {
   "cell_type": "code",
   "execution_count": null,
   "id": "3bbf8e1a",
   "metadata": {},
   "outputs": [],
   "source": [
    "sp = [i for i in range(1, 100) if i % 2 == 0 and i % 3 == 0]\n",
    "print(sp)"
   ]
  },
  {
   "cell_type": "code",
   "execution_count": null,
   "id": "391ed584",
   "metadata": {},
   "outputs": [],
   "source": [
    "sp = [i**2 for i in range(1, 100) if i % 2 == 0 and i % 3 == 0]\n",
    "print(sp)"
   ]
  },
  {
   "cell_type": "code",
   "execution_count": null,
   "id": "0013f453",
   "metadata": {},
   "outputs": [],
   "source": [
    "sp = [i**2 if i % 2 == 0 else i ** 3 for i in range(1, 100)]\n",
    "print(sp)"
   ]
  },
  {
   "cell_type": "code",
   "execution_count": null,
   "id": "fbc929d5",
   "metadata": {},
   "outputs": [],
   "source": [
    "# Coдаем список из строки при помощи метода split\n",
    "\n",
    "sp = 'hello my dear'\n",
    "sp1 = sp.split()\n",
    "print(sp1)"
   ]
  },
  {
   "cell_type": "code",
   "execution_count": 22,
   "id": "92e37b98",
   "metadata": {},
   "outputs": [
    {
     "name": "stdout",
     "output_type": "stream",
     "text": [
      "Коля\n"
     ]
    }
   ],
   "source": [
    "# Выводим конкретное имя из списка\n",
    "\n",
    "boys = ['Петя', 'Ваня', 'Коля']\n",
    "print(boys[-1])"
   ]
  },
  {
   "cell_type": "code",
   "execution_count": 23,
   "id": "17c6327e",
   "metadata": {},
   "outputs": [
    {
     "name": "stdout",
     "output_type": "stream",
     "text": [
      "['Петя', 'Ваня']\n"
     ]
    }
   ],
   "source": [
    "# Выводим 2 элемента из списка\n",
    "\n",
    "boys = ['Петя', 'Ваня', 'Коля']\n",
    "print(boys[0:2])"
   ]
  },
  {
   "cell_type": "code",
   "execution_count": null,
   "id": "c5be81ac",
   "metadata": {},
   "outputs": [],
   "source": [
    "# Выводим 2 элемента из списка  с шагом\n",
    "\n",
    "boys = ['Петя', 'Ваня', 'Коля']\n",
    "print(boys[0:3:2])"
   ]
  },
  {
   "cell_type": "code",
   "execution_count": null,
   "id": "87125bd7",
   "metadata": {},
   "outputs": [],
   "source": [
    "# Используем срез \n",
    "# Срез создает полноценную копию нашего списка\n",
    "\n",
    "\n",
    "boys = ['Петя', 'Ваня', 'Коля']\n",
    "print(boys[::-1]) "
   ]
  },
  {
   "cell_type": "code",
   "execution_count": null,
   "id": "8844994a",
   "metadata": {},
   "outputs": [],
   "source": [
    "boys = ['Петя', 'Ваня', 'Коля']\n",
    "\n",
    "pupils = boys\n",
    "\n",
    "pupils[0] = 1\n",
    "print(boys)"
   ]
  },
  {
   "cell_type": "code",
   "execution_count": null,
   "id": "43d9c714",
   "metadata": {},
   "outputs": [],
   "source": [
    "boys = ['Петя', 'Ваня', 'Коля']\n",
    "\n",
    "pupils = boys\n",
    "s1 = boys[:]\n",
    "pupils[0] = 1\n",
    "print(boys)\n",
    "print(s1)"
   ]
  },
  {
   "cell_type": "code",
   "execution_count": 24,
   "id": "d97d0c17",
   "metadata": {},
   "outputs": [
    {
     "name": "stdout",
     "output_type": "stream",
     "text": [
      "[1, 'Ваня', 'Коля']\n",
      "['Петя', 'Ваня', 'Коля']\n"
     ]
    }
   ],
   "source": [
    "boys = ['Петя', 'Ваня', 'Коля']\n",
    "\n",
    "# Создаем ссылку pupils, которая указывает на тот же объект в памяти, что и boys\n",
    "pupils = boys\n",
    "\n",
    "# Создаем копию списка boys с помощью среза [:], новый объект в памяти\n",
    "s1 = boys[:]\n",
    "\n",
    "# Меняем значение первого элемента в списке pupils, который также меняет значение в списке boys, \n",
    "#так как это один и тот же объект\n",
    "\n",
    "pupils[0] = 1\n",
    "\n",
    "# Выводим значения обоих списков\n",
    "print(boys)  # Выведет: [1, 'Ваня', 'Коля']\n",
    "print(s1)    # Выведет: ['Петя', 'Ваня', 'Коля']\n"
   ]
  },
  {
   "cell_type": "code",
   "execution_count": 25,
   "id": "3d03b05f",
   "metadata": {},
   "outputs": [
    {
     "name": "stdout",
     "output_type": "stream",
     "text": [
      "2\n"
     ]
    }
   ],
   "source": [
    "# Выводим элемент из ВЛОЖЕННОГО списка\n",
    "\n",
    "boys = ['Петя', 'Ваня', 'Коля', [1, 2, 3]]\n",
    "print(boys[-1][1])"
   ]
  },
  {
   "cell_type": "code",
   "execution_count": 26,
   "id": "7d8e6b73",
   "metadata": {},
   "outputs": [
    {
     "name": "stdout",
     "output_type": "stream",
     "text": [
      "['Петя', 'Ваня', 'Коля', [1, 2, 3], 'Olya', 'Sonya', 'Olya', 'Sonya']\n"
     ]
    }
   ],
   "source": [
    "# Выполним склейку списков\n",
    "\n",
    "boys = ['Петя', 'Ваня', 'Коля', [1, 2, 3]]\n",
    "girls = ['Olya','Sonya']\n",
    "pupils = boys + girls * 2\n",
    "print(pupils)"
   ]
  },
  {
   "cell_type": "code",
   "execution_count": null,
   "id": "3932a67f",
   "metadata": {},
   "outputs": [],
   "source": [
    "pupils.pop(3)"
   ]
  },
  {
   "cell_type": "code",
   "execution_count": null,
   "id": "1b5b463a",
   "metadata": {},
   "outputs": [],
   "source": [
    "# Выполним склейку списков\n",
    "\n",
    "boys = ['Петя', 'Ваня', 'Коля', [1, 2, 3]]\n",
    "girls = ['Olya','Sonya']\n",
    "pupils = boys + [3] # Что - бы добавить число, его нужно взять в скобки\n",
    "print(pupils)"
   ]
  },
  {
   "cell_type": "code",
   "execution_count": null,
   "id": "aaf2fbac",
   "metadata": {},
   "outputs": [],
   "source": [
    "# Вариант другого человека\n",
    "\n",
    "n = list(input('Напишите номер билета (от 000000 до 999999): '))\n",
    "if n[0] + n[1] + n[2] == n[3] + n[4] + n[5]:\n",
    "    print('Билет счастливый')\n",
    "else:\n",
    "    print('Билет обычный')\n"
   ]
  },
  {
   "cell_type": "markdown",
   "id": "6074daa5",
   "metadata": {},
   "source": [
    "# Питон для начинающих, методы и функции для работы со списками "
   ]
  },
  {
   "cell_type": "code",
   "execution_count": 27,
   "id": "775fb6c2",
   "metadata": {},
   "outputs": [
    {
     "name": "stdout",
     "output_type": "stream",
     "text": [
      "['phyton', 'java', 'C++', 'paskal']\n"
     ]
    }
   ],
   "source": [
    "progs = [\"phyton\", \"java\", \"C++\"]\n",
    "\n",
    "# Метод append() - добавляет элемент к списку\n",
    "\n",
    "progs.append('paskal')\n",
    "print(progs)\n",
    "\n"
   ]
  },
  {
   "cell_type": "code",
   "execution_count": 28,
   "id": "f4c6f19a",
   "metadata": {},
   "outputs": [
    {
     "name": "stdout",
     "output_type": "stream",
     "text": [
      "['phyton', 'Ruby', 'java', 'C++', 'paskal']\n"
     ]
    }
   ],
   "source": [
    "# Метод insert добавляет элемент в конкретное место в списке\n",
    "\n",
    "progs.insert(1, 'Ruby')\n",
    "print(progs)"
   ]
  },
  {
   "cell_type": "code",
   "execution_count": 29,
   "id": "e49a624e",
   "metadata": {},
   "outputs": [
    {
     "name": "stdout",
     "output_type": "stream",
     "text": [
      "['phyton', 'java', 'C++', 1, 2, 3]\n"
     ]
    }
   ],
   "source": [
    "# Метод extend позволяет добавить элемент одного списка в другой\n",
    "\n",
    "progs = [\"phyton\", \"java\", \"C++\"]\n",
    "numb = [1, 2, 3]\n",
    "progs.extend(numb)\n",
    "print(progs)"
   ]
  },
  {
   "cell_type": "code",
   "execution_count": 30,
   "id": "9a87a02f",
   "metadata": {},
   "outputs": [
    {
     "name": "stdout",
     "output_type": "stream",
     "text": [
      "['phyton', 'java']\n"
     ]
    }
   ],
   "source": [
    "# Метод remove позволяет удалять элементы из списка по значению элемента\n",
    "\n",
    "progs = [\"phyton\", \"java\", \"C++\"]\n",
    "numb = [1, 2, 3]\n",
    "progs.remove(\"C++\")\n",
    "print(progs)"
   ]
  },
  {
   "cell_type": "code",
   "execution_count": 31,
   "id": "04bd591d",
   "metadata": {},
   "outputs": [
    {
     "name": "stdout",
     "output_type": "stream",
     "text": [
      "['phyton', 'C++']\n"
     ]
    }
   ],
   "source": [
    "# Метод pop позволяет удалять элементы из списка по индексу\n",
    "\n",
    "progs = [\"phyton\", \"java\", \"C++\"]\n",
    "numb = [1, 2, 3]\n",
    "progs.pop(1)\n",
    "print(progs)\n"
   ]
  },
  {
   "cell_type": "code",
   "execution_count": null,
   "id": "3ff4eb1d",
   "metadata": {},
   "outputs": [],
   "source": [
    "progs = [\"phyton\", \"java\", \"C++\"]\n",
    "\n",
    "del progs[0] # Можно использовать оператор del\n",
    "print(progs)\n"
   ]
  },
  {
   "cell_type": "code",
   "execution_count": null,
   "id": "f759b62a",
   "metadata": {},
   "outputs": [],
   "source": [
    "# Метод Clear удаляет все элементы из списка\n",
    "\n",
    "progs = [\"phyton\", \"java\", \"C++\"]\n",
    "\n",
    "progs.clear()\n",
    "print(progs)\n"
   ]
  },
  {
   "cell_type": "code",
   "execution_count": null,
   "id": "5b8c6651",
   "metadata": {},
   "outputs": [],
   "source": [
    "# Метод index возвращает индекс элемента\n",
    "\n",
    "progs = ['phyton', 'java', 'C++']\n",
    "print(progs.index('C++'))"
   ]
  },
  {
   "cell_type": "code",
   "execution_count": null,
   "id": "6c8ade24",
   "metadata": {},
   "outputs": [],
   "source": [
    "# Метод count считает кал-во раз появления элемента всписке\n",
    "\n",
    "progs = ['phyton', 'java', 'C++']\n",
    "print(progs.count('C++'))"
   ]
  },
  {
   "cell_type": "code",
   "execution_count": null,
   "id": "c7026f63",
   "metadata": {},
   "outputs": [],
   "source": [
    "# Метод copy делает полную копию списка\n",
    "# Таким образом при смене копии меняется и оригинал\n",
    "\n",
    "progs = ['phyton', 'java', 'C++', [1, 2, 3]]\n",
    "progs_copy = progs.copy()\n",
    "progs_copy[-1][0] = 1000000 # Нейросеть поясни эту строчку? и что делает [-1] ?\n",
    "print(progs)\n",
    "print(progs_copy)"
   ]
  },
  {
   "cell_type": "code",
   "execution_count": null,
   "id": "290d63e4",
   "metadata": {},
   "outputs": [],
   "source": [
    "# Метод copy делает пверхностную копию списка\n",
    "\n",
    "progs = ['phyton', 'java', 'C++', [1, 2, 3]]\n",
    "progs_copy = progs.copy()\n",
    "progs_copy[1] = 1000000 \n",
    "print(progs)\n",
    "print(progs_copy)"
   ]
  },
  {
   "cell_type": "code",
   "execution_count": null,
   "id": "0edeeae7",
   "metadata": {},
   "outputs": [],
   "source": [
    "\"\"\"Что бы сделать полноценную копию списка используем фунцию \n",
    "deep_copy\"\"\"\n",
    "\n",
    "from copy import deepcopy\n",
    "# Теперь в исходнике ничего не меняется\n",
    "\n",
    "progs = ['phyton', 'java', 'C++', [1, 2, 3]]\n",
    "progs_copy = deepcopy(progs)\n",
    "progs_copy[-1][0] = 1000000 \n",
    "print(progs)\n",
    "print(progs_copy)"
   ]
  },
  {
   "cell_type": "code",
   "execution_count": null,
   "id": "da0f7024",
   "metadata": {},
   "outputs": [],
   "source": [
    "# Метод sort сортирует список и раставляет в порядке возрастания\n",
    "\n",
    "progs = [1, 2, 3]\n",
    "progs.sort()\n",
    "print(progs)"
   ]
  },
  {
   "cell_type": "code",
   "execution_count": null,
   "id": "d781cf9c",
   "metadata": {},
   "outputs": [],
   "source": [
    "# Метод sort сортирует список и раставляет в порядке возрастания\n",
    "\n",
    "progs = ['a', 'c', 'd']\n",
    "progs.sort()\n",
    "print(progs)"
   ]
  },
  {
   "cell_type": "code",
   "execution_count": null,
   "id": "995e4009",
   "metadata": {},
   "outputs": [],
   "source": [
    "# Метод sort сортирует список и раставляет в порядке возрастания\n",
    "\n",
    "progs = ['a', 'c', 'd']\n",
    "progs.sort(reverse=True) # Параметр reverse сортирует в обратном порядке\n",
    "print(progs)"
   ]
  },
  {
   "cell_type": "code",
   "execution_count": null,
   "id": "4f4e958b",
   "metadata": {},
   "outputs": [],
   "source": [
    "# Метод sort сортирует список и раставляет в порядке возрастания\n",
    "\n",
    "progs = [3, -5, -7, 19, 2]\n",
    "progs.sort(key=abs) # Параметр key сортирует по модулю\n",
    "print(progs)"
   ]
  },
  {
   "cell_type": "code",
   "execution_count": null,
   "id": "6907731a",
   "metadata": {},
   "outputs": [],
   "source": [
    "# Метод reverse разворачивает список\n",
    "\n",
    "\n",
    "progs = [3, -5, -7, 19, 2]\n",
    "progs.reverse() \n",
    "print(progs)"
   ]
  },
  {
   "cell_type": "markdown",
   "id": "85185e1b",
   "metadata": {},
   "source": [
    "Перейдем к функциям"
   ]
  },
  {
   "cell_type": "code",
   "execution_count": null,
   "id": "c35b38e3",
   "metadata": {},
   "outputs": [],
   "source": [
    "# Функция len она позволяет получить длинну последовательности\n",
    "\n",
    "progs = [3, -5, -7, 19, 2]\n",
    "print(len(progs))"
   ]
  },
  {
   "cell_type": "code",
   "execution_count": null,
   "id": "07bb303f",
   "metadata": {},
   "outputs": [],
   "source": [
    "# Функция sorted не меняет исходный список а делает копию\n",
    "\n",
    "progs = [3, -5, -7, 19, 2]\n",
    "\n",
    "print(sorted(progs))"
   ]
  },
  {
   "cell_type": "code",
   "execution_count": null,
   "id": "1544b554",
   "metadata": {},
   "outputs": [],
   "source": [
    "progs = [3, -5, -7, 19, 2]\n",
    "p = sorted(progs)\n",
    "print(id(progs))\n",
    "print(id(p))"
   ]
  },
  {
   "cell_type": "code",
   "execution_count": null,
   "id": "987fa992",
   "metadata": {},
   "outputs": [],
   "source": [
    "# Функции Max и min  возвращает мин и мак значения из списка\n",
    "progs = [3, -5, -7, 19, 2]\n",
    "print(min(progs))\n",
    "print(max(progs))"
   ]
  },
  {
   "cell_type": "code",
   "execution_count": null,
   "id": "895c3cbe",
   "metadata": {},
   "outputs": [],
   "source": [
    "\"\"\"функция sum возвращает нам сумму значений элементо \n",
    "последовательности и ожидает в последовательности числа\"\"\"\n",
    "\n",
    "progs = [3, -5, -7, 19, 2]\n",
    "print(sum(progs, start=1000)) # Параметр start задает начальное значение"
   ]
  }
 ],
 "metadata": {
  "kernelspec": {
   "display_name": "Python 3",
   "language": "python",
   "name": "python3"
  },
  "language_info": {
   "codemirror_mode": {
    "name": "ipython",
    "version": 3
   },
   "file_extension": ".py",
   "mimetype": "text/x-python",
   "name": "python",
   "nbconvert_exporter": "python",
   "pygments_lexer": "ipython3",
   "version": "3.8.8"
  }
 },
 "nbformat": 4,
 "nbformat_minor": 5
}
