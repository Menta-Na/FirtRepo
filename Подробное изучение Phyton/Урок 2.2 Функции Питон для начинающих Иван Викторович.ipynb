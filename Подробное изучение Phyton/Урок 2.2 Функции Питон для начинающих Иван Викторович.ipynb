{
 "cells": [
  {
   "cell_type": "markdown",
   "id": "12db1c73",
   "metadata": {},
   "source": [
    "# Функции - торетическая инормация"
   ]
  },
  {
   "cell_type": "code",
   "execution_count": 4,
   "id": "4bc49356",
   "metadata": {},
   "outputs": [
    {
     "name": "stdout",
     "output_type": "stream",
     "text": [
      "hello\n",
      "world\n",
      "hello\n",
      "world\n"
     ]
    }
   ],
   "source": [
    "# Функция - это именнованный фрагмент кода отделенный от других\n",
    "# функция предназначенна для многократного использования кода\n",
    "\n",
    "def fun1(): # Определим функцию\n",
    "    print('hello')\n",
    "    print('world')\n",
    "    \n",
    "    \n",
    "fun1() # Вызовем функцию\n",
    "fun1()"
   ]
  },
  {
   "cell_type": "code",
   "execution_count": null,
   "id": "1d2da9a4",
   "metadata": {},
   "outputs": [],
   "source": [
    "# Используем оператор pass в качестве заглушки\n",
    "\n",
    "def fun1():\n",
    "    pass\n",
    "\n",
    "fun1()\n",
    "fun1()\n",
    "fun1()\n"
   ]
  },
  {
   "cell_type": "code",
   "execution_count": 5,
   "id": "ff263861",
   "metadata": {},
   "outputs": [
    {
     "data": {
      "text/plain": [
       "True"
      ]
     },
     "execution_count": 5,
     "metadata": {},
     "output_type": "execute_result"
    }
   ],
   "source": [
    "# Функция может вернуть результат своей работы оператором return\n",
    "\n",
    "def fun1():\n",
    "    return True\n",
    "\n",
    "result = fun1()\n",
    "print(rsult)"
   ]
  },
  {
   "cell_type": "code",
   "execution_count": 7,
   "id": "c8dccf6c",
   "metadata": {},
   "outputs": [
    {
     "name": "stdout",
     "output_type": "stream",
     "text": [
      "50\n"
     ]
    }
   ],
   "source": [
    "# Напишем функцию получающую 2 аргумента и возвращающую результат\n",
    "\n",
    "def fun1(a, b):\n",
    "    return a * b\n",
    "\n",
    "result = fun1(5, 10) # Для возврата результата указываем параметры\n",
    "print(result)"
   ]
  },
  {
   "cell_type": "code",
   "execution_count": null,
   "id": "75666997",
   "metadata": {},
   "outputs": [],
   "source": [
    "# Зададим в кач-ве аргументов переменные \n",
    "\n",
    "def fun1(a, b): # Сколько прописанно параметрова\n",
    "    return a * b\n",
    "\n",
    "\n",
    "n1 = int(input())\n",
    "n2 = int(input())\n",
    "\n",
    "result = fun1(n1, n2) # Столько и должно быть прописанно аргументов\n",
    "print(result)"
   ]
  },
  {
   "cell_type": "code",
   "execution_count": null,
   "id": "07916c9d",
   "metadata": {},
   "outputs": [],
   "source": [
    "# Зададим в кач-ве аргументов переменные \n",
    "\n",
    "def fun1(a, b): # В нутри функции аргументы становятся параметрами\n",
    "    return a * b\n",
    "\n",
    "\n",
    "n1 = int(input())\n",
    "n2 = int(input())\n",
    "\n",
    "result = fun1(n1, n2) # Тут мы задаем аргументы\n",
    "print(result)"
   ]
  },
  {
   "cell_type": "code",
   "execution_count": 8,
   "id": "e87f4cdd",
   "metadata": {},
   "outputs": [
    {
     "name": "stdout",
     "output_type": "stream",
     "text": [
      "a =  5\n",
      "b =  10\n"
     ]
    }
   ],
   "source": [
    "# Подробный пример\n",
    "\n",
    "def fun1(a, b):\n",
    "    print('a = ', a)\n",
    "    print('b = ', b)\n",
    "    \n",
    "fun1(5, 10)"
   ]
  },
  {
   "cell_type": "code",
   "execution_count": 9,
   "id": "785a2d3d",
   "metadata": {},
   "outputs": [
    {
     "name": "stdout",
     "output_type": "stream",
     "text": [
      "a =  15\n",
      "b =  10\n"
     ]
    }
   ],
   "source": [
    "# Воспользуемся именованными аргументами\n",
    "\n",
    "def fun1(a, b):\n",
    "    print('a = ', a)\n",
    "    print('b = ', b)\n",
    "    \n",
    "fun1(a=15, b=10) # Присваиваем аргументам значения посвоему...."
   ]
  },
  {
   "cell_type": "code",
   "execution_count": 12,
   "id": "44cdfada",
   "metadata": {},
   "outputs": [
    {
     "name": "stdout",
     "output_type": "stream",
     "text": [
      "a =  10\n",
      "b =  20\n"
     ]
    }
   ],
   "source": [
    "#  Присвоим значения по умолчанию\n",
    "\n",
    "def fun1(a=10, b=20):\n",
    "    print('a = ', a)\n",
    "    print('b = ', b)\n",
    "    \n",
    "fun1(b=8) # То что мы передали, важнее того, что мы присвоили по умолчанию"
   ]
  },
  {
   "cell_type": "code",
   "execution_count": 14,
   "id": "d9aab66e",
   "metadata": {},
   "outputs": [
    {
     "name": "stdout",
     "output_type": "stream",
     "text": [
      "(78, 'hello', 74)\n"
     ]
    }
   ],
   "source": [
    "# Создадим пустой кортеж с помощью функции\n",
    "\n",
    "def fun1(*args):# Аргумент args получает неопределенное кал-во аргументов и возвращает кортеж\n",
    "    return args\n",
    "\n",
    "print(fun1(78, 'hello', 74)) # И добавим значения"
   ]
  },
  {
   "cell_type": "code",
   "execution_count": 18,
   "id": "25d3a5a9",
   "metadata": {},
   "outputs": [
    {
     "name": "stdout",
     "output_type": "stream",
     "text": [
      "{'a': 78, 'b': 'hello', 'c': 78}\n"
     ]
    }
   ],
   "source": [
    "# Создадим пустой словарь с помощью функции\n",
    "\n",
    "def fun1(**kwargs):# Аргумент kwargs получает неопределенное кал-во аргументов и возвращает словарь\n",
    "    return kwargs\n",
    "\n",
    "print(fun1(a=78, b='hello', c=78)) # И добавим значения"
   ]
  },
  {
   "cell_type": "code",
   "execution_count": 21,
   "id": "9d44d98e",
   "metadata": {},
   "outputs": [
    {
     "name": "stdout",
     "output_type": "stream",
     "text": [
      "helloworld\n"
     ]
    }
   ],
   "source": [
    "# Выполним склейку\n",
    "\n",
    "def fun1(a, b):\n",
    "    return a + b\n",
    "\n",
    "print((fun1('hello', 'world'))) # Функции в Phyton полиморфны\n",
    "print((fun1('hello', 5))) # Склейка строки с числом не получится"
   ]
  },
  {
   "cell_type": "code",
   "execution_count": 31,
   "id": "6131736e",
   "metadata": {},
   "outputs": [
    {
     "name": "stdout",
     "output_type": "stream",
     "text": [
      "Введите радиус круга: 2\n",
      "Площадь круга равна: 12.56\n"
     ]
    }
   ],
   "source": [
    "\"\"\"Домашнее задание:\n",
    "I)\n",
    "Написать функцию, которая в качестве аргумента получает радиус круга. Радиус вводится пользователем с клавиатуры.\n",
    "Функция считает площадь круга.\n",
    "Формула площади круга:\n",
    "S = pi * R^2, где pi - константа 3.14, R - радиус.\n",
    "Функция возвращает значение площади.\n",
    "\"\"\"\n",
    "# Мое решение\n",
    "\n",
    "def radius(pi=3.14, R=int(input(\"Введите радиус круга: \"))):\n",
    "\n",
    "    return pi * (R ** 2)\n",
    "\n",
    "S = radius()\n",
    "\n",
    "print(f'Площадь круга равна: {S}')"
   ]
  },
  {
   "cell_type": "code",
   "execution_count": null,
   "id": "19c2a3e8",
   "metadata": {},
   "outputs": [],
   "source": [
    "# Вариант нейросети \n",
    "\n",
    "def calculate_circle_area():\n",
    "    # Запрашиваем у пользователя радиус круга, обрабатывая возможные ошибки при вводе\n",
    "    while True:\n",
    "        try:\n",
    "            radius = float(input(\"Введите радиус круга: \"))\n",
    "            if radius <= 0:\n",
    "                raise ValueError(\"Радиус должен быть положительным числом\")\n",
    "            break\n",
    "        except ValueError as e:\n",
    "            print(\"Ошибка ввода:\", e)\n",
    "\n",
    "    # Площадь круга считаем, используя формулу\n",
    "    pi = 3.14\n",
    "    area = pi * (radius ** 2)\n",
    "    \n",
    "    return area\n",
    "\n",
    "# Вызываем функцию и выводим результат\n",
    "circle_area = calculate_circle_area()\n",
    "print(f\"Площадь круга равна: {circle_area}\")\n"
   ]
  },
  {
   "cell_type": "code",
   "execution_count": 47,
   "id": "1ce81efb",
   "metadata": {},
   "outputs": [
    {
     "name": "stdout",
     "output_type": "stream",
     "text": [
      "Введите целое число: 10\n",
      "Кал-во четных чисел в числе 10 равно 6\n",
      "Из сумма равна 30\n"
     ]
    }
   ],
   "source": [
    "\"\"\"II)\n",
    "Написать функцию, которая в качестве аргумента принимает целое число, введенное пользователем.\n",
    "Функция возвращает количество четных цифр в числе и их сумму.\"\"\"\n",
    "\n",
    "def count_of_int_digints(num):\n",
    "    count = 0\n",
    "    sum_even = 0\n",
    "    \n",
    "    for digit in range(num+1):\n",
    "        if digit % 2 == 0:\n",
    "            count += 1\n",
    "            sum_even += digit\n",
    "            \n",
    "    return count, sum_even\n",
    "\n",
    "user_input = int(input('Введите целое число: '))\n",
    "count, sum_even = count_of_int_digints(user_input)\n",
    "\n",
    "print(f'Кал-во четных чисел в числе {user_input} равно {count}')\n",
    "print(f'Из сумма равна {sum_even}')"
   ]
  },
  {
   "cell_type": "code",
   "execution_count": 54,
   "id": "aedc5491",
   "metadata": {},
   "outputs": [
    {
     "name": "stdout",
     "output_type": "stream",
     "text": [
      "Введите целое число: -3\n",
      "Факториал числа -3 равен Факториал определен только для неотрицательных чисел\n"
     ]
    }
   ],
   "source": [
    "\"\"\"III)\n",
    "Написать функцию, которая принимает в качестве аргумента целое число, введенное пользователем.\n",
    "Функция возвращает факториал числа, переданного в качестве аргумента.\n",
    "Не использовать модуль math.\"\"\"\n",
    "\n",
    "\n",
    "def factorial(num):\n",
    "    \n",
    "    if num < 0:\n",
    "        return 'Факториал определен только для неотрицательных чисел'\n",
    "        \n",
    "    elif num == 0:\n",
    "        return 1\n",
    "    \n",
    "    \n",
    "    result = 1\n",
    "    \n",
    "    for i in range(1, num + 1):\n",
    "        result *= i\n",
    "        \n",
    "    return count2\n",
    "\n",
    "user_input2 = int(input(\"Введите целое число: \"))\n",
    "result = factorial(user_input2)\n",
    "\n",
    "print(f'Факториал числа {user_input2} равен {result}')"
   ]
  },
  {
   "cell_type": "markdown",
   "id": "d82cfa21",
   "metadata": {},
   "source": [
    "# Продолжаем изучение функций"
   ]
  },
  {
   "cell_type": "code",
   "execution_count": null,
   "id": "e4a837f1",
   "metadata": {},
   "outputs": [],
   "source": [
    "# Переменные которые мы используем внутри фунции называются локальными\n",
    "\n",
    "def func(x1, x2):\n",
    "    c = x1 + x2\n",
    "    d = x1 * x2\n",
    "    return c, d\n",
    "\n",
    "print(func(3, 4))\n",
    "print(c) # Если попробовать сделать вывод переменной, будет ошибка, т.к - эти переменные являются локальными"
   ]
  },
  {
   "cell_type": "code",
   "execution_count": null,
   "id": "6b8a699b",
   "metadata": {},
   "outputs": [],
   "source": [
    "# Рассмотрим область видимости переменной\n",
    "\n",
    "def func(x1, x2):\n",
    "    c = x1 + x2 + a # Это локальная переменная\n",
    "    return c\n",
    "\n",
    "a = 2000 # Это глобальная переменная\n",
    "\n",
    "print(func(3, 4))"
   ]
  },
  {
   "cell_type": "code",
   "execution_count": null,
   "id": "a5feea8e",
   "metadata": {},
   "outputs": [],
   "source": [
    "# Рассмотрим область видимости переменной\n",
    "\n",
    "def func(x1, x2):\n",
    "    global a # Создадим в нутри функции глобальную переменную из локальной\n",
    "    a = 1000\n",
    "    c = x1 + x2 + a # Это локальная переменная\n",
    "    return c\n",
    "\n",
    "a = 2000 # Это глобальная переменная\n",
    "print(a)\n",
    "print(func(3, 4))\n",
    "print(a)"
   ]
  },
  {
   "cell_type": "code",
   "execution_count": null,
   "id": "6aa09076",
   "metadata": {},
   "outputs": [],
   "source": [
    "# Рассмотрим область видимости переменной\n",
    "\n",
    "def func(x1, x2):\n",
    "    a[1] = 85\n",
    "    return a\n",
    "\n",
    "a = [1, 2, 3] # Создадим список внутри функции\n",
    "\n",
    "print(a)\n",
    "print(func(3, 4))\n",
    "print(a)"
   ]
  },
  {
   "cell_type": "code",
   "execution_count": null,
   "id": "411f078e",
   "metadata": {},
   "outputs": [],
   "source": [
    "# Рассмотрим область видимости переменной\n",
    "\n",
    "def func(x1, x2):\n",
    "   \n",
    "    a = [10, 20, 30] # Создадим локальный список\n",
    "    \n",
    "    return a\n",
    "\n",
    "a = [1, 2, 3] # Создадим список внутри функции\n",
    "\n",
    "print(a)\n",
    "print(func(3, 4))\n",
    "print(a)"
   ]
  },
  {
   "cell_type": "code",
   "execution_count": null,
   "id": "c88446f7",
   "metadata": {},
   "outputs": [],
   "source": [
    "# Рассмотрим область видимости переменной\n",
    "\n",
    "def func(x1, x2):\n",
    "    global a\n",
    "    a = [10, 20, 30] # Создадим локальный список\n",
    "    \n",
    "    return a\n",
    "\n",
    "a = [1, 2, 3] # Создадим список внутри функции\n",
    "\n",
    "print(a)\n",
    "print(func(3, 4))\n",
    "print(a)"
   ]
  },
  {
   "cell_type": "code",
   "execution_count": null,
   "id": "511fb6e5",
   "metadata": {},
   "outputs": [],
   "source": [
    "# Благодаря функциям locals() и globals() - можно получать словари локальных и глобальных пространств\n",
    "\n",
    "def func():\n",
    "    global a\n",
    "    a = 3333\n",
    "    b = 23\n",
    "    print(locals(), '\\n', globals())\n",
    "    \n",
    "mn = [1, 2, 3]\n",
    "print(func())\n",
    "print(a)"
   ]
  },
  {
   "cell_type": "markdown",
   "id": "5195b652",
   "metadata": {},
   "source": [
    "# Теория нейросети"
   ]
  },
  {
   "cell_type": "code",
   "execution_count": null,
   "id": "0a54bac6",
   "metadata": {},
   "outputs": [],
   "source": [
    "# Глобальная переменная\n",
    "global_var = \"global\"\n",
    "\n",
    "# Функция, которая определяет локальную переменную и вызывает другую функцию\n",
    "def outer_function():\n",
    "    # Локальная переменная внутри функции\n",
    "    local_var = \"local\"\n",
    "\n",
    "    # Вложенная функция\n",
    "    def inner_function():\n",
    "        # Попытка доступа к локальной переменной внутри вложенной функции\n",
    "        print(\"Inner function accessing local variable:\", local_var)\n",
    "        \n",
    "        # Попытка доступа к глобальной переменной внутри вложенной функции\n",
    "        print(\"Inner function accessing global variable:\", global_var)\n",
    "\n",
    "    # Вызов вложенной функции\n",
    "    inner_function()\n",
    "\n",
    "# Вызов внешней функции\n",
    "outer_function()\n",
    "\n",
    "\n",
    "\n",
    "\"\"\"global_var - это глобальная переменная, определенная в глобальной области видимости.\n",
    "outer_function() - это функция, \n",
    "которая определяет локальную переменную local_var и вызывает вложенную функцию inner_function().\n",
    "local_var - это локальная переменная внутри функции outer_function().\n",
    "inner_function() - это вложенная функция, в которой пытаемся обратиться к локальной и глобальной переменным.\n",
    "Внутри inner_function() сначала мы пытаемся обратиться к локальной переменной local_var. \n",
    "Поскольку эта переменная не определена внутри inner_function(), \n",
    "Python ищет ее в объемлющей области видимости - в outer_function().\n",
    "Затем мы пытаемся обратиться к глобальной переменной global_var.\n",
    "Поскольку эта переменная не определена ни в inner_function(), ни в outer_function(), \n",
    "Python ищет ее в глобальной области видимости.\n",
    "Результат выполнения этого кода будет вывод обеих переменных: локальной и глобальной\"\"\""
   ]
  },
  {
   "cell_type": "markdown",
   "id": "9e6837eb",
   "metadata": {},
   "source": [
    "# Вложеные функции"
   ]
  },
  {
   "cell_type": "code",
   "execution_count": 56,
   "id": "61dba6b7",
   "metadata": {},
   "outputs": [
    {
     "name": "stdout",
     "output_type": "stream",
     "text": [
      "Внешняя функция\n",
      "Вложенная функция\n",
      "Внешняя функция\n"
     ]
    },
    {
     "ename": "NameError",
     "evalue": "name 'my_inner_func' is not defined",
     "output_type": "error",
     "traceback": [
      "\u001b[1;31m---------------------------------------------------------------------------\u001b[0m",
      "\u001b[1;31mNameError\u001b[0m                                 Traceback (most recent call last)",
      "\u001b[1;32m<ipython-input-56-901857bcb765>\u001b[0m in \u001b[0;36m<module>\u001b[1;34m\u001b[0m\n\u001b[0;32m     12\u001b[0m \u001b[1;33m\u001b[0m\u001b[0m\n\u001b[0;32m     13\u001b[0m \u001b[0mmy_func\u001b[0m\u001b[1;33m(\u001b[0m\u001b[1;33m)\u001b[0m\u001b[1;33m\u001b[0m\u001b[1;33m\u001b[0m\u001b[0m\n\u001b[1;32m---> 14\u001b[1;33m \u001b[0mmy_inner_func\u001b[0m\u001b[1;33m(\u001b[0m\u001b[1;33m)\u001b[0m\u001b[1;33m\u001b[0m\u001b[1;33m\u001b[0m\u001b[0m\n\u001b[0m",
      "\u001b[1;31mNameError\u001b[0m: name 'my_inner_func' is not defined"
     ]
    }
   ],
   "source": [
    "# Вложенные функции создаются для использования декораторов и замыканий\n",
    "# Самый простой пример вложенной функции\n",
    "\n",
    "def my_func():\n",
    "    print(\"Внешняя функция\")\n",
    "    \n",
    "    def my_inner_func():\n",
    "        print('Вложенная функция')\n",
    "        \n",
    "    my_inner_func() \n",
    "    print('Внешняя функция')\n",
    "    \n",
    "my_func()\n",
    "my_inner_func() # Выдает ошибку"
   ]
  },
  {
   "cell_type": "code",
   "execution_count": 61,
   "id": "a7ded775",
   "metadata": {},
   "outputs": [
    {
     "name": "stdout",
     "output_type": "stream",
     "text": [
      "121645100408832000\n"
     ]
    }
   ],
   "source": [
    "def my_func(n): # Внешняя функция не может использовать переменные во вложенной\n",
    "    \n",
    "    \n",
    "    def my_inner_func(): # Вложенная фукция может использовать переменные во внешней функции\n",
    "        pr = 1\n",
    "        for i in range(1, n):\n",
    "            pr *= i\n",
    "        return pr\n",
    "    \n",
    "    if n > 15:\n",
    "        return my_inner_func()\n",
    "    else:\n",
    "        return 'Число не подходит'\n",
    "    \n",
    "\n",
    "print(my_func(20))"
   ]
  },
  {
   "cell_type": "code",
   "execution_count": 71,
   "id": "2add5c5b",
   "metadata": {},
   "outputs": [
    {
     "name": "stdout",
     "output_type": "stream",
     "text": [
      "10\n",
      "111\n",
      "333\n",
      "333\n",
      "10\n"
     ]
    }
   ],
   "source": [
    "b = 10\n",
    "\n",
    "\n",
    "def my_f():\n",
    "    b = 111\n",
    "    print(b)\n",
    "    \n",
    "    def in_f():\n",
    "        nonlocal b\n",
    "        b = 333\n",
    "        print(b)\n",
    "    in_f()\n",
    "    print(b)\n",
    "    \n",
    "print(b)\n",
    "my_f()\n",
    "print(b)"
   ]
  },
  {
   "cell_type": "code",
   "execution_count": 72,
   "id": "f584aee5",
   "metadata": {},
   "outputs": [
    {
     "name": "stdout",
     "output_type": "stream",
     "text": [
      "10\n",
      "111\n",
      "333\n",
      "111\n",
      "333\n"
     ]
    }
   ],
   "source": [
    "b = 10\n",
    "\n",
    "\n",
    "def my_f():\n",
    "    b = 111\n",
    "    print(b)\n",
    "    \n",
    "    def in_f():\n",
    "        global b\n",
    "        b = 333\n",
    "        print(b)\n",
    "    in_f()\n",
    "    print(b)\n",
    "    \n",
    "print(b)\n",
    "my_f()\n",
    "print(b)"
   ]
  },
  {
   "cell_type": "code",
   "execution_count": null,
   "id": "874d30d1",
   "metadata": {},
   "outputs": [],
   "source": []
  }
 ],
 "metadata": {
  "kernelspec": {
   "display_name": "Python 3",
   "language": "python",
   "name": "python3"
  },
  "language_info": {
   "codemirror_mode": {
    "name": "ipython",
    "version": 3
   },
   "file_extension": ".py",
   "mimetype": "text/x-python",
   "name": "python",
   "nbconvert_exporter": "python",
   "pygments_lexer": "ipython3",
   "version": "3.8.8"
  }
 },
 "nbformat": 4,
 "nbformat_minor": 5
}
