{
 "cells": [
  {
   "cell_type": "markdown",
   "id": "f43c95a7",
   "metadata": {},
   "source": [
    "# Питон с нуля"
   ]
  },
  {
   "cell_type": "code",
   "execution_count": null,
   "id": "5cf32e3a",
   "metadata": {},
   "outputs": [],
   "source": [
    "# Множества - это не проиндексированные элементы которые находятся в случайном порядке\n",
    "\n",
    "\"\"\"Отличия от других структур данных:\n",
    "1) Елементы не упорядочены, и находятся в случайном порядке\n",
    "2) Все елементы уникальны и не содержат дубликатов\n",
    "3) Елементы множества не изменяемы, но само множество изменить можно.\"\"\""
   ]
  },
  {
   "cell_type": "code",
   "execution_count": 1,
   "id": "a2d69d6c",
   "metadata": {},
   "outputs": [
    {
     "name": "stdout",
     "output_type": "stream",
     "text": [
      "<class 'set'>\n"
     ]
    }
   ],
   "source": [
    "# Создаем множество при помощи фигурных скобок {}\n",
    "\n",
    "numbers = {1, 2, 4, 67}\n",
    "print(type(numbers))"
   ]
  },
  {
   "cell_type": "code",
   "execution_count": 4,
   "id": "0172d758",
   "metadata": {},
   "outputs": [
    {
     "name": "stdout",
     "output_type": "stream",
     "text": [
      "<class 'set'>\n"
     ]
    }
   ],
   "source": [
    "# Пустые фигурные скобки создают словари, для содания множества используем set\n",
    "\n",
    "numbers = set()\n",
    "print(type(numbers))"
   ]
  },
  {
   "cell_type": "code",
   "execution_count": 6,
   "id": "7b2f752b",
   "metadata": {},
   "outputs": [
    {
     "name": "stdout",
     "output_type": "stream",
     "text": [
      "{1, 3, 4, 5}\n"
     ]
    }
   ],
   "source": [
    "# Множества удобны тем, что не содержат дубликатов, все элементы уникальны\n",
    "\n",
    "numbers = set([1, 1, 3, 4, 3, 5])\n",
    "print(numbers)"
   ]
  },
  {
   "cell_type": "code",
   "execution_count": 7,
   "id": "23c17601",
   "metadata": {},
   "outputs": [
    {
     "name": "stdout",
     "output_type": "stream",
     "text": [
      "1\n",
      "2\n",
      "3\n",
      "4\n",
      "5\n",
      "6\n",
      "7\n",
      "8\n",
      "9\n"
     ]
    }
   ],
   "source": [
    "# Выводим на экран элементы множества по порядку\n",
    "\n",
    "numbers = {1, 2, 3, 4, 5, 6, 7, 8, 9}\n",
    "\n",
    "for num in numbers:\n",
    "    print(num)"
   ]
  },
  {
   "cell_type": "code",
   "execution_count": 8,
   "id": "0dd09f07",
   "metadata": {},
   "outputs": [
    {
     "name": "stdout",
     "output_type": "stream",
     "text": [
      "True\n"
     ]
    }
   ],
   "source": [
    "# Вы водим конкретный элемнт\n",
    "\n",
    "numbers = {1, 2, 3, 4, 5, 6, 7, 8, 9}\n",
    "\n",
    "print(3 in numbers) # С помощью операции in можем проверять наличие элемента"
   ]
  },
  {
   "cell_type": "code",
   "execution_count": 9,
   "id": "01c90199",
   "metadata": {},
   "outputs": [
    {
     "name": "stdout",
     "output_type": "stream",
     "text": [
      "{1, 2, 3, 4, 5, 6, 7, 8, 9, 58}\n"
     ]
    }
   ],
   "source": [
    "# Можно добавлять в множество како-то элемент методом add()\n",
    "\n",
    "numbers = {1, 2, 3, 4, 5, 6, 7, 8, 9}\n",
    "numbers.add(58)\n",
    "\n",
    "print(numbers)"
   ]
  },
  {
   "cell_type": "code",
   "execution_count": 10,
   "id": "901b6f35",
   "metadata": {},
   "outputs": [
    {
     "name": "stdout",
     "output_type": "stream",
     "text": [
      "{1, 2, 3, 4, 5, 6, 7, 8, 9}\n"
     ]
    }
   ],
   "source": [
    "# Удалить элементы из множества можно с помощью discard и remove\n",
    "\n",
    "numbers = {1, 2, 3, 4, 5, 6, 7, 8, 9}\n",
    "numbers.discard(58) # если елемент отсутствует не выводит ошибку\n",
    "print(numbers) # удобно когда просто нужно удалить и без разници был элемент или нет"
   ]
  },
  {
   "cell_type": "code",
   "execution_count": null,
   "id": "1fd5f39b",
   "metadata": {},
   "outputs": [],
   "source": [
    "# Удалить элементы из множества можно с помощью discard и remove\n",
    "\n",
    "numbers = {1, 2, 3, 4, 5, 6, 7, 8, 9}\n",
    "numbers.remove(58) # выводит ошибку если елемент отсутствует в множестве\n",
    "print(numbers) # remove удобен когда нужно определить присутствовал данный элемент в множестве или нет"
   ]
  },
  {
   "cell_type": "code",
   "execution_count": 12,
   "id": "c8b449f0",
   "metadata": {},
   "outputs": [
    {
     "name": "stdout",
     "output_type": "stream",
     "text": [
      "{2, 3, 4, 5, 6, 7, 8, 9}\n"
     ]
    }
   ],
   "source": [
    "# Метод pop() удаляет случайный элемент множества\n",
    "\n",
    "numbers = {1, 2, 3, 4, 5, 6, 7, 8, 9}\n",
    "numbers.pop() \n",
    "print(numbers)"
   ]
  },
  {
   "cell_type": "code",
   "execution_count": 13,
   "id": "779a9624",
   "metadata": {},
   "outputs": [
    {
     "name": "stdout",
     "output_type": "stream",
     "text": [
      "set()\n"
     ]
    }
   ],
   "source": [
    "# Метод clear удаляет все элементы из множества\n",
    "\n",
    "numbers = {1, 2, 3, 4, 5, 6, 7, 8, 9}\n",
    "numbers.clear() \n",
    "print(numbers)"
   ]
  },
  {
   "cell_type": "code",
   "execution_count": 22,
   "id": "cbfa7692",
   "metadata": {},
   "outputs": [
    {
     "name": "stdout",
     "output_type": "stream",
     "text": [
      "{1, 2, 3, 4, 5, 6, 7, 8, 9, 65, 74, 46, 82}\n"
     ]
    }
   ],
   "source": [
    "# Объединим множества методом union()\n",
    "\n",
    "numbers = {1, 2, 3, 4, 5, 6, 7, 8, 9}\n",
    "numbers2 = {1, 2, 3, 46, 5, 65, 74, 82, 9}\n",
    "numbers3 = numbers.union((numbers2))\n",
    "print(numbers3) # Т.к множества не содержат дубликатов оно выведет толко уникальные числа"
   ]
  },
  {
   "cell_type": "code",
   "execution_count": 21,
   "id": "14cff3f7",
   "metadata": {},
   "outputs": [
    {
     "name": "stdout",
     "output_type": "stream",
     "text": [
      "{1, 2, 3, 4, 5, 6, 7, 8, 9, 65, 74, 46, 82}\n"
     ]
    }
   ],
   "source": [
    "# еще один способ обединения множеств с помощью |\n",
    "\n",
    "numbers = {1, 2, 3, 4, 5, 6, 7, 8, 9}\n",
    "numbers2 = {1, 2, 3, 46, 5, 65, 74, 82, 9}\n",
    "numbers3 = numbers | numbers2\n",
    "print(numbers3)"
   ]
  },
  {
   "cell_type": "code",
   "execution_count": 20,
   "id": "1d223e8d",
   "metadata": {},
   "outputs": [
    {
     "name": "stdout",
     "output_type": "stream",
     "text": [
      "{1, 2, 3, 5, 9}\n"
     ]
    }
   ],
   "source": [
    "# Методом intersection() делаем пересечения множеств\n",
    "\n",
    "numbers = {1, 2, 3, 4, 5, 6, 7, 8, 9}\n",
    "numbers2 = {1, 2, 3, 46, 5, 65, 74, 82, 9}\n",
    "numbers3 = numbers.intersection(numbers2)\n",
    "print(numbers3)"
   ]
  },
  {
   "cell_type": "code",
   "execution_count": 19,
   "id": "ab9c6fae",
   "metadata": {},
   "outputs": [
    {
     "name": "stdout",
     "output_type": "stream",
     "text": [
      "{1, 2, 3, 5, 9}\n"
     ]
    }
   ],
   "source": [
    "# аналогия с символом & \n",
    "\n",
    "numbers = {1, 2, 3, 4, 5, 6, 7, 8, 9}\n",
    "numbers2 = {1, 2, 3, 46, 5, 65, 74, 82, 9}\n",
    "numbers3 = numbers & numbers2\n",
    "print(numbers3)"
   ]
  },
  {
   "cell_type": "code",
   "execution_count": 23,
   "id": "f9669fc7",
   "metadata": {},
   "outputs": [
    {
     "name": "stdout",
     "output_type": "stream",
     "text": [
      "{8, 4, 6, 7}\n"
     ]
    }
   ],
   "source": [
    "# Разница между множествами\n",
    "\n",
    "numbers = {1, 2, 3, 4, 5, 6, 7, 8, 9}\n",
    "numbers2 = {1, 2, 3, 46, 5, 65, 74, 82, 9}\n",
    "numbers3 = numbers - numbers2 # Выводит элементы которые есть в numbers но нет в numbers2\n",
    "print(numbers3)"
   ]
  },
  {
   "cell_type": "code",
   "execution_count": 24,
   "id": "ac093322",
   "metadata": {},
   "outputs": [
    {
     "name": "stdout",
     "output_type": "stream",
     "text": [
      "{65, 74, 82, 46}\n"
     ]
    }
   ],
   "source": [
    "# Разница между множествами\n",
    "\n",
    "numbers = {1, 2, 3, 4, 5, 6, 7, 8, 9}\n",
    "numbers2 = {1, 2, 3, 46, 5, 65, 74, 82, 9}\n",
    "numbers3 = numbers2 - numbers # Обратный анолог\n",
    "print(numbers3)"
   ]
  },
  {
   "cell_type": "code",
   "execution_count": 25,
   "id": "464df1bc",
   "metadata": {},
   "outputs": [
    {
     "name": "stdout",
     "output_type": "stream",
     "text": [
      "{1, 2, 3, 65, 5, 9, 74, 46, 82}\n"
     ]
    }
   ],
   "source": [
    "# Метод copy() копирует элементы одного в другое множество\n",
    "\n",
    "numbers = {1, 2, 3, 4, 5, 6, 7, 8, 9}\n",
    "numbers2 = {1, 2, 3, 46, 5, 65, 74, 82, 9}\n",
    "numbers3 = numbers2.copy()\n",
    "print(numbers3)"
   ]
  },
  {
   "cell_type": "code",
   "execution_count": 26,
   "id": "45069975",
   "metadata": {},
   "outputs": [
    {
     "name": "stdout",
     "output_type": "stream",
     "text": [
      "9\n"
     ]
    }
   ],
   "source": [
    "# Метод len() пзволяет определить длинну множества\n",
    "\n",
    "numbers = {1, 2, 3, 4, 5, 6, 7, 8, 9}\n",
    "numbers2 = {1, 2, 3, 46, 5, 65, 74, 82, 9}\n",
    "numbers3 = numbers2.copy()\n",
    "print(len(numbers3))"
   ]
  },
  {
   "cell_type": "code",
   "execution_count": 27,
   "id": "b4ccb617",
   "metadata": {},
   "outputs": [
    {
     "ename": "AttributeError",
     "evalue": "'frozenset' object has no attribute 'add'",
     "output_type": "error",
     "traceback": [
      "\u001b[1;31m---------------------------------------------------------------------------\u001b[0m",
      "\u001b[1;31mAttributeError\u001b[0m                            Traceback (most recent call last)",
      "\u001b[1;32m<ipython-input-27-05bd944fe3df>\u001b[0m in \u001b[0;36m<module>\u001b[1;34m\u001b[0m\n\u001b[0;32m      2\u001b[0m \u001b[1;33m\u001b[0m\u001b[0m\n\u001b[0;32m      3\u001b[0m \u001b[0mnumbers\u001b[0m \u001b[1;33m=\u001b[0m \u001b[0mfrozenset\u001b[0m\u001b[1;33m(\u001b[0m\u001b[1;33m{\u001b[0m\u001b[1;36m1\u001b[0m\u001b[1;33m,\u001b[0m \u001b[1;36m2\u001b[0m\u001b[1;33m,\u001b[0m \u001b[1;36m3\u001b[0m\u001b[1;33m,\u001b[0m \u001b[1;36m4\u001b[0m\u001b[1;33m,\u001b[0m \u001b[1;36m5\u001b[0m\u001b[1;33m,\u001b[0m \u001b[1;36m6\u001b[0m\u001b[1;33m,\u001b[0m \u001b[1;36m7\u001b[0m\u001b[1;33m,\u001b[0m \u001b[1;36m8\u001b[0m\u001b[1;33m,\u001b[0m \u001b[1;36m9\u001b[0m\u001b[1;33m}\u001b[0m\u001b[1;33m)\u001b[0m\u001b[1;33m\u001b[0m\u001b[1;33m\u001b[0m\u001b[0m\n\u001b[1;32m----> 4\u001b[1;33m \u001b[0mnumbers\u001b[0m\u001b[1;33m.\u001b[0m\u001b[0madd\u001b[0m\u001b[1;33m(\u001b[0m\u001b[1;36m8\u001b[0m\u001b[1;33m)\u001b[0m\u001b[1;33m\u001b[0m\u001b[1;33m\u001b[0m\u001b[0m\n\u001b[0m\u001b[0;32m      5\u001b[0m \u001b[0mprint\u001b[0m\u001b[1;33m(\u001b[0m\u001b[0mnumbers\u001b[0m\u001b[1;33m)\u001b[0m\u001b[1;33m\u001b[0m\u001b[1;33m\u001b[0m\u001b[0m\n",
      "\u001b[1;31mAttributeError\u001b[0m: 'frozenset' object has no attribute 'add'"
     ]
    }
   ],
   "source": [
    "# Содздать пустое неизменяемое множество можно функцией frozen set\n",
    "\n",
    "numbers = frozenset({1, 2, 3, 4, 5, 6, 7, 8, 9})\n",
    "numbers.add(8)\n",
    "print(numbers)"
   ]
  },
  {
   "cell_type": "code",
   "execution_count": null,
   "id": "dc28e3ff",
   "metadata": {},
   "outputs": [],
   "source": []
  }
 ],
 "metadata": {
  "kernelspec": {
   "display_name": "Python 3",
   "language": "python",
   "name": "python3"
  },
  "language_info": {
   "codemirror_mode": {
    "name": "ipython",
    "version": 3
   },
   "file_extension": ".py",
   "mimetype": "text/x-python",
   "name": "python",
   "nbconvert_exporter": "python",
   "pygments_lexer": "ipython3",
   "version": "3.8.8"
  }
 },
 "nbformat": 4,
 "nbformat_minor": 5
}
