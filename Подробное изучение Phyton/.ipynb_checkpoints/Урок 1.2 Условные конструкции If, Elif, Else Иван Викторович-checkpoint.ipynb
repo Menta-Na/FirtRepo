{
 "cells": [
  {
   "cell_type": "markdown",
   "id": "1240a444",
   "metadata": {},
   "source": [
    "# Питон для начинающих (Иван Викторович)"
   ]
  },
  {
   "cell_type": "code",
   "execution_count": null,
   "id": "0bd2824e",
   "metadata": {},
   "outputs": [],
   "source": [
    "x1 = int(input(\"Введите число\"))\n",
    "if x1 > 0:\n",
    "    print(\"Число положительное\")\n",
    "else:\n",
    "    print(\"Число отрицательное\")"
   ]
  },
  {
   "cell_type": "code",
   "execution_count": null,
   "id": "e6dde11a",
   "metadata": {},
   "outputs": [],
   "source": [
    "x1 = int(input(\"Введите число\"))\n",
    "if x1 > 0:\n",
    "    print(\"Число положительное\")\n",
    "elif x1 == 0:\n",
    "    print(\"Число равно 0\")\n",
    "else:\n",
    "    print(\"Число отрицательное\")"
   ]
  },
  {
   "cell_type": "code",
   "execution_count": null,
   "id": "84626ac8",
   "metadata": {},
   "outputs": [],
   "source": []
  },
  {
   "cell_type": "code",
   "execution_count": null,
   "id": "82c3f9f8",
   "metadata": {},
   "outputs": [],
   "source": [
    "# Пример\n",
    "name = input()\n",
    "if name = True:\n",
    "    print(name)\n",
    "else:\n",
    "    print(\"Вы ничего не ввели\")"
   ]
  },
  {
   "cell_type": "code",
   "execution_count": null,
   "id": "cc8a3461",
   "metadata": {},
   "outputs": [],
   "source": [
    "# Выводится значение == True\n",
    "\n",
    "a = True\n",
    "b = False\n",
    "if a:\n",
    "    if b:\n",
    "        print(1)\n",
    "    else:\n",
    "        print(2)\n",
    "else:\n",
    "    if b:\n",
    "        print(3)\n",
    "    else:\n",
    "        print(4)\n"
   ]
  },
  {
   "cell_type": "code",
   "execution_count": null,
   "id": "4a86b1b5",
   "metadata": {},
   "outputs": [],
   "source": []
  },
  {
   "cell_type": "code",
   "execution_count": null,
   "id": "455dd49c",
   "metadata": {},
   "outputs": [],
   "source": [
    "a = int(input())\n",
    "if 10 < a < 20:\n",
    "    print(a)"
   ]
  },
  {
   "cell_type": "code",
   "execution_count": null,
   "id": "3b8b4018",
   "metadata": {},
   "outputs": [],
   "source": [
    "# Логические операторы возвращают True\n",
    "# and - когда все значения равны True\n",
    "# or - когда одно из значений равно True\n",
    "\n",
    "\n",
    "a = int(input())\n",
    "if (a == 10) or (a == 20) or (a == 30):\n",
    "    print(10, 20, 30)\n",
    "elif a > 10 and a < 100:\n",
    "    print(10, 100)\n",
    "else:\n",
    "    print(a)"
   ]
  },
  {
   "cell_type": "code",
   "execution_count": null,
   "id": "df862402",
   "metadata": {},
   "outputs": [],
   "source": [
    "# Применим оператор pass\n",
    "# он пропускает ход\n",
    "\n",
    "a = int(input())\n",
    "if (a == 10) or (a == 20) or (a == 30):\n",
    "    print(10, 20, 30)\n",
    "elif a < 10:\n",
    "    pass\n",
    "else:\n",
    "    print(a)"
   ]
  },
  {
   "cell_type": "code",
   "execution_count": null,
   "id": "0ee0f2a2",
   "metadata": {},
   "outputs": [],
   "source": [
    "# Тернарный оператор\n",
    "\n",
    "a = int(input())\n",
    "if a < 20:\n",
    "    number = a\n",
    "else:\n",
    "    number = 100\n",
    "print(number)"
   ]
  },
  {
   "cell_type": "markdown",
   "id": "d82f1768",
   "metadata": {},
   "source": [
    "# Упрощение с тернарным оператором\n",
    "\n",
    "a = int(input())\n",
    "number = a if a < 20 else 100\n",
    "print(number)"
   ]
  },
  {
   "cell_type": "code",
   "execution_count": null,
   "id": "a142f842",
   "metadata": {},
   "outputs": [],
   "source": [
    "# Конструкция Mage\n",
    "\n",
    "print(\"1 - Комедии\")\n",
    "print(\"1 - Фантастика\")\n",
    "print(\"1 - Ужисы\")\n",
    "genre = int(input(\"Какой жанр Вас интересует?\"))\n",
    "\n",
    "\n",
    "# Эта функция работает в Pyton 3.10\n",
    "match genre:\n",
    "    case 1:\n",
    "        print(\"Один дома\")\n",
    "    case 2:\n",
    "        print(\"Звездные войны\")\n",
    "    case 3:\n",
    "        print(\"Астрал\")\n",
    "        \n",
    "    case _:\n",
    "        print(\"Dfdfdf\")\n",
    "        \n",
    "        \n",
    "        "
   ]
  },
  {
   "cell_type": "markdown",
   "id": "e96e871c",
   "metadata": {},
   "source": [
    "# Задания"
   ]
  },
  {
   "cell_type": "code",
   "execution_count": null,
   "id": "acb08212",
   "metadata": {},
   "outputs": [],
   "source": [
    "#Напишите программу которая определяет найбольшее и найменьшее из чисел введенных пользователем\n",
    "\n",
    "\n",
    "chislo1 = int(input(\"Введите число 1\"))\n",
    "chislo2 = int(input(\"Введите число 1\"))\n",
    "\n",
    "if chislo1 > chislo2:\n",
    "    print(\"Число :\", chislo1, \"больше чем \", chislo2)\n",
    "else:\n",
    "    print(\"Число :\", chislo2, \"больше чем \", chislo1)"
   ]
  },
  {
   "cell_type": "code",
   "execution_count": null,
   "id": "41bd89aa",
   "metadata": {},
   "outputs": [],
   "source": [
    "#Напишите программу которая проверяет является ли введенное пользователем число четным\n",
    "\n",
    "chislo3 = int(input(\"Введите число\"))\n",
    "if chislo3 % 2 == 0:\n",
    "    print(\"Вы ввели четное число\")\n",
    "else:\n",
    "    print(\"Вы ввели нечетное число\")"
   ]
  },
  {
   "cell_type": "code",
   "execution_count": null,
   "id": "c2e3ff9a",
   "metadata": {},
   "outputs": [],
   "source": [
    "#Напишите программу, которая, получает на вход 2 числа (большее и меньшее). Определить, кратно ли первое число второму. Вывести на экран сообщение об этом, а также остаток от деления, если первое число не кратно второму.\n",
    "\n",
    "chislo4 = int(input(\"Введите число 1\"))\n",
    "chislo5 = int(input(\"Введите число 2\"))\n",
    "ostatok = chislo4 % chislo5\n",
    "\n",
    "if chislo4 % chislo5 == 0:\n",
    "    print(\"Число \", chislo4, \" кратно числу\", chislo5)\n",
    "else:\n",
    "    print(\"Число \", chislo4, \" не кратно числу\", chislo5, \" остаток от деления равен :\", ostatok)"
   ]
  },
  {
   "cell_type": "code",
   "execution_count": null,
   "id": "a847beb4",
   "metadata": {},
   "outputs": [],
   "source": [
    "#Напишите программу, которая, получает на вход три числа. Выведите сумму наибольшего и наименьшего из трёх чисел.\n",
    "\n",
    "val1 = int(input(\"Введите число 1\"))\n",
    "val2 = int(input(\"Введите число 2\"))\n",
    "val3 = int(input(\"Введите число 3\"))\n",
    "\n",
    "if val1 >= val2 >= val3:\n",
    "    print(val1 + val3)\n",
    "elif val1 >= val3 >= val2:\n",
    "    print(val1 + val2)\n",
    "elif val2 >= val1 >= val3:\n",
    "    print(val2 + val3)\n",
    "elif val2 >= val3 >= val1:\n",
    "    print(val2 + val1)\n",
    "elif val3 >= val1 >= val2:\n",
    "    print(val3 + val2)\n",
    "elif val3 >= val2 >= val1:\n",
    "    print(val3 + val1)\n",
    "    \n"
   ]
  },
  {
   "cell_type": "code",
   "execution_count": 2,
   "id": "05a78c37",
   "metadata": {},
   "outputs": [
    {
     "name": "stdout",
     "output_type": "stream",
     "text": [
      "Введите год: 2024\n",
      "Год является високосным\n"
     ]
    }
   ],
   "source": [
    "#Напишите программу, определяющую является ли введённый пользователем год високосным.\n",
    "\n",
    "\n",
    "year = int(input(\"Введите год: \"))\n",
    "if year % 4 == 0 and year != 100:\n",
    "    print(\"Год является високосным\")\n",
    "else:\n",
    "    print(\"Год не является високосным\")"
   ]
  },
  {
   "cell_type": "code",
   "execution_count": 8,
   "id": "e380489a",
   "metadata": {},
   "outputs": [
    {
     "name": "stdout",
     "output_type": "stream",
     "text": [
      "1. Январь\n",
      "2. Февраль\n",
      "3. Март\n",
      "4. Арпрель\n",
      "5. Май\n",
      "6. Июнь\n",
      "7. Июль\n",
      "8. Август\n",
      "9. Сентябрь\n",
      "10. Октябрь\n",
      "11. Ноябрь\n",
      "12. Декабрь\n",
      "Выберите месяц вашего рождения: 12\n",
      "Вы родились зимой\n"
     ]
    }
   ],
   "source": [
    "# Программа определяющая время года рождения\n",
    "\n",
    "print (\"1. Январь\")\n",
    "print (\"2. Февраль\")\n",
    "print (\"3. Март\")\n",
    "print (\"4. Арпрель\")\n",
    "print (\"5. Май\")\n",
    "print (\"6. Июнь\")\n",
    "print (\"7. Июль\")\n",
    "print (\"8. Август\")\n",
    "print (\"9. Сентябрь\")\n",
    "print (\"10. Октябрь\")\n",
    "print (\"11. Ноябрь\")\n",
    "print (\"12. Декабрь\")\n",
    "\n",
    "mouth = int(input(\"Выберите месяц вашего рождения: \"))\n",
    "\n",
    "if mouth == 1 or mouth == 2 or mouth == 12:\n",
    "    print(\"Вы родились зимой\")\n",
    "elif mouth == 3 or mouth == 4 or mouth == 5:\n",
    "    print(\"Вы родились весной\")\n",
    "elif mouth == 6 or mouth == 7 or mouth == 8:\n",
    "    print(\"Вы родились летом\")\n",
    "elif mouth == 9 or mouth == 10 or mouth == 11:\n",
    "    print(\"Вы родились осень\")\n",
    "else:\n",
    "    print(\"Вы ввели не корректное значение\")\n"
   ]
  },
  {
   "cell_type": "code",
   "execution_count": null,
   "id": "d91d1c70",
   "metadata": {},
   "outputs": [],
   "source": []
  }
 ],
 "metadata": {
  "kernelspec": {
   "display_name": "Python 3",
   "language": "python",
   "name": "python3"
  },
  "language_info": {
   "codemirror_mode": {
    "name": "ipython",
    "version": 3
   },
   "file_extension": ".py",
   "mimetype": "text/x-python",
   "name": "python",
   "nbconvert_exporter": "python",
   "pygments_lexer": "ipython3",
   "version": "3.8.8"
  }
 },
 "nbformat": 4,
 "nbformat_minor": 5
}
