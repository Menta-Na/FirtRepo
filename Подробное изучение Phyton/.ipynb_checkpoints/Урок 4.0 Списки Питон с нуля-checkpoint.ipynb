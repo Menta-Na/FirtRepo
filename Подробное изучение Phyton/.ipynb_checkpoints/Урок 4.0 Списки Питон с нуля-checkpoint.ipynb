{
 "cells": [
  {
   "cell_type": "markdown",
   "id": "f7802869",
   "metadata": {},
   "source": [
    "# Питон с нуля"
   ]
  },
  {
   "cell_type": "code",
   "execution_count": null,
   "id": "bf79804c",
   "metadata": {},
   "outputs": [],
   "source": [
    "spisok =[]\n",
    "numbers = [3, 4, 5, 9, 10]\n",
    "print(numbers)\n",
    "numbers = [3, 5, 34.1, 'name']\n",
    "print(numbers)\n",
    "numbers = [3, 5, 34.1, [45.7]]\n",
    "print(numbers)\n"
   ]
  },
  {
   "cell_type": "code",
   "execution_count": null,
   "id": "f2ee4443",
   "metadata": {},
   "outputs": [],
   "source": [
    "name1 = 'Кеша'\n",
    "name2 = 'Толик'\n",
    "name3 = 'Попугай'\n",
    "print(name1)\n",
    "print(name2)\n",
    "print(name3)"
   ]
  },
  {
   "cell_type": "code",
   "execution_count": null,
   "id": "e7537ae1",
   "metadata": {},
   "outputs": [],
   "source": [
    "names = ['Кеша', 'Толик', 'Попугай']\n",
    "print(names[1])"
   ]
  },
  {
   "cell_type": "code",
   "execution_count": null,
   "id": "f994b328",
   "metadata": {},
   "outputs": [],
   "source": [
    "names = ['Кеша', 'Толик', 'Попугай']\n",
    "print(names[-1])"
   ]
  },
  {
   "cell_type": "code",
   "execution_count": null,
   "id": "cccd7251",
   "metadata": {},
   "outputs": [],
   "source": [
    "# Используем цикл for\n",
    "\n",
    "for name in names:\n",
    "    print(name)"
   ]
  },
  {
   "cell_type": "code",
   "execution_count": null,
   "id": "3ffcdfff",
   "metadata": {},
   "outputs": [],
   "source": [
    "# Используем метод apprnd для добавления значения в конец списка:\n",
    "\n",
    "names.append(\"Попугай 1\")\n",
    "print(names)"
   ]
  },
  {
   "cell_type": "code",
   "execution_count": null,
   "id": "6da62a98",
   "metadata": {},
   "outputs": [],
   "source": [
    "# Метод pop удаляет последний элемент из списка\n",
    "\n",
    "names.pop()\n",
    "print(names)"
   ]
  },
  {
   "cell_type": "code",
   "execution_count": null,
   "id": "fe900cf4",
   "metadata": {},
   "outputs": [],
   "source": [
    "# Метод индекс \n",
    "\n",
    "n = names.index('Толик')\n",
    "print(n)\n"
   ]
  },
  {
   "cell_type": "code",
   "execution_count": null,
   "id": "2a9173a9",
   "metadata": {},
   "outputs": [],
   "source": [
    "# Функция Len измеряет дллинну списка\n",
    "\n",
    "print(len(names))"
   ]
  },
  {
   "cell_type": "code",
   "execution_count": null,
   "id": "14e2e6bc",
   "metadata": {},
   "outputs": [],
   "source": [
    "# Метод sort сортирует по порядку\n",
    "\n",
    "numbers = [4, 6, 81, 95, 108, 56]\n",
    "numbers.sort()\n",
    "print(numbers)"
   ]
  },
  {
   "cell_type": "code",
   "execution_count": null,
   "id": "8a6e45c9",
   "metadata": {},
   "outputs": [],
   "source": [
    "# Метод reverse сортирует наоборот\n",
    "\n",
    "numbers = [4, 6, 81, 95, 108, 56]\n",
    "numbers.reverse()\n",
    "print(numbers)\n"
   ]
  },
  {
   "cell_type": "code",
   "execution_count": null,
   "id": "4f8950dc",
   "metadata": {},
   "outputs": [],
   "source": [
    "# Меняем элемент в списке\n",
    "\n",
    "numbers = [4, 6, 56, 81, 95, 108]\n",
    "\n",
    "numbers[1] = '8'\n",
    "print(numbers)"
   ]
  },
  {
   "cell_type": "code",
   "execution_count": null,
   "id": "6d599945",
   "metadata": {},
   "outputs": [],
   "source": [
    "# Метод sort работает только с одним типом данных\n",
    "\n",
    "letters = ['BBBB', 'ggggg', 'ffaff']\n",
    "\n",
    "letters.sort\n",
    "print(letters)\n"
   ]
  }
 ],
 "metadata": {
  "kernelspec": {
   "display_name": "Python 3",
   "language": "python",
   "name": "python3"
  },
  "language_info": {
   "codemirror_mode": {
    "name": "ipython",
    "version": 3
   },
   "file_extension": ".py",
   "mimetype": "text/x-python",
   "name": "python",
   "nbconvert_exporter": "python",
   "pygments_lexer": "ipython3",
   "version": "3.8.8"
  }
 },
 "nbformat": 4,
 "nbformat_minor": 5
}
