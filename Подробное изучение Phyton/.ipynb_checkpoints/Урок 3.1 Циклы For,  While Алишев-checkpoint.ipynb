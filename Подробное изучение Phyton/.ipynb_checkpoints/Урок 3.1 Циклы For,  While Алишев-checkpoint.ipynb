{
 "cells": [
  {
   "cell_type": "markdown",
   "id": "0858f8aa",
   "metadata": {},
   "source": [
    "# Цикл For (Наиль)"
   ]
  },
  {
   "cell_type": "code",
   "execution_count": null,
   "id": "7d4579d2",
   "metadata": {},
   "outputs": [],
   "source": [
    "L = ['Hey', 'Hello', 'Goodbay']\n",
    "\n",
    "print(L[0])\n",
    "print(L[1])\n",
    "print(L[2])\n"
   ]
  },
  {
   "cell_type": "code",
   "execution_count": null,
   "id": "0afea35d",
   "metadata": {},
   "outputs": [],
   "source": [
    "for element in L:\n",
    "    print(element)"
   ]
  },
  {
   "cell_type": "code",
   "execution_count": null,
   "id": "e8399b45",
   "metadata": {},
   "outputs": [],
   "source": [
    "H = [20, 30, 50, 60]\n",
    "\n",
    "for num in H:\n",
    "    print(num)\n",
    "    print(num)"
   ]
  },
  {
   "cell_type": "code",
   "execution_count": null,
   "id": "eeb1a58a",
   "metadata": {},
   "outputs": [],
   "source": [
    "#Суммируем числа в списке H\n",
    "\n",
    "total_sum = 0\n",
    "for num in H:\n",
    "    total_sum += num\n",
    "print(total_sum)"
   ]
  },
  {
   "cell_type": "code",
   "execution_count": null,
   "id": "b29eadb6",
   "metadata": {},
   "outputs": [],
   "source": [
    "print(list(range(1, 5)))"
   ]
  },
  {
   "cell_type": "code",
   "execution_count": null,
   "id": "54d7a120",
   "metadata": {},
   "outputs": [],
   "source": [
    "for i in range(1, 5):\n",
    "    print(i)"
   ]
  },
  {
   "cell_type": "code",
   "execution_count": null,
   "id": "03e0d15d",
   "metadata": {},
   "outputs": [],
   "source": [
    "# Суммируем числа в диапазоне от 1 до 5\n",
    "\n",
    "\n",
    "total_sum2 = 0\n",
    "for i in range(1, 5):\n",
    "    total_sum2 += i\n",
    "    \n",
    "print(total_sum2)"
   ]
  },
  {
   "cell_type": "code",
   "execution_count": null,
   "id": "7cd5c3fe",
   "metadata": {},
   "outputs": [],
   "source": [
    "print(list(range(1, 100)))"
   ]
  },
  {
   "cell_type": "code",
   "execution_count": null,
   "id": "b8cb4527",
   "metadata": {},
   "outputs": [],
   "source": [
    "5 % 3"
   ]
  },
  {
   "cell_type": "code",
   "execution_count": null,
   "id": "4e384d34",
   "metadata": {},
   "outputs": [],
   "source": [
    "#Выводим на экран числа которые делятся на 3 и суммируем их\n",
    "\n",
    "total_sum3 = 0 \n",
    "for i in range(1, 100):\n",
    "    if i % 3 == 0 or i % 5 == 0:\n",
    "        total_sum3 += i\n",
    "        print(i)\n",
    "\n",
    "print(total_sum3)"
   ]
  },
  {
   "cell_type": "markdown",
   "id": "50d8db78",
   "metadata": {},
   "source": [
    "# Самостоятельная работа"
   ]
  },
  {
   "cell_type": "code",
   "execution_count": null,
   "id": "b6bc9a5a",
   "metadata": {},
   "outputs": [],
   "source": [
    "# Мой вариант \n",
    "\n",
    "\n",
    "def my_function(N1, K1):\n",
    "    if N1 > 20:\n",
    "        print(0)\n",
    "        \n",
    "    elif N1 <= 20:\n",
    "        summa = 0\n",
    "        for i in range(1, N1 + 1):\n",
    "            if i % 2 == 0:\n",
    "                print(int(i), 'в степени ', int(K1), 'равно: ', int(i ** K1))\n",
    "                summa += i\n",
    "        print('сумма четных чисел равна: ', int(summa))\n",
    "        \n",
    "my_function(10, 2)\n",
    "\n",
    "           \n",
    "    "
   ]
  },
  {
   "cell_type": "code",
   "execution_count": null,
   "id": "a2490a98",
   "metadata": {},
   "outputs": [],
   "source": [
    "# Вариант нейросети\n",
    "\n",
    "\"\"\"Ваш код представляет функцию my_function, которая принимает два аргумента N1 и K1. В целом, код выглядит хорошо, но есть несколько моментов, которые можно улучшить или уточнить:\n",
    "\n",
    "Условие elif N1 <= 20 излишне, так как, если N1 не больше 20, то это уже следует из предыдущего условия N1 > 20. Можете использовать просто else.\n",
    "\n",
    "Если вы хотите, чтобы функция возвращала значение вместо использования print, вы можете заменить print на return и использовать результат вызова функции вместо print(my_function(10, 2)).\n",
    "\n",
    "Может быть полезным добавить комментарии или строки документации, чтобы объяснить, что делает ваша функция.\n",
    "\n",
    "Исправленный вариант:\"\"\"\n",
    "\n",
    "\n",
    "def my_function(N1, K1):\n",
    "    if N1 > 20:\n",
    "        return 0\n",
    "        \n",
    "    else:\n",
    "        summa = 0\n",
    "        for i in range(1, N1 + 1):\n",
    "            if i % 2 == 0:\n",
    "                print(int(i), 'в степени ', int(K1), 'равно: ', int(i ** K1))\n",
    "                summa += i\n",
    "        print('сумма четных чисел равна: ', int(summa))\n",
    "        return summa\n",
    "\n",
    "result = my_function(10, 2)\n",
    "print(result)"
   ]
  },
  {
   "cell_type": "markdown",
   "id": "09ed9e78",
   "metadata": {},
   "source": [
    "# Второй урок "
   ]
  },
  {
   "cell_type": "code",
   "execution_count": null,
   "id": "c7231935",
   "metadata": {},
   "outputs": [],
   "source": [
    "# Выводим каждый элемент из списка names\n",
    "\n",
    "names = [\"Mike\", \"Tom\", \"Katy\", \"Alex\", \"some element\"]\n",
    "\n",
    "for elements in names:\n",
    "    print(elements)"
   ]
  },
  {
   "cell_type": "code",
   "execution_count": null,
   "id": "8e459b18",
   "metadata": {},
   "outputs": [],
   "source": [
    "# Выводим каждый элемент из списка names с помощью range\n",
    "\n",
    "for i in range(4):# 0, 1, 2, 3\n",
    "    print (names[i])"
   ]
  },
  {
   "cell_type": "code",
   "execution_count": null,
   "id": "2c401cc1",
   "metadata": {},
   "outputs": [],
   "source": [
    "# Правильно писать с помощью функции len\n",
    "\n",
    "for i in range(len(names)):# 0, 1, 2, 3\n",
    "    print (names[i])"
   ]
  },
  {
   "cell_type": "code",
   "execution_count": null,
   "id": "7ae940fc",
   "metadata": {},
   "outputs": [],
   "source": [
    "# ОбЪясни как этот цикл работает ?\n",
    "\n",
    "Этот код представляет собой вложенные циклы for, которые выводят элементы списка names в определенном порядке. Давайте разберем, как это работает:\n",
    "\n",
    "Внешний цикл for i in range(len(names)) перебирает индексы элементов в списке names от 0 до len(names) - 1. i принимает значения 0, 1, 2, 3, и 4, так как длина списка names равна 5.\n",
    "\n",
    "Внутренний цикл for j in range(i + 1) также перебирает индексы, но он начинается с 0 и заканчивается значением i. То есть, на каждой итерации внешнего цикла, он будет перебирать меньшее количество элементов.\n",
    "\n",
    "На каждой итерации внутреннего цикла, он выводит элемент списка names с индексом i. Это означает, что элемент будет выведен несколько раз, причем количество раз будет равно текущему значению i во внешнем цикле.\n",
    "\n",
    "Давайте проиллюстрируем, как работает этот код для каждой итерации внешнего цикла:\n",
    "\n",
    "Первая итерация (i=0): Внутренний цикл выводит \"Mike\" один раз.\n",
    "Вторая итерация (i=1): Внутренний цикл выводит \"Tom\" и \"Tom\" (i+1=2 раза).\n",
    "Третья итерация (i=2): Внутренний цикл выводит \"Katy\", \"Katy\", и \"Katy\" (i+1=3 раза).\n",
    "Четвертая итерация (i=3): Внутренний цикл выводит \"Alex\", \"Alex\", \"Alex\", и \"Alex\" (i+1=4 раза).\n",
    "Пятая итерация (i=4): Внутренний цикл выводит \"some element\", \"some element\", \"some element\", \"some element\", и \"some element\" (i+1=5 раз).\n",
    "Таким образом, код выводит элементы списка names с повторениями, увеличивая количество повторений на каждой итерации внешнего цикла в зависимости от значения i\n",
    "names = [\"Mike\", \"Tom\", \"Katy\", \"Alex\", \"some element\"]\n",
    "\n",
    "for i in range(len(names)):\n",
    "    for j in range(i + 1):\n",
    "        print(names[i])\n",
    "\n",
    "        \n"
   ]
  },
  {
   "cell_type": "markdown",
   "id": "80688645",
   "metadata": {},
   "source": [
    "# Цикл While"
   ]
  },
  {
   "cell_type": "code",
   "execution_count": null,
   "id": "e15b53fd",
   "metadata": {},
   "outputs": [],
   "source": [
    "# Повторим цикл for\n",
    "\n",
    "total = 0\n",
    "\n",
    "for i in range(1, 5):\n",
    "    total += i\n",
    "\n",
    "print(total)"
   ]
  },
  {
   "cell_type": "code",
   "execution_count": null,
   "id": "e2f73832",
   "metadata": {},
   "outputs": [],
   "source": [
    "# Перепишем пример с помощью цикла While\n",
    "\n",
    "total2 = 0\n",
    "# в цикле for есть переменная счетчик в while мы ее заводим сами\n",
    "i1 = 0\n",
    "\n",
    "while i1 < 5:\n",
    "    total2 += i1\n",
    "    i1 += 1\n",
    "\n",
    "print(total2)\n"
   ]
  },
  {
   "cell_type": "code",
   "execution_count": null,
   "id": "14044d94",
   "metadata": {},
   "outputs": [],
   "source": [
    "# Просуммируем все положительные числа\n",
    "# Как работает [i2] в этом коде?\n",
    "\n",
    "\n",
    "# Цикл while перебирает только положительные числа\n",
    "\n",
    "\n",
    "my_list = [7, 5, 4, 4, 3, 2, 1, -5, -10, -15]\n",
    "\n",
    "total3 = 0\n",
    "i2 = 0\n",
    "\n",
    "while my_list[i2] > 0:\n",
    "    total3 += my_list[i2]\n",
    "    i2 += 1\n",
    "\n",
    "print(total3)\n",
    "\n",
    "\n",
    "# сделаем тоже самое с помощью цикла for\n",
    "\n",
    "# Цикл for рассматривает все отрицательные числа\n",
    "\n",
    "total4 = 0\n",
    "for element in my_list:\n",
    "    if element > 0:\n",
    "        total4 += element\n",
    "        print(total3)\n",
    "        \n",
    "print(total3)\n",
    "print(total4)"
   ]
  },
  {
   "cell_type": "code",
   "execution_count": null,
   "id": "9678a4c7",
   "metadata": {},
   "outputs": [],
   "source": [
    "# Перепишим цикл for так, что бы он не рассматривал все элементы\n",
    "\n",
    "total4 = 0\n",
    "for element in my_list:\n",
    "    if element <= 0:\n",
    "        break\n",
    "\n",
    "    total4 += element\n",
    "    \n",
    "print(total3)\n",
    "print(total4)"
   ]
  },
  {
   "cell_type": "code",
   "execution_count": null,
   "id": "f1692d0e",
   "metadata": {},
   "outputs": [],
   "source": [
    "# Выходим из цикла как только сумма становиться больше чем 10\n",
    "my_list = [7, 5, 4, 4, 3, 2, 1, -5, -10, -15]\n",
    "total5 = 0\n",
    "i5 = 0 \n",
    "\n",
    "while total5 < 10 and my_list[i5] > 0:\n",
    "    total5 += my_list[i5]\n",
    "    i5 += 1\n",
    "    \n",
    "print(total5)"
   ]
  },
  {
   "cell_type": "markdown",
   "id": "a351106d",
   "metadata": {},
   "source": [
    "# Самостоятельное задание\n",
    "\n",
    "\n"
   ]
  },
  {
   "cell_type": "code",
   "execution_count": null,
   "id": "29b3a2da",
   "metadata": {},
   "outputs": [],
   "source": [
    "#Нужно найти сумму отрицательных чисел \n",
    "\n",
    "\n",
    "hlist = [7, 5, 4, 4, 3, 2, 1, - 5, -10, -13, -15, -18]\n",
    "summo = 0\n",
    "for i in range(len(hlist)-1,-1,-1):\n",
    "    if hlist[i] >= 0:\n",
    "        break\n",
    "        \n",
    "    #суммирование переносится внутрь условия\n",
    "    summo += hlist[i]\n",
    "        \n",
    "        \n",
    "print(summo)"
   ]
  },
  {
   "cell_type": "code",
   "execution_count": null,
   "id": "95f01ad7",
   "metadata": {},
   "outputs": [],
   "source": [
    "# Вариант 2 \n",
    "\n",
    "# нужно посчитать сумму отрицательных чисел с конца списка\n",
    "\n",
    "hlist = [7, 5, 4, 4, 3, 2, 1, - 5, -10, -13, -15, -18]\n",
    "summo1 = 0\n",
    "i6 = 0\n",
    "\n",
    "while i6 < len((hlist)):\n",
    "    summo1 += hlist[i6]\n",
    "    i6 += 1\n",
    "    \n",
    "print(summo1)"
   ]
  },
  {
   "cell_type": "code",
   "execution_count": null,
   "id": "200b5b56",
   "metadata": {},
   "outputs": [],
   "source": [
    "# Дай мне такую же задачу\n",
    "\n",
    "# Создаем список\n",
    "hlist = [7, 5, 4, 4, 3, 2, 1, -5, -10, -13, -15, -18]\n",
    "\n",
    "# Инициализируем переменные\n",
    "summo1 = 0\n",
    "i6 = -1  # начинаем с последнего элемента списка\n",
    "\n",
    "# Итерируемся по списку, суммируя отрицательные элементы\n",
    "while i6 >= -len(hlist) and hlist[i6] < 0:\n",
    "    summo1 += hlist[i6]\n",
    "    i6 -= 1\n",
    "    \n",
    "# Выводим результат\n",
    "print(summo1)"
   ]
  },
  {
   "cell_type": "code",
   "execution_count": null,
   "id": "6dfbb4e5",
   "metadata": {},
   "outputs": [],
   "source": [
    "Создайте список new_list, содержащий произвольные целые числа. Ваша задача - написать программу на Python, которая найдет сумму всех отрицательных элементов этого списка, начиная с последнего элемента и двигаясь к началу списка, пока не встретится положительный элемент или не достигнется начало списка.\n",
    "\n",
    "Пример списка:\n",
    "\n",
    "python\n",
    "\n",
    "new_list = [11, 8, 6, 5, 4, 3, 2, -7, -12, -14, -17, -20]\n",
    "\n",
    "Ваша программа должна вычислить сумму всех отрицательных элементов, начиная с последнего отрицательного элемента и двигаясь к началу списка. В данном примере ответ должен быть -60.\n",
    "\n",
    "Пожалуйста, предоставьте код на Python, который решает эту задачу, и выведите сумму отрицательных элементов"
   ]
  },
  {
   "cell_type": "code",
   "execution_count": null,
   "id": "a03095fe",
   "metadata": {},
   "outputs": [],
   "source": [
    "\n",
    "# Почему у меня получилось - 70\n",
    "\n",
    "new_list = [11, 8, 6, 5, 4, 3, 2, -7, -12, -14, -17, -20] \n",
    "\n",
    "summa1 = 0\n",
    "i7 = - 1\n",
    "\n",
    "while i7 >= -len(new_list) and new_list[i7] < 0:\n",
    "    summa1 += new_list[i7]\n",
    "    i7 -= 1\n",
    "    \n",
    "print(summa1)\n"
   ]
  },
  {
   "cell_type": "code",
   "execution_count": 1,
   "id": "25c1a40a",
   "metadata": {},
   "outputs": [
    {
     "name": "stdout",
     "output_type": "stream",
     "text": [
      "-70\n"
     ]
    }
   ],
   "source": [
    "# Составь мне такое же задание\n",
    "\n",
    "# Создаем список\n",
    "new_list = [11, 8, 6, 5, 4, 3, 2, -7, -12, -14, -17, -20]\n",
    "\n",
    "# Инициализируем переменные\n",
    "sum_negative = 0\n",
    "index = -1  # начинаем с последнего элемента списка\n",
    "\n",
    "# Итерируемся по списку, суммируя отрицательные элементы\n",
    "while index >= -len(new_list) and new_list[index] < 0:\n",
    "    sum_negative += new_list[index]\n",
    "    index -= 1\n",
    "    \n",
    "# Выводим результат\n",
    "print(sum_negative)"
   ]
  },
  {
   "cell_type": "code",
   "execution_count": null,
   "id": "eecc9dac",
   "metadata": {},
   "outputs": [],
   "source": []
  }
 ],
 "metadata": {
  "kernelspec": {
   "display_name": "Python 3",
   "language": "python",
   "name": "python3"
  },
  "language_info": {
   "codemirror_mode": {
    "name": "ipython",
    "version": 3
   },
   "file_extension": ".py",
   "mimetype": "text/x-python",
   "name": "python",
   "nbconvert_exporter": "python",
   "pygments_lexer": "ipython3",
   "version": "3.8.8"
  }
 },
 "nbformat": 4,
 "nbformat_minor": 5
}
