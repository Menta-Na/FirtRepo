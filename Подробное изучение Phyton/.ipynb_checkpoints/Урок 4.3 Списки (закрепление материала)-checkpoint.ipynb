{
 "cells": [
  {
   "cell_type": "code",
   "execution_count": null,
   "id": "ca02edc9",
   "metadata": {},
   "outputs": [],
   "source": [
    "# Решить домашнее задание завтра\n",
    "\n",
    "\"\"\"Домашнее задание:\n",
    "I)\n",
    "Написать программу, создающую список из введенной пользователем строки цифр (без пробелов). Вывести все элементы строки, \n",
    "которые имеют нечетные индексы.\n",
    "\n",
    "II)\n",
    "Напишите программу, которая получает на вход натуральное число. Создать и вывести список, \n",
    "заполненный квадратами четных чисел, делящихся на 5, от 1 до введенного числа.\n",
    "\n",
    "III)\n",
    "Написать программу, определяющую является ли введенный номер билета - \"счастливым\".\n",
    "Билет называют «счастливым», если в его номере сумма первых трех цифр равна сумме последних трех.\n",
    "Номер билета может быть от 000000 до 999999.\"\"\""
   ]
  },
  {
   "cell_type": "code",
   "execution_count": null,
   "id": "e684500d",
   "metadata": {},
   "outputs": [],
   "source": [
    "\"\"\"Домашнее задание:\n",
    "I)\n",
    "Написать программу, создающую список из введенной пользователем строки цифр (без пробелов). Вывести все элементы строки, \n",
    "которые имеют нечетные индексы.\"\"\"\n",
    "\n",
    "while True:\n",
    "    try:\n",
    "        stroka = input(\"Введите последовательность числел, для окончания введите 'end' : \")\n",
    "        \n",
    "        if stroka == 'end': # Строку нужно было взять в кавычки\n",
    "            break\n",
    "            \n",
    "        spisok1 = stroka.split() # В методе split забыл добавить круглые скобки\n",
    "        spisok1 = [int(char) for char in stroka  if int(char) % 2 == 1 and char.isdigit()]\n",
    "\n",
    "        \n",
    "    except ValueError:\n",
    "        print(\"Ошибка ввода! \")\n",
    "        \n",
    "print(spisok1)"
   ]
  },
  {
   "cell_type": "code",
   "execution_count": null,
   "id": "906a741d",
   "metadata": {},
   "outputs": [],
   "source": [
    "# Вариант нейросети\n",
    "\n",
    "# Домашнее задание: I)\n",
    "\n",
    "spisok1 = []\n",
    "\n",
    "while True:\n",
    "    try:\n",
    "        stroka = input(\"Введите последовательность чисел, для окончания введите 0: \")\n",
    "        \n",
    "        if stroka == '0':\n",
    "            break\n",
    "            \n",
    "        spisok1 = [int(char) for char in stroka if int(char) % 2 == 1 and char.isdigit()]\n",
    "\n",
    "    except ValueError:\n",
    "        print(\"Ошибка ввода! \")\n",
    "\n",
    "print(spisok1)\n"
   ]
  },
  {
   "cell_type": "code",
   "execution_count": null,
   "id": "d8b75e16",
   "metadata": {},
   "outputs": [],
   "source": [
    "\"\"\"II)\n",
    "Напишите программу, которая получает на вход натуральное число. Создать и вывести список, \n",
    "заполненный квадратами четных чисел, делящихся на 5, от 1 до введенного числа.\"\"\"\n",
    "\n",
    "result_list = []\n",
    "\n",
    "while True:\n",
    "    try:    \n",
    "        user_input = input(\"Введите целое натуральное число (для окончания введите 'end'): \")\n",
    "        \n",
    "        if user_input.lower() == 'end':\n",
    "            break\n",
    "            \n",
    "        user_input = int(user_input)\n",
    "        \n",
    "        result_list = [i**2 for i in range(1, user_input + 1) if i % 2 == 0 and i % 5 == 0 ]\n",
    "        \n",
    "    except ValueError:\n",
    "        print(\"Ошибка\")\n",
    "\n",
    "print(result_list)"
   ]
  },
  {
   "cell_type": "code",
   "execution_count": null,
   "id": "2fa066a8",
   "metadata": {},
   "outputs": [],
   "source": [
    "# Создаем пустой список для хранения результатов\n",
    "result_list = []\n",
    "\n",
    "# Запускаем бесконечный цикл\n",
    "while True:\n",
    "    try:\n",
    "        # Пользователь вводит целое натуральное число или 'end' для завершения\n",
    "        user_input = input(\"Введите целое натуральное число (для окончания введите 'end'): \")\n",
    "        \n",
    "        # Проверяем, является ли ввод 'end', и завершаем цикл, если да\n",
    "        if user_input.lower() == 'end':\n",
    "            break\n",
    "\n",
    "        # Преобразуем введенное значение в целое число\n",
    "        user_input = int(user_input)\n",
    "        \n",
    "        # Создаем список квадратов четных чисел, делящихся на 5, в заданном диапазоне\n",
    "        result_list = [i**2 for i in range(1, user_input + 1) if i % 2 == 0 and i % 5 == 0]\n",
    "\n",
    "    except ValueError:\n",
    "        # Обрабатываем ошибку ввода\n",
    "        print(\"Ошибка ввода!\")\n",
    "\n",
    "# Выводим окончательный список\n",
    "print(result_list)\n"
   ]
  },
  {
   "cell_type": "code",
   "execution_count": null,
   "id": "9a70e2df",
   "metadata": {},
   "outputs": [],
   "source": [
    "\"\"\"III)\n",
    "Написать программу, определяющую является ли введенный номер билета - \"счастливым\".\n",
    "Билет называют «счастливым», если в его номере сумма первых трех цифр равна сумме последних трех.\n",
    "Номер билета может быть от 000000 до 999999.\"\"\"\n",
    "\n",
    "\n",
    "\n",
    "while True:\n",
    "    \n",
    "    try:\n",
    "        ticket_number  = input(\"Введите шестизначный номер вашего билета: \")\n",
    "        \n",
    "        if len(ticket_number) == 6 or ticket_number.isdigit():\n",
    "            break\n",
    "        else:\n",
    "            print(\"Некорректный ввод ошибка!\")\n",
    "            continue\n",
    "              \n",
    "    except ValueError:\n",
    "        print(\"Ошибка!\")\n",
    "        continue\n",
    "        \n",
    "digits = [int(digit) for digit in ticket_number]\n",
    "sum_of_first_3 = sum(digits[:3])\n",
    "sum_of_end_3 = sum(digits[3:])\n",
    "        \n",
    "if sum_of_first_3 == sum_of_end_3:\n",
    "    \n",
    "    print(\"Ваш билет счастливый! \")\n",
    "            \n",
    "else:\n",
    "    print(\"Вы проиграли\")\n",
    "\n"
   ]
  },
  {
   "cell_type": "code",
   "execution_count": null,
   "id": "54209ec6",
   "metadata": {},
   "outputs": [],
   "source": [
    "# Вариант Нейросетей!\n",
    "\n",
    "# Ввод номера билета как строки\n",
    "ticket_number = input(\"Введите шестизначный номер вашего билета: \")\n",
    "\n",
    "# Проверка на длину введенного номера и его состав из цифр\n",
    "if len(ticket_number) != 6 or not ticket_number.isdigit():\n",
    "    print(\"Некорректный ввод. Введите шестизначный номер билета.\")\n",
    "else:\n",
    "    # Преобразование строкового представления цифр в целые числа\n",
    "    digits = [int(digit) for digit in ticket_number]\n",
    "    \n",
    "    # Вычисление суммы первых трех и последних трех цифр\n",
    "    sum_first_3 = sum(digits[:3])\n",
    "    sum_end_3 = sum(digits[3:])\n",
    "    \n",
    "    # Проверка на счастливый билет\n",
    "    if sum_first_3 == sum_end_3:\n",
    "        print(\"Поздравляю, ваш билет является счастливым!\")\n",
    "    else:\n",
    "        print(\"К сожалению, ваш билет не выиграл. Купите еще, и в следующий раз вам повезет!\")\n"
   ]
  },
  {
   "cell_type": "code",
   "execution_count": null,
   "id": "aaf2fbac",
   "metadata": {},
   "outputs": [],
   "source": [
    "# Вариант другого человека\n",
    "\n",
    "n = list(input('Напишите номер билета (от 000000 до 999999): '))\n",
    "if n[0] + n[1] + n[2] == n[3] + n[4] + n[5]:\n",
    "    print('Билет счастливый')\n",
    "else:\n",
    "    print('Билет обычный')\n"
   ]
  },
  {
   "cell_type": "code",
   "execution_count": null,
   "id": "d356281f",
   "metadata": {},
   "outputs": [],
   "source": [
    "\"\"\"Домашнее задание:\n",
    "I)\n",
    "Напишите программу, которая из введенной пользователем строки создаст список. \n",
    "Удалить из этого списка все буквы ‘a’, ‘e’, ‘u’. \n",
    "Строка вводится на английском и символы для удаления так же на английском языке.\n",
    "\n",
    "II)\n",
    "Напишите программу, которая создаст список на 10 элементов, заполненный целыми числами, введенными с клавиатуры. \n",
    "Удалите все элементы, которые меньше 5 и найдите среднее арифметическое всех оставшихся элементов.\n",
    "\n",
    "III)\n",
    "Напишите программу, которая создаст список на 10 элементов, заполненный целыми числами (положительными и отрицательными), \n",
    "введенными с клавиатуры. Отсортировать список в порядке убывания модулей чисел и вывести его на экран.\n",
    "Также найти произведение элементов кратных 3, имеющих четный индекс.\n",
    "\"\"\""
   ]
  },
  {
   "cell_type": "code",
   "execution_count": null,
   "id": "ba9d173a",
   "metadata": {},
   "outputs": [],
   "source": [
    "\"\"\"I)\n",
    "Напишите программу, которая из введенной пользователем строки создаст список. \n",
    "Удалить из этого списка все буквы ‘a’, ‘e’, ‘u’. \n",
    "Строка вводится на английском и символы для удаления так же на английском языке.\"\"\"\n",
    "\n",
    "spisok = []\n",
    "\n",
    "while True:\n",
    "    try:\n",
    "        user_input = input(\"Введите строку на английском (для окончания введите 'end'): \")\n",
    "        \n",
    "        if user_input.lower() == 'end':\n",
    "            break\n",
    "                \n",
    "    except ValueError:\n",
    "        print(\"Некорректное значение: \")\n",
    "\n",
    "    spisok = list(user_input)\n",
    "\n",
    "    filtered_spisok = [char for char in spisok if char.lower() not in ('a', 'e', 'u')]\n",
    "\n",
    "print(filtered_spisok)"
   ]
  },
  {
   "cell_type": "code",
   "execution_count": null,
   "id": "563bba50",
   "metadata": {},
   "outputs": [],
   "source": [
    "\"\"\"Мои ошибки\"\"\"\n",
    "\n",
    "while True:\n",
    "    try:\n",
    "        user_input = input(\"Введите строку на английском (для окончания введите 'end'): \")\n",
    "        \n",
    "        if user_input.lower() == 'end':\n",
    "            break\n",
    "                \n",
    "    except ValueError:\n",
    "        print(\"Некорректное значение: \")  # В данном контексте ValueError избыточен, так как вводится строка, а не число\n",
    "\n",
    "    spisok = list(user_input)  # На каждой итерации создается новый список, перезаписывая предыдущий\n",
    "\n",
    "    filtered_spisok = [char for char in spisok if char.lower() not in ('a', 'e', 'u')]  # В данной строке создается новый список на каждой итерации цикла\n",
    "\n",
    "print(filtered_spisok)  # Результат выводится только после завершения цикла, что не соответствует задаче\n"
   ]
  },
  {
   "cell_type": "code",
   "execution_count": null,
   "id": "d0305a74",
   "metadata": {},
   "outputs": [],
   "source": [
    "# Доработанный код нейросети который добавляет список к предидущему списку при каждой итерации цикла\n",
    "\n",
    "filtered_spisok = []  # Создаем пустой список перед циклом\n",
    "\n",
    "while True:\n",
    "    try:\n",
    "        user_input = input(\"Введите строку на английском (для окончания введите 'end'): \")\n",
    "\n",
    "        if user_input.lower() == 'end':\n",
    "            break\n",
    "\n",
    "    except ValueError:\n",
    "        print(\"Некорректное значение: \")\n",
    "\n",
    "    spisok = list(user_input)\n",
    "    \n",
    "    # Используем метод extend для добавления символов к существующему списку\n",
    "    filtered_spisok.extend(char for char in spisok if char.lower() not in ('a', 'e', 'u'))\n",
    "\n",
    "print(filtered_spisok)\n"
   ]
  },
  {
   "cell_type": "code",
   "execution_count": null,
   "id": "3a55f943",
   "metadata": {},
   "outputs": [],
   "source": [
    "# Вариант когда нужно закончить цикл после нажатия Enther\n",
    "\n",
    "filtered_spisok = []\n",
    "\n",
    "while True:\n",
    "    user_input = input(\"Введите строку на английском (для завершения нажмите Enter): \")\n",
    "\n",
    "    if not user_input:\n",
    "        break\n",
    "\n",
    "    spisok = list(user_input)\n",
    "    filtered_spisok.extend(char for char in spisok if char.lower() not in ('a', 'e', 'u'))\n",
    "\n",
    "print(filtered_spisok)\n"
   ]
  },
  {
   "cell_type": "code",
   "execution_count": null,
   "id": "e06694e3",
   "metadata": {},
   "outputs": [],
   "source": [
    "\"\"\"II)\n",
    "Напишите программу, которая создаст список на 10 элементов, заполненный целыми числами, введенными с клавиатуры. \n",
    "Удалите все элементы, которые меньше 5 и найдите среднее арифметическое всех оставшихся элементов.\"\"\"\n",
    "\n",
    "numbers = []\n",
    "\n",
    "while True:\n",
    "    \n",
    "    try:\n",
    "        user_input = input(\"Введите последовательность из 10 целых чисел (для окончания ввелите Enther) :  \")\n",
    "        \n",
    "        if not user_input:\n",
    "            break\n",
    "            \n",
    "        numbers = [int(num) for num in user_input if num.isdigit()]\n",
    "        \n",
    "        if len(numbers) != 10:\n",
    "            print(\"Неверное кал-во чисел в последовательности: \")\n",
    "            continue\n",
    "            \n",
    "    except ValueError:\n",
    "        print(\"Некорректное заначение! \")\n",
    "        continue\n",
    "        \n",
    "    break\n",
    "        \n",
    "filtered_numbers = [num for num in numbers if num >= 5]\n",
    "    \n",
    "if not filtered_numbers:\n",
    "    print(\"Нет чисел больше 5\")\n",
    "    \n",
    "else:\n",
    "    total_sum = sum(filtered_numbers)\n",
    "    average =  total_sum / len(filtered_numbers)\n",
    "    print(f'Среднее арифметическое значение равно: {average}')\n",
    "    "
   ]
  },
  {
   "cell_type": "code",
   "execution_count": null,
   "id": "aceb5ec3",
   "metadata": {},
   "outputs": [],
   "source": [
    "numbers = []  # Создаем пустой список для хранения введенных чисел\n",
    "\n",
    "while True:\n",
    "    try:\n",
    "        user_input = input(\"Введите последовательность из 10 целых чисел (для окончания введите Enter): \")\n",
    "\n",
    "        if not user_input:\n",
    "            break  # Выход из цикла при пустом вводе\n",
    "\n",
    "        numbers = [int(num) for num in user_input if num.isdigit()]  # Преобразуем ввод пользователя в список целых чисел\n",
    "\n",
    "        if len(numbers) != 10:\n",
    "            print(\"Некорректное количество чисел. Попробуйте еще раз.\")\n",
    "            continue\n",
    "\n",
    "    except ValueError:\n",
    "        print(\"Некорректный ввод чисел. Попробуйте еще раз.\")\n",
    "        continue\n",
    "\n",
    "    break  # Выход из цикла при успешном вводе\n",
    "\n",
    "filtered_numbers = [num for num in numbers if num >= 5]  # Фильтрация чисел, оставляем только те, что больше или равны 5\n",
    "\n",
    "if not filtered_numbers:\n",
    "    print(\"Нет чисел, которые больше или равны 5.\")\n",
    "else:\n",
    "    total_sum = sum(filtered_numbers)  # Сумма чисел больше или равных 5\n",
    "    average = total_sum / len(filtered_numbers)  # Вычисление среднего арифметического\n",
    "    print(f\"Сумма и среднее арифметическое чисел больше или равных 5: {average}\")\n"
   ]
  },
  {
   "cell_type": "code",
   "execution_count": null,
   "id": "9600c71e",
   "metadata": {},
   "outputs": [],
   "source": [
    "\"\"\"III)\n",
    "Напишите программу, которая создаст список на 10 элементов, заполненный целыми числами (положительными и отрицательными), \n",
    "введенными с клавиатуры. Отсортировать список в порядке убывания модулей чисел и вывести его на экран.\n",
    "Также найти произведение элементов кратных 3, имеющих четный индекс.\"\"\"\n",
    "\n",
    "\n",
    "numbers_list = []\n",
    "\n",
    "numbers_list = [int(input()) ]\n",
    "    \n",
    "       \n",
    "        \n",
    "        \n",
    "        "
   ]
  },
  {
   "cell_type": "code",
   "execution_count": null,
   "id": "560f9eb0",
   "metadata": {},
   "outputs": [],
   "source": [
    "number_list = []\n",
    "\n",
    "# Ввод чисел с использованием list comprehension\n",
    "number_list = [int(input()) for _ in range(1, 11)]\n",
    "\n",
    "# Сортировка по убыванию модуля\n",
    "number_list.sort(key=abs, reverse=True)\n",
    "print(number_list)\n",
    "\n",
    "# Вычисление произведения элементов, кратных 3, с четным индексом\n",
    "product = 1\n",
    "for index, value in enumerate(number_list):\n",
    "    if index % 2 == 0 and value % 3 == 0:\n",
    "        product *= value\n",
    "\n",
    "print(f\"Произведение элементов, кратных 3, с четным индексом: {product}\")\n"
   ]
  },
  {
   "cell_type": "markdown",
   "id": "b448ab8f",
   "metadata": {},
   "source": [
    "# Закрепление навыков :"
   ]
  },
  {
   "cell_type": "code",
   "execution_count": null,
   "id": "e7b7578d",
   "metadata": {},
   "outputs": [],
   "source": [
    "\"\"\"Задание: Работа с Оценками\n",
    "Создайте список grades, содержащий оценки студентов: [90, 88, 94, 78, 85, 91, 89].\n",
    "\n",
    "Добавьте оценку 95 в конец списка.\n",
    "\n",
    "Измените оценку студента с индексом 2 на 96.\n",
    "\n",
    "Удалите оценку студента с индексом 4.\n",
    "\n",
    "Выведите на экран итоговый список оценок.\n",
    "\n",
    "Найдите и выведите среднюю оценку.\n",
    "\n",
    "Создайте новый список rounded_grades, содержащий округленные значения оценок (используйте round()).\n",
    "\n",
    "Выведите на экран округленные оценки.\n",
    "\n",
    "Найдите и выведите максимальную и минимальную оценки.\n",
    "\n",
    "Отсортируйте и выведите на экран отсортированный список оценок.\n",
    "\n",
    "Создайте новый список passing_grades, содержащий только оценки выше или равные 85.\n",
    "\n",
    "Выведите на экран оценки, которые прошли.\"\"\""
   ]
  },
  {
   "cell_type": "markdown",
   "id": "421990be",
   "metadata": {},
   "source": [
    "# Кастуем простые заклинания #"
   ]
  },
  {
   "cell_type": "code",
   "execution_count": null,
   "id": "f872bed8",
   "metadata": {},
   "outputs": [],
   "source": [
    "grades = [90, 88, 94, 78, 85, 91, 89]\n",
    "grades.append(95)\n",
    "grades.insert(2, 96)\n",
    "grades.pop(4)\n",
    "Averge_grades = sum(grades) / len(grades)\n",
    "print(grades)\n",
    "print(Averge_grades)\n",
    "\n",
    "rounded_grades = [round(grade) for grade in grades]\n",
    "rounded_grades.sort()\n",
    "print(rounded_grades)\n",
    "print(min(rounded_grades))\n",
    "print(max(rounded_grades))\n",
    "\n",
    "passing_grades = [grade for grade in grades if grade >= 85]\n",
    "passing_grades.sort()\n",
    "print(passing_grades) \n",
    "\n",
    "# Вопрос, можно ли это назвать стеком?"
   ]
  },
  {
   "cell_type": "code",
   "execution_count": null,
   "id": "7e1e7fa0",
   "metadata": {},
   "outputs": [],
   "source": [
    "# Модификация нейросети\n",
    "\n",
    "grades = [90, 88, 94, 78, 85, 91, 89]\n",
    "grades.append(95)\n",
    "grades.insert(2, 96)\n",
    "grades.pop(4)\n",
    "\n",
    "average_grades = sum(grades) / len(grades)\n",
    "print(\"Оценки:\", grades)\n",
    "print(\"Средняя оценка:\", average_grades)\n",
    "\n",
    "rounded_grades = [round(grade) for grade in grades]\n",
    "rounded_grades.sort(reverse=True)  # Сортировка в порядке убывания\n",
    "print(\"Округленные оценки:\", rounded_grades)\n",
    "print(f\"Минимальная оценка: {min(rounded_grades)}\")\n",
    "print(f\"Максимальная оценка: {max(rounded_grades)}\")\n",
    "\n",
    "passing_grades = [grade for grade in grades if grade >= 85]\n",
    "passing_grades.sort(reverse=True)  # Сортировка в порядке убывания\n",
    "print(\"Проходные оценки:\", passing_grades)\n"
   ]
  },
  {
   "cell_type": "code",
   "execution_count": null,
   "id": "de72a9fe",
   "metadata": {},
   "outputs": [],
   "source": [
    "\n",
    "\"\"\"Конечно, вот несколько заданий для закрепления генераторов списков, методов и функций списков:\n",
    "\n",
    "Задание 1: Генераторы списков\n",
    "\n",
    "Создайте список чисел от 1 до 10 с использованием генератора списков.\n",
    "Создайте список квадратов чисел от 1 до 5 с использованием генератора списков.\n",
    "Задание 2: Методы списков\n",
    "\n",
    "Создайте список из чисел от 1 до 5.\n",
    "Добавьте число 6 в конец списка.\n",
    "Вставьте число 0 на позицию с индексом 2.\n",
    "Удалите число 3 из списка.\n",
    "Отсортируйте список в порядке убывания.\n",
    "Задание 3: Функции списков\n",
    "\n",
    "Создайте список чисел от 1 до 10.\n",
    "Напишите функцию, которая возвращает сумму всех элементов списка.\n",
    "Напишите функцию, которая возвращает среднее арифметическое элементов списка.\n",
    "Напишите функцию, которая возвращает новый список, содержащий только четные числа из исходного списка.\n",
    "Задание 4: Комбинированное использование методов и генераторов списков\n",
    "\n",
    "Создайте список из строк: ['apple', 'banana', 'cherry', 'date', 'elderberry'].\n",
    "Используя генератор списка, создайте новый список, содержащий первые три буквы каждого слова.\n",
    "Используя методы списков, добавьте слово 'fig' в конец списка и удалите слово 'date'.\n",
    "Преобразуйте все буквы в верхний регистр в новом списке.\n",
    "Попробуйте выполнить эти задания и при необходимости задавайте вопросы!\"\"\""
   ]
  },
  {
   "cell_type": "code",
   "execution_count": null,
   "id": "a9dece1f",
   "metadata": {},
   "outputs": [],
   "source": [
    "# Задание 2 - Создайте список квадратов чисел от 1 до 5 с использованием генератора списков.\n",
    "\n",
    "List = [i**2 for i in range(1, 11)]\n",
    "print(List)"
   ]
  },
  {
   "cell_type": "code",
   "execution_count": null,
   "id": "12305547",
   "metadata": {},
   "outputs": [],
   "source": [
    "# Задание 2 - Методы списков\n",
    "\n",
    "\"\"\"Создайте список из чисел от 1 до 5.\n",
    "Добавьте число 6 в конец списка.\n",
    "Вставьте число 0 на позицию с индексом 2.\n",
    "Удалите число 3 из списка.\n",
    "Отсортируйте список в порядке убывания.\"\"\"\n",
    "\n",
    "List2 = [i for i in range(1, 6)]\n",
    "List2.append(6)\n",
    "List2.insert(2, 0)\n",
    "List2.remove(3)\n",
    "List2.sort(reverse=True)\n",
    "print(List2)"
   ]
  },
  {
   "cell_type": "code",
   "execution_count": null,
   "id": "1148837f",
   "metadata": {},
   "outputs": [],
   "source": [
    "# Задание 3 - Функции списков\n",
    "\n",
    "\"\"\"Создайте список чисел от 1 до 10.\n",
    "Напишите функцию, которая возвращает сумму всех элементов списка.\n",
    "Напишите функцию, которая возвращает среднее арифметическое элементов списка.\n",
    "Напишите функцию, которая возвращает новый список, содержащий только четные числа из исходного списка.\"\"\"\n",
    "\n",
    "List3 = [i for i in range(1, 9)]\n",
    "even_list = [i for i in List3 if i % 2 == 0]\n",
    "\n",
    "Sum_list = sum(List3)\n",
    "average = sum(List3) / len(List3)\n",
    "\n",
    "print(Sum_list )\n",
    "print(average)\n",
    "print(even_list)"
   ]
  },
  {
   "cell_type": "code",
   "execution_count": 3,
   "id": "361221f9",
   "metadata": {},
   "outputs": [
    {
     "name": "stdout",
     "output_type": "stream",
     "text": [
      "['app', 'ban', 'che', 'dat', 'eld']\n",
      "['APPLE', 'BANNANA', 'CHERRY', 'ELDERBERRY', 'FIG']\n"
     ]
    }
   ],
   "source": [
    "# Задание 4: Комбинированное использование методов и генераторов списков\n",
    "\n",
    "\"\"\"Создайте список из строк: ['apple', 'banana', 'cherry', 'date', 'elderberry'].\n",
    "Используя генератор списка, создайте новый список, содержащий первые три буквы каждого слова.\n",
    "Используя методы списков, добавьте слово 'fig' в конец списка и удалите слово 'date'.\n",
    "Преобразуйте все буквы в верхний регистр в новом списке.\n",
    "Попробуйте выполнить эти задания и при необходимости задавайте вопросы!\"\"\"\n",
    "\n",
    "fruit = ['apple', 'bannana', 'cherry', 'date', 'elderberry']\n",
    "\n",
    "mod_fruit = [word[:3] for word in fruit]\n",
    "mod_fruit = [word[:3] for word in fruit]\n",
    "\n",
    "fruit.append('fig')\n",
    "fruit.remove('date')\n",
    "\n",
    "\n",
    "upper_words = [word.upper() for word in fruit]\n",
    "\n",
    "print(mod_fruit)\n",
    "print(upper_words)"
   ]
  },
  {
   "cell_type": "code",
   "execution_count": null,
   "id": "562049bc",
   "metadata": {},
   "outputs": [],
   "source": [
    "\"\"\"Задание 1: Операции со списками\n",
    "Создайте пустой список my_list.\n",
    "\n",
    "Добавьте в список числа от 1 до 5 включительно.\n",
    "\n",
    "Добавьте в список строку \"Hello\".\n",
    "\n",
    "Выведите на экран длину списка.\n",
    "\n",
    "Используя метод append, добавьте в конец списка значение 6.\n",
    "\n",
    "Используя метод extend, добавьте в конец списка числа от 7 до 10 включительно.\n",
    "\n",
    "Выведите на экран измененный список.\n",
    "\n",
    "Задание 2: Генераторы списков\n",
    "Создайте список numbers с числами от 1 до 10 включительно.\n",
    "\n",
    "Используя генератор списка, создайте новый список squares, содержащий квадраты чисел из списка numbers.\n",
    "\n",
    "Используя генератор списка, создайте новый список even_squares, содержащий квадраты только четных чисел из списка numbers.\n",
    "\n",
    "Выведите на экран оба новых списка.\n",
    "\n",
    "Задание 3: Операции и методы списков\n",
    "Создайте список fruits с элементами \"apple\", \"banana\", \"cherry\", \"date\", \"elderberry\".\n",
    "\n",
    "Используя генератор списка, создайте новый список first_three_letters, содержащий первые три буквы каждого слова из списка fruits.\n",
    "\n",
    "Добавьте в конец списка fruits слово \"fig\" и удалите слово \"date\".\n",
    "\n",
    "Преобразуйте все буквы в верхний регистр в списке fruits.\n",
    "\n",
    "Выведите на экран измененный список fruits и список first_three_letters.\n",
    "\n",
    "Задание 4: Операции с числами в списках\n",
    "Создайте список grades с оценками [90, 88, 94, 78, 85, 91, 89].\n",
    "\n",
    "Добавьте в конец списка оценку 95 и вставьте оценку 96 на вторую позицию.\n",
    "\n",
    "Удалите оценку, находящуюся на пятой позиции.\n",
    "\n",
    "Рассчитайте среднюю оценку.\n",
    "\n",
    "Используя генератор списка, создайте новый список rounded_grades, содержащий округленные оценки из списка grades.\n",
    "\n",
    "Используя генератор списка, создайте новый список passing_grades, содержащий только оценки 85 и выше.\n",
    "\n",
    "Выведите на экран оба новых списка и среднюю оценку.\"\"\"\n",
    "\n",
    "\n",
    "\n",
    "\n"
   ]
  },
  {
   "cell_type": "code",
   "execution_count": 6,
   "id": "410914bd",
   "metadata": {},
   "outputs": [
    {
     "name": "stdout",
     "output_type": "stream",
     "text": [
      "Длинна списка равна: 6\n",
      "Измененный список: ['Hello', 6, 7, 8, 9, 10]\n"
     ]
    }
   ],
   "source": [
    "#Задание 1: Операции со списками\n",
    "\n",
    "\"\"\"Создайте пустой список my_list.\n",
    "\n",
    "Добавьте в список числа от 1 до 5 включительно.\n",
    "\n",
    "Добавьте в список строку \"Hello\".\n",
    "\n",
    "Выведите на экран длину списка.\n",
    "\n",
    "Используя метод append, добавьте в конец списка значение 6.\n",
    "\n",
    "Используя метод extend, добавьте в конец списка числа от 7 до 10 включительно.\n",
    "\n",
    "Выведите на экран измененный список.\"\"\"\n",
    "\n",
    "my_list = []\n",
    "\n",
    "my_list.append('Hello')\n",
    "\n",
    "my_list.append(6)\n",
    "\n",
    "numb = [7, 8, 9, 10]\n",
    "my_list.extend(numb)\n",
    "\n",
    "print(f'Длинна списка равна: {len(my_list)}')\n",
    "print(f'Измененный список: {my_list}')"
   ]
  },
  {
   "cell_type": "code",
   "execution_count": 7,
   "id": "eb88e796",
   "metadata": {},
   "outputs": [
    {
     "name": "stdout",
     "output_type": "stream",
     "text": [
      "Квадраты сприска: [1, 4, 9, 16, 25, 36, 49, 64, 81, 100]\n",
      "Четные числа квадратов: [4, 16, 36, 64, 100]\n"
     ]
    }
   ],
   "source": [
    "#Задание 2: Генераторы списков\n",
    "\n",
    "\"\"\"Создайте список numbers с числами от 1 до 10 включительно.\n",
    "\n",
    "Используя генератор списка, создайте новый список squares, содержащий квадраты чисел из списка numbers.\n",
    "\n",
    "Используя генератор списка, создайте новый список even_squares, содержащий квадраты только четных чисел из списка numbers.\n",
    "\n",
    "Выведите на экран оба новых списка.\"\"\"\n",
    "\n",
    "numbers = [1, 2, 3, 4, 5, 6, 7, 8, 9, 10]\n",
    "\n",
    "squares = [i**2 for i in numbers]\n",
    "even_squares = [i for i in squares if i % 2 == 0]\n",
    "\n",
    "print(f'Квадраты сприска: {squares}')\n",
    "print(f'Четные числа квадратов: {even_squares}')"
   ]
  },
  {
   "cell_type": "code",
   "execution_count": 9,
   "id": "0a3e1f48",
   "metadata": {},
   "outputs": [
    {
     "name": "stdout",
     "output_type": "stream",
     "text": [
      "Измененный список фруктов рано: ['app', 'ban', 'che', 'dat', 'eld']\n",
      "Cписок в верхнем регистре: ['APPLE', 'BANANA', 'CHERRY', 'ELDERBERRY', 'FIG']\n"
     ]
    }
   ],
   "source": [
    "#Задание 3: Операции и методы списков\n",
    "\n",
    "\"\"\"Создайте список fruits с элементами \"apple\", \"banana\", \"cherry\", \"date\", \"elderberry\".\n",
    "\n",
    "Используя генератор списка, создайте новый список first_three_letters, содержащий первые три буквы каждого слова из списка fruits.\n",
    "\n",
    "Добавьте в конец списка fruits слово \"fig\" и удалите слово \"date\".\n",
    "\n",
    "Преобразуйте все буквы в верхний регистр в списке fruits.\n",
    "\n",
    "Выведите на экран измененный список fruits и список first_three_letters.\"\"\"\n",
    "\n",
    "\n",
    "fructs = [\"apple\", \"banana\", \"cherry\", \"date\", \"elderberry\"]\n",
    "\n",
    "first_tree_letter_fructs = [word[:3] for word in fructs]\n",
    "fructs.append('fig')\n",
    "fructs.remove('date')\n",
    "\n",
    "fructs_upper = [word.upper() for word in fructs]\n",
    "\n",
    "print(f'Измененный список фруктов рано: {first_tree_letter_fructs}')\n",
    "print(f'Cписок в верхнем регистре: {fructs_upper}')"
   ]
  },
  {
   "cell_type": "code",
   "execution_count": 10,
   "id": "13f122c5",
   "metadata": {},
   "outputs": [
    {
     "name": "stdout",
     "output_type": "stream",
     "text": [
      "Округление чисел: [90, 88, 96, 94, 78, 91, 89, 95]\n",
      "Числа выше 85: [90, 88, 96, 94, 91, 89, 95]\n",
      "Средняя длинна: 90.125\n"
     ]
    }
   ],
   "source": [
    "#Задание 4: Операции с числами в списках\n",
    "\n",
    "\"\"\"Создайте список grades с оценками [90, 88, 94, 78, 85, 91, 89].\n",
    "\n",
    "Добавьте в конец списка оценку 95 и вставьте оценку 96 на вторую позицию.\n",
    "\n",
    "Удалите оценку, находящуюся на пятой позиции.\n",
    "\n",
    "Рассчитайте среднюю оценку.\n",
    "\n",
    "Используя генератор списка, создайте новый список rounded_grades, содержащий округленные оценки из списка grades.\n",
    "\n",
    "Используя генератор списка, создайте новый список passing_grades, содержащий только оценки 85 и выше.\n",
    "\n",
    "Выведите на экран оба новых списка и среднюю оценку.\"\"\"\n",
    "\n",
    "\n",
    "grades =  [90, 88, 94, 78, 85, 91, 89]\n",
    "\n",
    "grades.append(95)\n",
    "grades.insert(2, 96)\n",
    "grades.pop(5)\n",
    "\n",
    "average = sum(grades) / len(grades)\n",
    "\n",
    "rounded_grades = [round(grade) for grade in grades]\n",
    "passing_grades = [grade for grade in grades if grade >= 85]\n",
    "\n",
    "print(f'Округление чисел: {rounded_grades}')\n",
    "print(f'Числа выше 85: {passing_grades}')\n",
    "print(f'Средняя длинна: {average}')"
   ]
  },
  {
   "cell_type": "code",
   "execution_count": 5,
   "id": "aeec1421",
   "metadata": {},
   "outputs": [
    {
     "name": "stdout",
     "output_type": "stream",
     "text": [
      "[1, 2, 3, 4, 5, 6, 7, 8, 9, 10]\n"
     ]
    }
   ],
   "source": [
    "# Задание 1: Создание и модификация списка\n",
    "\n",
    "\"\"\"Создайте пустой список с именем my_list.\n",
    "Добавьте в список числа от 1 до 5 (включительно) с использованием метода append.\n",
    "Добавьте в список числа от 6 до 10 (включительно) с использованием метода extend.\n",
    "Выведите получившийся список.\"\"\"\n",
    "\n",
    "my_list = []\n",
    "\n",
    "for i in range(1, 6):\n",
    "    my_list.append(i)\n",
    "    \n",
    "my_list.extend([6, 7, 8, 9, 10])\n",
    "\n",
    "print(my_list)\n"
   ]
  },
  {
   "cell_type": "code",
   "execution_count": 11,
   "id": "0200d6eb",
   "metadata": {},
   "outputs": [
    {
     "name": "stdout",
     "output_type": "stream",
     "text": [
      "green\n",
      "['red', 'green', 'blue']\n",
      "['purple', 'red', 'green', 'blue', 'yellow', 'orange']\n"
     ]
    }
   ],
   "source": [
    "# Задание 2: Индексация и срезы\n",
    "\n",
    "\"\"\"Создайте список colors с элементами \"red\", \"green\", \"blue\", \"yellow\", \"orange\".\n",
    "Выведите элемент с индексом 2.\n",
    "Выведите срез списка с элементами с 1 по 3 (включительно).\n",
    "Измените значение элемента с индексом 0 на \"purple\".\n",
    "Выведите весь список после внесенных изменений.\"\"\"\n",
    "\n",
    "colors = [\"red\", \"green\", \"blue\", \"yellow\", \"orange\"]\n",
    "\n",
    "colors.insert(0, 'purple')\n",
    "\n",
    "print(colors[2])\n",
    "print(colors[1:][:3])\n",
    "print(colors)"
   ]
  },
  {
   "cell_type": "code",
   "execution_count": 13,
   "id": "5b3789a3",
   "metadata": {},
   "outputs": [
    {
     "name": "stdout",
     "output_type": "stream",
     "text": [
      "[1, 2, 3, 4, 5, 6, 7, 8, 9, 10]\n",
      "[1, 4, 9, 16, 25, 36, 49, 64, 81, 100]\n"
     ]
    }
   ],
   "source": [
    "# Задание 3: Генераторы списков\n",
    "\n",
    "\"\"\"Создайте список numbers с числами от 1 до 10 (включительно) с использованием генератора списка.\n",
    "Создайте новый список squared_numbers, содержащий квадраты чисел из списка numbers.\n",
    "Выведите оба списка.\"\"\"\n",
    "\n",
    "numbers = [num for num in range(1, 11)]\n",
    "square_numbers = [num**2 for num in numbers]\n",
    "\n",
    "print(numbers)\n",
    "print(square_numbers)"
   ]
  },
  {
   "cell_type": "code",
   "execution_count": 14,
   "id": "1c156c45",
   "metadata": {},
   "outputs": [
    {
     "name": "stdout",
     "output_type": "stream",
     "text": [
      "['apple', 'grape', 'cherry', 'orange']\n"
     ]
    }
   ],
   "source": [
    "#Задание 4: Методы списков\n",
    "\n",
    "\"\"\"Создайте список fruits с элементами \"apple\", \"banana\", \"cherry\".\n",
    "Добавьте в конец списка \"orange\" с использованием метода append.\n",
    "Вставьте \"grape\" на вторую позицию с использованием метода insert.\n",
    "Удалите \"banana\" из списка с использованием метода remove.\n",
    "Выведите окончательный список.\"\"\"\n",
    "\n",
    "fruits = [\"apple\", \"banana\", \"cherry\"]\n",
    "\n",
    "fruits.append(\"orange\")\n",
    "fruits.insert(2, \"grape\")\n",
    "fruits.remove(\"banana\")\n",
    "\n",
    "print(fruits)"
   ]
  },
  {
   "cell_type": "code",
   "execution_count": 15,
   "id": "6e5be9de",
   "metadata": {},
   "outputs": [
    {
     "name": "stdout",
     "output_type": "stream",
     "text": [
      "[345, 99, 89, 66, 33, 28, 12, 12]\n",
      "[66, 28, 12, 12]\n"
     ]
    }
   ],
   "source": [
    "# Задание 5: Сортировка и фильтрация\n",
    "\n",
    "\"\"\"Создайте список random_numbers с несколькими случайными числами.\n",
    "Отсортируйте список в порядке убывания.\n",
    "Создайте новый список even_numbers, содержащий только четные числа из random_numbers.\n",
    "Выведите отсортированный список и список четных чисел.\"\"\"\n",
    "\n",
    "random_numbers = [33, 12, 66, 99, 345, 12, 89, 28]\n",
    "\n",
    "random_numbers.sort(reverse=True)\n",
    "even_numbers = [num for num in random_numbers if num % 2 == 0]\n",
    "\n",
    "print(random_numbers)\n",
    "print(even_numbers)"
   ]
  },
  {
   "cell_type": "code",
   "execution_count": 19,
   "id": "29a67d84",
   "metadata": {},
   "outputs": [
    {
     "name": "stdout",
     "output_type": "stream",
     "text": [
      "Индекс 0, значение a\n",
      "Индекс 1, значение b\n",
      "Индекс 2, значение c\n",
      "Индекс 3, значение d\n"
     ]
    }
   ],
   "source": [
    "# Задание 6: Использование enumerate\n",
    "\n",
    "\"\"\"Создайте список letters с элементами \"a\", \"b\", \"c\", \"d\".\n",
    "Используя функцию enumerate, выведите индекс и значение каждого элемента списка.\"\"\"\n",
    "\n",
    "letters = [\"a\", \"b\", \"c\", \"d\"]\n",
    "\n",
    "for index, value in enumerate(letters):\n",
    "    print(f'Индекс {index}, значение {value}')"
   ]
  },
  {
   "cell_type": "code",
   "execution_count": 22,
   "id": "87707cc2",
   "metadata": {},
   "outputs": [
    {
     "name": "stdout",
     "output_type": "stream",
     "text": [
      "['dog', 'cat', 'rabbit']\n",
      "['dogs', 'cats', 'rabbits']\n"
     ]
    }
   ],
   "source": [
    "# Задание 7: Комбинированное использование методов и генераторов\n",
    "\n",
    "\"\"\"Создайте список animals с элементами \"dog\", \"cat\", \"rabbit\".\n",
    "Создайте новый список plural_animals, добавив в конец каждого элемента \"s\" (используйте генератор списка).\n",
    "Выведите оба списка.\n",
    "Эти задания помогут вам закрепить различные аспекты работы со списками в Python.\"\"\"\n",
    "\n",
    "\n",
    "animals = [\"dog\", \"cat\", \"rabbit\"]\n",
    "\n",
    "plural_animals = [animal + 's' for animal in animals]\n",
    "\n",
    "print(animals)\n",
    "print(plural_animals)"
   ]
  },
  {
   "cell_type": "markdown",
   "id": "e5a39cd7",
   "metadata": {},
   "source": [
    "# 17.02.2024 \n"
   ]
  },
  {
   "cell_type": "code",
   "execution_count": 2,
   "id": "a07bb6b6",
   "metadata": {},
   "outputs": [
    {
     "name": "stdout",
     "output_type": "stream",
     "text": [
      "[1, 2, 3, 4, 5]\n"
     ]
    }
   ],
   "source": [
    "#Задание 1: Работа с элементами списка\n",
    "\n",
    "\"\"\"Создайте пустой список с именем my_list.\n",
    "Добавьте в список числа от 1 до 5 с использованием цикла for и метода append.\n",
    "Выведите получившийся список.\"\"\"\n",
    "\n",
    "\n",
    "my_list = []\n",
    "\n",
    "for i in range(1, 6):\n",
    "    my_list.append(i)\n",
    "    \n",
    "print(my_list)\n",
    "    "
   ]
  },
  {
   "cell_type": "code",
   "execution_count": 3,
   "id": "2887408e",
   "metadata": {},
   "outputs": [
    {
     "name": "stdout",
     "output_type": "stream",
     "text": [
      "[1, 4, 9, 16, 25, 36, 49, 64, 81]\n"
     ]
    }
   ],
   "source": [
    "# Задание 2: Генератор списка\n",
    "\n",
    "\"\"\"Создайте список, содержащий квадраты четных чисел от 0 до 9 с использованием генератора списка.\n",
    "Выведите получившийся список.\"\"\"\n",
    "\n",
    "my_list_2 = [num ** 2 for num in range(1, 10)]\n",
    "\n",
    "print(my_list_2)"
   ]
  },
  {
   "cell_type": "code",
   "execution_count": 5,
   "id": "fb08c6e0",
   "metadata": {},
   "outputs": [
    {
     "name": "stdout",
     "output_type": "stream",
     "text": [
      "['APPLE', 'BANANA', 'CHERRY', 'ELDERBERRY', 'FIG']\n"
     ]
    }
   ],
   "source": [
    "# Задание 3: Работа с методами списков\n",
    "\n",
    "\"\"\"Создайте список строк fruits с элементами \"apple\", \"banana\", \"cherry\", \"date\", \"elderberry\".\n",
    "Используя методы списков, добавьте в конец списка слово \"fig\" и удалите слово \"date\".\n",
    "Преобразуйте все буквы в верхний регистр в списке.\n",
    "Выведите окончательный список.\"\"\"\n",
    "\n",
    "fruits = [\"apple\", \"banana\", \"cherry\", \"date\", \"elderberry\"]\n",
    "\n",
    "fruits.append(\"fig\")\n",
    "fruits.remove(\"date\")\n",
    "\n",
    "fruits_upper = [word.upper() for word in fruits]\n",
    "\n",
    "print(fruits_upper)"
   ]
  },
  {
   "cell_type": "code",
   "execution_count": 6,
   "id": "1f1f3c22",
   "metadata": {},
   "outputs": [
    {
     "name": "stdout",
     "output_type": "stream",
     "text": [
      "Индекс 0 значение a\n",
      "Индекс 1 значение b\n",
      "Индекс 2 значение c\n",
      "Индекс 3 значение d\n"
     ]
    }
   ],
   "source": [
    "# Задание 4: Использование enumerate\n",
    "\n",
    "\"\"\"Создайте список letters с элементами \"a\", \"b\", \"c\", \"d\".\n",
    "Используя функцию enumerate, выведите индекс и значение каждого элемента списка.\"\"\"\n",
    "\n",
    "letters = [\"a\", \"b\", \"c\", \"d\"]\n",
    "\n",
    "for index, value in enumerate(letters):\n",
    "    print(f'Индекс {index} значение {value}')"
   ]
  },
  {
   "cell_type": "code",
   "execution_count": 7,
   "id": "dba31a2d",
   "metadata": {},
   "outputs": [
    {
     "name": "stdout",
     "output_type": "stream",
     "text": [
      "['red', 'green', 'blue']\n",
      "['reds', 'greens', 'blues']\n"
     ]
    }
   ],
   "source": [
    "# Задание 5: Комбинированное использование методов и генераторов\n",
    "\n",
    "\"\"\"Создайте список colors с элементами \"red\", \"green\", \"blue\".\n",
    "Создайте новый список plural_colors, добавив в конец каждого элемента \"s\" (используйте генератор списка).\n",
    "Выведите оба списка.\"\"\"\n",
    "\n",
    "colors = [\"red\", \"green\", \"blue\"]\n",
    "\n",
    "plural_colors = [letter + \"s\" for letter in colors]\n",
    "\n",
    "print(colors)\n",
    "print(plural_colors)"
   ]
  },
  {
   "cell_type": "code",
   "execution_count": 9,
   "id": "ee9ffb0c",
   "metadata": {},
   "outputs": [
    {
     "name": "stdout",
     "output_type": "stream",
     "text": [
      "[2, 4, 6, 8, 10]\n"
     ]
    }
   ],
   "source": [
    "# Задание 6: Удаление элементов из списка\n",
    "\n",
    "\"\"\"Создайте список numbers с элементами от 1 до 10.\n",
    "Удалите из списка все нечетные числа с использованием генератора списка.\n",
    "Выведите получившийся список.\n",
    "Успешного изучения темы! Если у вас будут вопросы или нужна дополнительная помощь, не стесняйтесь спрашивать.\"\"\"\n",
    "\n",
    "numbers = [num for num in range(1, 11)]\n",
    "\n",
    "even_numbers = [num for num in numbers if num % 2 != 1]\n",
    "print(even_numbers )\n"
   ]
  },
  {
   "cell_type": "code",
   "execution_count": 11,
   "id": "c19b3812",
   "metadata": {},
   "outputs": [
    {
     "name": "stdout",
     "output_type": "stream",
     "text": [
      "['apple', 'banana', 'cherry', 'date', 'elderberry']\n"
     ]
    }
   ],
   "source": [
    "# Задание 7: Объединение списков\n",
    "\n",
    "\"\"\"Создайте два списка: list1 с элементами \"apple\", \"banana\", \"cherry\" и list2 с элементами \"date\", \"elderberry\".\n",
    "Объедините оба списка в новый список merged_list с использованием оператора +.\n",
    "Выведите получившийся объединенный список.\"\"\"\n",
    "\n",
    "list1 = [\"apple\", \"banana\", \"cherry\"]\n",
    "list2 = [\"date\", \"elderberry\"]\n",
    "\n",
    "merged_list = list1 + list2\n",
    "\n",
    "print(merged_list)"
   ]
  },
  {
   "cell_type": "code",
   "execution_count": 12,
   "id": "34f1ad28",
   "metadata": {},
   "outputs": [
    {
     "name": "stdout",
     "output_type": "stream",
     "text": [
      "[1, 2, 3, 4, 5]\n",
      "[6, 7, 8, 9, 10]\n"
     ]
    }
   ],
   "source": [
    "# Задание 8: Срезы списка\n",
    "\n",
    "\"\"\"Создайте список чисел от 1 до 10.\n",
    "Используя срезы, создайте новый список first_half, содержащий первую половину элементов из исходного списка.\n",
    "Создайте новый список second_half, содержащий вторую половину элементов из исходного списка.\n",
    "Выведите оба списка.\"\"\"\n",
    "\n",
    "this_list = [num for num in range(1, 11)]\n",
    "\n",
    "firt_half = [num for num in this_list[:5]]\n",
    "second_half = [num for num in this_list[5:]]\n",
    "\n",
    "print(firt_half)\n",
    "print(second_half )"
   ]
  },
  {
   "cell_type": "code",
   "execution_count": null,
   "id": "053ceae8",
   "metadata": {},
   "outputs": [],
   "source": [
    "#Задание 9: Уникальные элементы\n",
    "\n",
    "\"\"\"Создайте список с повторяющимися элементами.\n",
    "Используя множества, создайте новый список, содержащий только уникальные элементы.\n",
    "Выведите оба списка.\"\"\"\n",
    "\n",
    "# Решено нейросетью............................\n",
    "\n",
    "# Пример 1: Используя цикл и множества для поиска повторяющихся и уникальных элементов\n",
    "my_list = [1, 2, 3, 1, 4, 2, 5]\n",
    "\n",
    "# Найти повторяющиеся элементы\n",
    "duplicates = set()\n",
    "unique_elements = set()\n",
    "\n",
    "for item in my_list:\n",
    "    if item in unique_elements:\n",
    "        duplicates.add(item)\n",
    "    else:\n",
    "        unique_elements.add(item)\n",
    "\n",
    "# Вывести результаты\n",
    "print(\"Повторяющиеся элементы:\", list(duplicates))\n",
    "print(\"Список с уникальными элементами:\", list(unique_elements))\n",
    "\n",
    "\n",
    "# Пример 2: Используя генераторы списков и функцию count\n",
    "my_list = [1, 2, 3, 1, 4, 2, 5]\n",
    "\n",
    "# Найти повторяющиеся элементы\n",
    "duplicates = set(item for item in my_list if my_list.count(item) > 1)\n",
    "\n",
    "# Список с уникальными элементами\n",
    "unique_elements = set(my_list)\n",
    "\n",
    "# Вывести результаты\n",
    "print(\"Повторяющиеся элементы:\", list(duplicates))\n",
    "print(\"Список с уникальными элементами:\", list(unique_elements))\n"
   ]
  },
  {
   "cell_type": "code",
   "execution_count": null,
   "id": "acbc0233",
   "metadata": {},
   "outputs": [],
   "source": [
    "# Задание 10: Поиск элемента\n",
    "\n",
    "\"\"\"\"Создайте список строк countries с названиями стран.\n",
    "Попросите пользователя ввести название страны с клавиатуры.\n",
    "Проверьте, есть ли введенная страна в списке. Выведите сообщение об успехе или неудаче.\n",
    "Успешной работы! Если возникнут вопросы, не стесняйтесь задавать.\"\"\"\"\n",
    "\n",
    "# Создаем список стран\n",
    "countries = [\"Россия\", \"США\", \"Китай\", \"Германия\", \"Франция\", \"Италия\", \"Япония\", \"Бразилия\", \"Индия\"]\n",
    "\n",
    "# Просим пользователя ввести название страны\n",
    "user_input = input(\"Введите название страны: \")\n",
    "\n",
    "# Проверяем, есть ли введенная страна в списке\n",
    "if user_input in countries:\n",
    "    print(\"Эта страна есть в списке!\")\n",
    "else:\n",
    "    print(\"Такой страны в списке нет.\")\n"
   ]
  },
  {
   "cell_type": "code",
   "execution_count": null,
   "id": "e9754fe0",
   "metadata": {},
   "outputs": [],
   "source": [
    "\n",
    "\n",
    "\n",
    "\n",
    "\n",
    "\n",
    "\n",
    "Матричная транспонировка:\n",
    "Создайте матрицу (список списков) и напишите программу для ее транспонирования. \n",
    "Транспонированная матрица получается изменением местами строк и столбцов.\n",
    "\n",
    "Сравнение списков:\n",
    "У вас есть два списка. Напишите программу, определяющую, содержат ли списки одни и те же элементы, \n",
    "не обязательно в одном и том же порядке.\n",
    "\n",
    "Поиск подпоследовательности:\n",
    "У вас есть список целых чисел. Напишите программу, определяющую, \n",
    "является ли заданный список подпоследовательностью другого списка.\n",
    "\n",
    "Обратное вычисление:\n",
    "Создайте список, содержащий результаты некоторых арифметических выражений. \n",
    "Напишите программу для обратного вычисления исходных выражений из списка результатов.\n",
    "\n",
    "Список слов:\n",
    "Введите строку, содержащую несколько слов, разделенных пробелами. \n",
    "Напишите программу для создания списка слов из этой строки и их сортировки в порядке убывания длины.\n",
    "\n",
    "Надеюсь, эти задачи будут интересными и полезными для вас. \n",
    "Если у вас будут вопросы или нужна помощь, не стесняйтесь спрашивать!\n",
    "\n",
    "\n",
    "2 / 2\n",
    "\n",
    "\n",
    "\n",
    "User\n",
    "И еще добавь 5 задач к ним же\n",
    "ChatGPT\n",
    "Конечно, дополню ещё пять задач:\n",
    "\n",
    "Группировка по первой букве:\n",
    "У вас есть список слов. Напишите программу для группировки слов по первой букве и создания словаря, \n",
    "где ключи - это первые буквы, а значения - списки слов, начинающихся с этой буквы.\n",
    "\n",
    "Сдвиг в двумерном массиве:\n",
    "У вас есть двумерный список (матрица). Напишите программу для циклического сдвига элементов каждой строки вправо.\n",
    "\n",
    "Слияние отсортированных списков:\n",
    "У вас есть два отсортированных по возрастанию списка целых чисел. \n",
    "Напишите программу для слияния их в новый отсортированный список.\n",
    "\n",
    "Сравнение списков с точностью:\n",
    "У вас есть два списка чисел с плавающей точкой. Напишите программу, которая определяет, \n",
    "совпадают ли списки с заданной точностью (например, 0.001).\n",
    "\n",
    "Фильтрация по условию:\n",
    "У вас есть список чисел. Напишите программу для создания нового списка, включающего только те числа, \n",
    "которые больше среднего значения в исходном списке.\n",
    "\n",
    "Удачи с решением задач! Если у вас возникнут вопросы или нужна помощь, не стесняйтесь обращаться.\"\"\""
   ]
  },
  {
   "cell_type": "markdown",
   "id": "e7134c1f",
   "metadata": {},
   "source": [
    "# Решение задач 05.03.2024"
   ]
  },
  {
   "cell_type": "code",
   "execution_count": 3,
   "id": "ca5986d3",
   "metadata": {},
   "outputs": [
    {
     "name": "stdout",
     "output_type": "stream",
     "text": [
      "[10, 20, 21, 25]\n"
     ]
    }
   ],
   "source": [
    "# Задача №1\n",
    "\n",
    "\"\"\"Сортировка по сумме:\n",
    "Создайте список списков, где каждый подсписок содержит целые числа. \n",
    "Отсортируйте основной список по возрастанию сумм элементов каждого подсписка.\"\"\"\n",
    "\n",
    "\n",
    "my_list_1 = [[2, 13, 1, 4], [1, 6, 14, 4], [9, 0, 8, 4], [1, 4, 3, 2]]\n",
    "\n",
    "element_sum_1 = sum(my_list_1[0])\n",
    "element_sum_2 = sum(my_list_1[1])\n",
    "element_sum_3 = sum(my_list_1[2])\n",
    "element_sum_4 = sum(my_list_1[3])\n",
    "\n",
    "my_list_sort = []\n",
    "\n",
    "my_list_sort.append(element_sum_1)\n",
    "my_list_sort.append(element_sum_2)\n",
    "my_list_sort.append(element_sum_3)\n",
    "my_list_sort.append(element_sum_4)\n",
    "my_list_sort.sort()\n",
    "\n",
    "print(my_list_sort) "
   ]
  },
  {
   "cell_type": "code",
   "execution_count": 4,
   "id": "8d55ad4f",
   "metadata": {},
   "outputs": [
    {
     "name": "stdout",
     "output_type": "stream",
     "text": [
      "[[1, 4, 3, 2], [2, 13, 1, 4], [9, 0, 8, 4], [1, 6, 14, 4]]\n"
     ]
    }
   ],
   "source": [
    "# Вариант нейросети\n",
    "\n",
    "my_list = [[2, 13, 1, 4], [1, 6, 14, 4], [9, 0, 8, 4], [1, 4, 3, 2]]\n",
    "\n",
    "# Используем sorted с аргументом key для сортировки списка по сумме каждого подсписка\n",
    "sorted_list = sorted(my_list, key=lambda x: sum(x))\n",
    "\n",
    "# Вывод отсортированного списка\n",
    "print(sorted_list)"
   ]
  },
  {
   "cell_type": "code",
   "execution_count": 5,
   "id": "b1cf98b3",
   "metadata": {},
   "outputs": [
    {
     "name": "stdout",
     "output_type": "stream",
     "text": [
      "Исходный список: ['Nord', 'Orc', 'Kajit', 'Elf', 'Nord', 'Redguard', 'Elf']\n",
      "Список без дубликатов: ['Nord', 'Orc', 'Kajit', 'Redguard', 'Elf']\n"
     ]
    }
   ],
   "source": [
    "# Задача №2\n",
    "\n",
    "\"\"\"Удаление дубликатов:\n",
    "Создайте список с повторяющимися элементами. Напишите программу, удаляющую все дубликаты из списка, \n",
    "сохраняя порядок оригинального списка.\"\"\"\n",
    "\n",
    "\n",
    "original_list = ['Nord', 'Orc', 'Kajit', 'Elf', 'Nord', 'Redguard', 'Elf']\n",
    "\n",
    "# Используем множество (set) для удаления дубликатов\n",
    "unique_list = list(set(original_list))\n",
    "\n",
    "print(\"Исходный список:\", original_list)\n",
    "print(\"Список без дубликатов:\", unique_list)\n"
   ]
  },
  {
   "cell_type": "code",
   "execution_count": 7,
   "id": "8260a152",
   "metadata": {},
   "outputs": [
    {
     "name": "stdout",
     "output_type": "stream",
     "text": [
      "Модифицированный лист выглядит вот так:[1, 2, 3, 4, 5, 6, 7, 8, 9, 10, 1, 2, 3, 4, 5, 6, 7, 8, 9, 10]\n"
     ]
    }
   ],
   "source": [
    "# Задача №3\n",
    "\n",
    "\"\"\"Объединение списков:\n",
    "У вас есть два списка целых чисел. Создайте новый список, включив в себя элементы первого и второго списков, \n",
    "но без повторений.\"\"\"\n",
    "\n",
    "list_1 = [1,1,2,2,3,4,1,5,6,3,7,8,7,9,10]\n",
    "list_1_mod = list(set(list_1))\n",
    "\n",
    "list_2 = [1,1,2,2,3,4,1,5,6,3,7,8,7,9,10]\n",
    "list_2_mod = list(set(list_2))\n",
    "\n",
    "modifi_list =[]\n",
    "modifi_list.extend(list_1_mod)\n",
    "modifi_list.extend(list_2_mod)\n",
    "\n",
    "print(f'Модифицированный лист выглядит вот так:{modifi_list}')"
   ]
  },
  {
   "cell_type": "code",
   "execution_count": null,
   "id": "e8a48862",
   "metadata": {},
   "outputs": [],
   "source": [
    "# Задача №3 нейросеть....\n",
    "\n",
    "\"\"\"Объединение списков:\n",
    "У вас есть два списка целых чисел. Создайте новый список, включив в себя элементы первого и второго списков, \n",
    "но без повторений.\"\"\"\n",
    "\n",
    "list_1 = [1, 1, 2, 2, 3, 4, 1, 5, 6, 3, 7, 8, 7, 9, 10]\n",
    "list_2 = [1, 1, 2, 2, 3, 4, 1, 5, 6, 3, 7, 8, 7, 9, 10]\n",
    "\n",
    "# Используем множества для удаления дубликатов\n",
    "unique_list = list(set(list_1 + list_2))\n",
    "\n",
    "print(\"Исходный список 1:\", list_1)\n",
    "print(\"Исходный список 2:\", list_2)\n",
    "print(\"Модифицированный список без повторений:\", unique_list)"
   ]
  },
  {
   "cell_type": "code",
   "execution_count": 8,
   "id": "ecaa7552",
   "metadata": {},
   "outputs": [
    {
     "name": "stdout",
     "output_type": "stream",
     "text": [
      "[]\n"
     ]
    }
   ],
   "source": [
    "# Задача №4\n",
    "\n",
    "\"\"\"Сжатие списка:\n",
    "У вас есть список из целых и строковых элементов. \n",
    "Создайте новый список, в котором целые числа заменены на их квадраты, а строки оставлены без изменений.\"\"\"\n",
    "\n",
    "my_mixed_list = ['One', 1, 'Two', 2, 'Three', 3, 'Four', 4, 'Five', 5]\n",
    "\n",
    "my_new_list = [element ** 2 for element in my_mixed_list if element == int]\n",
    "\n",
    "print(my_new_list)"
   ]
  },
  {
   "cell_type": "code",
   "execution_count": 9,
   "id": "136ec75c",
   "metadata": {},
   "outputs": [
    {
     "name": "stdout",
     "output_type": "stream",
     "text": [
      "Исходный список: ['One', 1, 'Two', 2, 'Three', 3, 'Four', 4, 'Five', 5]\n",
      "Модифицированный список: ['One', 1, 'Two', 4, 'Three', 9, 'Four', 16, 'Five', 25]\n"
     ]
    }
   ],
   "source": [
    "# Задача №4 нейросеть\n",
    "\n",
    "\"\"\"Сжатие списка:\n",
    "У вас есть список из целых и строковых элементов. \n",
    "Создайте новый список, в котором целые числа заменены на их квадраты, а строки оставлены без изменений.\"\"\"\n",
    "\n",
    "my_mixed_list = ['One', 1, 'Two', 2, 'Three', 3, 'Four', 4, 'Five', 5]\n",
    "\n",
    "# Используем генератор списка для создания нового списка с квадратами целых чисел\n",
    "# и оставляем строки без изменений\n",
    "my_new_list = [element ** 2 if isinstance(element, int) else element for element in my_mixed_list]\n",
    "\n",
    "# Выводим исходный и модифицированный списки\n",
    "print(\"Исходный список:\", my_mixed_list)\n",
    "print(\"Модифицированный список:\", my_new_list)\n"
   ]
  },
  {
   "cell_type": "code",
   "execution_count": null,
   "id": "0cb55e61",
   "metadata": {},
   "outputs": [],
   "source": [
    "# Задача №5 нейросеть\n",
    "\n",
    "\n",
    "\"\"\"Циклический сдвиг:\n",
    "Напишите программу, которая циклически сдвигает элементы списка вправо на заданное количество позиций. \n",
    "Например, сдвиг [1, 2, 3, 4, 5] на 2 позиции даст [4, 5, 1, 2, 3].\"\"\"\n",
    "\n",
    "# Задача №5\n",
    "\n",
    "\"\"\"Циклический сдвиг:\n",
    "Напишите программу, которая циклически сдвигает элементы списка вправо на заданное количество позиций. \n",
    "Например, сдвиг [1, 2, 3, 4, 5] на 2 позиции даст [4, 5, 1, 2, 3].\"\"\"\n",
    "\n",
    "def cyclic_shift(lst, positions):\n",
    "    # Реализуем циклический сдвиг\n",
    "    return lst[-positions:] + lst[:-positions]\n",
    "\n",
    "# Пример использования\n",
    "original_list = [1, 2, 3, 4, 5]\n",
    "shifted_list = cyclic_shift(original_list, 2)\n",
    "\n",
    "# Выводим результат\n",
    "print(\"Исходный список:\", original_list)\n",
    "print(\"Циклически сдвинутый список:\", shifted_list)\n"
   ]
  }
 ],
 "metadata": {
  "kernelspec": {
   "display_name": "Python 3",
   "language": "python",
   "name": "python3"
  },
  "language_info": {
   "codemirror_mode": {
    "name": "ipython",
    "version": 3
   },
   "file_extension": ".py",
   "mimetype": "text/x-python",
   "name": "python",
   "nbconvert_exporter": "python",
   "pygments_lexer": "ipython3",
   "version": "3.8.8"
  }
 },
 "nbformat": 4,
 "nbformat_minor": 5
}
