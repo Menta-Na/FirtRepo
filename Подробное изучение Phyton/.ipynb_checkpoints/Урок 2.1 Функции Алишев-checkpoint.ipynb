{
 "cells": [
  {
   "cell_type": "markdown",
   "id": "ca911d00",
   "metadata": {},
   "source": [
    "# Питон для начинающих (Наиль)"
   ]
  },
  {
   "cell_type": "code",
   "execution_count": null,
   "id": "c261f714",
   "metadata": {},
   "outputs": [],
   "source": [
    "#Пример 1\n",
    "def function1():\n",
    "    print(\"Hello 1\")\n",
    "    print(\"Hello 2\")\n",
    "    \n",
    "# Вне блока функции\n",
    "print(\"Hello from outside\")"
   ]
  },
  {
   "cell_type": "code",
   "execution_count": null,
   "id": "a53f9911",
   "metadata": {},
   "outputs": [],
   "source": [
    "#Выполняем функцию полностью\n",
    "\n",
    "function1()"
   ]
  },
  {
   "cell_type": "code",
   "execution_count": null,
   "id": "8ea17a9b",
   "metadata": {},
   "outputs": [],
   "source": [
    "#Пример 2\n",
    "\n",
    "def function2(x):\n",
    "    return 2*x"
   ]
  },
  {
   "cell_type": "code",
   "execution_count": null,
   "id": "b1443849",
   "metadata": {},
   "outputs": [],
   "source": [
    "a = function2(5)\n",
    "print(a)"
   ]
  },
  {
   "cell_type": "code",
   "execution_count": null,
   "id": "310d3705",
   "metadata": {},
   "outputs": [],
   "source": [
    "print(function2(4))"
   ]
  },
  {
   "cell_type": "code",
   "execution_count": null,
   "id": "e4d40b48",
   "metadata": {},
   "outputs": [],
   "source": [
    "# Функции не хватает аргумента x\n",
    "d = function2()\n"
   ]
  },
  {
   "cell_type": "code",
   "execution_count": null,
   "id": "9207f515",
   "metadata": {},
   "outputs": [],
   "source": [
    "def sum_of_two_numbers(x, y):\n",
    "    return x + y\n"
   ]
  },
  {
   "cell_type": "code",
   "execution_count": null,
   "id": "cf943d5d",
   "metadata": {},
   "outputs": [],
   "source": [
    "e = sum_of_two_numbers(4, 5)\n",
    "print(e)"
   ]
  },
  {
   "cell_type": "code",
   "execution_count": null,
   "id": "75e9d33d",
   "metadata": {},
   "outputs": [],
   "source": [
    "#Функция математики \n",
    "y = 2 * x\n",
    "x - это входное значение\n",
    "y - это выходное значение"
   ]
  },
  {
   "cell_type": "code",
   "execution_count": null,
   "id": "8c41c4e9",
   "metadata": {},
   "outputs": [],
   "source": [
    "def function5(some_argument):\n",
    "    print(some_argument)\n",
    "    print(\"DDDDDDDd\")"
   ]
  },
  {
   "cell_type": "code",
   "execution_count": null,
   "id": "3a16e53f",
   "metadata": {},
   "outputs": [],
   "source": [
    "a = function5(123)\n",
    "print(a)"
   ]
  },
  {
   "cell_type": "code",
   "execution_count": null,
   "id": "6d769a39",
   "metadata": {},
   "outputs": [],
   "source": [
    "function5(5)"
   ]
  },
  {
   "cell_type": "code",
   "execution_count": null,
   "id": "370a8c9e",
   "metadata": {},
   "outputs": [],
   "source": [
    "#Функция не принимающая на вход никаких аргументов\n",
    "#Но возвращающая константу\n",
    "\n",
    "def function6():\n",
    "    return 5\n"
   ]
  },
  {
   "cell_type": "code",
   "execution_count": null,
   "id": "f0bab2ba",
   "metadata": {},
   "outputs": [],
   "source": [
    "function6()"
   ]
  },
  {
   "cell_type": "code",
   "execution_count": null,
   "id": "a707a7ea",
   "metadata": {},
   "outputs": [],
   "source": [
    "def function7(x):\n",
    "    print(x)\n",
    "    print(\"D<JFF\")\n",
    "    return 3*x\n",
    "\n",
    "a = function7(10)\n",
    "print(a)"
   ]
  },
  {
   "cell_type": "code",
   "execution_count": null,
   "id": "f8a610de",
   "metadata": {},
   "outputs": [],
   "source": [
    "#Калькулятор индекса массы тела\n",
    "\n",
    "name1 = \"Tom\"\n",
    "height1 = 1.90\n",
    "weight1 = 80\n",
    "\n",
    "name2 = \"Kate\"\n",
    "height2 = 1.70\n",
    "weight2 = 60\n",
    "\n",
    "\n",
    "name3 = \"Bob\"\n",
    "height3 = 2\n",
    "weight3 = 150\n",
    "\n",
    "def bmi_calculator(name, height, weight):\n",
    "    bmi = weight / (height ** 2)\n",
    "    \n",
    "    print(\"Индекс массы тела \" + str(bmi))\n",
    "    \n",
    "    if bmi < 25:\n",
    "        return name + \" не имеет лишнего веса\"\n",
    "    else:\n",
    "        return name + \" имеет лишний вес\"\n",
    "    \n",
    "bmi1 = bmi_calculator(name1, height1, weight1)\n",
    "bmi2 = bmi_calculator(name2, height2, weight2)\n",
    "bmi3 = bmi_calculator(name3, height3, weight3)\n",
    "\n",
    "print(bmi1)\n",
    "print(bmi2)\n",
    "print(bmi3)"
   ]
  },
  {
   "cell_type": "markdown",
   "id": "e4554185",
   "metadata": {},
   "source": [
    "# Самостоятельная работа"
   ]
  },
  {
   "cell_type": "code",
   "execution_count": null,
   "id": "61ea20ab",
   "metadata": {},
   "outputs": [],
   "source": [
    "#Написоть функцию переводящую мили в километры\n",
    "\n",
    "#Новый вариант с пользовательским вводом\n",
    "\n",
    "miles = int(input(\"Введите кал-во миль: \"))\n",
    "\n",
    "def convert(miles):\n",
    "    return(miles * 1.609344)\n",
    "\n",
    "km = convert(miles)\n",
    "print(km)   \n"
   ]
  },
  {
   "cell_type": "code",
   "execution_count": null,
   "id": "45dad445",
   "metadata": {},
   "outputs": [],
   "source": [
    " 80 * 1.609344"
   ]
  },
  {
   "cell_type": "code",
   "execution_count": null,
   "id": "9e211230",
   "metadata": {},
   "outputs": [],
   "source": [
    "#Мой старый вариант\n",
    "\n",
    "def convert0(miles):\n",
    "    return(miles * 1.609344)\n",
    "km = convert0(10)\n",
    "print(km)"
   ]
  },
  {
   "cell_type": "code",
   "execution_count": null,
   "id": "fe023b84",
   "metadata": {},
   "outputs": [],
   "source": [
    "#Задание 2 функция расчета площади прямоугольника\n",
    "\n",
    "#Новый вариант с пользовательским вводом\n",
    "a = int(input(\"Введите длинну: \"))\n",
    "b = int(input(\"Введите ширину: \"))\n",
    "\n",
    "def area(a, b):\n",
    "    return(a * b)\n",
    "result = area(a, b)\n",
    "print(\"Площадь равна: \" + str(result) + \" м²\")"
   ]
  },
  {
   "cell_type": "code",
   "execution_count": null,
   "id": "ad6cab15",
   "metadata": {},
   "outputs": [],
   "source": [
    "# area(a, b)\n",
    "# вариант 1 (моё решение) (старый вариант):\n",
    "\n",
    "def area(a, b):\n",
    "    return (a * b)\n",
    "S = area(8, 5)\n",
    "print( \"Площадь равна \" + str(S) + \" м²\")"
   ]
  },
  {
   "cell_type": "code",
   "execution_count": 11,
   "id": "07c4fd96",
   "metadata": {},
   "outputs": [
    {
     "name": "stdout",
     "output_type": "stream",
     "text": [
      "Введите число: 2009\n",
      "Число 2009 является нечетным\n",
      "None\n"
     ]
    }
   ],
   "source": [
    "# Задание 3 определить четное или не четное число\n",
    "\n",
    "num = int(input(\"Введите число: \"))\n",
    "\n",
    "def is_even(num):\n",
    "    \n",
    "    if num % 2 == 0:\n",
    "        return (print(\"Число \" + str(num) + \" является четным\"))\n",
    "    else:\n",
    "        return (print(\"Число \" + str(num) + \" является нечетным\"))\n",
    "    \n",
    "print(is_even(num))\n",
    "    \n",
    "        "
   ]
  },
  {
   "cell_type": "code",
   "execution_count": 12,
   "id": "fc4cfc9c",
   "metadata": {},
   "outputs": [
    {
     "name": "stdout",
     "output_type": "stream",
     "text": [
      "Введите число: 7\n",
      "Число 7 является нечетным\n",
      "None\n"
     ]
    }
   ],
   "source": [
    "# Задание 3 определить четное или не четное число\n",
    "# Вариант 2\n",
    "num = int(input(\"Введите число: \"))\n",
    "\n",
    "def is_even(num):\n",
    "    \n",
    "    if num % 2 == 0:\n",
    "        return (print(\"Число \" + str(num) + \" является четным\"))\n",
    "    else:\n",
    "        return (print(\"Число \" + str(num) + \" является нечетным\"))\n",
    "L = is_even(num)   \n",
    "print(L)\n",
    "    "
   ]
  },
  {
   "cell_type": "code",
   "execution_count": null,
   "id": "3bf43d33",
   "metadata": {},
   "outputs": [],
   "source": []
  }
 ],
 "metadata": {
  "kernelspec": {
   "display_name": "Python 3",
   "language": "python",
   "name": "python3"
  },
  "language_info": {
   "codemirror_mode": {
    "name": "ipython",
    "version": 3
   },
   "file_extension": ".py",
   "mimetype": "text/x-python",
   "name": "python",
   "nbconvert_exporter": "python",
   "pygments_lexer": "ipython3",
   "version": "3.8.8"
  }
 },
 "nbformat": 4,
 "nbformat_minor": 5
}
