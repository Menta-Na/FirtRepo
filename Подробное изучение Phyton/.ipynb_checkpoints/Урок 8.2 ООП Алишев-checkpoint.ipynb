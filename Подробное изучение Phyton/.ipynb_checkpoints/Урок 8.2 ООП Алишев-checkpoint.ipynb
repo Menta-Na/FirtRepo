{
 "cells": [
  {
   "cell_type": "markdown",
   "id": "f4b84c7d",
   "metadata": {},
   "source": [
    "# Занатие 1. Введение в ООП"
   ]
  },
  {
   "cell_type": "code",
   "execution_count": null,
   "id": "a163e329",
   "metadata": {},
   "outputs": [],
   "source": [
    "print(p1.name)"
   ]
  },
  {
   "cell_type": "code",
   "execution_count": null,
   "id": "30dcc55c",
   "metadata": {},
   "outputs": [],
   "source": [
    "# Обратимся к объектам в классе\n",
    "\n",
    "print(f'''\n",
    "Name: {p1.name}, \n",
    "Surname: {p1.surname}, \n",
    "Place of birth: {p1.place_of_birth}''')"
   ]
  },
  {
   "cell_type": "code",
   "execution_count": null,
   "id": "3303dffb",
   "metadata": {},
   "outputs": [],
   "source": [
    "print(f'''\n",
    "Name: {p2.name}, \n",
    "Surname: {p2.surname}, \n",
    "Place of birth: {p2.place_of_birth}''')"
   ]
  },
  {
   "cell_type": "markdown",
   "id": "758929e3",
   "metadata": {},
   "source": [
    "# Занятие 2.Методы и параметр self"
   ]
  },
  {
   "cell_type": "code",
   "execution_count": null,
   "id": "43968c5c",
   "metadata": {},
   "outputs": [],
   "source": [
    "\"\"\"Создадим первого человека под именем Илон Маск\"\"\"\n",
    "\n",
    "p1 = Person() # Создаем персону 1\n",
    "\n",
    "# Назначим им имя фамилию и место рождения\n",
    "\n",
    "p1.name = 'Elon'\n",
    "p1.surname = 'Musk'\n",
    "p1.place_of_birth = 'ЮАР'\n",
    "p1.year_of_birth = 1971\n"
   ]
  },
  {
   "cell_type": "code",
   "execution_count": null,
   "id": "f82b7395",
   "metadata": {},
   "outputs": [],
   "source": [
    "\"\"\"Создадим второго человека под именем Сергей Королев\"\"\"\n",
    "\n",
    "p2 = Person() # Создаем персону 2\n",
    "\n",
    "# Назначим им имя фамилию и место рождения\n",
    "\n",
    "p2.name = 'Sergey'\n",
    "p2.surname = 'Korolev'\n",
    "p2.place_of_birth = 'Российская Империя'\n",
    "p2.year_of_birth = 1906"
   ]
  },
  {
   "cell_type": "code",
   "execution_count": null,
   "id": "ee722a0b",
   "metadata": {},
   "outputs": [],
   "source": [
    "p1.print_info(3) # Обратимся к первому объекту в нашем классе"
   ]
  },
  {
   "cell_type": "code",
   "execution_count": null,
   "id": "5948c67e",
   "metadata": {},
   "outputs": [],
   "source": [
    "p1.get_age(2024)\n",
    "p2.get_age(2024)"
   ]
  },
  {
   "cell_type": "code",
   "execution_count": null,
   "id": "8ab4a7eb",
   "metadata": {},
   "outputs": [],
   "source": [
    "# Создадим 3-й объект\n",
    "\n",
    "p3 = Person()\n",
    "\n",
    "p3.name =\"Albert\"\n",
    "p3.surname = \"Enshtein\"\n",
    "p3.year_of_birth = 1879\n",
    "# Забыли назначить поле place_of_birth"
   ]
  },
  {
   "cell_type": "markdown",
   "id": "0f2a5a2f",
   "metadata": {},
   "source": [
    "# Занятие 3 метод init"
   ]
  },
  {
   "cell_type": "code",
   "execution_count": null,
   "id": "acf442b9",
   "metadata": {},
   "outputs": [],
   "source": [
    "# Метод - это функция которая находится внутри класса\n",
    "\n",
    "class Person:\n",
    "    def __init__(self, name, surname, place_of_birth, year_of_birth): # Создадим конструктор класса\n",
    "        self.name = name\n",
    "        self.surname = surname\n",
    "        self.place_of_birth = place_of_birth\n",
    "        self.year_of_birth = year_of_birth\n",
    "        \n",
    "    def print_info(self, n): # Создадим общий параметр с атрибутами\n",
    "        for i in range(n):\n",
    "            print(f'''Name: {self.name}, Surname: {self.surname}, Place of birth: {self.place_of_birth}, Year of birth: {self.year_of_birth}''')\n",
    "            \n",
    "    def get_age(self, current_year):\n",
    "        print(f'Age: {current_year - self.year_of_birth}')\n"
   ]
  },
  {
   "cell_type": "code",
   "execution_count": null,
   "id": "8061106d",
   "metadata": {},
   "outputs": [],
   "source": [
    "p1.test = \"Hello\" # Добавим новое поле объекту"
   ]
  },
  {
   "cell_type": "code",
   "execution_count": null,
   "id": "6ad7d581",
   "metadata": {},
   "outputs": [],
   "source": [
    "p1.print_info(1)\n",
    "p2.print_info(1)\n",
    "p3.print_info(1)"
   ]
  },
  {
   "cell_type": "markdown",
   "id": "bd1bc8a4",
   "metadata": {},
   "source": [
    "# Занятие 4 Атрибуты класса"
   ]
  },
  {
   "cell_type": "code",
   "execution_count": null,
   "id": "1993414b",
   "metadata": {},
   "outputs": [],
   "source": [
    "# Метод - это функция которая находится внутри класса\n",
    "\n",
    "class Person:\n",
    "    people_count = 0 # Создаем  атрибут для подсчета Person\n",
    "    \n",
    "    def __init__(self, name, surname, place_of_birth, year_of_birth): # Создадим конструктор класса\n",
    "        self.name = name\n",
    "        self.surname = surname\n",
    "        self.place_of_birth = place_of_birth\n",
    "        self.year_of_birth = year_of_birth\n",
    "        \n",
    "        Person.people_count += 1 # заводим счетчик\n",
    "        \n",
    "    def print_info(self, n): # Создадим общий параметр с атрибутами\n",
    "        for i in range(n):\n",
    "            print(f'''Name: {self.name}, Surname: {self.surname}, Place of birth: {self.place_of_birth}, Year of birth: {self.year_of_birth}''')\n",
    "            \n",
    "    def get_age(self, current_year):\n",
    "        print(f'Age: {current_year - self.year_of_birth}')"
   ]
  },
  {
   "cell_type": "code",
   "execution_count": null,
   "id": "db1d8b05",
   "metadata": {},
   "outputs": [],
   "source": [
    "# Создадим 3 объекта\n",
    "\n",
    "p1 = Person(\"Elon\", \"Musk\", \"UAR\", 1971)\n",
    "p2 = Person(\"Sergey\", \"Korolev\", \"Russian Empire\", 1907)\n",
    "p3 = Person(\"Albert\", \"Enshtein\", \"Germany\", 1897)"
   ]
  },
  {
   "cell_type": "code",
   "execution_count": null,
   "id": "757b9238",
   "metadata": {},
   "outputs": [],
   "source": [
    "p1.some_num # Обратимся к статичному атрибуту"
   ]
  },
  {
   "cell_type": "code",
   "execution_count": null,
   "id": "66cebf1b",
   "metadata": {},
   "outputs": [],
   "source": [
    "Person.some_num = 456 # Изменим значение в атрибуте"
   ]
  },
  {
   "cell_type": "code",
   "execution_count": null,
   "id": "7906ea41",
   "metadata": {},
   "outputs": [],
   "source": [
    "p1.some_num = 789"
   ]
  },
  {
   "cell_type": "code",
   "execution_count": null,
   "id": "22eab1ab",
   "metadata": {},
   "outputs": [],
   "source": [
    "Person.some_num"
   ]
  },
  {
   "cell_type": "code",
   "execution_count": null,
   "id": "f4c228ad",
   "metadata": {},
   "outputs": [],
   "source": []
  },
  {
   "cell_type": "markdown",
   "id": "9430e00c",
   "metadata": {},
   "source": [
    "# Приведем пример когда общедоступные атрибуты полезны"
   ]
  },
  {
   "cell_type": "code",
   "execution_count": null,
   "id": "15d72bb4",
   "metadata": {},
   "outputs": [],
   "source": [
    "# Создадим класс круга\n",
    "\n",
    "class Circle:\n",
    "    # Задаем атрибут радиуса круга\n",
    "    \n",
    "    PI = 3.14\n",
    "    \n",
    "    def __init__ (self, radius):\n",
    "        self.radius = radius\n",
    "        \n",
    "    # Метод для подсчета периметра\n",
    "    def get_perimeter(self):\n",
    "        return self.radius * 2 * Circle.PI\n",
    "    \n",
    "    # Метод для подсчета площади\n",
    "    def get_area(self):\n",
    "        return Circle.PI * self.radius ** 2"
   ]
  },
  {
   "cell_type": "code",
   "execution_count": null,
   "id": "b7c42dd1",
   "metadata": {},
   "outputs": [],
   "source": [
    "c1 = Circle(1)\n",
    "print(c1.get_perimeter())\n",
    "print(c1.get_area())"
   ]
  },
  {
   "cell_type": "code",
   "execution_count": null,
   "id": "80183a78",
   "metadata": {},
   "outputs": [],
   "source": [
    "c2 = Circle(7)\n",
    "print(c2.get_perimeter())\n",
    "print(c2.get_area())"
   ]
  },
  {
   "cell_type": "code",
   "execution_count": null,
   "id": "8ec42fb4",
   "metadata": {},
   "outputs": [],
   "source": [
    "# Создадим объект подключения к базе данных\n",
    "\n",
    "class DB:\n",
    "    dbConnection = pass\n",
    "\n",
    "    def write_some_data(self):\n",
    "        self."
   ]
  },
  {
   "cell_type": "markdown",
   "id": "88f73b38",
   "metadata": {},
   "source": [
    "# Продолжение урока, Наследования"
   ]
  },
  {
   "cell_type": "code",
   "execution_count": null,
   "id": "3708cae3",
   "metadata": {},
   "outputs": [],
   "source": [
    "class Person:\n",
    "    def __init__ (self, name, age):\n",
    "        self.name = name \n",
    "        self.age = age\n",
    "        print(\"Preson created\")\n",
    "        \n",
    "        \n",
    "    def say_hello(self):\n",
    "        print(f\"{self.name} says hello!\")"
   ]
  },
  {
   "cell_type": "code",
   "execution_count": null,
   "id": "c678a3f5",
   "metadata": {},
   "outputs": [],
   "source": [
    "p1 = Person(\"Tom\", 15)\n",
    "p1.say_hello()"
   ]
  },
  {
   "cell_type": "code",
   "execution_count": null,
   "id": "df8c7137",
   "metadata": {},
   "outputs": [],
   "source": [
    "class Student(Person):\n",
    "    def __init__(self, name, age, average_grade):\n",
    "        #Person.__init__(self, name, age)\n",
    "        super().__init__(name, age)\n",
    "        \n",
    "        self.agverage_grade = average_grade\n",
    "        print(\"Student created! \")\n",
    "    \n",
    "    def study(self):\n",
    "        print(f'Студент {self.name} учится на 3-ем курсе')\n",
    "        \n",
    "    def say_hello(self):\n",
    "        super().say_hello()\n",
    "        print(f'Student with name: {self.name} says hello!')"
   ]
  },
  {
   "cell_type": "code",
   "execution_count": null,
   "id": "3204b2be",
   "metadata": {},
   "outputs": [],
   "source": [
    "class Teacher(Person):\n",
    "    def teach(self):\n",
    "        print(f'Учитель {self.name} преподает в институте')"
   ]
  },
  {
   "cell_type": "code",
   "execution_count": null,
   "id": "c9c0cb16",
   "metadata": {},
   "outputs": [],
   "source": [
    "s1 = Student(\"Mike\", 18 , 45)\n",
    "t1 = Teacher(\"Katy\", 45)"
   ]
  },
  {
   "cell_type": "code",
   "execution_count": null,
   "id": "59d1d6f7",
   "metadata": {},
   "outputs": [],
   "source": [
    "s1.say_hello()\n",
    "t1.say_hello()"
   ]
  },
  {
   "cell_type": "code",
   "execution_count": null,
   "id": "b647aafa",
   "metadata": {},
   "outputs": [],
   "source": [
    "s1.study()\n",
    "t1.teach()"
   ]
  },
  {
   "cell_type": "code",
   "execution_count": null,
   "id": "6a7595a5",
   "metadata": {},
   "outputs": [],
   "source": [
    "def introduce(person):\n",
    "    print(\"Now, a person will say hello\")\n",
    "    person.say_hello()"
   ]
  },
  {
   "cell_type": "code",
   "execution_count": null,
   "id": "2dd73407",
   "metadata": {},
   "outputs": [],
   "source": [
    "people_arr = [Student(\"Tom\", 18, 3.5), Teacher(\"Katy, \", 35), Student(\"Bob\", 26, 4.8)]"
   ]
  },
  {
   "cell_type": "code",
   "execution_count": null,
   "id": "2a2fa078",
   "metadata": {},
   "outputs": [],
   "source": [
    "for person in people_arr:\n",
    "    introduce(person)"
   ]
  },
  {
   "cell_type": "code",
   "execution_count": 1,
   "id": "09dc984c",
   "metadata": {},
   "outputs": [
    {
     "name": "stdout",
     "output_type": "stream",
     "text": [
      "Animal created\n",
      "Animal created\n",
      "Animal created\n"
     ]
    }
   ],
   "source": [
    "# Самостоятельное задание\n",
    "\n",
    "class Animal:\n",
    "    def __init__(self, name):\n",
    "        self.name = name\n",
    "        print('Animal created')\n",
    "        \n",
    "    def eat(self):\n",
    "        print(f\"{self.name} is eating\")\n",
    "        \n",
    "        \n",
    "class Dog(Animal):\n",
    "    def __init__(self, name, breed):\n",
    "        super().__init__(name)\n",
    "        self.breed = breed\n",
    "        \n",
    "    def bark(self):\n",
    "        print(f\"Dog {self.name} is barking\")    \n",
    "        \n",
    "class Cat(Animal):        \n",
    "    def meow(self):\n",
    "        print(f'{self.name} says Meow')\n",
    "        \n",
    "class Frog(Animal):\n",
    "    def eat(self):\n",
    "        super().eat()\n",
    "        print(f'Frog with name {self.name} is eating')\n",
    "        \n",
    "d1 = Dog(\"Spike\", \"Huskey\")\n",
    "c1 = Cat(\"Tom\")\n",
    "f1 = Frog(\"Row\")"
   ]
  },
  {
   "cell_type": "code",
   "execution_count": 4,
   "id": "7ad032e5",
   "metadata": {},
   "outputs": [
    {
     "name": "stdout",
     "output_type": "stream",
     "text": [
      "Dog Spike is barking\n",
      "Spike is eating\n"
     ]
    },
    {
     "data": {
      "text/plain": [
       "'Huskey'"
      ]
     },
     "execution_count": 4,
     "metadata": {},
     "output_type": "execute_result"
    }
   ],
   "source": [
    "d1.bark()\n",
    "d1.eat()\n",
    "d1.breed"
   ]
  },
  {
   "cell_type": "code",
   "execution_count": 6,
   "id": "a31a0d03",
   "metadata": {},
   "outputs": [
    {
     "name": "stdout",
     "output_type": "stream",
     "text": [
      "Tom says Meow\n"
     ]
    }
   ],
   "source": [
    "c1.meow()"
   ]
  },
  {
   "cell_type": "code",
   "execution_count": 5,
   "id": "3c4483b8",
   "metadata": {},
   "outputs": [
    {
     "name": "stdout",
     "output_type": "stream",
     "text": [
      "Row is eating\n",
      "Frog with name Row is eating\n"
     ]
    }
   ],
   "source": [
    "f1.eat()"
   ]
  },
  {
   "cell_type": "code",
   "execution_count": null,
   "id": "43ca4b35",
   "metadata": {},
   "outputs": [],
   "source": []
  },
  {
   "cell_type": "code",
   "execution_count": null,
   "id": "1540c19f",
   "metadata": {},
   "outputs": [],
   "source": []
  }
 ],
 "metadata": {
  "kernelspec": {
   "display_name": "Python 3",
   "language": "python",
   "name": "python3"
  },
  "language_info": {
   "codemirror_mode": {
    "name": "ipython",
    "version": 3
   },
   "file_extension": ".py",
   "mimetype": "text/x-python",
   "name": "python",
   "nbconvert_exporter": "python",
   "pygments_lexer": "ipython3",
   "version": "3.8.8"
  }
 },
 "nbformat": 4,
 "nbformat_minor": 5
}
