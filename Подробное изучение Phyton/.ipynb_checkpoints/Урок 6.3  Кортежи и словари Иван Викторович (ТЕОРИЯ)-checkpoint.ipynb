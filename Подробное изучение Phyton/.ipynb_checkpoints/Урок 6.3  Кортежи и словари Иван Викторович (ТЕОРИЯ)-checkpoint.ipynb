{
 "cells": [
  {
   "cell_type": "markdown",
   "id": "014b6b98",
   "metadata": {},
   "source": [
    "# Питон для начинающих Кортежи"
   ]
  },
  {
   "cell_type": "code",
   "execution_count": null,
   "id": "a77f6c39",
   "metadata": {},
   "outputs": [],
   "source": [
    "# Создадим кортеж\n",
    "\n",
    "x = (12, 56, 100, 'hello')\n",
    "print(type(x))"
   ]
  },
  {
   "cell_type": "code",
   "execution_count": null,
   "id": "26932a6b",
   "metadata": {},
   "outputs": [],
   "source": [
    "# Это уже будет не кортеж\n",
    "\n",
    "x = (12)\n",
    "print(type(x))"
   ]
  },
  {
   "cell_type": "code",
   "execution_count": null,
   "id": "383936dd",
   "metadata": {},
   "outputs": [],
   "source": [
    "# Главное отличие создания кортежа в знаке запятой после элемента\n",
    "\n",
    "x = (12,)\n",
    "print(type(x))"
   ]
  },
  {
   "cell_type": "code",
   "execution_count": null,
   "id": "07a49907",
   "metadata": {},
   "outputs": [],
   "source": [
    "# Еще один вариант создания кортежа\n",
    "\n",
    "x = tuple(\"hello\")\n",
    "print(x)"
   ]
  },
  {
   "cell_type": "code",
   "execution_count": null,
   "id": "3f2bcf68",
   "metadata": {},
   "outputs": [],
   "source": [
    "# Упаковка кортежа\n",
    "\n",
    "x = 12, 45, 60\n",
    "print(x)"
   ]
  },
  {
   "cell_type": "code",
   "execution_count": null,
   "id": "d542a7f5",
   "metadata": {},
   "outputs": [],
   "source": [
    "# Распаковка кортежа\n",
    "\n",
    "x, y, z = 12, 45, 60\n",
    "\n",
    "print(x) # X присвоит 12\n",
    "print(y) # Y присвоит 45\n",
    "print(z) # Z присвоит 60"
   ]
  },
  {
   "cell_type": "code",
   "execution_count": null,
   "id": "3066ad57",
   "metadata": {},
   "outputs": [],
   "source": [
    "# В данно случае передано слишком много значений для распаковки...\n",
    "\n",
    "x, y, z, *t = 12, 45, 60, 100 # Присваеваем [*t] остальные элементы...\n",
    "\n",
    "print(x) # X присвоит 12\n",
    "print(y) # Y присвоит 45\n",
    "print(z) # Z присвоит 60\n",
    "print(t) # T присвоит список из 60 и 100"
   ]
  },
  {
   "cell_type": "code",
   "execution_count": null,
   "id": "80f8b3f9",
   "metadata": {},
   "outputs": [],
   "source": [
    "# Создадим переменные и поменяем их местами....\n",
    "\n",
    "x = 5\n",
    "y = 10\n",
    "\n",
    "x, y = y, x # Меняем местами с помощью кортежа....\n",
    "\n",
    "print(x)\n",
    "print(y)"
   ]
  },
  {
   "cell_type": "code",
   "execution_count": null,
   "id": "8f361cda",
   "metadata": {},
   "outputs": [],
   "source": [
    "# Обращение к элементу в кортеже или к группе элементов\n",
    "\n",
    "x = (12, 45, 60, 50, 1000)\n",
    "\n",
    "# Работает как и с обычными срезами\n",
    "\n",
    "print(x[1])\n",
    "print(x[-1])\n",
    "print(x[1:4])\n",
    "print(x[1:4:2])"
   ]
  },
  {
   "cell_type": "code",
   "execution_count": null,
   "id": "18639ed8",
   "metadata": {},
   "outputs": [],
   "source": [
    "x = (12, 45, 60, 50, 1000)\n",
    "\n",
    "print(12 in x) # Можем так же вывести элемент...."
   ]
  },
  {
   "cell_type": "code",
   "execution_count": null,
   "id": "61369763",
   "metadata": {},
   "outputs": [],
   "source": [
    "# Мы можем вложить кортеж в кортеж, в кортеж список...\n",
    "\n",
    "x = (12, 45, (1, 87, 10), 60, 50, 1000)\n",
    "print(x[2][1]) # Обратимся к элементу во вложенном кортеже..."
   ]
  },
  {
   "cell_type": "code",
   "execution_count": null,
   "id": "bee55088",
   "metadata": {},
   "outputs": [],
   "source": [
    "# Мы можем вложить кортеж в кортеж, в кортеж список...\n",
    "\n",
    "x = (12, 45, [1, 87, 10], 60, 50, 1000)\n",
    "x[2][1] = 100 # Во вложенном списке в кортеже можно изменить значения\n",
    "print(x)"
   ]
  },
  {
   "cell_type": "code",
   "execution_count": null,
   "id": "af223d9e",
   "metadata": {},
   "outputs": [],
   "source": [
    "# Мы можем сравнивать кортежи....\n",
    "\n",
    "x = (1, 2, 3)\n",
    "y = (2, 4, 1)\n",
    "print(x < y) # Вернет True т.к сравнение идет по последовательности элементов\n",
    "\n",
    "x = (1, 5, 3)\n",
    "y = (2, 4, 1)\n",
    "print(x < y) # Вернет False"
   ]
  },
  {
   "cell_type": "code",
   "execution_count": null,
   "id": "cd91a830",
   "metadata": {},
   "outputs": [],
   "source": [
    "# Кортеж тоже итерируемый объект его можно перебирать\n",
    "\n",
    "x = (1, 5, 3)\n",
    "for i in x:\n",
    "    print(i)"
   ]
  },
  {
   "cell_type": "code",
   "execution_count": null,
   "id": "f817e68c",
   "metadata": {},
   "outputs": [],
   "source": [
    "# Мы можем удалить целиком кортеж с помощью оператора del\n",
    "\n",
    "x = (2, 5, 3)\n",
    "\n",
    "del x\n",
    "print(x)"
   ]
  },
  {
   "cell_type": "code",
   "execution_count": null,
   "id": "c351979a",
   "metadata": {},
   "outputs": [],
   "source": [
    "# Можем сортировать кортеж\n",
    "\n",
    "x = (2, 4, 3)\n",
    "\n",
    "y = tuple(sorted(x)) # функция sorted возвращает список для возврата кортежа ставим перед ней Tuple\n",
    "print(y)"
   ]
  },
  {
   "cell_type": "code",
   "execution_count": null,
   "id": "d2dc8d1a",
   "metadata": {},
   "outputs": [],
   "source": [
    "# Узнаем длинну кортежа\n",
    "\n",
    "x = (2, 4, 3)\n",
    "print(len(x))"
   ]
  },
  {
   "cell_type": "markdown",
   "id": "52216496",
   "metadata": {},
   "source": [
    "# Можно воспользоваться некоторыми методами "
   ]
  },
  {
   "cell_type": "code",
   "execution_count": null,
   "id": "31a6aadd",
   "metadata": {},
   "outputs": [],
   "source": [
    "# Универсальный метод count\n",
    "\n",
    "x = (2, 4, 3, 2, 2, 2)\n",
    "print(x.count(2)) # выводим кал-во элементов 2"
   ]
  },
  {
   "cell_type": "code",
   "execution_count": null,
   "id": "6c2e47c8",
   "metadata": {},
   "outputs": [],
   "source": [
    "# Универсальный метод index\n",
    "\n",
    "x = (2, 4, 3, 2, 2, 2)\n",
    "print(x.index(4)) # выводим индекс элемента 2"
   ]
  },
  {
   "cell_type": "code",
   "execution_count": null,
   "id": "9812b5da",
   "metadata": {},
   "outputs": [],
   "source": [
    "# Можно выполнить конкантенацию \n",
    "\n",
    "x = (2, 4, 3, 2, 2, 2)\n",
    "y = ('hello', 'world')\n",
    "z = x + y\n",
    "print(z)"
   ]
  },
  {
   "cell_type": "code",
   "execution_count": null,
   "id": "4590e6c6",
   "metadata": {},
   "outputs": [],
   "source": [
    "# Так же у нас есть еще и повторения\n",
    "\n",
    "x = (2, 4, 3, 2, 2, 2)\n",
    "y = ('hello', 'world')\n",
    "z = x + y * 10\n",
    "print(z)"
   ]
  },
  {
   "cell_type": "code",
   "execution_count": null,
   "id": "53d34496",
   "metadata": {},
   "outputs": [],
   "source": [
    "# Ответ зачем нам нужен кортеж?\n",
    "\n",
    "# 1) Неизменяемость, меньше опасения потери данных\n",
    "# 2) Скорость по причине неизменяемости...\n",
    "# 3) Безопасность\n",
    "# 4) Использовани встречаются в других типах данных...\n",
    "# пример...\n",
    "\n",
    "import timeit\n",
    "\n",
    "def list_creation():\n",
    "    x = [2, 4, 3, 2, 2, 2]\n",
    "\n",
    "def tuple_creation():\n",
    "    x = (2, 4, 3, 2, 2, 2)\n",
    "\n",
    "list_time = timeit.timeit(list_creation, number=1000000)\n",
    "tuple_time = timeit.timeit(tuple_creation, number=1000000)\n",
    "\n",
    "print(f\"Время выполнения для списка: {list_time}\")\n",
    "print(f\"Время выполнения для кортежа: {tuple_time}\")\n"
   ]
  },
  {
   "cell_type": "markdown",
   "id": "7e480f01",
   "metadata": {},
   "source": [
    "# Решаем задачи"
   ]
  },
  {
   "cell_type": "code",
   "execution_count": null,
   "id": "505eb24e",
   "metadata": {},
   "outputs": [],
   "source": [
    "\"\"\"I)\n",
    "Напишите программу, которая создает кортеж на 15 элементов,\n",
    "заполненный квадратами целых чисел от 1 до 15.\n",
    "В качестве результата работы выведите все элементы кортежа в порядке убывания.\"\"\"\n",
    "\n",
    "\n",
    "# Вариант который запрашивает у пользователь 15 раз числа\n",
    "\n",
    "user_list = [] # инициализируем список \n",
    "\n",
    "for _ in range(15): # Создаем список который запрашивает 15 чисел\n",
    "    while True: # Заводим бесконечный цикл с блоками try except для проверки корректности значений\n",
    "        try:\n",
    "            user_input = int(input(\"Введите число: \")) # Заводим пользовательский ввод\n",
    "            user_list.append(user_input) # Добавляем в список ввод пользователя\n",
    "            break\n",
    "            \n",
    "        except ValueError:\n",
    "            print(\"Ошибка! Введите корректное число.\")\n",
    "            \n",
    "            \n",
    "user_number_squad = [num ** 2 for num in user_list] # Возводим числа в квадрат\n",
    "my_tuple = tuple(sorted(user_number_squad, reverse=True)) # Преобразуем список в кортеж и сортируем в обратном порядке\n",
    "\n",
    "print(\"Ваш кортеж:\", my_tuple) # Выводим кортеж"
   ]
  },
  {
   "cell_type": "code",
   "execution_count": null,
   "id": "5da37778",
   "metadata": {},
   "outputs": [],
   "source": [
    "# Вариант ввода через пробел\n",
    "\n",
    "user_input = input(\"Введите 15 числовых элементов через пробел: \")\n",
    "\n",
    "try:\n",
    "    user_list = [int(item) for item in user_input.split()] # Преобразуем пользовательский строку в список чисел\n",
    "    \n",
    "    user_list.sort(reverse=True) # Сортируем список в обратном порядке\n",
    "    \n",
    "    user_number_squad = [num ** 2 for num in user_list] # Возводим числа в квадрат\n",
    "    my_tuple = tuple(user_number_squad) # Преобразуем список в кортеж\n",
    "    \n",
    "    print(\"Ваш кортеж:\", my_tuple[::-1]) # Выводим кортеж\n",
    "    \n",
    "except ValueError:\n",
    "    print(\"Ошибка! Введите корректные числа.\")\n"
   ]
  },
  {
   "cell_type": "code",
   "execution_count": null,
   "id": "7ae41b6d",
   "metadata": {},
   "outputs": [],
   "source": [
    "\"\"\"II)\n",
    "Имеется кортеж списков:\n",
    "letters = (['a', 'b'], ['c', 'd'], ['e', 'f'], ['g', 'h'])\n",
    "Напишите программу, которая добавляет символ '!' в начало каждого списка.\"\"\"\n",
    "\n",
    "# Мой вариатн\n",
    "\n",
    "letters = (['a', 'b'], ['c', 'd'], ['e', 'f'], ['g', 'h'])\n",
    "\n",
    "my_list = list(letters)\n",
    "\n",
    "my_list[0].insert(0, \"!\")\n",
    "my_list[1].insert(0, \"!\")\n",
    "my_list[2].insert(0, \"!\")\n",
    "my_list[3].insert(0, \"!\")\n",
    "\n",
    "my_tuple = tuple(my_list)\n",
    "\n",
    "print(my_tuple)\n",
    "\n",
    "# Более элегантный вариант нейросети\n",
    "\n",
    "letters = (['a', 'b'], ['c', 'd'], ['e', 'f'], ['g', 'h'])\n",
    "\n",
    "modified_letters = tuple(['!'] + sublist for sublist in letters)\n",
    "\n",
    "print(modified_letters)\n"
   ]
  },
  {
   "cell_type": "code",
   "execution_count": null,
   "id": "646c1edb",
   "metadata": {},
   "outputs": [],
   "source": [
    "\"\"\"III)\n",
    "Напишите программу, которая создает кортеж из 10 элементов,\n",
    "заполненный натуральными числами, введенными с клавиатуры. \n",
    "На его основе создайте кортеж, в котором будут сначала все элементы,\n",
    "отсортированные в порядке убывания чисел, а затем - в порядке возрастания.\n",
    "Полученный кортеж (в нем должно быть 20 элементов) выведите на экран.\"\"\"\n",
    "\n",
    "# Моё решение\n",
    "\n",
    "my_list = [] # Инциализируем список\n",
    "\n",
    "for _ in range(10): # Заводим цикл в пределе до 10 - го числа\n",
    "    while True: # Заводим цикл для проверки в блоке try except для провверки ввода целых натуральных чисел\n",
    "        try:\n",
    "            my_input = int(input(\"Введите десять целых чисел: \")) # заводим пользовательский ввод\n",
    "            my_list.append(my_input) # добавляем в список числа введенные пользователем\n",
    "            break # Завершаем цикл при успешном заполнении списка\n",
    "            \n",
    "        except ValueError:\n",
    "            print(\"Ошибка ввода, повторите ввод: \") # Выводим ошибку в случае некорректного ввода\n",
    "            \n",
    "my_tuple = tuple(sorted(my_list)) # Преобразуем в кортеж и сортируем список в порядке возрастания\n",
    "my_tuple_reverse = tuple(sorted(my_list, reverse=True)) # Преобразуем в кортеж и сортируем список в порядке убывания\n",
    "my_over_tuple = my_tuple_reverse + my_tuple # Создаем кортеж из обычной и обратной последовательности чисел\n",
    "print(f'Мой окончательный кортеж выглядит вот так: {my_over_tuple}') # Выводим наш окончательный кортеж"
   ]
  },
  {
   "cell_type": "markdown",
   "id": "6d54304d",
   "metadata": {},
   "source": [
    "# Питон для начинающих, словари"
   ]
  },
  {
   "cell_type": "code",
   "execution_count": null,
   "id": "cab1c331",
   "metadata": {},
   "outputs": [],
   "source": [
    "# Словарь неупорядоченая структура данных, с коллекцией ключ: значение\n",
    "# Словарь изменяемый тип данных\n",
    "\n",
    "s = {} # Создаем словарь\n",
    "\n",
    "print(type(s)) "
   ]
  },
  {
   "cell_type": "code",
   "execution_count": null,
   "id": "25ee69e8",
   "metadata": {},
   "outputs": [],
   "source": [
    "# Совет создавать словари желательно с новых строчек\n",
    "\n",
    "# Пример \n",
    "\n",
    "sl = {\n",
    "    1: 'one',\n",
    "    2: 'two'\n",
    "}\n",
    "\n",
    "print(sl)"
   ]
  },
  {
   "cell_type": "code",
   "execution_count": null,
   "id": "786b1c22",
   "metadata": {},
   "outputs": [],
   "source": [
    "# Можно создать словарь с помощью функции dict\n",
    "\n",
    "sl = dict(one='один', two='два', three='три', four='четыре') # в таком примере допустимы только буквы\n",
    "print(sl)"
   ]
  },
  {
   "cell_type": "code",
   "execution_count": null,
   "id": "cf259248",
   "metadata": {},
   "outputs": [],
   "source": [
    "# Мы можем преобразовать словарь с помощью dict\n",
    "\n",
    "sp = [[1, 2], [3, 4]]\n",
    "sl2 = dict(sp) # Создаем двузначную последовательность из вложеных списков\n",
    "print(sl2)"
   ]
  },
  {
   "cell_type": "code",
   "execution_count": null,
   "id": "162b86f1",
   "metadata": {},
   "outputs": [],
   "source": [
    "# Мы можем преобразовывать кортеж с помощью dict\n",
    "\n",
    "sp = ('ab', 'cd')\n",
    "sl2 = dict(sp) # Аналогично, как и со списками \n",
    "print(sl2)"
   ]
  },
  {
   "cell_type": "code",
   "execution_count": null,
   "id": "dcb131df",
   "metadata": {},
   "outputs": [],
   "source": [
    "# Создадим пример генератора словаря\n",
    "\n",
    "sl = {i: i + 2 for i in range(1, 10)}\n",
    "print(sl)"
   ]
  },
  {
   "cell_type": "code",
   "execution_count": null,
   "id": "8884a1f1",
   "metadata": {},
   "outputs": [],
   "source": [
    "# Генератор словаря: {ключ: значение for выражение in итерируемый объект}\n",
    "my_dict = {k: k**2 for k in range(1, 6)}\n",
    "\n",
    "# Пример вывода: {1: 1, 2: 4, 3: 9, 4: 16, 5: 25}\n",
    "print(my_dict)"
   ]
  },
  {
   "cell_type": "code",
   "execution_count": null,
   "id": "aa59bf1a",
   "metadata": {},
   "outputs": [],
   "source": [
    "# К примеру создадим строку, и посчитаем сколько раз символ в этой строке встречается\n",
    "\n",
    "s = 'hello world'\n",
    "sl = {i: s.count(i) for i in set(s)}\n",
    "print(sl)"
   ]
  },
  {
   "cell_type": "code",
   "execution_count": null,
   "id": "864a420d",
   "metadata": {},
   "outputs": [],
   "source": [
    "# Упаковка с помощью функции zip\n",
    "\n",
    "s1 = [1, 2, 3, 4]\n",
    "s2 = ['one', 'two', 'three', 'four']\n",
    "sl = dict(zip(s1, s2)) # Присваеваем ключ из первого списка, значение из второго\n",
    "print(sl)"
   ]
  },
  {
   "cell_type": "code",
   "execution_count": null,
   "id": "3d604c4a",
   "metadata": {},
   "outputs": [],
   "source": [
    "# Упаковщик zip\n",
    "\n",
    "s1 = [1, 2, 3, 4]\n",
    "s2 = ['one', 'two', 'three',] # Уберем одно значение\n",
    "sl = dict(zip(s1, s2)) # При выводе будет соотнесено, равное кал-во\n",
    "print(sl)"
   ]
  },
  {
   "cell_type": "code",
   "execution_count": null,
   "id": "2bc827fe",
   "metadata": {},
   "outputs": [],
   "source": [
    "# Создадим словарь с помощью метода fromkeys()\n",
    "\n",
    "sl = dict.fromkeys(['a', 'b', 'c', 'd'], 1000) # В качестве примера передаем итерируемую пос.\n",
    "print(sl)"
   ]
  },
  {
   "cell_type": "code",
   "execution_count": null,
   "id": "4857bfa0",
   "metadata": {},
   "outputs": [],
   "source": [
    "# Получим элементы нашего словаря\n",
    "\n",
    "sl = {\n",
    "    'name': 'Vasya',\n",
    "    'age': 17,\n",
    "    'city': 'Penza'\n",
    "}\n",
    "print(sl['name']) # Выводим ключ"
   ]
  },
  {
   "cell_type": "code",
   "execution_count": null,
   "id": "55cd9389",
   "metadata": {},
   "outputs": [],
   "source": [
    "sl = {\n",
    "    'name': 'Vasya',\n",
    "    'age': 17,\n",
    "    'city': 'Penza'\n",
    "}\n",
    "\n",
    "# Проверим имеется ли ключ в нашем словаре\n",
    "\n",
    "if 'name' in sl:\n",
    "    print(sl['name'])\n",
    "    \n",
    "else:\n",
    "    print(\"no\")"
   ]
  },
  {
   "cell_type": "code",
   "execution_count": null,
   "id": "802d006f",
   "metadata": {},
   "outputs": [],
   "source": [
    "# Изменим словарь\n",
    "\n",
    "sl = {\n",
    "    'name': 'Vasya',\n",
    "    'age': 17,\n",
    "    'city': 'Penza'\n",
    "}\n",
    "\n",
    "sl['name'] = 'Ivan'\n",
    "print(sl)"
   ]
  },
  {
   "cell_type": "code",
   "execution_count": null,
   "id": "fdcf24ff",
   "metadata": {},
   "outputs": [],
   "source": [
    "# Укажем другое значение\n",
    "\n",
    "sl = {\n",
    "    'name': 'Vasya',\n",
    "    'age': 17,\n",
    "    'city': 'Penza'\n",
    "}\n",
    "\n",
    "sl['12'] = 'Ivan' # Изменим ключ\n",
    "print(sl) # У нас добавится новая пара ключ: значение"
   ]
  },
  {
   "cell_type": "code",
   "execution_count": null,
   "id": "a4d8ca30",
   "metadata": {},
   "outputs": [],
   "source": [
    "\"\"\"I)\n",
    "Создать Русско-Английский словарь, который содержит 10 слов с переводом. В качестве ключа используются русские слова.\n",
    "Например:\n",
    "\"кот\" : \"cat\"\n",
    "\"мышь\" : \"mouse\"\n",
    "\"собака\" : \"dog\"\n",
    "\"животные\": \"animals\"\n",
    "Остальное дополнить самостоятельно\n",
    "\n",
    "Пользователь вводит русское слово, необходимо найти в словаре его перевод и вывести на экран. Вывод должен иметь вид:\n",
    "\n",
    "Слово ХХХХХХ переводится как: YYYYYY.\"\"\"\n",
    "\n",
    "# Моя версия....\n",
    "\n",
    "choise = {'кот': 'cat', \n",
    "          'мышь':'mouse', \n",
    "          'животные': 'animals',\n",
    "          'крыса': 'rat',\n",
    "          'корова': 'cow',\n",
    "          'курица': 'chicken',\n",
    "          'орел': 'eagle',\n",
    "          'ястреб': 'hawk',\n",
    "          'сокол': 'falcon',\n",
    "         }\n",
    "\n",
    "user_choise = input(\"Какое слово вам необходимо перевести?: \").lower() # Нейросеть, убираем чуствительность к регистру...\n",
    "\n",
    "if user_choise in choise:\n",
    "    print(f'Слово {user_choise} переводится как:', choise[user_choise])\n",
    "    \n",
    "else:\n",
    "    print(\"Такого слова в словаре нет\")"
   ]
  },
  {
   "cell_type": "code",
   "execution_count": null,
   "id": "ce66b1ac",
   "metadata": {},
   "outputs": [],
   "source": [
    "\"\"\"II)\n",
    "Создать словарь, в котором в качестве ключа содержится номер студенческого билета\n",
    "(номер билета трехзначный т.е. от 0 до 999),\n",
    "а в качестве значения содержится строка с именем и фамилией.\n",
    "Заполняется словарь вводом с клавиатуры, номер билета генерируется случайно,\n",
    "но проверяется, чтобы он не использовался в словаре.\n",
    "Заполнить словарь 10 элементами\"\"\"\n",
    "\n",
    "\n",
    "import random\n",
    "\n",
    "number_ticket = []\n",
    "student_name  = []\n",
    "\n",
    "for _ in range(1, 10):\n",
    "    \n",
    "    user_input = input(\"Введите имя студента: \")\n",
    "\n",
    "    student_name.append(user_input)\n",
    "    random_number = random.randint(0, 999)\n",
    "    number_ticket.append(random_number)\n",
    "\n",
    "result_dict = dict(zip(number_ticket, student_name))\n",
    "\n",
    "for key, value in result_dict.items():\n",
    "    print(f'Номер билета {key} достался студенту {value}')"
   ]
  },
  {
   "cell_type": "markdown",
   "id": "f5f293a6",
   "metadata": {},
   "source": [
    "# Питон для начинающих методы и функции словарей"
   ]
  },
  {
   "cell_type": "code",
   "execution_count": null,
   "id": "7b40e8b8",
   "metadata": {},
   "outputs": [],
   "source": [
    "# Воспользуемся оператором del для удаления\n",
    "\n",
    "sl = {\n",
    "    \"name\": \"Vasya\",\n",
    "    \"age\": 17,\n",
    "    \"city\": \"Penza\"\n",
    "}\n",
    "del sl[\"age\"]\n",
    "print(sl)"
   ]
  },
  {
   "cell_type": "code",
   "execution_count": null,
   "id": "59602150",
   "metadata": {},
   "outputs": [],
   "source": [
    "# Если передать в кач-ве ключа несуществующее значение, выдается ошибка\n",
    "\n",
    "sl = {\n",
    "    \"name\": \"Vasya\",\n",
    "    \"age\": 17,\n",
    "    \"city\": \"Penza\"\n",
    "}\n",
    "del sl[74]\n",
    "print(sl)"
   ]
  },
  {
   "cell_type": "code",
   "execution_count": null,
   "id": "74c6fbcc",
   "metadata": {},
   "outputs": [],
   "source": [
    "# Проверим есть ли ключ в словаре с помощью оператора in\n",
    "\n",
    "sl = {\n",
    "    \"name\": \"Vasya\",\n",
    "    \"age\": 17,\n",
    "    \"city\": \"Penza\"\n",
    "}\n",
    "if 74 in sl:\n",
    "    del sl[74]\n",
    "print(sl)"
   ]
  },
  {
   "cell_type": "code",
   "execution_count": null,
   "id": "be32eafa",
   "metadata": {},
   "outputs": [],
   "source": [
    "# Метод pop() удаляет ключ и возвращает значение\n",
    "\n",
    "sl = {\n",
    "    \"name\": \"Vasya\",\n",
    "    \"age\": 17,\n",
    "    \"city\": \"Penza\"\n",
    "}\n",
    "l = sl.pop(\"age\")\n",
    "print(sl)\n",
    "print(l)"
   ]
  },
  {
   "cell_type": "code",
   "execution_count": null,
   "id": "59100adb",
   "metadata": {},
   "outputs": [],
   "source": [
    "sl = {\n",
    "    \"name\": \"Vasya\",\n",
    "    \"age\": 17,\n",
    "    \"city\": \"Penza\"\n",
    "}\n",
    "l = sl.pop(74, 'hello') # Во избежании ошибки в кач-ве второго аргумента передайм значение которого нет, т.к метод pop() возвращает значение\n",
    "print(sl)\n",
    "print(l)"
   ]
  },
  {
   "cell_type": "code",
   "execution_count": null,
   "id": "6a5f40f4",
   "metadata": {},
   "outputs": [],
   "source": [
    "# Метод popitem() удаляет последнюю пару, и возращает пару ключ значение\n",
    "\n",
    "sl = {\n",
    "    \"name\": \"Vasya\",\n",
    "    \"age\": 17,\n",
    "    \"city\": \"Penza\"\n",
    "}\n",
    "l = sl.popitem() # В кач-ве аргумента ничего не принимается, т.к будет ошибка\n",
    "print(l)"
   ]
  },
  {
   "cell_type": "code",
   "execution_count": null,
   "id": "211d7250",
   "metadata": {},
   "outputs": [],
   "source": [
    "# Метод clear очищает словарь\n",
    "\n",
    "sl = {\n",
    "    \"name\": \"Vasya\",\n",
    "    \"age\": 17,\n",
    "    \"city\": \"Penza\"\n",
    "}\n",
    "l = sl.clear() \n",
    "print(l)"
   ]
  },
  {
   "cell_type": "code",
   "execution_count": null,
   "id": "6f057e10",
   "metadata": {},
   "outputs": [],
   "source": [
    "# Метод copy() копирует словарь\n",
    "\n",
    "sl = {\n",
    "    \"name\": \"Vasya\",\n",
    "    \"age\": 17,\n",
    "    \"city\": \"Penza\"\n",
    "}\n",
    "sl_copy = sl.copy()\n",
    "print(id(sl))\n",
    "print(id(sl_copy))"
   ]
  },
  {
   "cell_type": "code",
   "execution_count": null,
   "id": "329554bc",
   "metadata": {},
   "outputs": [],
   "source": [
    "# Метод - get() возвращает значение ключа, на если ключа нет, он возвращает, то что заданно в качестве второго аргумета по умолчанию\n",
    "# Если в кач-ве второго аргумента ничего не заданно, вернет none\n",
    "\n",
    "sl = {\n",
    "    \"name\": \"Vasya\",\n",
    "    \"age\": 17,\n",
    "    \"city\": \"Penza\"\n",
    "}\n",
    "print(sl.get('age'))"
   ]
  },
  {
   "cell_type": "code",
   "execution_count": null,
   "id": "c0902965",
   "metadata": {},
   "outputs": [],
   "source": [
    "# Передаем ключ которого нет\n",
    "\n",
    "sl = {\n",
    "    \"name\": \"Vasya\",\n",
    "    \"age\": 17,\n",
    "    \"city\": \"Penza\"\n",
    "}\n",
    "print(sl.get(78, 'hello'))"
   ]
  },
  {
   "cell_type": "code",
   "execution_count": null,
   "id": "a7125873",
   "metadata": {},
   "outputs": [],
   "source": [
    "# Метод setdefault() - возвращает значение ключа, но если его нет\n",
    "# Он не бросает исключение, а создает ключ с этим значением\n",
    "\n",
    "sl = {\n",
    "    \"name\": \"Vasya\",\n",
    "    \"age\": 17,\n",
    "    \"city\": \"Penza\"\n",
    "}\n",
    "print(sl.setdefault(78, 'hello')) # Передадим ключ которого нет\n",
    "print(sl) # Создастся новая пара ключ-значение"
   ]
  },
  {
   "cell_type": "code",
   "execution_count": null,
   "id": "a3d332a3",
   "metadata": {},
   "outputs": [],
   "source": [
    "sl = {\n",
    "    \"name\": \"Vasya\",\n",
    "    \"age\": 17,\n",
    "    \"city\": \"Penza\"\n",
    "}\n",
    "print(sl.setdefault('name')) # А если есть он просто вернет пару ключ значение\n",
    "print(sl)"
   ]
  },
  {
   "cell_type": "code",
   "execution_count": null,
   "id": "6e1f5ca9",
   "metadata": {},
   "outputs": [],
   "source": [
    "# Метод update() - обновляет словарь добаляя пары из другого словаря\n",
    "\n",
    "sl = {\n",
    "    \"name\": \"Vasya\",\n",
    "    \"age\": 17,\n",
    "    \"city\": \"Penza\"\n",
    "}\n",
    "\n",
    "sl1 = {\n",
    "    1: 'one',\n",
    "    2: 'two'\n",
    "}\n",
    "\n",
    "sl.update(sl1)\n",
    "print(sl)"
   ]
  },
  {
   "cell_type": "code",
   "execution_count": null,
   "id": "fc450a9b",
   "metadata": {},
   "outputs": [],
   "source": [
    "# Мотод keys() - возвращает все ключи кторые есть в словаре\n",
    "\n",
    "sl = {\n",
    "    \"name\": \"Vasya\",\n",
    "    \"age\": 17,\n",
    "    \"city\": \"Penza\"\n",
    "}\n",
    "\n",
    "key = list(sl.keys())\n",
    "for i in key:\n",
    "    print(i)\n",
    "    \n",
    "print(sl.keys()) # Вернется итерабельное значение ключей словаря"
   ]
  },
  {
   "cell_type": "code",
   "execution_count": null,
   "id": "87cf6e1f",
   "metadata": {},
   "outputs": [],
   "source": [
    "# Метод values() возвращает все значения в словаре\n",
    "\n",
    "sl = {\n",
    "    \"name\": \"Vasya\",\n",
    "    \"age\": 17,\n",
    "    \"city\": \"Penza\"\n",
    "}\n",
    "\n",
    "for i in sl.values():\n",
    "    print(i)\n",
    "    \n",
    "print(sl.values())"
   ]
  },
  {
   "cell_type": "code",
   "execution_count": null,
   "id": "1dc74f3e",
   "metadata": {},
   "outputs": [],
   "source": [
    "# Вернем пары ключ значение мотодом items()\n",
    "\n",
    "sl = {\n",
    "    \"name\": \"Vasya\",\n",
    "    \"age\": 17,\n",
    "    \"city\": \"Penza\"\n",
    "}\n",
    "\n",
    "for i in sl.items():\n",
    "    print(type(i))\n",
    "    \n",
    "print(sl.items())"
   ]
  },
  {
   "cell_type": "code",
   "execution_count": null,
   "id": "8795b9f1",
   "metadata": {},
   "outputs": [],
   "source": [
    "# Мы можем выводить отдельно пары ключ значение\n",
    "\n",
    "sl = {\n",
    "    \"name\": \"Vasya\",\n",
    "    \"age\": 17,\n",
    "    \"city\": \"Penza\"\n",
    "}\n",
    "\n",
    "for i, k in sl.items():\n",
    "    print(i, k) # Запишем в i ключ, а в k значение\n",
    "    \n",
    "print(sl.items())"
   ]
  },
  {
   "cell_type": "code",
   "execution_count": null,
   "id": "c34d32a7",
   "metadata": {},
   "outputs": [],
   "source": [
    "# Функция len возвращает кал-во элементов в роваре\n",
    "\n",
    "sl = {\n",
    "    \"name\": \"Vasya\",\n",
    "    \"age\": 17,\n",
    "    \"city\": \"Penza\"\n",
    "}\n",
    "\n",
    "print(len(sl))"
   ]
  },
  {
   "cell_type": "code",
   "execution_count": null,
   "id": "41235717",
   "metadata": {},
   "outputs": [],
   "source": [
    "# Проведем сортировку словаря \n",
    "\n",
    "sl = {\n",
    "    \"name\": \"Vasya\",\n",
    "    \"age\": 17,\n",
    "    \"city\": \"Penza\"\n",
    "}\n",
    "\n",
    "print(sorted(sl)) # Методом sorted() мы создадим список из словаря и вернет не пары а ключи"
   ]
  },
  {
   "cell_type": "code",
   "execution_count": null,
   "id": "50b4c241",
   "metadata": {},
   "outputs": [],
   "source": [
    "# Отсортируем все пары\n",
    "\n",
    "# Проведем сортировку словаря \n",
    "\n",
    "sl = {\n",
    "    \"name\": \"Vasya\",\n",
    "    \"age\": 17,\n",
    "    \"city\": \"Penza\"\n",
    "}\n",
    "\n",
    "print(dict(sorted(sl.items()))) # Отсортируем все пары и создадим из списка словарь"
   ]
  },
  {
   "cell_type": "code",
   "execution_count": null,
   "id": "f3b7dea7",
   "metadata": {},
   "outputs": [],
   "source": [
    "# Комплексные словари\n",
    "\n",
    "tel = {\n",
    "    'Ivanov Ivan': {\n",
    "        'phone': 123456789,\n",
    "        'city': 'Moscow'\n",
    "    },\n",
    "    'Petrov Petya': {\n",
    "        'phone': 4563903,\n",
    "        'city': 'Penza'\n",
    "    }\n",
    "}\n",
    "\n",
    "# Как обратится к элементу вложеного словаря\n",
    "\n",
    "print(tel['Petrov Petya']['city'])"
   ]
  },
  {
   "cell_type": "code",
   "execution_count": null,
   "id": "b66096cf",
   "metadata": {},
   "outputs": [],
   "source": [
    "# Переберем комплексный словарь\n",
    "\n",
    "\n",
    "tel = {\n",
    "    'Ivanov Ivan': {\n",
    "        'phone': 123456789,\n",
    "        'city': 'Moscow'\n",
    "    },\n",
    "    'Petrov Petya': {\n",
    "        'phone': 4563903,\n",
    "        'city': 'Penza'\n",
    "    }\n",
    "}\n",
    "\n",
    "for i in tel.keys():\n",
    "    for x, y in tel[i].items():\n",
    "        print(x, y)\n",
    "\n",
    "print(tel['Petrov Petya']['city'])"
   ]
  },
  {
   "cell_type": "code",
   "execution_count": null,
   "id": "e93ac65e",
   "metadata": {},
   "outputs": [],
   "source": [
    "\"\"\"Домашнее задание:\n",
    "I)\n",
    "Создайте русско-английский словарь, который содержит 10 слов с переводом.\n",
    "На основе этого словаря, сделайте так, чтобы пользователь мог добавить 5 слов с переводом,\n",
    "вводом с клавиатуры. То есть, при запуске программы, она запрашивала бы сначала русское слово,\n",
    "а затем перевод и добавляла этот элемент в словарь.\"\"\"\n",
    "\n",
    "# Мой изначальный вариант с использование списков\n",
    "\n",
    "# Вариант 1)\n",
    "\n",
    "translate_list = {'Русский': 'Russian', \n",
    "            'Английский': 'English',\n",
    "            'Немецкий': 'Deithch',\n",
    "            'Испанский': 'Spain',\n",
    "            'Итальянский': 'Italiano'} # Создали изначальный список с переводами\n",
    "\n",
    "us_list_1 = [] # Создадим список под ключ\n",
    "us_list_2 = [] # Создадим список под значение\n",
    "\n",
    "count = 0 # Создаем переменную счетчик\n",
    "\n",
    "while count < 5: # Считаем когда пользователь ввел значение с переводом\n",
    "    \n",
    "    user_input_1 = input('Введите русское слово ') # Создадим пользовательские вводы\n",
    "    user_input_2 = input('Введите перевод на английском ')\n",
    "    \n",
    "    us_list_1.append(user_input_1) # Добавляем вводы в списки\n",
    "    us_list_2.append(user_input_2)\n",
    "    us_list_1 = us_list_2 # Убеждаемся что значения элементы в списках равны друг другу\n",
    "    count += 1 # Запускаем счетчик\n",
    "    \n",
    "\n",
    "us_dict = dict(zip(us_list_1, us_list_2)) # Упаковываем оба списка в словарь с ключем из 1-го и значением из 2-го\n",
    "translate_list.update(us_dict) # Добавляем ключ значение в исходный словарь\n",
    "print(translate_list) # Делаем вывод\n",
    "\n",
    "# Вариант 2 с подсказкой нейросети, в этот раз обойдемся без списков\n",
    "\n",
    "\n",
    "translate_list_2 = {'Русский': 'Russian', \n",
    "            'Английский': 'English',\n",
    "            'Немецкий': 'Deithch',\n",
    "            'Испанский': 'Spain',\n",
    "            'Итальянский': 'Italiano'}\n",
    "\n",
    "\n",
    "us_dict_2 = {} # Инициализируем пустой словарь\n",
    "\n",
    "count2 = 0 # Создаем переменную счетчик\n",
    "\n",
    "while count < 5:\n",
    "    \n",
    "    user_input_3 = input('Введите русское слово ') # Создадим пользовательские вводы\n",
    "    user_input_4 = input('Введите перевод на английском ')\n",
    "    us_dict_2[user_input_3] = user_input_4\n",
    "    count2 +=1\n",
    "    \n",
    "translate_list_2.update(us_dict_2)\n",
    "print(translate_list_2)"
   ]
  },
  {
   "cell_type": "code",
   "execution_count": null,
   "id": "1d212f7a",
   "metadata": {},
   "outputs": [],
   "source": [
    "# В итоге оказалось что я очень сильно намудрил, и в моем коде есть излишества и ошибки - вот исправленный вариант\n",
    "\n",
    "\n",
    "translate_list_2 = {'Русский': 'Russian', \n",
    "                    'Английский': 'English',\n",
    "                    'Немецкий': 'Deithch',\n",
    "                    'Испанский': 'Spain',\n",
    "                    'Итальянский': 'Italiano'}\n",
    "\n",
    "count = 0\n",
    "\n",
    "while count < 5:\n",
    "    user_input_3 = input('Введите русское слово: ')\n",
    "    user_input_4 = input('Введите перевод на английском: ')\n",
    "    translate_list_2[user_input_3] = user_input_4 # Что происхоит в этой строке?\n",
    "    count += 1\n",
    "\n",
    "print(translate_list_2)"
   ]
  },
  {
   "cell_type": "code",
   "execution_count": 8,
   "id": "4427b5cf",
   "metadata": {},
   "outputs": [
    {
     "name": "stdout",
     "output_type": "stream",
     "text": [
      "Ключи с кал-вом знаков меньше 6: ['Поп']\n",
      "Кал-во значений со знаками больше 5 ['Russian', 'English', 'Deithch', 'Italiano'] \n"
     ]
    }
   ],
   "source": [
    "\"\"\"II)\n",
    "Используя словарь из 1 задания, необходимо с помощью методов keys() и values() выбрать и вывести ключи,\n",
    "длина которых меньше 6 символов. После чего, вывести все значения ключей, длина которых больше 5 символов\"\"\"\n",
    "\n",
    "\n",
    "translate_dict_3 = {'Русский': 'Russian', \n",
    "                    'Английский': 'English',\n",
    "                    'Немецкий': 'Deithch',\n",
    "                    'Испанский': 'Spain',\n",
    "                    'Итальянский': 'Italiano',\n",
    "                   'Поп': 'Pop'}\n",
    "keys_6 = []\n",
    "values_5 = []\n",
    "\n",
    "for key in translate_dict_3.keys():\n",
    "    if len(key) < 6:\n",
    "        keys_6.append(key)\n",
    "\n",
    "if not keys_6:\n",
    "    print(\"Нет ключей с кал-вом символов меньше 6\")\n",
    "    \n",
    "else:\n",
    "    print(f\"Ключи с кал-вом знаков меньше 6: {keys_6}\")\n",
    "\n",
    "for value in translate_dict_3.values():\n",
    "    if len(value) > 5:\n",
    "        values_5.append(value)\n",
    "        \n",
    "if not values_5:\n",
    "    print(\"Нет значений с кал-вом знаков больше 5\")\n",
    "        \n",
    "        \n",
    "else:\n",
    "    print(f\"Кал-во значений со знаками больше 5 {values_5} \")"
   ]
  },
  {
   "cell_type": "code",
   "execution_count": null,
   "id": "397f496b",
   "metadata": {},
   "outputs": [],
   "source": []
  }
 ],
 "metadata": {
  "kernelspec": {
   "display_name": "Python 3",
   "language": "python",
   "name": "python3"
  },
  "language_info": {
   "codemirror_mode": {
    "name": "ipython",
    "version": 3
   },
   "file_extension": ".py",
   "mimetype": "text/x-python",
   "name": "python",
   "nbconvert_exporter": "python",
   "pygments_lexer": "ipython3",
   "version": "3.8.8"
  }
 },
 "nbformat": 4,
 "nbformat_minor": 5
}
