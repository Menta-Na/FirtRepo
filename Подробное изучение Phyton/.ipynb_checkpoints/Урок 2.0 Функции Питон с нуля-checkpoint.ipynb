{
 "cells": [
  {
   "cell_type": "markdown",
   "id": "e13c4330",
   "metadata": {},
   "source": [
    "# Питон с нуля"
   ]
  },
  {
   "cell_type": "code",
   "execution_count": null,
   "id": "61258358",
   "metadata": {},
   "outputs": [],
   "source": [
    "# Пример из математики\n",
    "f(x) = 2*x - 2"
   ]
  },
  {
   "cell_type": "code",
   "execution_count": null,
   "id": "3cf5f848",
   "metadata": {},
   "outputs": [],
   "source": [
    "#Синтаксис функции\n",
    "def имя_функции(параметры):\n",
    "    определение_функции"
   ]
  },
  {
   "cell_type": "code",
   "execution_count": null,
   "id": "bbd7b379",
   "metadata": {},
   "outputs": [],
   "source": [
    "#Заводим функцию и даем ей указания\n",
    "def hello():\n",
    "    print(\"Привет, мир!\")\n",
    "#Вызываем её\n",
    "hello()"
   ]
  },
  {
   "cell_type": "code",
   "execution_count": null,
   "id": "44383a85",
   "metadata": {},
   "outputs": [],
   "source": [
    "#Пользователь вводит два числа, функия выводит их сумму\n",
    "\n",
    "x = int(input(\"Введите 1 - е число\"))\n",
    "y = int(input(\"Введите 2 - е число\"))\n",
    "\n",
    "def sum(a, b):\n",
    "    # Этот оператор возвращает значение \n",
    "    return a + b\n",
    "\n",
    "print(sum(x,y))\n"
   ]
  },
  {
   "cell_type": "code",
   "execution_count": null,
   "id": "376c863b",
   "metadata": {},
   "outputs": [],
   "source": [
    "#Пользователь вводит два числа, функия выводит их сумму\n",
    "\n",
    "x = int(input(\"Введите 1 - е число\"))\n",
    "y = int(input(\"Введите 2 - е число\"))\n",
    "\n",
    "def sum(a, b):\n",
    "    # Этот оператор возвращает значение \n",
    "    return a + b\n",
    "\n",
    "z = sum(x,y)\n",
    "print(z)"
   ]
  },
  {
   "cell_type": "code",
   "execution_count": null,
   "id": "042048f9",
   "metadata": {},
   "outputs": [],
   "source": [
    "#Пример с математической функцией 1\n",
    "\n",
    "def f(a):\n",
    "    return 2*a - 2\n",
    "\n",
    "print(f(2))"
   ]
  },
  {
   "cell_type": "code",
   "execution_count": null,
   "id": "003fbb1e",
   "metadata": {},
   "outputs": [],
   "source": [
    "#Пример с математической функцией 2\n",
    "\n",
    "def f(a = 2):\n",
    "    return 2*a - 2\n",
    "\n",
    "print(f())"
   ]
  },
  {
   "cell_type": "code",
   "execution_count": null,
   "id": "00965d49",
   "metadata": {},
   "outputs": [],
   "source": [
    "#Пример с математической функцией 3\n",
    "\n",
    "def f(a = 2):\n",
    "    return 2*a - 2\n",
    "# в приоретете будет теперь 4\n",
    "print(f(4))"
   ]
  },
  {
   "cell_type": "code",
   "execution_count": null,
   "id": "df5f002e",
   "metadata": {},
   "outputs": [],
   "source": [
    "#Область видимости переменной\n",
    "\n",
    "#Глобальные переменные\n",
    "a = 45\n",
    "b = 5\n",
    "def f(a, b):\n",
    "    \n",
    "    #Локальные переменные\n",
    "    a = 45\n",
    "    b = 5\n",
    "    print(a)\n",
    "    print(b)\n",
    "    \n",
    "f(a,b)\n"
   ]
  },
  {
   "cell_type": "code",
   "execution_count": null,
   "id": "fe08a5ec",
   "metadata": {},
   "outputs": [],
   "source": [
    "#Подтягиваем глобальную переменнубю в нутрь фунции с помщью оператора\n",
    "#Global\n",
    "\n",
    "a = 45\n",
    "b = 5\n",
    "def f():\n",
    "    global a\n",
    "    a = a + 2\n",
    "    print(a)\n",
    "    \n",
    "f()\n",
    "    \n"
   ]
  },
  {
   "cell_type": "code",
   "execution_count": null,
   "id": "cad6b001",
   "metadata": {},
   "outputs": [],
   "source": [
    "#Подтягиваем глобальную переменнубю в нутрь фунции с помщью оператора\n",
    "#Global\n",
    "#Вариант 2\n",
    "\n",
    "a = 45\n",
    "b = 5\n",
    "def f():\n",
    "    global a\n",
    "    a = a + 2\n",
    "    print(a)\n",
    "    \n",
    "f()\n",
    "print(a)"
   ]
  }
 ],
 "metadata": {
  "kernelspec": {
   "display_name": "Python 3",
   "language": "python",
   "name": "python3"
  },
  "language_info": {
   "codemirror_mode": {
    "name": "ipython",
    "version": 3
   },
   "file_extension": ".py",
   "mimetype": "text/x-python",
   "name": "python",
   "nbconvert_exporter": "python",
   "pygments_lexer": "ipython3",
   "version": "3.8.8"
  }
 },
 "nbformat": 4,
 "nbformat_minor": 5
}
