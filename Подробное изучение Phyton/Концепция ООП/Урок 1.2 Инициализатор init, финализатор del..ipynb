{
 "cells": [
  {
   "cell_type": "code",
   "execution_count": null,
   "id": "a02a2802",
   "metadata": {},
   "outputs": [],
   "source": [
    "# __имя магического метода__\n",
    "\n",
    "# __init__(self) - инициализатор\n",
    "# __del__(self) - финализатор"
   ]
  },
  {
   "cell_type": "code",
   "execution_count": 8,
   "id": "4e0c93de",
   "metadata": {},
   "outputs": [
    {
     "name": "stdout",
     "output_type": "stream",
     "text": [
      "Удаление экземпляра: <__main__.Point object at 0x00000000050D5850>\n",
      "{'x': 10, 'y': 12}\n"
     ]
    }
   ],
   "source": [
    "class Point:\n",
    "    color = 'red'\n",
    "    circle = 2\n",
    "    \n",
    "    # Магический метод __init__ - используется для инициализации класса\n",
    "    def __init__(self, x=0, y=0):\n",
    "        self.x = x\n",
    "        self.y = y\n",
    "            \n",
    "    # Магический метод __del__ используется непосредственно перед уничтожением экземпляра класса\n",
    "    def __del__(self):\n",
    "        print(\"Удаление экземпляра: \" + str(self))\n",
    "        \n",
    "    def set_coords(self, x, y):\n",
    "        self.x = x\n",
    "        self.y = y\n",
    "        \n",
    "    def get_coords(self):\n",
    "        return self.x, self.y\n",
    "    \n",
    "pt = Point(10, 12)\n",
    "\n",
    "print(pt. __dict__)"
   ]
  },
  {
   "cell_type": "code",
   "execution_count": 6,
   "id": "63107475",
   "metadata": {},
   "outputs": [],
   "source": [
    "\n"
   ]
  },
  {
   "cell_type": "code",
   "execution_count": null,
   "id": "31993d57",
   "metadata": {},
   "outputs": [],
   "source": []
  }
 ],
 "metadata": {
  "kernelspec": {
   "display_name": "Python 3",
   "language": "python",
   "name": "python3"
  },
  "language_info": {
   "codemirror_mode": {
    "name": "ipython",
    "version": 3
   },
   "file_extension": ".py",
   "mimetype": "text/x-python",
   "name": "python",
   "nbconvert_exporter": "python",
   "pygments_lexer": "ipython3",
   "version": "3.8.8"
  }
 },
 "nbformat": 4,
 "nbformat_minor": 5
}
