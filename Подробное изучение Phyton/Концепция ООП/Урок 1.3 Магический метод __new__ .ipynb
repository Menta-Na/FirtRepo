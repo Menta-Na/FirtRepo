{
 "cells": [
  {
   "cell_type": "code",
   "execution_count": 7,
   "id": "7f377341",
   "metadata": {},
   "outputs": [],
   "source": [
    "class Point:\n",
    "    \n",
    "    # Магичесчий метод __new__ вызывается перед созданием объекта класса\n",
    "    def __new__(cls, *args, **kwargs):\n",
    "        print(\"вызов __new__ для \" + str(cls))\n",
    "        return super().__new__(cls)\n",
    "    \n",
    "    # Магичесчий метод __init__ вызывается после создания объекта класса\n",
    "    def __init__(self, x=0, y=0):\n",
    "        print(\"вызов __init__ для \" + str(self))\n",
    "        self.x = x\n",
    "        self.y = y"
   ]
  },
  {
   "cell_type": "code",
   "execution_count": 8,
   "id": "36176ef5",
   "metadata": {},
   "outputs": [
    {
     "name": "stdout",
     "output_type": "stream",
     "text": [
      "вызов __new__ для <class '__main__.Point'>\n",
      "вызов __init__ для <__main__.Point object at 0x0000000004EA5A90>\n",
      "<__main__.Point object at 0x0000000004EA5A90>\n"
     ]
    }
   ],
   "source": [
    "pt = Point(1, 2)\n",
    "print(pt)"
   ]
  },
  {
   "cell_type": "code",
   "execution_count": 10,
   "id": "0ecff557",
   "metadata": {},
   "outputs": [
    {
     "name": "stdout",
     "output_type": "stream",
     "text": [
      "83345072 83345072\n"
     ]
    }
   ],
   "source": [
    "# Пример паттерна singleton\n",
    "\n",
    "class DataBase:\n",
    "    __instance = None\n",
    "    \n",
    "    def __new__(cls, *args, **kwargs):\n",
    "        if cls.__instance is None:\n",
    "            cls.__instance = super().__new__(cls)\n",
    "        \n",
    "        return cls.__instance\n",
    "    \n",
    "    def __del__(self):\n",
    "        DataBase.__instance = None\n",
    "        \n",
    "    def __init__(self, user, psw, port):\n",
    "        self.user = user\n",
    "        self.psw = psw\n",
    "        self.port = port\n",
    "        \n",
    "    def connect(self):\n",
    "        print(f\"соединение с БД: {self.user}, {self.psw}, {self.port}\")\n",
    "        \n",
    "    def close(self):\n",
    "        print(\"Закрытие соединения с БД\")\n",
    "        \n",
    "    def read(self):\n",
    "        return \"Данные из БД\"\n",
    "    \n",
    "    def write(self, data):\n",
    "        print(f\"запись в БД {data}\")\n",
    "        \n",
    "        \n",
    "db = DataBase(\"root\", '1234', 80)\n",
    "db2 = DataBase(\"root\", '5678', 40)\n",
    "db.connect()\n",
    "db2.connect()"
   ]
  },
  {
   "cell_type": "code",
   "execution_count": null,
   "id": "5ae3ddd9",
   "metadata": {},
   "outputs": [],
   "source": []
  }
 ],
 "metadata": {
  "kernelspec": {
   "display_name": "Python 3",
   "language": "python",
   "name": "python3"
  },
  "language_info": {
   "codemirror_mode": {
    "name": "ipython",
    "version": 3
   },
   "file_extension": ".py",
   "mimetype": "text/x-python",
   "name": "python",
   "nbconvert_exporter": "python",
   "pygments_lexer": "ipython3",
   "version": "3.8.8"
  }
 },
 "nbformat": 4,
 "nbformat_minor": 5
}
