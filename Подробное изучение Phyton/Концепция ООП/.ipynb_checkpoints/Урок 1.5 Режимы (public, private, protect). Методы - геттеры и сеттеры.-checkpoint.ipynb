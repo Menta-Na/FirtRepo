{
 "cells": [
  {
   "cell_type": "code",
   "execution_count": null,
   "id": "c47f2cd4",
   "metadata": {},
   "outputs": [],
   "source": [
    "class Point:\n",
    "    def __init__(self, x=0, y=0):\n",
    "        # Конструктор класса Point с параметрами по умолчанию x=0, y=0.\n",
    "        # Инициализирует координаты точки.\n",
    "        # По умолчанию координаты x и y устанавливаются в 0.\n",
    "        self.__x = self.__y = 0  # Инициализация переменных для хранения координат.\n",
    "        # Если переданные значения x и y соответствуют числовому типу (int или float),\n",
    "        if self.__check_value(x) and self.__check_value(y):\n",
    "            # устанавливаются новые значения координат.\n",
    "            self.__x = x\n",
    "            self.__y = y\n",
    "    \n",
    "    @classmethod\n",
    "    def __check_value(cls, x):\n",
    "        # Приватный метод класса, проверяющий, что переданное значение является числом (int или float).\n",
    "        return type(x) in (int, float)\n",
    "    \n",
    "    def set_coord(self, x, y):  # Метод сеттер для установки новых координат точки.\n",
    "        if self.__check_value(x) and self.__check_value(y):  # Проверяем, что x и y числа.\n",
    "            # Если условие выполняется, устанавливаем новые значения координат.\n",
    "            self.__x = x\n",
    "            self.__y = y\n",
    "        else:\n",
    "            raise ValueError(\"Координаты должны быть числами\")  # Иначе, выбрасываем исключение.\n",
    "        \n",
    "    def get_coord(self):  # Метод геттер для получения текущих координат точки.\n",
    "        # Возвращает текущие координаты точки.\n",
    "        return self.__x, self.__y\n",
    "    \n",
    "# Создаем объект класса Point с начальными координатами (1, 2).\n",
    "pt = Point(1, 2)\n",
    "# Устанавливаем новые координаты точки (10, 20) с помощью метода set_coord().\n",
    "pt.set_coord(10, 20)\n",
    "# Получаем текущие координаты точки и выводим их на экран.\n",
    "print(pt.get_coord())\n"
   ]
  },
  {
   "cell_type": "code",
   "execution_count": 9,
   "id": "b488624f",
   "metadata": {},
   "outputs": [
    {
     "data": {
      "text/plain": [
       "True"
      ]
     },
     "execution_count": 9,
     "metadata": {},
     "output_type": "execute_result"
    }
   ],
   "source": [
    "from accessify import private, protected\n",
    "\n",
    "\n",
    "class Point:\n",
    "    def __init__(self, x=0, y=0):\n",
    "        self.__x = self.__y = 0\n",
    "        if self.__check_value(x) and self.__check_value(y):\n",
    "            self.__x = x\n",
    "            self.__y = y\n",
    "            \n",
    "\n",
    "    @classmethod\n",
    "    def __check_value(cls, x):\n",
    "        return type(x) in (int, float)\n",
    "    \n",
    "    def set_coord(self, x, y): # Метод сеттер\n",
    "        if self.__check_value(x) and self.__check_value(y):\n",
    "            self.__x = x\n",
    "            self.__y = y\n",
    "            \n",
    "        else:\n",
    "            raise ValueError(\"Координаты должны быть числами\")\n",
    "        \n",
    "    def get_coord(self): # Метод геттер\n",
    "        return self.__x, self.__y\n",
    "    \n",
    "pt = Point(1, 2)\n",
    "pt.set_coord(10, 20)\n",
    "pt._Point__check_value(5)\n"
   ]
  },
  {
   "cell_type": "code",
   "execution_count": 7,
   "id": "cd5df6f9",
   "metadata": {},
   "outputs": [
    {
     "name": "stdout",
     "output_type": "stream",
     "text": [
      "['_Point__x', '_Point__y', '__class__', '__delattr__', '__dict__', '__dir__', '__doc__', '__eq__', '__format__', '__ge__', '__getattribute__', '__gt__', '__hash__', '__init__', '__init_subclass__', '__le__', '__lt__', '__module__', '__ne__', '__new__', '__reduce__', '__reduce_ex__', '__repr__', '__setattr__', '__sizeof__', '__str__', '__subclasshook__', '__weakref__', 'check_value', 'get_coord', 'set_coord']\n"
     ]
    }
   ],
   "source": [
    "print(dir(pt))"
   ]
  },
  {
   "cell_type": "code",
   "execution_count": null,
   "id": "ea5a35f8",
   "metadata": {},
   "outputs": [],
   "source": [
    "print(pt._Point__x)"
   ]
  },
  {
   "cell_type": "code",
   "execution_count": null,
   "id": "b4c14c28",
   "metadata": {},
   "outputs": [],
   "source": []
  }
 ],
 "metadata": {
  "kernelspec": {
   "display_name": "Python 3",
   "language": "python",
   "name": "python3"
  },
  "language_info": {
   "codemirror_mode": {
    "name": "ipython",
    "version": 3
   },
   "file_extension": ".py",
   "mimetype": "text/x-python",
   "name": "python",
   "nbconvert_exporter": "python",
   "pygments_lexer": "ipython3",
   "version": "3.8.8"
  }
 },
 "nbformat": 4,
 "nbformat_minor": 5
}
