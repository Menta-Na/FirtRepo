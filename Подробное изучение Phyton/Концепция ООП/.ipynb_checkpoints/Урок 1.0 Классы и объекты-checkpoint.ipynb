{
 "cells": [
  {
   "cell_type": "code",
   "execution_count": 53,
   "id": "52c4c114",
   "metadata": {},
   "outputs": [],
   "source": [
    "# Создадим класс с именем Point\n",
    "\"\"\"Класс для определения точек плоскости\"\"\"\n",
    "class Point:\n",
    "    color = 'red' # Зададим атрибуты классу цвет и радиус\n",
    "    circle = 2 # Переменные внутри класса называются атрибутами\n",
    "    \n",
    "    \n",
    "a = Point()\n",
    "b = Point()\n",
    "\n",
    "a.x = 1\n",
    "a.y = 2\n",
    "\n",
    "b.x = 10\n",
    "b.y = 20"
   ]
  },
  {
   "cell_type": "code",
   "execution_count": 54,
   "id": "097f8135",
   "metadata": {},
   "outputs": [],
   "source": [
    "Point.__doc__ # Содержит описание класса"
   ]
  },
  {
   "cell_type": "code",
   "execution_count": 10,
   "id": "3bf317c6",
   "metadata": {},
   "outputs": [],
   "source": [
    "Point.color = 'Black' # Меняем свойство класса"
   ]
  },
  {
   "cell_type": "code",
   "execution_count": 12,
   "id": "75151541",
   "metadata": {},
   "outputs": [],
   "source": [
    "Point.circle = 5 # Аналогично"
   ]
  },
  {
   "cell_type": "code",
   "execution_count": 19,
   "id": "74a04e85",
   "metadata": {},
   "outputs": [
    {
     "data": {
      "text/plain": [
       "'Black'"
      ]
     },
     "execution_count": 19,
     "metadata": {},
     "output_type": "execute_result"
    }
   ],
   "source": [
    "Point.color # Вызываем атрибуты класса"
   ]
  },
  {
   "cell_type": "code",
   "execution_count": 18,
   "id": "d5fb6ed0",
   "metadata": {},
   "outputs": [
    {
     "data": {
      "text/plain": [
       "1"
      ]
     },
     "execution_count": 18,
     "metadata": {},
     "output_type": "execute_result"
    }
   ],
   "source": [
    "Point.circle # Аналогично"
   ]
  },
  {
   "cell_type": "code",
   "execution_count": 13,
   "id": "d4fa63ea",
   "metadata": {},
   "outputs": [
    {
     "data": {
      "text/plain": [
       "mappingproxy({'__module__': '__main__',\n",
       "              'color': 'Black',\n",
       "              'circle': 5,\n",
       "              '__dict__': <attribute '__dict__' of 'Point' objects>,\n",
       "              '__weakref__': <attribute '__weakref__' of 'Point' objects>,\n",
       "              '__doc__': None})"
      ]
     },
     "execution_count": 13,
     "metadata": {},
     "output_type": "execute_result"
    }
   ],
   "source": [
    "Point.__dict__ # Выводим все атрибуты класса"
   ]
  },
  {
   "cell_type": "code",
   "execution_count": 15,
   "id": "9ded5080",
   "metadata": {},
   "outputs": [],
   "source": [
    "# Создадим экземпляры класса\n",
    "\n",
    "a = Point() # Экземпляры класса принимают все его данные из атрибутов\n",
    "b = Point()"
   ]
  },
  {
   "cell_type": "code",
   "execution_count": 17,
   "id": "96fbae88",
   "metadata": {},
   "outputs": [],
   "source": [
    "# Сделаем небольшую проверку\n",
    "\n",
    "Point.circle = 1 # Изменим значение атрибута"
   ]
  },
  {
   "cell_type": "code",
   "execution_count": 20,
   "id": "7becc12f",
   "metadata": {},
   "outputs": [
    {
     "data": {
      "text/plain": [
       "{}"
      ]
     },
     "execution_count": 20,
     "metadata": {},
     "output_type": "execute_result"
    }
   ],
   "source": [
    "a.__dict__ # Объект a сейчас не содержит никаких атрибутов"
   ]
  },
  {
   "cell_type": "code",
   "execution_count": null,
   "id": "551fd196",
   "metadata": {},
   "outputs": [],
   "source": [
    "b.__dict_ # Объекты A и B Образуют пространство имен, но в пространстве ничего нетю"
   ]
  },
  {
   "cell_type": "code",
   "execution_count": 21,
   "id": "f4883ce7",
   "metadata": {},
   "outputs": [
    {
     "data": {
      "text/plain": [
       "'Black'"
      ]
     },
     "execution_count": 21,
     "metadata": {},
     "output_type": "execute_result"
    }
   ],
   "source": [
    "a.color # Обратися к атрибуту класса Point"
   ]
  },
  {
   "cell_type": "code",
   "execution_count": 22,
   "id": "a3d1e104",
   "metadata": {},
   "outputs": [
    {
     "data": {
      "text/plain": [
       "1"
      ]
     },
     "execution_count": 22,
     "metadata": {},
     "output_type": "execute_result"
    }
   ],
   "source": [
    "b.circle # Аналогично"
   ]
  },
  {
   "cell_type": "code",
   "execution_count": 26,
   "id": "af83792a",
   "metadata": {},
   "outputs": [
    {
     "data": {
      "text/plain": [
       "'Green'"
      ]
     },
     "execution_count": 26,
     "metadata": {},
     "output_type": "execute_result"
    }
   ],
   "source": [
    "a.color = 'Green' # Меняем свойство в внутри экземпляра\n",
    "a.color # В объекте а содается переменная с инменем \"Green\""
   ]
  },
  {
   "cell_type": "code",
   "execution_count": 27,
   "id": "ff33216e",
   "metadata": {},
   "outputs": [
    {
     "data": {
      "text/plain": [
       "'Black'"
      ]
     },
     "execution_count": 27,
     "metadata": {},
     "output_type": "execute_result"
    }
   ],
   "source": [
    "b.color # Объект b по прежнему ссылается к Point"
   ]
  },
  {
   "cell_type": "code",
   "execution_count": 28,
   "id": "8ccbab51",
   "metadata": {},
   "outputs": [],
   "source": [
    "# Можно создать новые атрибуты в классе Point\n",
    "\n",
    "Point.type_pt = 'disc'"
   ]
  },
  {
   "cell_type": "code",
   "execution_count": 29,
   "id": "d3d3ac1b",
   "metadata": {},
   "outputs": [],
   "source": [
    "setattr(Point, 'prop', 1) # Динмически добавляем новое значение"
   ]
  },
  {
   "cell_type": "code",
   "execution_count": 30,
   "id": "c4f79015",
   "metadata": {},
   "outputs": [],
   "source": [
    "setattr(Point, 'type_pt', 'square') # Динамически меняем значения"
   ]
  },
  {
   "cell_type": "code",
   "execution_count": 31,
   "id": "df2d48ed",
   "metadata": {},
   "outputs": [
    {
     "data": {
      "text/plain": [
       "1"
      ]
     },
     "execution_count": 31,
     "metadata": {},
     "output_type": "execute_result"
    }
   ],
   "source": [
    "Point.circle # Прочитаем значение"
   ]
  },
  {
   "cell_type": "code",
   "execution_count": 32,
   "id": "53142a18",
   "metadata": {},
   "outputs": [],
   "source": [
    "res = Point.circle # Присвоим результат атрибута"
   ]
  },
  {
   "cell_type": "code",
   "execution_count": 33,
   "id": "c6e448e9",
   "metadata": {},
   "outputs": [
    {
     "data": {
      "text/plain": [
       "1"
      ]
     },
     "execution_count": 33,
     "metadata": {},
     "output_type": "execute_result"
    }
   ],
   "source": [
    "res # Выводим"
   ]
  },
  {
   "cell_type": "code",
   "execution_count": 35,
   "id": "c76eeb6f",
   "metadata": {},
   "outputs": [
    {
     "data": {
      "text/plain": [
       "False"
      ]
     },
     "execution_count": 35,
     "metadata": {},
     "output_type": "execute_result"
    }
   ],
   "source": [
    "getattr(Point, 'a', False) # Проверим наличие атрибута в классе"
   ]
  },
  {
   "cell_type": "code",
   "execution_count": 36,
   "id": "212b3b0c",
   "metadata": {},
   "outputs": [
    {
     "data": {
      "text/plain": [
       "'Black'"
      ]
     },
     "execution_count": 36,
     "metadata": {},
     "output_type": "execute_result"
    }
   ],
   "source": [
    "getattr(Point, 'color', False) # В случае присутствия вернется выводом"
   ]
  },
  {
   "cell_type": "code",
   "execution_count": 37,
   "id": "8cbb0346",
   "metadata": {},
   "outputs": [],
   "source": [
    "# Удалим аитрибут из класса\n",
    "\n",
    "del Point.prop"
   ]
  },
  {
   "cell_type": "code",
   "execution_count": 38,
   "id": "620c8641",
   "metadata": {},
   "outputs": [
    {
     "data": {
      "text/plain": [
       "False"
      ]
     },
     "execution_count": 38,
     "metadata": {},
     "output_type": "execute_result"
    }
   ],
   "source": [
    "# Проверяем наличие атрибута в классе \n",
    "\n",
    "hasattr(Point, 'prop')"
   ]
  },
  {
   "cell_type": "code",
   "execution_count": 39,
   "id": "ebdcdbac",
   "metadata": {},
   "outputs": [
    {
     "data": {
      "text/plain": [
       "True"
      ]
     },
     "execution_count": 39,
     "metadata": {},
     "output_type": "execute_result"
    }
   ],
   "source": [
    "hasattr(Point, 'circle')"
   ]
  },
  {
   "cell_type": "code",
   "execution_count": 40,
   "id": "e504cbe4",
   "metadata": {},
   "outputs": [],
   "source": [
    "# Второй способ удаления атрибутов\n",
    "\n",
    "delattr(Point, 'type_pt') # Удалять атрибуты можно только при их присутствии в классе, поэтому для начала проверяем."
   ]
  },
  {
   "cell_type": "code",
   "execution_count": 48,
   "id": "8f0a1a40",
   "metadata": {},
   "outputs": [
    {
     "data": {
      "text/plain": [
       "True"
      ]
     },
     "execution_count": 48,
     "metadata": {},
     "output_type": "execute_result"
    }
   ],
   "source": [
    "hasattr(Point, 'color')"
   ]
  },
  {
   "cell_type": "code",
   "execution_count": 47,
   "id": "76848d32",
   "metadata": {},
   "outputs": [
    {
     "data": {
      "text/plain": [
       "True"
      ]
     },
     "execution_count": 47,
     "metadata": {},
     "output_type": "execute_result"
    }
   ],
   "source": [
    "hasattr(a, 'color')"
   ]
  },
  {
   "cell_type": "code",
   "execution_count": 45,
   "id": "b334d717",
   "metadata": {},
   "outputs": [
    {
     "ename": "AttributeError",
     "evalue": "color",
     "output_type": "error",
     "traceback": [
      "\u001b[1;31m---------------------------------------------------------------------------\u001b[0m",
      "\u001b[1;31mAttributeError\u001b[0m                            Traceback (most recent call last)",
      "\u001b[1;32m<ipython-input-45-24bc3818d764>\u001b[0m in \u001b[0;36m<module>\u001b[1;34m\u001b[0m\n\u001b[1;32m----> 1\u001b[1;33m \u001b[1;32mdel\u001b[0m \u001b[0ma\u001b[0m\u001b[1;33m.\u001b[0m\u001b[0mcolor\u001b[0m \u001b[1;31m# Удаляем атрибут из экземпляра\u001b[0m\u001b[1;33m\u001b[0m\u001b[1;33m\u001b[0m\u001b[0m\n\u001b[0m",
      "\u001b[1;31mAttributeError\u001b[0m: color"
     ]
    }
   ],
   "source": [
    "del a.color # Удаляем атрибут из экземпляра"
   ]
  },
  {
   "cell_type": "code",
   "execution_count": null,
   "id": "036060f1",
   "metadata": {},
   "outputs": [],
   "source": []
  }
 ],
 "metadata": {
  "kernelspec": {
   "display_name": "Python 3",
   "language": "python",
   "name": "python3"
  },
  "language_info": {
   "codemirror_mode": {
    "name": "ipython",
    "version": 3
   },
   "file_extension": ".py",
   "mimetype": "text/x-python",
   "name": "python",
   "nbconvert_exporter": "python",
   "pygments_lexer": "ipython3",
   "version": "3.8.8"
  }
 },
 "nbformat": 4,
 "nbformat_minor": 5
}
