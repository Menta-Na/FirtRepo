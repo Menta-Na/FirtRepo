{
 "cells": [
  {
   "cell_type": "code",
   "execution_count": null,
   "id": "6cb4c9d3",
   "metadata": {},
   "outputs": [],
   "source": [
    "# В методах классов используются глаголы :\n",
    "# set_value, get_param, start, stop...\n",
    "\n",
    "# в свойствах используют существительные:\n",
    "# color, size, x, y..."
   ]
  },
  {
   "cell_type": "code",
   "execution_count": 24,
   "id": "7471a55d",
   "metadata": {},
   "outputs": [],
   "source": [
    "class Point:\n",
    "    color = 'red'\n",
    "    circle = 2\n",
    "    \n",
    "    def set_coords(self, x, y): # Создадим для примера метод класса\n",
    "        self.x = x # Создадим в экземляре класса 2 локальных свойства\n",
    "        self.y = y\n",
    "        \n",
    "    def get_coords(self):\n",
    "        return(self.x, self.y)"
   ]
  },
  {
   "cell_type": "code",
   "execution_count": 26,
   "id": "b330adf1",
   "metadata": {},
   "outputs": [],
   "source": [
    "pt = Point()\n",
    "pt2 = Point()\n",
    "pt.set_coords(1, 2)\n",
    "pt2.set_coords(10, 20)"
   ]
  },
  {
   "cell_type": "code",
   "execution_count": 27,
   "id": "35caaafd",
   "metadata": {},
   "outputs": [
    {
     "name": "stdout",
     "output_type": "stream",
     "text": [
      "(1, 2)\n"
     ]
    }
   ],
   "source": [
    "print(pt.get_coords())"
   ]
  },
  {
   "cell_type": "code",
   "execution_count": 29,
   "id": "9817cfb8",
   "metadata": {},
   "outputs": [
    {
     "name": "stdout",
     "output_type": "stream",
     "text": [
      "(1, 2)\n"
     ]
    }
   ],
   "source": [
    "f = getattr(pt, 'get_coords')\n",
    "print(f())"
   ]
  },
  {
   "cell_type": "code",
   "execution_count": 23,
   "id": "378b6109",
   "metadata": {},
   "outputs": [
    {
     "name": "stdout",
     "output_type": "stream",
     "text": [
      "{'x': 1, 'y': 2}\n",
      "{'x': 10, 'y': 20}\n"
     ]
    }
   ],
   "source": [
    "print(pt.__dict__)\n",
    "print(pt2.__dict__)"
   ]
  },
  {
   "cell_type": "code",
   "execution_count": 3,
   "id": "41a3c054",
   "metadata": {},
   "outputs": [
    {
     "data": {
      "text/plain": [
       "<function __main__.Point.set_coords()>"
      ]
     },
     "execution_count": 3,
     "metadata": {},
     "output_type": "execute_result"
    }
   ],
   "source": [
    "Point.set_coords"
   ]
  },
  {
   "cell_type": "code",
   "execution_count": 4,
   "id": "1dca4055",
   "metadata": {},
   "outputs": [
    {
     "name": "stdout",
     "output_type": "stream",
     "text": [
      "Вызов метода set_coords\n"
     ]
    }
   ],
   "source": [
    "Point.set_coords() # Вызываем метод"
   ]
  },
  {
   "cell_type": "code",
   "execution_count": 10,
   "id": "5655a50c",
   "metadata": {},
   "outputs": [],
   "source": [
    "# Создадим экземпляр этого класса\n",
    "\n",
    "pt = Point()"
   ]
  },
  {
   "cell_type": "code",
   "execution_count": 6,
   "id": "545f693a",
   "metadata": {},
   "outputs": [
    {
     "data": {
      "text/plain": [
       "<bound method Point.set_coords of <__main__.Point object at 0x0000000004CA54F0>>"
      ]
     },
     "execution_count": 6,
     "metadata": {},
     "output_type": "execute_result"
    }
   ],
   "source": [
    "pt.set_coords # Проверяем наличие метода в экземпляре"
   ]
  },
  {
   "cell_type": "code",
   "execution_count": 11,
   "id": "147bf0f6",
   "metadata": {},
   "outputs": [
    {
     "name": "stdout",
     "output_type": "stream",
     "text": [
      "Вызов метода set_coords<__main__.Point object at 0x0000000004CA5D00>\n"
     ]
    }
   ],
   "source": [
    "# Попробуем вызвать метод в экземпляре\n",
    "\n",
    "pt.set_coords() # Выведется ошибка т.к он не определен вклассе\n"
   ]
  },
  {
   "cell_type": "code",
   "execution_count": 13,
   "id": "97305d98",
   "metadata": {},
   "outputs": [
    {
     "name": "stdout",
     "output_type": "stream",
     "text": [
      "Вызов метода set_coords<__main__.Point object at 0x0000000004CA5D00>\n"
     ]
    }
   ],
   "source": [
    "Point.set_coords(pt) # Привызове метода класса передаем ссылку на экземпляр\n"
   ]
  },
  {
   "cell_type": "code",
   "execution_count": null,
   "id": "15598a80",
   "metadata": {},
   "outputs": [],
   "source": []
  }
 ],
 "metadata": {
  "kernelspec": {
   "display_name": "Python 3",
   "language": "python",
   "name": "python3"
  },
  "language_info": {
   "codemirror_mode": {
    "name": "ipython",
    "version": 3
   },
   "file_extension": ".py",
   "mimetype": "text/x-python",
   "name": "python",
   "nbconvert_exporter": "python",
   "pygments_lexer": "ipython3",
   "version": "3.8.8"
  }
 },
 "nbformat": 4,
 "nbformat_minor": 5
}
