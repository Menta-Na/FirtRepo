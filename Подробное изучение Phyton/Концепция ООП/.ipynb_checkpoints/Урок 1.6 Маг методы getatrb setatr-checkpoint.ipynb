{
 "cells": [
  {
   "cell_type": "code",
   "execution_count": null,
   "id": "bed32c17",
   "metadata": {},
   "outputs": [],
   "source": [
    "class Point:\n",
    "    MAX_COORD = 100  # Объявление классовых переменных для максимальной и минимальной координат\n",
    "    MIN_COORD = 0\n",
    "    \n",
    "    def __init__(self, x, y):  # Метод инициализации объекта класса Point с координатами x и y\n",
    "        self.x = x  # Установка значений координат x и y для объекта\n",
    "        self.y = y\n",
    "        \n",
    "    def set_coord(self, x, y):  # Метод установки координат объекта Point\n",
    "        if self.MIN_COORD <= x <= self.MAX_COORD:  # Проверка, находится ли значение x в диапазоне MIN_COORD и MAX_COORD\n",
    "            self.x = x  # Установка нового значения координаты x\n",
    "            self.y = y  # Установка нового значения координаты y\n",
    "            \n",
    "    def set_bound(self, left):  # Метод установки границы диапазона координат\n",
    "        self.MIN_COORD = left  # Установка нового значения MIN_COORD\n",
    "        \n",
    "pt1 = Point(1, 2)  # Создание объекта pt1 класса Point с координатами (1, 2)\n",
    "pt2 = Point(10, 20)  # Создание объекта pt2 класса Point с координатами (10, 20)\n",
    "pt1.set_bound(-100)  # Установка нового значения MIN_COORD для объекта pt1\n",
    "\n"
   ]
  },
  {
   "cell_type": "code",
   "execution_count": null,
   "id": "74b20346",
   "metadata": {},
   "outputs": [],
   "source": [
    "class Point:\n",
    "    MAX_COORD = 100  # Объявление классовых переменных для максимальной и минимальной координат\n",
    "    MIN_COORD = 0\n",
    "    \n",
    "    def __init__(self, x, y):  # Метод инициализации объекта класса Point с координатами x и y\n",
    "        self.x = x  # Установка значений координат x и y для объекта\n",
    "        self.y = y\n",
    "        \n",
    "    def set_coord(self, x, y):  # Метод установки координат объекта Point\n",
    "        if self.MIN_COORD <= x <= self.MAX_COORD:  # Проверка, находится ли значение x в диапазоне MIN_COORD и MAX_COORD\n",
    "            self.x = x  # Установка нового значения координаты x\n",
    "            self.y = y  # Установка нового значения координаты y\n",
    "    \n",
    "    @classmethod       \n",
    "    def set_bound(cls, left):  # Метод установки границы диапазона координат\n",
    "        cls.MIN_COORD = left  # Установка нового значения MIN_COORD\n",
    "        \n",
    "pt1 = Point(1, 2)  # Создание объекта pt1 класса Point с координатами (1, 2)\n",
    "pt2 = Point(10, 20)  # Создание объекта pt2 класса Point с координатами (10, 20)\n",
    "pt1.set_bound(-100)  # Установка нового значения MIN_COORD для объекта pt1"
   ]
  },
  {
   "cell_type": "code",
   "execution_count": null,
   "id": "29a75ff1",
   "metadata": {},
   "outputs": [],
   "source": [
    "print(pt1.__dict__)  # Вывод словаря атрибутов объекта pt1"
   ]
  },
  {
   "cell_type": "code",
   "execution_count": null,
   "id": "7e461591",
   "metadata": {},
   "outputs": [],
   "source": [
    "print(Point.__dict__)  # Вывод словаря атрибутов класса Point"
   ]
  },
  {
   "cell_type": "code",
   "execution_count": 2,
   "id": "4532c380",
   "metadata": {
    "scrolled": true
   },
   "outputs": [
    {
     "name": "stdout",
     "output_type": "stream",
     "text": [
      "__delattr__: x\n"
     ]
    },
    {
     "ename": "AttributeError",
     "evalue": "type object 'object' has no attribute '__dellattr__'",
     "output_type": "error",
     "traceback": [
      "\u001b[1;31m---------------------------------------------------------------------------\u001b[0m",
      "\u001b[1;31mAttributeError\u001b[0m                            Traceback (most recent call last)",
      "\u001b[1;32m<ipython-input-2-b630ba8947b9>\u001b[0m in \u001b[0;36m<module>\u001b[1;34m\u001b[0m\n\u001b[0;32m     36\u001b[0m \u001b[0mpt1\u001b[0m \u001b[1;33m=\u001b[0m \u001b[0mPoint\u001b[0m\u001b[1;33m(\u001b[0m\u001b[1;36m1\u001b[0m\u001b[1;33m,\u001b[0m \u001b[1;36m2\u001b[0m\u001b[1;33m)\u001b[0m  \u001b[1;31m# Создание объекта pt1 класса Point с координатами (1, 2)\u001b[0m\u001b[1;33m\u001b[0m\u001b[1;33m\u001b[0m\u001b[0m\n\u001b[0;32m     37\u001b[0m \u001b[0mpt2\u001b[0m \u001b[1;33m=\u001b[0m \u001b[0mPoint\u001b[0m\u001b[1;33m(\u001b[0m\u001b[1;36m10\u001b[0m\u001b[1;33m,\u001b[0m \u001b[1;36m20\u001b[0m\u001b[1;33m)\u001b[0m  \u001b[1;31m# Создание объекта pt2 класса Point с координатами (10, 20)\u001b[0m\u001b[1;33m\u001b[0m\u001b[1;33m\u001b[0m\u001b[0m\n\u001b[1;32m---> 38\u001b[1;33m \u001b[1;32mdel\u001b[0m \u001b[0mpt1\u001b[0m\u001b[1;33m.\u001b[0m\u001b[0mx\u001b[0m\u001b[1;33m\u001b[0m\u001b[1;33m\u001b[0m\u001b[0m\n\u001b[0m\u001b[0;32m     39\u001b[0m \u001b[0mprint\u001b[0m\u001b[1;33m(\u001b[0m\u001b[0mpt1\u001b[0m\u001b[1;33m.\u001b[0m\u001b[0m__dict__\u001b[0m\u001b[1;33m)\u001b[0m\u001b[1;33m\u001b[0m\u001b[1;33m\u001b[0m\u001b[0m\n",
      "\u001b[1;32m<ipython-input-2-b630ba8947b9>\u001b[0m in \u001b[0;36m__delattr__\u001b[1;34m(self, item)\u001b[0m\n\u001b[0;32m     32\u001b[0m     \u001b[1;32mdef\u001b[0m \u001b[0m__delattr__\u001b[0m\u001b[1;33m(\u001b[0m\u001b[0mself\u001b[0m\u001b[1;33m,\u001b[0m \u001b[0mitem\u001b[0m\u001b[1;33m)\u001b[0m\u001b[1;33m:\u001b[0m\u001b[1;33m\u001b[0m\u001b[1;33m\u001b[0m\u001b[0m\n\u001b[0;32m     33\u001b[0m         \u001b[0mprint\u001b[0m\u001b[1;33m(\u001b[0m\u001b[1;34m\"__delattr__: \"\u001b[0m \u001b[1;33m+\u001b[0m \u001b[0mitem\u001b[0m\u001b[1;33m)\u001b[0m\u001b[1;33m\u001b[0m\u001b[1;33m\u001b[0m\u001b[0m\n\u001b[1;32m---> 34\u001b[1;33m         \u001b[0mobject\u001b[0m\u001b[1;33m.\u001b[0m\u001b[0m__dellattr__\u001b[0m\u001b[1;33m(\u001b[0m\u001b[0mself\u001b[0m\u001b[1;33m,\u001b[0m \u001b[0mitem\u001b[0m\u001b[1;33m)\u001b[0m\u001b[1;33m\u001b[0m\u001b[1;33m\u001b[0m\u001b[0m\n\u001b[0m\u001b[0;32m     35\u001b[0m \u001b[1;33m\u001b[0m\u001b[0m\n\u001b[0;32m     36\u001b[0m \u001b[0mpt1\u001b[0m \u001b[1;33m=\u001b[0m \u001b[0mPoint\u001b[0m\u001b[1;33m(\u001b[0m\u001b[1;36m1\u001b[0m\u001b[1;33m,\u001b[0m \u001b[1;36m2\u001b[0m\u001b[1;33m)\u001b[0m  \u001b[1;31m# Создание объекта pt1 класса Point с координатами (1, 2)\u001b[0m\u001b[1;33m\u001b[0m\u001b[1;33m\u001b[0m\u001b[0m\n",
      "\u001b[1;31mAttributeError\u001b[0m: type object 'object' has no attribute '__dellattr__'"
     ]
    }
   ],
   "source": [
    "class Point:\n",
    "    MAX_COORD = 100  # Объявление классовых переменных для максимальной и минимальной координат\n",
    "    MIN_COORD = 0\n",
    "    \n",
    "    def __init__(self, x, y):  # Метод инициализации объекта класса Point с координатами x и y\n",
    "        self.x = x  # Установка значений координат x и y для объекта\n",
    "        self.y = y\n",
    "        \n",
    "    def set_coord(self, x, y):  # Метод установки координат объекта Point\n",
    "        if self.MIN_COORD <= x <= self.MAX_COORD:  # Проверка, находится ли значение x в диапазоне MIN_COORD и MAX_COORD\n",
    "            self.x = x  # Установка нового значения координаты x\n",
    "            self.y = y  # Установка нового значения координаты y\n",
    "            \n",
    "    @classmethod       \n",
    "    def set_bound(cls, left):  # Метод установки границы диапазона координат\n",
    "        cls.MIN_COORD = left  # Установка нового значения MIN_COORD\n",
    "        \n",
    "    def __getattribute__(self, item):\n",
    "        if item == \"x\":\n",
    "            raise ValueError(\"Доступ запрещен\")\n",
    "        else:\n",
    "            return object.__getattribute__(self, item)\n",
    "    def __setattr__(self, key, value):\n",
    "        if key == 'z':\n",
    "            raise AttributeError(\"Недопустимое значение\")\n",
    "        else:\n",
    "            object.__setattr__(self, key, value)\n",
    "            \n",
    "    def __getattr__(self, item):\n",
    "        return False\n",
    "    \n",
    "    def __delattr__(self, item):\n",
    "        print(\"__delattr__: \" + item)\n",
    "        object.__dellattr__(self, item)\n",
    "        \n",
    "pt1 = Point(1, 2)  # Создание объекта pt1 класса Point с координатами (1, 2)\n",
    "pt2 = Point(10, 20)  # Создание объекта pt2 класса Point с координатами (10, 20)\n",
    "del pt1.x\n",
    "print(pt1.__dict__)"
   ]
  },
  {
   "cell_type": "code",
   "execution_count": null,
   "id": "0775312e",
   "metadata": {},
   "outputs": [],
   "source": []
  },
  {
   "cell_type": "code",
   "execution_count": null,
   "id": "d48d75f1",
   "metadata": {},
   "outputs": [],
   "source": []
  },
  {
   "cell_type": "code",
   "execution_count": null,
   "id": "a7f53032",
   "metadata": {},
   "outputs": [],
   "source": []
  }
 ],
 "metadata": {
  "kernelspec": {
   "display_name": "Python 3",
   "language": "python",
   "name": "python3"
  },
  "language_info": {
   "codemirror_mode": {
    "name": "ipython",
    "version": 3
   },
   "file_extension": ".py",
   "mimetype": "text/x-python",
   "name": "python",
   "nbconvert_exporter": "python",
   "pygments_lexer": "ipython3",
   "version": "3.8.8"
  }
 },
 "nbformat": 4,
 "nbformat_minor": 5
}
