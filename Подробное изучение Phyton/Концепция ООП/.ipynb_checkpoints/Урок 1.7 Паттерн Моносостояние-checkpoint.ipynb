{
 "cells": [
  {
   "cell_type": "code",
   "execution_count": 1,
   "id": "146712eb",
   "metadata": {},
   "outputs": [],
   "source": [
    "class ThreadData:\n",
    "    __shared_attrs = {\n",
    "        \n",
    "        'name': 'thread_1',\n",
    "        'data': {},\n",
    "        'id': 1\n",
    "    }\n",
    "    \n",
    "    def __init__(self):\n",
    "        self.__dict__ = self.__shared_attrs\n",
    "\n",
    "        \n",
    "th1 = ThreadData()\n",
    "th2 = ThreadData()\n",
    "\n",
    "\n",
    "th2.id = 3\n",
    "\n",
    "\n",
    "th1.attr_new = 'new_attr'"
   ]
  },
  {
   "cell_type": "code",
   "execution_count": null,
   "id": "533fd484",
   "metadata": {},
   "outputs": [],
   "source": []
  }
 ],
 "metadata": {
  "kernelspec": {
   "display_name": "Python 3",
   "language": "python",
   "name": "python3"
  },
  "language_info": {
   "codemirror_mode": {
    "name": "ipython",
    "version": 3
   },
   "file_extension": ".py",
   "mimetype": "text/x-python",
   "name": "python",
   "nbconvert_exporter": "python",
   "pygments_lexer": "ipython3",
   "version": "3.8.8"
  }
 },
 "nbformat": 4,
 "nbformat_minor": 5
}
