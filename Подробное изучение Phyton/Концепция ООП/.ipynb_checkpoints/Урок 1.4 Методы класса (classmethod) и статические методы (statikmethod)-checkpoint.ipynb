{
 "cells": [
  {
   "cell_type": "code",
   "execution_count": 8,
   "id": "52537d62",
   "metadata": {},
   "outputs": [
    {
     "name": "stdout",
     "output_type": "stream",
     "text": [
      "600\n",
      "161\n"
     ]
    }
   ],
   "source": [
    "class Vector:\n",
    "    MIN_COORD = 0\n",
    "    MAX_COORD = 100\n",
    "    \n",
    "    \n",
    "    @classmethod\n",
    "    def validate(cls, arg):\n",
    "        return cls.MIN_COORD <= arg <= cls.MAX_COORD\n",
    "    \n",
    "    def __init__(self, x, y):\n",
    "        self.x = self.y = 0\n",
    "        if Vector.validate(x) and Vector.validate(y):\n",
    "            self.x = x\n",
    "            self.y = y\n",
    "            \n",
    "        print(self.norm2(self.x, self.y))\n",
    "        \n",
    "    def get_coord(self):\n",
    "        return self.x, self.y\n",
    "    \n",
    "    \n",
    "    @staticmethod\n",
    "    def norm2(x, y):\n",
    "        return x*x + y*y + Vector.MAX_COORD\n",
    "    \n",
    "    \n",
    "v = Vector(10, 20)\n",
    "print(Vector.norm2(5, 6))"
   ]
  },
  {
   "cell_type": "code",
   "execution_count": null,
   "id": "a4851ebe",
   "metadata": {},
   "outputs": [],
   "source": []
  }
 ],
 "metadata": {
  "kernelspec": {
   "display_name": "Python 3",
   "language": "python",
   "name": "python3"
  },
  "language_info": {
   "codemirror_mode": {
    "name": "ipython",
    "version": 3
   },
   "file_extension": ".py",
   "mimetype": "text/x-python",
   "name": "python",
   "nbconvert_exporter": "python",
   "pygments_lexer": "ipython3",
   "version": "3.8.8"
  }
 },
 "nbformat": 4,
 "nbformat_minor": 5
}
