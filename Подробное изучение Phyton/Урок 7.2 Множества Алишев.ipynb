{
 "cells": [
  {
   "cell_type": "code",
   "execution_count": null,
   "id": "6951f216",
   "metadata": {},
   "outputs": [],
   "source": [
    "# Множество неупорядоченная структура данных содержащая уникальные значения\n",
    "\n",
    "a = {}\n",
    "print(a)"
   ]
  },
  {
   "cell_type": "code",
   "execution_count": null,
   "id": "504f8f64",
   "metadata": {},
   "outputs": [],
   "source": [
    "a = set([1, 10, 5, 'hello'])\n",
    "print(a)"
   ]
  },
  {
   "cell_type": "code",
   "execution_count": null,
   "id": "9567bc33",
   "metadata": {},
   "outputs": [],
   "source": [
    "b = {1, 10, 'hello', 'hey'}\n",
    "print(b)"
   ]
  },
  {
   "cell_type": "code",
   "execution_count": null,
   "id": "25caabf7",
   "metadata": {},
   "outputs": [],
   "source": [
    "a = set()\n",
    "a.add(1)\n",
    "a.add(2)\n",
    "a.add('Hello')\n",
    "print(a)"
   ]
  },
  {
   "cell_type": "code",
   "execution_count": null,
   "id": "e51e5bae",
   "metadata": {},
   "outputs": [],
   "source": [
    "a.add(2) # Дубликат в множество не добавится\n",
    "print(a)"
   ]
  },
  {
   "cell_type": "code",
   "execution_count": null,
   "id": "50cb65ed",
   "metadata": {},
   "outputs": [],
   "source": [
    "# Пройдемся по каждому элементу\n",
    "\n",
    "for el in a:\n",
    "    print(el)"
   ]
  },
  {
   "cell_type": "code",
   "execution_count": null,
   "id": "86cf62ba",
   "metadata": {},
   "outputs": [],
   "source": [
    "# Уберем из списка все дубликаты\n",
    "\n",
    "my_list = [1, 2, 1, 1, 5, 'hello', \"hello\"]\n",
    "\n",
    "my_set = set(my_list)\n",
    "my_list2 = list(my_set)\n",
    "    \n",
    "print(my_list2)"
   ]
  },
  {
   "cell_type": "code",
   "execution_count": null,
   "id": "e1576e1f",
   "metadata": {},
   "outputs": [],
   "source": [
    "# Еще проще \n",
    "\n",
    "my_set = set(my_list)\n",
    "print(my_set)"
   ]
  },
  {
   "cell_type": "code",
   "execution_count": null,
   "id": "f49de3c2",
   "metadata": {},
   "outputs": [],
   "source": [
    "my_set = set()\n",
    "\n",
    "for el in my_list:\n",
    "    my_set.add(el)\n",
    "    \n",
    "print(my_set)"
   ]
  },
  {
   "cell_type": "code",
   "execution_count": null,
   "id": "0fe0a6b2",
   "metadata": {},
   "outputs": [],
   "source": [
    "# Поговорим про оператор in\n",
    "\n",
    "a = {'hello', 'hey', 1, 10, 5}\n",
    "print(5 in a) # Проверяем наличие 5 во множестве"
   ]
  },
  {
   "cell_type": "code",
   "execution_count": null,
   "id": "964356d9",
   "metadata": {},
   "outputs": [],
   "source": [
    "# Поговорим про оператор in\n",
    "\n",
    "a = {'hello', 'hey', 1, 10, 5}\n",
    "print(3 in a) # Проверяем наличие 3 во множестве"
   ]
  },
  {
   "cell_type": "code",
   "execution_count": null,
   "id": "c8fe0aec",
   "metadata": {},
   "outputs": [],
   "source": [
    "print('hell' in a)"
   ]
  },
  {
   "cell_type": "code",
   "execution_count": null,
   "id": "9afbdd49",
   "metadata": {},
   "outputs": [],
   "source": [
    "print(15 not in a)"
   ]
  },
  {
   "cell_type": "code",
   "execution_count": null,
   "id": "d80fbba7",
   "metadata": {},
   "outputs": [],
   "source": [
    "print(5 not in a)"
   ]
  },
  {
   "cell_type": "code",
   "execution_count": null,
   "id": "c9ba6cd6",
   "metadata": {},
   "outputs": [],
   "source": [
    "# На множестве не работает индексирование\n",
    "\n",
    "\n",
    "my_set[1]"
   ]
  },
  {
   "cell_type": "code",
   "execution_count": null,
   "id": "d5df4b52",
   "metadata": {},
   "outputs": [],
   "source": [
    "my_list[1]"
   ]
  },
  {
   "cell_type": "markdown",
   "id": "2d9c20e6",
   "metadata": {},
   "source": [
    "# Решаем задачи"
   ]
  },
  {
   "cell_type": "code",
   "execution_count": 2,
   "id": "673cb24a",
   "metadata": {},
   "outputs": [
    {
     "name": "stdout",
     "output_type": "stream",
     "text": [
      "18\n"
     ]
    }
   ],
   "source": [
    "# Мой вариант\n",
    "\n",
    "my_list = [1, 1, 2, 5, 10, 10, 10]\n",
    "\n",
    "my_set = set(my_list)\n",
    "\n",
    "print(sum(list(my_set)))"
   ]
  },
  {
   "cell_type": "code",
   "execution_count": 4,
   "id": "3fc9de8e",
   "metadata": {},
   "outputs": [
    {
     "name": "stdout",
     "output_type": "stream",
     "text": [
      "18\n"
     ]
    }
   ],
   "source": [
    "# Упрощенное решение Алишева\n",
    "\n",
    "print(sum(set(my_list)))"
   ]
  },
  {
   "cell_type": "code",
   "execution_count": 3,
   "id": "cd662490",
   "metadata": {},
   "outputs": [
    {
     "name": "stdout",
     "output_type": "stream",
     "text": [
      "18\n"
     ]
    }
   ],
   "source": [
    "# Решение Алишева\n",
    "\n",
    "my_set = set(my_list)\n",
    "\n",
    "total = 0\n",
    "\n",
    "for el in my_set:\n",
    "    total += el\n",
    "    \n",
    "print(total)"
   ]
  },
  {
   "cell_type": "code",
   "execution_count": 5,
   "id": "5ac487f5",
   "metadata": {},
   "outputs": [
    {
     "name": "stdout",
     "output_type": "stream",
     "text": [
      "True\n",
      "False\n"
     ]
    }
   ],
   "source": [
    "\"\"\"Необходимо реализовать функцию которая возвращает True, \n",
    "если все элемнты из списка содержится во множестве. И False если \n",
    "если не все элементы из списка есть во множестве\"\"\"\n",
    "\n",
    "# Решение нейросети\n",
    "\n",
    "def my_func(input_set, input_list):\n",
    "    \n",
    "    # Проверяем каждый элемент списка\n",
    "    for item in input_list:\n",
    "        # Если элемент не содержится во множестве, возвращаем False\n",
    "        if item not in input_set:\n",
    "            return False\n",
    "    # Если все элементы содержатся во множестве, возвращаем True\n",
    "    return True\n",
    "\n",
    "my_set = {1, 2, 3, 4, 5}\n",
    "my_list = [1, 2, 3]\n",
    "\n",
    "print(my_func(my_set, my_list))  # Выведет: True, так как все элементы из списка содержатся во множестве\n",
    "\n",
    "my_list = [1, 2, 6]\n",
    "\n",
    "print(my_func(my_set, my_list))  # Выведет: False, так как элемент 6 из списка не содержится во множестве\n"
   ]
  },
  {
   "cell_type": "code",
   "execution_count": 9,
   "id": "9db0ae56",
   "metadata": {},
   "outputs": [
    {
     "name": "stdout",
     "output_type": "stream",
     "text": [
      "True\n",
      "False\n",
      "True\n"
     ]
    }
   ],
   "source": [
    "# Решение Алишева\n",
    "\n",
    "def my_func(input_set, input_list):\n",
    "    if len(input_list) > len(input_set):\n",
    "        return False\n",
    "    \n",
    "    \n",
    "    for list_el in input_list:\n",
    "        if list_el not in input_set:\n",
    "            return False\n",
    "        \n",
    "    return True\n",
    "\n",
    "print(my_func({1, 2, 10, 4, 5, 'hello'}, [5])) # True\n",
    "print(my_func({1, 2,}, [5])) # False\n",
    "print(my_func({1, 2, 10, 4, 5}, [5, 4, 10])) # False"
   ]
  },
  {
   "cell_type": "code",
   "execution_count": null,
   "id": "f7a21d89",
   "metadata": {},
   "outputs": [],
   "source": []
  }
 ],
 "metadata": {
  "kernelspec": {
   "display_name": "Python 3",
   "language": "python",
   "name": "python3"
  },
  "language_info": {
   "codemirror_mode": {
    "name": "ipython",
    "version": 3
   },
   "file_extension": ".py",
   "mimetype": "text/x-python",
   "name": "python",
   "nbconvert_exporter": "python",
   "pygments_lexer": "ipython3",
   "version": "3.8.8"
  }
 },
 "nbformat": 4,
 "nbformat_minor": 5
}
