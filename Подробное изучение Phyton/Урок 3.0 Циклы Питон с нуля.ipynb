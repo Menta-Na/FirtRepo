{
 "cells": [
  {
   "cell_type": "markdown",
   "id": "26f102f6",
   "metadata": {},
   "source": [
    "# Мини курс питон с нуля"
   ]
  },
  {
   "cell_type": "code",
   "execution_count": null,
   "id": "24e06dc0",
   "metadata": {},
   "outputs": [],
   "source": [
    "#Цикл - это итерируемый объект\n",
    "\n",
    "name = \"Пиривет, мир!\"\n",
    "for i in name:\n",
    "    print(i)"
   ]
  },
  {
   "cell_type": "code",
   "execution_count": null,
   "id": "5e32f981",
   "metadata": {},
   "outputs": [],
   "source": [
    "#Функция Range - отвечает за диапазон \n",
    "\n",
    "name = \"Пиривет, мир!\"\n",
    "for i in range(1, 11):\n",
    "    print(i)"
   ]
  },
  {
   "cell_type": "code",
   "execution_count": null,
   "id": "aaaec269",
   "metadata": {},
   "outputs": [],
   "source": [
    "name = \"Пиривет, мир!\"\n",
    "for i in range(1, 11):\n",
    "    print(name)"
   ]
  },
  {
   "cell_type": "code",
   "execution_count": null,
   "id": "42221cd8",
   "metadata": {},
   "outputs": [],
   "source": [
    "# Моя инициатива\n",
    "\n",
    "name = \"Пиривет, мир!\"\n",
    "for name in range(1, 11):\n",
    "    print(i)"
   ]
  },
  {
   "cell_type": "code",
   "execution_count": null,
   "id": "bee032c4",
   "metadata": {},
   "outputs": [],
   "source": [
    "name = \"Пиривет, мир!\"\n",
    "for name in range(1, 11):\n",
    "    print(name)"
   ]
  },
  {
   "cell_type": "code",
   "execution_count": null,
   "id": "b80b037b",
   "metadata": {},
   "outputs": [],
   "source": [
    "#Цикл while синтаксис - (пока)\n",
    "\n",
    "while выражение:\n",
    "    фрагмент кода"
   ]
  },
  {
   "cell_type": "code",
   "execution_count": null,
   "id": "9a3fa452",
   "metadata": {},
   "outputs": [],
   "source": [
    "i = 1\n",
    "while i<10:\n",
    "    print(i)\n",
    "    i=i+1"
   ]
  },
  {
   "cell_type": "code",
   "execution_count": null,
   "id": "9a0f50eb",
   "metadata": {},
   "outputs": [],
   "source": [
    "# Ключевое слово break останавливает цикл\n",
    "\n",
    "i = 1\n",
    "while i < 10:\n",
    "    \n",
    "    print(i)\n",
    "    i=i+1\n",
    "    break"
   ]
  },
  {
   "cell_type": "code",
   "execution_count": null,
   "id": "926b9043",
   "metadata": {},
   "outputs": [],
   "source": [
    "i = 1\n",
    "while i <= 10:\n",
    "    if i != 5:\n",
    "        print(i)\n",
    "    i=i+1\n",
    "    continue"
   ]
  },
  {
   "cell_type": "code",
   "execution_count": null,
   "id": "72bcb296",
   "metadata": {},
   "outputs": [],
   "source": [
    "# Бесконечный цикл\n",
    "\n",
    "i = 1\n",
    "while True:\n",
    "    print(\" !!!!!Systemm Errorr!!!!!!019284959583830292991002 \")"
   ]
  }
 ],
 "metadata": {
  "kernelspec": {
   "display_name": "Python 3",
   "language": "python",
   "name": "python3"
  },
  "language_info": {
   "codemirror_mode": {
    "name": "ipython",
    "version": 3
   },
   "file_extension": ".py",
   "mimetype": "text/x-python",
   "name": "python",
   "nbconvert_exporter": "python",
   "pygments_lexer": "ipython3",
   "version": "3.8.8"
  }
 },
 "nbformat": 4,
 "nbformat_minor": 5
}
