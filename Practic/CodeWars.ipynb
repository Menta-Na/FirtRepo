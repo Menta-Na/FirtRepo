{
 "cells": [
  {
   "cell_type": "code",
   "execution_count": null,
   "id": "e9ec986a",
   "metadata": {},
   "outputs": [],
   "source": [
    "# Здача 1\n",
    "\n",
    "def count_by(x, n):\n",
    "    \"\"\"\n",
    "    Return a sequence of numbers counting by `x` `n` times.\n",
    "    \"\"\"\n",
    "    if n % x == 0:\n",
    "        my_list = list(range(n, x + 1))\n",
    "        return my_list\n",
    "count_by(1, 10)"
   ]
  },
  {
   "cell_type": "code",
   "execution_count": null,
   "id": "158625b1",
   "metadata": {},
   "outputs": [],
   "source": [
    "def count_by(x, n):\n",
    "    \"\"\"\n",
    "    Return a sequence of numbers counting by `x` `n` times.\n",
    "    \"\"\"  \n",
    "    return M_list\n",
    "\n",
    "M_list = []\n",
    "    \n",
    "if x > 0 and n > 0:\n",
    "    for i in range(n):\n",
    "        if i % x == 0:\n",
    "            M_list.append(i)\n",
    "            \n",
    "\n",
    "coun_by(1, 10)"
   ]
  },
  {
   "cell_type": "code",
   "execution_count": null,
   "id": "5f641872",
   "metadata": {},
   "outputs": [],
   "source": [
    "def count_by(x, n):\n",
    "    my_list = [i for i in range(n + 1) if i % x == 0 and i > 0]\n",
    "    return my_list\n",
    "\n",
    "count_by(1, 10)"
   ]
  },
  {
   "cell_type": "code",
   "execution_count": null,
   "id": "0326ba8a",
   "metadata": {},
   "outputs": [],
   "source": [
    "# Задача 1\n",
    "\n",
    "def count_by(x, n):\n",
    "    my_list = [i for i in range(x, n * x + 1) if i % x == 0]\n",
    "    return my_list\n",
    "\n",
    "count_by(50, 5)\n"
   ]
  },
  {
   "cell_type": "code",
   "execution_count": null,
   "id": "65f104ec",
   "metadata": {},
   "outputs": [],
   "source": [
    "# Задача 2\n",
    "\n",
    "def past(h, m, s):\n",
    "    # Good Luck!\n",
    "    if 0 <= h <=23 and 0 <= m <= 59 and 0 <= s <= 59:\n",
    "        result = (((h * 60)*60)*1000)+((m * 60)*1000)+(s * 1000)\n",
    "        return result\n",
    "\n",
    "    else:\n",
    "        print('Время введено некорректно')\n",
    "    \n",
    "past(1, 0, 1)"
   ]
  },
  {
   "cell_type": "code",
   "execution_count": null,
   "id": "c700911f",
   "metadata": {},
   "outputs": [],
   "source": [
    "# Задача 3\n",
    "\n",
    "def better_than_average(class_points, your_points):\n",
    "    # Your code here\n",
    "    \n",
    "    average_point = sum(class_points) / len(class_points)\n",
    "    \n",
    "    if average_point < your_points:\n",
    "        return True\n",
    "    \n",
    "    else:\n",
    "        return False\n",
    "    \n",
    "better_than_average([1, 5, 5, 1, 2, 4, 3],5)"
   ]
  },
  {
   "cell_type": "code",
   "execution_count": null,
   "id": "0adb5c46",
   "metadata": {},
   "outputs": [],
   "source": [
    "# Задача 4\n",
    "\n",
    "def maps(a):\n",
    "    result = [num * 2 for num in a]\n",
    "    return result\n",
    "\n",
    "maps([0, 4, 3, 4, 5])"
   ]
  },
  {
   "cell_type": "code",
   "execution_count": null,
   "id": "2062f13b",
   "metadata": {},
   "outputs": [],
   "source": [
    "def maps(a):\n",
    "    num_list = []\n",
    "    \n",
    "    for i in a:\n",
    "        num_list.append(i*2)\n",
    "    return num_list\n",
    "    \n",
    "maps([1, 2, 3, 4, 5])"
   ]
  },
  {
   "cell_type": "code",
   "execution_count": null,
   "id": "848b97e9",
   "metadata": {},
   "outputs": [],
   "source": [
    "# Задача 5\n",
    "\n",
    "def zero_fuel(distance_to_pump, mpg, fuel_left):\n",
    "    \n",
    "    fuel_consumption = mpg * fuel_left\n",
    "    if fuel_consumption >= distance_to_pump:\n",
    "        return True\n",
    "    else:\n",
    "        return False\n",
    "    \n",
    "zero_fuel(50, 25, 1)"
   ]
  },
  {
   "cell_type": "code",
   "execution_count": null,
   "id": "3e376963",
   "metadata": {},
   "outputs": [],
   "source": [
    "# Задача 6\n",
    "\n",
    "def boolean_to_string(b):\n",
    "    \n",
    "    string_b = str(b)\n",
    "    return string_b\n",
    "\n",
    "boolean_to_string(True)"
   ]
  },
  {
   "cell_type": "code",
   "execution_count": null,
   "id": "685b2e1c",
   "metadata": {},
   "outputs": [],
   "source": [
    "# Задача 7\n",
    "\n",
    "def paperwork(n, m):\n",
    "    if n < 0 or m < 0:\n",
    "        return 0\n",
    "    else:\n",
    "        result = n * m\n",
    "        return result"
   ]
  },
  {
   "cell_type": "code",
   "execution_count": null,
   "id": "1558233d",
   "metadata": {},
   "outputs": [],
   "source": [
    "# Задача 8\n",
    "\n",
    "def positive_sum(arr):\n",
    "    arr_pos = 0\n",
    "    arr_pos = [i for i in arr if i > 0]\n",
    "    return (sum(arr_pos))\n",
    "\n",
    "positive_sum([-1, -7])   "
   ]
  },
  {
   "cell_type": "code",
   "execution_count": null,
   "id": "b8a15130",
   "metadata": {},
   "outputs": [],
   "source": [
    "def positive_sum(arr):\n",
    "    return sum(x for x in arr if x > 0)\n",
    "positive_sum([-1, -3, -5])"
   ]
  },
  {
   "cell_type": "code",
   "execution_count": null,
   "id": "21247ab2",
   "metadata": {},
   "outputs": [],
   "source": [
    "# Задача 9\n",
    "\n",
    "def sum_mix(mix):\n",
    "    \n",
    "    return sum(int(num) for num in mix if isinstance(num, str)) + sum(num for num in mix if not isinstance(num, str)  )\n",
    "\n",
    "sum_mix([1, '3', 3])"
   ]
  },
  {
   "cell_type": "code",
   "execution_count": null,
   "id": "82290fc8",
   "metadata": {},
   "outputs": [],
   "source": [
    "my_list = [\"123\", 456, \"789\", 10.5]\n",
    "\n",
    "# Преобразуем строки в числа и сложим с остальными числами\n",
    "result = sum(float(item) for item in my_list if isinstance(item, str)) + sum(item for item in my_list if not isinstance(item, str))\n",
    "\n",
    "print(result)\n"
   ]
  },
  {
   "cell_type": "code",
   "execution_count": null,
   "id": "09789554",
   "metadata": {},
   "outputs": [],
   "source": [
    "n = '1'\n",
    "isinstance(n, float)\n"
   ]
  },
  {
   "cell_type": "code",
   "execution_count": null,
   "id": "905f498e",
   "metadata": {},
   "outputs": [],
   "source": [
    "# Задача 9\n",
    "\n",
    "def bool_to_word(boolean):\n",
    "    if boolean == True:\n",
    "        return 'Yes'\n",
    "    \n",
    "    else:\n",
    "        return 'No'\n",
    "    \n",
    "bool_to_word(False)"
   ]
  },
  {
   "cell_type": "code",
   "execution_count": null,
   "id": "b31c5e8d",
   "metadata": {},
   "outputs": [],
   "source": [
    "def bool_to_word(bool):\n",
    "    return \"Yes\" if bool else \"No\""
   ]
  },
  {
   "cell_type": "code",
   "execution_count": null,
   "id": "ca5efd0f",
   "metadata": {},
   "outputs": [],
   "source": [
    "bool_to_word = lambda b: b and \"Yes\" or \"No\""
   ]
  },
  {
   "cell_type": "code",
   "execution_count": null,
   "id": "978e7764",
   "metadata": {},
   "outputs": [],
   "source": [
    "# Задача 10\n",
    "\n",
    "def make_negative(num):\n",
    "    if num > 0:\n",
    "        return num - num - num\n",
    "    else:\n",
    "        return num\n",
    "    \n",
    "make_negative(0)"
   ]
  },
  {
   "cell_type": "code",
   "execution_count": null,
   "id": "0803795a",
   "metadata": {},
   "outputs": [],
   "source": [
    "def make_negative(num):\n",
    "    return num-num-num if num > 0 else num\n",
    "\n",
    "make_negative(-9)"
   ]
  },
  {
   "cell_type": "code",
   "execution_count": null,
   "id": "f22e11bd",
   "metadata": {},
   "outputs": [],
   "source": [
    "def make_negative( number ):\n",
    "    return -number if number>0 else number\n"
   ]
  },
  {
   "cell_type": "code",
   "execution_count": null,
   "id": "8727b35b",
   "metadata": {},
   "outputs": [],
   "source": [
    "def make_negative( number ):\n",
    "    return -abs(number)"
   ]
  },
  {
   "cell_type": "code",
   "execution_count": null,
   "id": "90248b3a",
   "metadata": {},
   "outputs": [],
   "source": [
    "# Задача 11\n",
    "\n",
    "def positive_massive(x, n):\n",
    "    return [i*x for i in range( n + 1 ) if i > 0]\n",
    "positive_massive(3, 5)"
   ]
  },
  {
   "cell_type": "code",
   "execution_count": null,
   "id": "be8f29b3",
   "metadata": {},
   "outputs": [],
   "source": [
    "def positive_massive(x, n):\n",
    "    massive = [i for i in range( n + 1 ) if i % x == 0 and i > 0]\n",
    "    return massive"
   ]
  },
  {
   "cell_type": "code",
   "execution_count": null,
   "id": "83cded3c",
   "metadata": {},
   "outputs": [],
   "source": [
    "# Задача 11\n",
    "\n",
    "def rps(p1, p2):\n",
    "    if (p1 == 'rock' and p2 == 'scissors') or (p1 == 'scissors' and p2 == 'paper') or (p1 == 'paper' and p2 == 'rock'):\n",
    "        return 'Player 1 won!'\n",
    "    elif (p1 == 'rock' and p2 == 'paper') or (p1 == \"scissors\" and p2 == 'rock') or (p1 == 'paper' and p2 == 'scissors'):\n",
    "        return 'Player 2 won!'\n",
    "    else:\n",
    "        return 'Draw!'\n",
    "rps('rock', 'scissors')"
   ]
  },
  {
   "cell_type": "code",
   "execution_count": null,
   "id": "78aac075",
   "metadata": {},
   "outputs": [],
   "source": [
    "# Отличный код! Результат вычисления определяется по индексу!\n",
    "\n",
    "def rps(p1, p2):\n",
    "    hand = {'rock':0, 'paper':1, 'scissors':2}\n",
    "    results = ['Draw!', 'Player 1 won!', 'Player 2 won!']\n",
    "    return results[hand[p1] - hand[p2]]\n",
    "rps('scissors', 'rock') "
   ]
  },
  {
   "cell_type": "code",
   "execution_count": null,
   "id": "64703384",
   "metadata": {},
   "outputs": [],
   "source": [
    "def rps(p1, p2):\n",
    "    beats = {'rock': 'scissors', 'scissors': 'paper', 'paper': 'rock'}\n",
    "    if beats[p1] == p2:\n",
    "        return \"Player 1 won!\"\n",
    "    if beats[p2] == p1:\n",
    "        return \"Player 2 won!\"\n",
    "    return \"Draw!\""
   ]
  },
  {
   "cell_type": "markdown",
   "id": "9a5e6751",
   "metadata": {},
   "source": [
    "# Исследование работы кода"
   ]
  },
  {
   "cell_type": "code",
   "execution_count": null,
   "id": "da69769b",
   "metadata": {},
   "outputs": [],
   "source": [
    "def rps(p1, p2):\n",
    "    # Создаем словарь, где каждому жесту сопоставляем числовое значение:\n",
    "    hand = {'rock': 0, 'paper': 1, 'scissors': 2}\n",
    "    # Определяем исходы игры:\n",
    "    results = ['Draw!', 'Player 1 won!', 'Player 2 won!']\n",
    "    # Разница между выбранными жестами игроков (по модулю, чтобы учесть цикличность):\n",
    "    result_index = (hand[p1] - hand[p2]) % 3\n",
    "    # Возвращаем соответствующий исход:\n",
    "    return results[result_index]\n"
   ]
  },
  {
   "cell_type": "code",
   "execution_count": null,
   "id": "fe649ddd",
   "metadata": {},
   "outputs": [],
   "source": [
    "(Draw!): Оба игрока выбрали одинаковый жест.\n",
    "Победа первого игрока (Player 1 won!):\n",
    "Камень (0) побеждает ножницы (2).\n",
    "Бумага (1) побеждает камень (0).\n",
    "Ножницы (2) побеждают бумагу (1).\n",
    "Победа второго игрока (Player 2 won!):\n",
    "Ножницы (2) побеждают камень (0).\n",
    "Камень (0) побеждает бумагу (1).\n",
    "Бумага (1) побеждает ножницы (2)."
   ]
  },
  {
   "cell_type": "code",
   "execution_count": null,
   "id": "196ad091",
   "metadata": {},
   "outputs": [],
   "source": [
    "# P1 Камень P2 Камень\n",
    "\n",
    "(0 - 0) # Ничья результат 0"
   ]
  },
  {
   "cell_type": "code",
   "execution_count": null,
   "id": "d1f66358",
   "metadata": {},
   "outputs": [],
   "source": [
    "# P1 бумага P2 бумага\n",
    "\n",
    "(1 - 1) # Ничья результат 0"
   ]
  },
  {
   "cell_type": "code",
   "execution_count": null,
   "id": "96be294a",
   "metadata": {},
   "outputs": [],
   "source": [
    "# P1 ножници P2 ножници\n",
    "\n",
    "(2 - 2) # Ничья результат 0"
   ]
  },
  {
   "cell_type": "code",
   "execution_count": null,
   "id": "d58860ce",
   "metadata": {},
   "outputs": [],
   "source": [
    "# P1 камень P2 бумага\n",
    "\n",
    "(0 - 1)  # Игрок 2 победил рез 2 # Игрок 2 победил рез - 1"
   ]
  },
  {
   "cell_type": "code",
   "execution_count": null,
   "id": "3defe7fc",
   "metadata": {},
   "outputs": [],
   "source": [
    "# P1 камень P2 ножници\n",
    "\n",
    "(0 - 2)  # Игрок 1 победил рез  1 # Игрок 1 победил рез - 2"
   ]
  },
  {
   "cell_type": "code",
   "execution_count": null,
   "id": "8e15461e",
   "metadata": {},
   "outputs": [],
   "source": [
    "# P1 бумага P2 ножници\n",
    "\n",
    "(1 - 2) # Игрок 2 победил рез  2 # Игрок 2 победил рез - 1"
   ]
  },
  {
   "cell_type": "code",
   "execution_count": null,
   "id": "25458070",
   "metadata": {},
   "outputs": [],
   "source": [
    "# P1 бумага P2 камень\n",
    "\n",
    "(1 - 0) # Игрок 1 победил рез  1 # Игрок 2 победил рез 1"
   ]
  },
  {
   "cell_type": "code",
   "execution_count": null,
   "id": "87017da8",
   "metadata": {},
   "outputs": [],
   "source": [
    "# P1 ножници P2 камень\n",
    "\n",
    "(2 - 0) # Игрок 2 победил рез - 2 # Игрок 2 победил рез 2"
   ]
  },
  {
   "cell_type": "code",
   "execution_count": null,
   "id": "398c612d",
   "metadata": {},
   "outputs": [],
   "source": [
    "# P1 Ножници P2 бумага\n",
    "\n",
    "(2 - 1) # Игрок 1 победил рез 1 # Игрок 1 победил рез 1"
   ]
  },
  {
   "cell_type": "markdown",
   "id": "7c674101",
   "metadata": {},
   "source": [
    "# Решаем задачи дальше  !"
   ]
  },
  {
   "cell_type": "code",
   "execution_count": null,
   "id": "deaa9aa6",
   "metadata": {},
   "outputs": [],
   "source": [
    "# Задача 12\n",
    "\n",
    "def calculate_points(games):\n",
    "    team_points = 0  # Инициализация переменной для подсчета очков команды\n",
    "    \n",
    "    for game in games:\n",
    "        scores = game.split(':')\n",
    "        our_score = int(scores[0])\n",
    "        opponent_score = int(scores[1])\n",
    "        \n",
    "        if our_score > opponent_score:\n",
    "            team_points += 3\n",
    "        elif our_score < opponent_score:\n",
    "            team_points += 0\n",
    "        else:\n",
    "            team_points += 1\n",
    "            \n",
    "    return (games, team_points)  # Возвращаем кортеж с результатами игр и общим количеством очков команды\n",
    "\n",
    "# Пример использования функции\n",
    "calculate_points(['1:0', '1:1', '2:0', '1:3', '2:4', '1:3', '4:0', '1:1', '3:2', '2:2'])\n"
   ]
  },
  {
   "cell_type": "code",
   "execution_count": null,
   "id": "19b96bb1",
   "metadata": {},
   "outputs": [],
   "source": [
    "s = ['1:3', '2:1']\n",
    "\n",
    "# Применяем lambda функцию к каждому элементу списка\n",
    "result = list(map(lambda x: 1 if int(x.split(':')[0]) == int(x.split(':')[1]) else (0 if int(x.split(':')[0]) < int(x.split(':')[1]) else 2), s))\n",
    "\n",
    "print(result)  # Выводим результат\n"
   ]
  },
  {
   "cell_type": "code",
   "execution_count": null,
   "id": "565d4de5",
   "metadata": {},
   "outputs": [],
   "source": [
    "# Задача 13\n",
    "\n",
    "def are_you_playing_banjo(name):\n",
    "    if name.lower().startswith('r'): \n",
    "        return name + ' plays banjo'\n",
    "    else:\n",
    "        return name + ' does not play banjo'\n",
    "    \n",
    "are_you_playing_banjo('Rally')"
   ]
  },
  {
   "cell_type": "code",
   "execution_count": null,
   "id": "b12d599d",
   "metadata": {},
   "outputs": [],
   "source": [
    "# Альтернативный вариант\n",
    "\n",
    "def areYouPlayingBanjo(name):\n",
    "    if name[0].lower() == 'r':\n",
    "        return name + ' plays banjo'\n",
    "    else:\n",
    "        return name + ' does not play banjo'"
   ]
  },
  {
   "cell_type": "code",
   "execution_count": null,
   "id": "b5f73e99",
   "metadata": {},
   "outputs": [],
   "source": [
    "# Задача 14\n",
    "\n",
    "def DNA_strand(dna):\n",
    "    dna_list = list(dna.upper())\n",
    "    \n",
    "    for i in range(len(dna_list)):\n",
    "        if dna_list[i] == \"A\":\n",
    "            dna_list[i] = \"T\"\n",
    "        elif dna_list[i] == \"T\":\n",
    "            dna_list[i] = \"A\"\n",
    "        if dna_list[i] == \"C\":\n",
    "            dna_list[i] = \"G\"\n",
    "        elif dna_list[i] == \"G\":\n",
    "            dna_list[i] = \"C\"\n",
    "            \n",
    "        dna_string = ''.join(dna_list)\n",
    "    return dna_string\n",
    "\n",
    "DNA_strand(\"Series games of GTA is a legendary games! \")\n"
   ]
  },
  {
   "cell_type": "code",
   "execution_count": null,
   "id": "4d033017",
   "metadata": {},
   "outputs": [],
   "source": [
    "# Альтернативные варианты:\n",
    "\n",
    "import string\n",
    "def DNA_strand(dna):\n",
    "    return dna.translate(string.maketrans(\"ATCG\",\"TAGC\"))\n",
    "    # Python 3.4 solution || you don't need to import anything :)\n",
    "    # return dna.translate(str.maketrans(\"ATCG\",\"TAGC\"))\n",
    "    \n",
    "pairs = {'A':'T','T':'A','C':'G','G':'C'}\n",
    "def DNA_strand(dna):\n",
    "    return ''.join([pairs[x] for x in dna])\n",
    "\n",
    "def DNA_strand(dna):\n",
    "    reference = { \"A\":\"T\",\n",
    "                  \"T\":\"A\",\n",
    "                  \"C\":\"G\",\n",
    "                  \"G\":\"C\"\n",
    "                  }\n",
    "    return \"\".join([reference[x] for x in dna])"
   ]
  },
  {
   "cell_type": "code",
   "execution_count": null,
   "id": "d1088d1c",
   "metadata": {},
   "outputs": [],
   "source": [
    "#GPT Chat \n",
    "\n",
    "def DNA_strand(dna):\n",
    "    replacements = {\"A\": \"T\", \"T\": \"A\", \"C\": \"G\", \"G\": \"C\"}\n",
    "    dna_list = [replacements.get(base, base) for base in dna]\n",
    "    return ''.join(dna_list)\n",
    "\n",
    "print(DNA_strand(\"Series games of GTA is a legendary games! \"))"
   ]
  },
  {
   "cell_type": "code",
   "execution_count": null,
   "id": "5fc45727",
   "metadata": {},
   "outputs": [],
   "source": [
    "# Задание 15 \n",
    "\n",
    "def lovefunc( flower1, flower2):\n",
    "    if (flower1 % 2 == 0 and flower2 % 2 == 1) or (flower1 % 2 == 1 and flower2 % 2 == 0):\n",
    "        return True\n",
    "    else:\n",
    "        return False\n",
    "lovefunc(1, 8)"
   ]
  },
  {
   "cell_type": "code",
   "execution_count": null,
   "id": "4ab060b1",
   "metadata": {},
   "outputs": [],
   "source": [
    "# Хороший альтернативный вариант\n",
    "\n",
    "def lovefunc(flower1, flower2):\n",
    "    # Используем логическое исключающее ИЛИ (^), которое возвращает True,\n",
    "    # если только одно из условий истинно.\n",
    "    # Это устраняет необходимость явного сравнения остатков от деления на 2 для обоих чисел.\n",
    "    return (flower1 % 2) ^ (flower2 % 2)\n"
   ]
  },
  {
   "cell_type": "code",
   "execution_count": null,
   "id": "84ac1b29",
   "metadata": {},
   "outputs": [],
   "source": [
    "# Задача 16\n",
    "\n",
    "def binary_array_to_number(arr):\n",
    "    arr_string = ''.join(map(str, arr))\n",
    "    return int(arr_string, 2)\n",
    "binary_array_to_number([0, 0, 0, 1])"
   ]
  },
  {
   "cell_type": "code",
   "execution_count": null,
   "id": "3180e2f7",
   "metadata": {},
   "outputs": [],
   "source": [
    "# Учичь делать простой код\n",
    "\n",
    "def binary_array_to_number(arr):\n",
    "    return int(\"\".join(map(str, arr)), 2)"
   ]
  },
  {
   "cell_type": "code",
   "execution_count": null,
   "id": "e0e2e8ed",
   "metadata": {},
   "outputs": [],
   "source": [
    "# Нейросеть\n",
    "\n",
    "def binary_array_to_number(arr):\n",
    "    result = 0  # Инициализация переменной для хранения результата\n",
    "    for bit in arr:  # Перебираем каждый бит в списке\n",
    "        result = (result << 1) | bit  # Сдвигаем ранее полученное число на один разряд влево и добавляем новый бит\n",
    "    return result  # Возвращаем полученное десятичное число\n",
    "\n",
    "print(binary_array_to_number([0, 0, 0, 1]))  # Вывод: 1"
   ]
  },
  {
   "cell_type": "code",
   "execution_count": 30,
   "id": "0b0b415d",
   "metadata": {},
   "outputs": [
    {
     "data": {
      "text/plain": [
       "\"How Can Mirrors Be Real If Our Eyes Aren't Real\""
      ]
     },
     "execution_count": 30,
     "metadata": {},
     "output_type": "execute_result"
    }
   ],
   "source": [
    "# Провал!\n",
    "\n",
    "def to_jaden_case(string):\n",
    "    new_string = string.title()\n",
    "    jaden_string = new_string.replace(\"T\", \"t\")\n",
    "    return jaden_string\n",
    "    \n",
    "\n",
    "to_jaden_case(\"How can mirrors be real if our eyes aren't real\")\n"
   ]
  },
  {
   "cell_type": "code",
   "execution_count": 31,
   "id": "3eaf2dbe",
   "metadata": {},
   "outputs": [
    {
     "name": "stdout",
     "output_type": "stream",
     "text": [
      "How Can Mirrors Be Real If Our Eyes Aren't Real\n"
     ]
    }
   ],
   "source": [
    "# Нейросеть\n",
    "\n",
    "def to_jaden_case(string):\n",
    "    # Разбиваем строку на слова и применяем метод capitalize() к каждому слову\n",
    "    jaden_case_words = [word.capitalize() for word in string.split()]\n",
    "    # Объединяем слова обратно в строку с помощью пробелов\n",
    "    return ' '.join(jaden_case_words)\n",
    "\n",
    "# Пример использования функции\n",
    "result = to_jaden_case(\"How can mirrors be real if our eyes aren't real\")\n",
    "print(result)  # Вывод: \"Hello World\"\n"
   ]
  },
  {
   "cell_type": "code",
   "execution_count": null,
   "id": "a5033116",
   "metadata": {},
   "outputs": [],
   "source": [
    "def to_jaden_case(string):\n",
    "    return ' '.join(word.capitalize() for word in string.split())\n",
    "\n",
    "def to_jaden_case(string):\n",
    "    list = string.split()\n",
    "    new_list = [i.capitalize() for i in list]\n",
    "    return ' '.join(new_list)\n",
    "\n",
    "import string\n",
    "toJadenCase = string.capwords"
   ]
  },
  {
   "cell_type": "code",
   "execution_count": null,
   "id": "e9a474db",
   "metadata": {},
   "outputs": [],
   "source": [
    "# Задача 17"
   ]
  },
  {
   "cell_type": "code",
   "execution_count": null,
   "id": "2dd1889f",
   "metadata": {},
   "outputs": [],
   "source": [
    "# Задача 18"
   ]
  },
  {
   "cell_type": "code",
   "execution_count": null,
   "id": "44c4b192",
   "metadata": {},
   "outputs": [],
   "source": [
    "# Задача 19"
   ]
  },
  {
   "cell_type": "code",
   "execution_count": null,
   "id": "dd1e396b",
   "metadata": {},
   "outputs": [],
   "source": [
    "# Задача 20"
   ]
  }
 ],
 "metadata": {
  "kernelspec": {
   "display_name": "Python 3",
   "language": "python",
   "name": "python3"
  },
  "language_info": {
   "codemirror_mode": {
    "name": "ipython",
    "version": 3
   },
   "file_extension": ".py",
   "mimetype": "text/x-python",
   "name": "python",
   "nbconvert_exporter": "python",
   "pygments_lexer": "ipython3",
   "version": "3.8.8"
  }
 },
 "nbformat": 4,
 "nbformat_minor": 5
}
